{
 "cells": [
  {
   "cell_type": "code",
   "execution_count": 1,
   "metadata": {},
   "outputs": [],
   "source": [
    "#importing packages\n",
    "import pandas as pd\n",
    "import numpy as np\n",
    "import seaborn as sns\n",
    "from matplotlib import pyplot as plt\n",
    "plt.style.use('ggplot')\n",
    "from scipy.stats import norm\n",
    "from scipy import stats\n",
    "%matplotlib inline"
   ]
  },
  {
   "cell_type": "code",
   "execution_count": 2,
   "metadata": {},
   "outputs": [],
   "source": [
    "#so all DataFrame data is displayed\n",
    "pd.set_option('display.max_columns',1000)\n",
    "pd.set_option('display.min_rows',0)\n",
    "pd.set_option('display.max_rows',100)"
   ]
  },
  {
   "cell_type": "code",
   "execution_count": 3,
   "metadata": {},
   "outputs": [],
   "source": [
    "ZRI = pd.read_csv('./data/Zip_Zri_MultiFamilyResidenceRental.csv', index_col=0,dtype={'RegionName': 'str'})\n"
   ]
  },
  {
   "cell_type": "code",
   "execution_count": 60,
   "metadata": {},
   "outputs": [],
   "source": [
    "ACS = pd.read_pickle('./data/ZRI_ACS.pkl')"
   ]
  },
  {
   "cell_type": "code",
   "execution_count": 65,
   "metadata": {},
   "outputs": [],
   "source": [
    "ACS['ZIP_CODE'] = ACS['ZIP_CODE'].astype(str)"
   ]
  },
  {
   "cell_type": "code",
   "execution_count": 66,
   "metadata": {},
   "outputs": [],
   "source": [
    "#make all zip codes be 5 digits\n",
    "ACS['ZIP_CODE'] = ACS['ZIP_CODE'].str.rjust(5, '0')\n"
   ]
  },
  {
   "cell_type": "code",
   "execution_count": 95,
   "metadata": {},
   "outputs": [],
   "source": [
    "ZRI_IRS_LF_MD = pd.read_pickle('./data/ZRI_IRS_LF_MD.pkl')"
   ]
  },
  {
   "cell_type": "code",
   "execution_count": 117,
   "metadata": {},
   "outputs": [],
   "source": [
    "#season trends \n",
    "\n",
    "def month_to_season(month):\n",
    "    if month in range(3,5):\n",
    "        month = 'spring'\n",
    "    elif month in range(6,8):\n",
    "        month = 'summer'\n",
    "    elif month in range(9,11):\n",
    "        month = 'fall'\n",
    "    else:\n",
    "        month = 'winter'\n",
    "    return(month)\n",
    "\n",
    "ZRI_IRS_LF_MD['Season'] = ZRI_IRS_LF_MD.Month.apply(month_to_season)"
   ]
  },
  {
   "cell_type": "code",
   "execution_count": 119,
   "metadata": {},
   "outputs": [],
   "source": [
    "ZRI_IRS_LF_MD_17 = ZRI_IRS_LF_MD[ZRI_IRS_LF_MD.Year == 2017]"
   ]
  },
  {
   "cell_type": "code",
   "execution_count": 120,
   "metadata": {},
   "outputs": [
    {
     "data": {
      "text/plain": [
       "Index(['ZIPCODE', 'City', 'State', 'Metro', 'CountyName', 'SizeRank',\n",
       "       'Year-Month', 'value', 'Year', 'ZCTA_x', 'RentalVacancyRate', 'white',\n",
       "       'black', 'asian', 'NHOPI', 'hispanic_latino', '20_to_24', '25_to_34',\n",
       "       '35_to_44', '45_to_54', '55_to_59', '60_to_64', '65_to_74', '75_to_85',\n",
       "       '85_over', 'Population'],\n",
       "      dtype='object')"
      ]
     },
     "execution_count": 120,
     "metadata": {},
     "output_type": "execute_result"
    }
   ],
   "source": [
    "ACS.columns"
   ]
  },
  {
   "cell_type": "code",
   "execution_count": 121,
   "metadata": {},
   "outputs": [],
   "source": [
    "ACS.rename(columns={\"ZIP_CODE\": \"ZIPCODE\", 'date':'Year-Month', 'year':'Year'}, inplace=True)\n",
    "#datetime\n",
    "ACS['Year-Month'] = pd.to_datetime(ACS['Year-Month'])\n",
    "\n",
    "ACS_17 = ACS[ACS.Year ==2017]"
   ]
  },
  {
   "cell_type": "code",
   "execution_count": 122,
   "metadata": {},
   "outputs": [
    {
     "data": {
      "text/plain": [
       "Index(['ZIPCODE', 'City', 'State', 'Metro', 'CountyName', 'SizeRank',\n",
       "       'Year-Month', 'value', 'Month', 'Year', 'Season', 'AGIncome',\n",
       "       'TotIncome', 'SalariesWages', 'NumUnemply', 'TotTaxes', 'FIPSCode',\n",
       "       'Labor\\nForce', 'Employed', 'Unemployed', 'Unemploy-\\nment Rate\\n(%)',\n",
       "       'MortDeliq30-89', 'MortDeliq90'],\n",
       "      dtype='object')"
      ]
     },
     "execution_count": 122,
     "metadata": {},
     "output_type": "execute_result"
    }
   ],
   "source": [
    "ZRI_IRS_LF_MD_17.columns"
   ]
  },
  {
   "cell_type": "code",
   "execution_count": 123,
   "metadata": {},
   "outputs": [
    {
     "data": {
      "text/plain": [
       "Index(['ZIPCODE', 'City', 'State', 'Metro', 'CountyName', 'SizeRank',\n",
       "       'Year-Month', 'value', 'Year', 'ZCTA_x', 'RentalVacancyRate', 'white',\n",
       "       'black', 'asian', 'NHOPI', 'hispanic_latino', '20_to_24', '25_to_34',\n",
       "       '35_to_44', '45_to_54', '55_to_59', '60_to_64', '65_to_74', '75_to_85',\n",
       "       '85_over', 'Population'],\n",
       "      dtype='object')"
      ]
     },
     "execution_count": 123,
     "metadata": {},
     "output_type": "execute_result"
    }
   ],
   "source": [
    "ACS_17.columns\n"
   ]
  },
  {
   "cell_type": "code",
   "execution_count": 124,
   "metadata": {},
   "outputs": [
    {
     "data": {
      "text/html": [
       "<div>\n",
       "<style scoped>\n",
       "    .dataframe tbody tr th:only-of-type {\n",
       "        vertical-align: middle;\n",
       "    }\n",
       "\n",
       "    .dataframe tbody tr th {\n",
       "        vertical-align: top;\n",
       "    }\n",
       "\n",
       "    .dataframe thead th {\n",
       "        text-align: right;\n",
       "    }\n",
       "</style>\n",
       "<table border=\"1\" class=\"dataframe\">\n",
       "  <thead>\n",
       "    <tr style=\"text-align: right;\">\n",
       "      <th></th>\n",
       "      <th>ZIPCODE</th>\n",
       "      <th>City</th>\n",
       "      <th>State</th>\n",
       "      <th>Metro</th>\n",
       "      <th>CountyName</th>\n",
       "      <th>SizeRank</th>\n",
       "      <th>Year-Month</th>\n",
       "      <th>value</th>\n",
       "      <th>Month</th>\n",
       "      <th>Year</th>\n",
       "      <th>Season</th>\n",
       "      <th>AGIncome</th>\n",
       "      <th>TotIncome</th>\n",
       "      <th>SalariesWages</th>\n",
       "      <th>NumUnemply</th>\n",
       "      <th>TotTaxes</th>\n",
       "      <th>FIPSCode</th>\n",
       "      <th>Labor\\nForce</th>\n",
       "      <th>Employed</th>\n",
       "      <th>Unemployed</th>\n",
       "      <th>Unemploy-\\nment Rate\\n(%)</th>\n",
       "      <th>MortDeliq30-89</th>\n",
       "      <th>MortDeliq90</th>\n",
       "    </tr>\n",
       "  </thead>\n",
       "  <tbody>\n",
       "    <tr>\n",
       "      <th>19155528</th>\n",
       "      <td>10025</td>\n",
       "      <td>New York</td>\n",
       "      <td>NY</td>\n",
       "      <td>New York-Newark-Jersey City</td>\n",
       "      <td>New York County</td>\n",
       "      <td>1</td>\n",
       "      <td>2017-01-01</td>\n",
       "      <td>3771.0</td>\n",
       "      <td>1</td>\n",
       "      <td>2017</td>\n",
       "      <td>winter</td>\n",
       "      <td>1.222721e+06</td>\n",
       "      <td>1247542.5</td>\n",
       "      <td>763333.333333</td>\n",
       "      <td>208.333333</td>\n",
       "      <td>138435.833333</td>\n",
       "      <td>36061</td>\n",
       "      <td>916,625</td>\n",
       "      <td>878,936</td>\n",
       "      <td>37,689</td>\n",
       "      <td>4.1</td>\n",
       "      <td>0.8</td>\n",
       "      <td>0.7</td>\n",
       "    </tr>\n",
       "  </tbody>\n",
       "</table>\n",
       "</div>"
      ],
      "text/plain": [
       "         ZIPCODE      City State                        Metro  \\\n",
       "19155528   10025  New York    NY  New York-Newark-Jersey City   \n",
       "\n",
       "               CountyName  SizeRank Year-Month   value  Month  Year  Season  \\\n",
       "19155528  New York County         1 2017-01-01  3771.0      1  2017  winter   \n",
       "\n",
       "              AGIncome  TotIncome  SalariesWages  NumUnemply       TotTaxes  \\\n",
       "19155528  1.222721e+06  1247542.5  763333.333333  208.333333  138435.833333   \n",
       "\n",
       "         FIPSCode  Labor\\nForce      Employed   Unemployed  \\\n",
       "19155528    36061  916,625       878,936       37,689        \n",
       "\n",
       "          Unemploy-\\nment Rate\\n(%)  MortDeliq30-89  MortDeliq90  \n",
       "19155528                        4.1             0.8          0.7  "
      ]
     },
     "execution_count": 124,
     "metadata": {},
     "output_type": "execute_result"
    }
   ],
   "source": [
    "ZRI_IRS_LF_MD_17.head(1)"
   ]
  },
  {
   "cell_type": "code",
   "execution_count": 125,
   "metadata": {},
   "outputs": [
    {
     "data": {
      "text/html": [
       "<div>\n",
       "<style scoped>\n",
       "    .dataframe tbody tr th:only-of-type {\n",
       "        vertical-align: middle;\n",
       "    }\n",
       "\n",
       "    .dataframe tbody tr th {\n",
       "        vertical-align: top;\n",
       "    }\n",
       "\n",
       "    .dataframe thead th {\n",
       "        text-align: right;\n",
       "    }\n",
       "</style>\n",
       "<table border=\"1\" class=\"dataframe\">\n",
       "  <thead>\n",
       "    <tr style=\"text-align: right;\">\n",
       "      <th></th>\n",
       "      <th>ZIPCODE</th>\n",
       "      <th>City</th>\n",
       "      <th>State</th>\n",
       "      <th>Metro</th>\n",
       "      <th>CountyName</th>\n",
       "      <th>SizeRank</th>\n",
       "      <th>Year-Month</th>\n",
       "      <th>value</th>\n",
       "      <th>Year</th>\n",
       "      <th>ZCTA_x</th>\n",
       "      <th>RentalVacancyRate</th>\n",
       "      <th>white</th>\n",
       "      <th>black</th>\n",
       "      <th>asian</th>\n",
       "      <th>NHOPI</th>\n",
       "      <th>hispanic_latino</th>\n",
       "      <th>20_to_24</th>\n",
       "      <th>25_to_34</th>\n",
       "      <th>35_to_44</th>\n",
       "      <th>45_to_54</th>\n",
       "      <th>55_to_59</th>\n",
       "      <th>60_to_64</th>\n",
       "      <th>65_to_74</th>\n",
       "      <th>75_to_85</th>\n",
       "      <th>85_over</th>\n",
       "      <th>Population</th>\n",
       "    </tr>\n",
       "  </thead>\n",
       "  <tbody>\n",
       "    <tr>\n",
       "      <th>141436</th>\n",
       "      <td>10025</td>\n",
       "      <td>New York</td>\n",
       "      <td>NY</td>\n",
       "      <td>New York-Newark-Jersey City</td>\n",
       "      <td>New York County</td>\n",
       "      <td>1</td>\n",
       "      <td>2017-01-01</td>\n",
       "      <td>3771.0</td>\n",
       "      <td>2017</td>\n",
       "      <td>10025</td>\n",
       "      <td>1.1</td>\n",
       "      <td>64.4</td>\n",
       "      <td>12.5</td>\n",
       "      <td>9.8</td>\n",
       "      <td>0.0</td>\n",
       "      <td>94382</td>\n",
       "      <td>6.6</td>\n",
       "      <td>18.0</td>\n",
       "      <td>13.2</td>\n",
       "      <td>13.1</td>\n",
       "      <td>5.9</td>\n",
       "      <td>7.3</td>\n",
       "      <td>11.5</td>\n",
       "      <td>4.8</td>\n",
       "      <td>3.0</td>\n",
       "      <td>94382</td>\n",
       "    </tr>\n",
       "  </tbody>\n",
       "</table>\n",
       "</div>"
      ],
      "text/plain": [
       "       ZIPCODE      City State                        Metro       CountyName  \\\n",
       "141436   10025  New York    NY  New York-Newark-Jersey City  New York County   \n",
       "\n",
       "        SizeRank Year-Month   value  Year ZCTA_x RentalVacancyRate white  \\\n",
       "141436         1 2017-01-01  3771.0  2017  10025               1.1  64.4   \n",
       "\n",
       "       black asian NHOPI hispanic_latino 20_to_24 25_to_34 35_to_44 45_to_54  \\\n",
       "141436  12.5   9.8   0.0           94382      6.6     18.0     13.2     13.1   \n",
       "\n",
       "       55_to_59 60_to_64 65_to_74 75_to_85 85_over Population  \n",
       "141436      5.9      7.3     11.5      4.8     3.0      94382  "
      ]
     },
     "execution_count": 125,
     "metadata": {},
     "output_type": "execute_result"
    }
   ],
   "source": [
    "ACS_17.head(1)"
   ]
  },
  {
   "cell_type": "code",
   "execution_count": 182,
   "metadata": {},
   "outputs": [],
   "source": [
    "#merge ZRI_IRS_LF_MD_ACS 2017 to make X train\n",
    "X_train17 = pd.merge(ZRI_IRS_LF_MD_17, ACS_17, on=['ZIPCODE', 'City', 'State', 'Metro', 'CountyName', 'SizeRank', 'Year-Month', 'value', 'Year'], how='left')\n"
   ]
  },
  {
   "cell_type": "code",
   "execution_count": 183,
   "metadata": {},
   "outputs": [
    {
     "data": {
      "text/plain": [
       "(3192588, 40)"
      ]
     },
     "execution_count": 183,
     "metadata": {},
     "output_type": "execute_result"
    }
   ],
   "source": [
    "X_train17.shape"
   ]
  },
  {
   "cell_type": "code",
   "execution_count": 196,
   "metadata": {},
   "outputs": [
    {
     "data": {
      "text/plain": [
       "(66888, 29)"
      ]
     },
     "execution_count": 196,
     "metadata": {},
     "output_type": "execute_result"
    }
   ],
   "source": [
    "#dropping duplicates \n",
    "X_train17 = X_train17.drop_duplicates()\n",
    "X_train17.shape #checking shape"
   ]
  },
  {
   "cell_type": "code",
   "execution_count": 127,
   "metadata": {},
   "outputs": [],
   "source": [
    "ZRI_IRS_LF_MD_18 = ZRI_IRS_LF_MD[ZRI_IRS_LF_MD.Year == 2018]"
   ]
  },
  {
   "cell_type": "code",
   "execution_count": 128,
   "metadata": {},
   "outputs": [],
   "source": [
    "ACS_18 = ACS[ACS.Year ==2018]"
   ]
  },
  {
   "cell_type": "code",
   "execution_count": 184,
   "metadata": {},
   "outputs": [],
   "source": [
    "#merge ZRI_IRS_LF_MD_ACS 2018 Y train\n",
    "y_train18 = pd.merge(ZRI_IRS_LF_MD_18, ACS_18, on=['ZIPCODE', 'City', 'State', 'Metro', 'CountyName', 'SizeRank', 'Year-Month', 'value', 'Year'], how='left')\n"
   ]
  },
  {
   "cell_type": "code",
   "execution_count": 185,
   "metadata": {},
   "outputs": [
    {
     "data": {
      "text/plain": [
       "(3192588, 40)"
      ]
     },
     "execution_count": 185,
     "metadata": {},
     "output_type": "execute_result"
    }
   ],
   "source": [
    "y_train18.shape"
   ]
  },
  {
   "cell_type": "code",
   "execution_count": 187,
   "metadata": {},
   "outputs": [
    {
     "data": {
      "text/plain": [
       "(66888, 40)"
      ]
     },
     "execution_count": 187,
     "metadata": {},
     "output_type": "execute_result"
    }
   ],
   "source": [
    "#dropping duplicates \n",
    "y_train18 = y_train18.drop_duplicates()\n",
    "y_train18.shape #checking shape"
   ]
  },
  {
   "cell_type": "markdown",
   "metadata": {},
   "source": [
    "# Cleaning columns \n",
    "- removing unnecessary columns"
   ]
  },
  {
   "cell_type": "code",
   "execution_count": 170,
   "metadata": {},
   "outputs": [
    {
     "data": {
      "text/plain": [
       "Index(['ZIPCODE', 'City', 'State', 'Metro', 'CountyName', 'SizeRank',\n",
       "       'Year-Month', 'value', 'Month', 'Year', 'Season', 'AGIncome',\n",
       "       'TotIncome', 'SalariesWages', 'NumUnemply', 'TotTaxes', 'FIPSCode',\n",
       "       'Labor\\nForce', 'Employed', 'Unemployed', 'Unemploy-\\nment Rate\\n(%)',\n",
       "       'MortDeliq30-89', 'MortDeliq90', 'ZCTA_x', 'RentalVacancyRate', 'white',\n",
       "       'black', 'asian', 'NHOPI', 'hispanic_latino', '20_to_24', '25_to_34',\n",
       "       '35_to_44', '45_to_54', '55_to_59', '60_to_64', '65_to_74', '75_to_85',\n",
       "       '85_over', 'Population'],\n",
       "      dtype='object')"
      ]
     },
     "execution_count": 170,
     "metadata": {},
     "output_type": "execute_result"
    }
   ],
   "source": [
    "X_train17.columns"
   ]
  },
  {
   "cell_type": "code",
   "execution_count": 188,
   "metadata": {},
   "outputs": [],
   "source": [
    "season_2017 = X_train17.groupby(['Season']).agg({\"value\": 'median'})\n",
    "season_all = ZRI_IRS_LF_MD.groupby(['Season']).agg({\"value\": 'median'})"
   ]
  },
  {
   "cell_type": "code",
   "execution_count": 189,
   "metadata": {},
   "outputs": [
    {
     "data": {
      "text/html": [
       "<div>\n",
       "<style scoped>\n",
       "    .dataframe tbody tr th:only-of-type {\n",
       "        vertical-align: middle;\n",
       "    }\n",
       "\n",
       "    .dataframe tbody tr th {\n",
       "        vertical-align: top;\n",
       "    }\n",
       "\n",
       "    .dataframe thead th {\n",
       "        text-align: right;\n",
       "    }\n",
       "</style>\n",
       "<table border=\"1\" class=\"dataframe\">\n",
       "  <thead>\n",
       "    <tr style=\"text-align: right;\">\n",
       "      <th></th>\n",
       "      <th>value</th>\n",
       "    </tr>\n",
       "    <tr>\n",
       "      <th>Season</th>\n",
       "      <th></th>\n",
       "    </tr>\n",
       "  </thead>\n",
       "  <tbody>\n",
       "    <tr>\n",
       "      <th>fall</th>\n",
       "      <td>1572.0</td>\n",
       "    </tr>\n",
       "    <tr>\n",
       "      <th>spring</th>\n",
       "      <td>1525.0</td>\n",
       "    </tr>\n",
       "    <tr>\n",
       "      <th>summer</th>\n",
       "      <td>1545.0</td>\n",
       "    </tr>\n",
       "    <tr>\n",
       "      <th>winter</th>\n",
       "      <td>1552.0</td>\n",
       "    </tr>\n",
       "  </tbody>\n",
       "</table>\n",
       "</div>"
      ],
      "text/plain": [
       "         value\n",
       "Season        \n",
       "fall    1572.0\n",
       "spring  1525.0\n",
       "summer  1545.0\n",
       "winter  1552.0"
      ]
     },
     "execution_count": 189,
     "metadata": {},
     "output_type": "execute_result"
    }
   ],
   "source": [
    "season_all"
   ]
  },
  {
   "cell_type": "code",
   "execution_count": 190,
   "metadata": {},
   "outputs": [],
   "source": [
    "#making season ordinal \n",
    "X_train17.Season = X_train17.Season.replace({'fall':1,'winter':2, 'summer':3, 'spring':4})"
   ]
  },
  {
   "cell_type": "code",
   "execution_count": null,
   "metadata": {},
   "outputs": [],
   "source": [
    "#X_train17.head()"
   ]
  },
  {
   "cell_type": "code",
   "execution_count": 209,
   "metadata": {},
   "outputs": [
    {
     "data": {
      "text/plain": [
       "Index(['ZIPCODE', 'SizeRank', 'value', 'AGIncome', 'TotIncome',\n",
       "       'SalariesWages', 'NumUnemply', 'TotTaxes', 'FIPSCode',\n",
       "       'Unemploy-\\nment Rate\\n(%)', 'MortDeliq30-89', 'MortDeliq90',\n",
       "       'RentalVacancyRate', 'white', 'black', 'asian', 'NHOPI',\n",
       "       'hispanic_latino', '20_to_24', '25_to_34', '35_to_44', '45_to_54',\n",
       "       '55_to_59', '60_to_64', '65_to_74', '75_to_85', '85_over',\n",
       "       'Population'],\n",
       "      dtype='object')"
      ]
     },
     "execution_count": 209,
     "metadata": {},
     "output_type": "execute_result"
    }
   ],
   "source": [
    "#drop columns to test\n",
    "X_train17.drop(columns = ['City', 'State', 'Metro', 'CountyName','Month', 'Year', 'Season','ZCTA_x'], inplace=True)\n",
    "X_train17.drop(columns = ['Labor\\nForce','Employed', 'Unemployed'], inplace=True)\n",
    "\n",
    "X_train17.drop(columns = ['Year-Month'], inplace=True)\n",
    "\n",
    "\n",
    "X_train17.columns"
   ]
  },
  {
   "cell_type": "code",
   "execution_count": 211,
   "metadata": {},
   "outputs": [],
   "source": [
    "X_train = X_train17.copy()"
   ]
  },
  {
   "cell_type": "code",
   "execution_count": 151,
   "metadata": {},
   "outputs": [],
   "source": [
    "y_train18 = y_train18.dropna(subset=['value'])"
   ]
  },
  {
   "cell_type": "code",
   "execution_count": 201,
   "metadata": {},
   "outputs": [],
   "source": [
    "y_train = y_train18['value']"
   ]
  },
  {
   "cell_type": "code",
   "execution_count": 197,
   "metadata": {},
   "outputs": [
    {
     "data": {
      "text/plain": [
       "(66888, 29)"
      ]
     },
     "execution_count": 197,
     "metadata": {},
     "output_type": "execute_result"
    }
   ],
   "source": [
    "X_train17.shape"
   ]
  },
  {
   "cell_type": "code",
   "execution_count": 212,
   "metadata": {},
   "outputs": [
    {
     "data": {
      "text/plain": [
       "(66888, 28)"
      ]
     },
     "execution_count": 212,
     "metadata": {},
     "output_type": "execute_result"
    }
   ],
   "source": [
    "X_train.shape"
   ]
  },
  {
   "cell_type": "code",
   "execution_count": 213,
   "metadata": {},
   "outputs": [
    {
     "data": {
      "text/plain": [
       "(66888,)"
      ]
     },
     "execution_count": 213,
     "metadata": {},
     "output_type": "execute_result"
    }
   ],
   "source": [
    "y_train.shape"
   ]
  },
  {
   "cell_type": "code",
   "execution_count": 214,
   "metadata": {},
   "outputs": [],
   "source": [
    "#replace nan with 0 \n",
    "X_train = X_train.replace(np.nan, 0)\n",
    "y_train = y_train.replace(np.nan, 0)"
   ]
  },
  {
   "cell_type": "code",
   "execution_count": 215,
   "metadata": {},
   "outputs": [
    {
     "data": {
      "text/plain": [
       "(66888, 28)"
      ]
     },
     "execution_count": 215,
     "metadata": {},
     "output_type": "execute_result"
    }
   ],
   "source": [
    "X_train.shape"
   ]
  },
  {
   "cell_type": "code",
   "execution_count": 216,
   "metadata": {},
   "outputs": [
    {
     "data": {
      "text/plain": [
       "(66888,)"
      ]
     },
     "execution_count": 216,
     "metadata": {},
     "output_type": "execute_result"
    }
   ],
   "source": [
    "y_train.shape"
   ]
  },
  {
   "cell_type": "code",
   "execution_count": 217,
   "metadata": {},
   "outputs": [
    {
     "data": {
      "text/html": [
       "<div>\n",
       "<style scoped>\n",
       "    .dataframe tbody tr th:only-of-type {\n",
       "        vertical-align: middle;\n",
       "    }\n",
       "\n",
       "    .dataframe tbody tr th {\n",
       "        vertical-align: top;\n",
       "    }\n",
       "\n",
       "    .dataframe thead th {\n",
       "        text-align: right;\n",
       "    }\n",
       "</style>\n",
       "<table border=\"1\" class=\"dataframe\">\n",
       "  <thead>\n",
       "    <tr style=\"text-align: right;\">\n",
       "      <th></th>\n",
       "      <th>ZIPCODE</th>\n",
       "      <th>SizeRank</th>\n",
       "      <th>value</th>\n",
       "      <th>AGIncome</th>\n",
       "      <th>TotIncome</th>\n",
       "      <th>SalariesWages</th>\n",
       "      <th>NumUnemply</th>\n",
       "      <th>TotTaxes</th>\n",
       "      <th>FIPSCode</th>\n",
       "      <th>Unemploy-\\nment Rate\\n(%)</th>\n",
       "      <th>MortDeliq30-89</th>\n",
       "      <th>MortDeliq90</th>\n",
       "      <th>RentalVacancyRate</th>\n",
       "      <th>white</th>\n",
       "      <th>black</th>\n",
       "      <th>asian</th>\n",
       "      <th>NHOPI</th>\n",
       "      <th>hispanic_latino</th>\n",
       "      <th>20_to_24</th>\n",
       "      <th>25_to_34</th>\n",
       "      <th>35_to_44</th>\n",
       "      <th>45_to_54</th>\n",
       "      <th>55_to_59</th>\n",
       "      <th>60_to_64</th>\n",
       "      <th>65_to_74</th>\n",
       "      <th>75_to_85</th>\n",
       "      <th>85_over</th>\n",
       "      <th>Population</th>\n",
       "    </tr>\n",
       "  </thead>\n",
       "  <tbody>\n",
       "    <tr>\n",
       "      <th>0</th>\n",
       "      <td>10025</td>\n",
       "      <td>1</td>\n",
       "      <td>3771.0</td>\n",
       "      <td>1.222721e+06</td>\n",
       "      <td>1.247542e+06</td>\n",
       "      <td>7.633333e+05</td>\n",
       "      <td>208.333333</td>\n",
       "      <td>138435.833333</td>\n",
       "      <td>36061</td>\n",
       "      <td>4.1</td>\n",
       "      <td>0.8</td>\n",
       "      <td>0.7</td>\n",
       "      <td>1.1</td>\n",
       "      <td>64.4</td>\n",
       "      <td>12.5</td>\n",
       "      <td>9.8</td>\n",
       "      <td>0.0</td>\n",
       "      <td>94382</td>\n",
       "      <td>6.6</td>\n",
       "      <td>18.0</td>\n",
       "      <td>13.2</td>\n",
       "      <td>13.1</td>\n",
       "      <td>5.9</td>\n",
       "      <td>7.3</td>\n",
       "      <td>11.5</td>\n",
       "      <td>4.8</td>\n",
       "      <td>3.0</td>\n",
       "      <td>94382</td>\n",
       "    </tr>\n",
       "    <tr>\n",
       "      <th>129</th>\n",
       "      <td>60657</td>\n",
       "      <td>2</td>\n",
       "      <td>1770.0</td>\n",
       "      <td>8.573410e+05</td>\n",
       "      <td>8.710963e+05</td>\n",
       "      <td>6.170520e+05</td>\n",
       "      <td>161.666667</td>\n",
       "      <td>46717.166667</td>\n",
       "      <td>13075</td>\n",
       "      <td>4.5</td>\n",
       "      <td>0.0</td>\n",
       "      <td>0.0</td>\n",
       "      <td>1.3</td>\n",
       "      <td>86.6</td>\n",
       "      <td>2.9</td>\n",
       "      <td>6.7</td>\n",
       "      <td>0.0</td>\n",
       "      <td>70103</td>\n",
       "      <td>11.2</td>\n",
       "      <td>38.0</td>\n",
       "      <td>14.1</td>\n",
       "      <td>9.5</td>\n",
       "      <td>3.7</td>\n",
       "      <td>3.3</td>\n",
       "      <td>4.9</td>\n",
       "      <td>2.4</td>\n",
       "      <td>1.0</td>\n",
       "      <td>70103</td>\n",
       "    </tr>\n",
       "    <tr>\n",
       "      <th>134</th>\n",
       "      <td>60657</td>\n",
       "      <td>2</td>\n",
       "      <td>1770.0</td>\n",
       "      <td>8.573410e+05</td>\n",
       "      <td>8.710963e+05</td>\n",
       "      <td>6.170520e+05</td>\n",
       "      <td>161.666667</td>\n",
       "      <td>46717.166667</td>\n",
       "      <td>17031</td>\n",
       "      <td>5.1</td>\n",
       "      <td>2.2</td>\n",
       "      <td>1.9</td>\n",
       "      <td>1.3</td>\n",
       "      <td>86.6</td>\n",
       "      <td>2.9</td>\n",
       "      <td>6.7</td>\n",
       "      <td>0.0</td>\n",
       "      <td>70103</td>\n",
       "      <td>11.2</td>\n",
       "      <td>38.0</td>\n",
       "      <td>14.1</td>\n",
       "      <td>9.5</td>\n",
       "      <td>3.7</td>\n",
       "      <td>3.3</td>\n",
       "      <td>4.9</td>\n",
       "      <td>2.4</td>\n",
       "      <td>1.0</td>\n",
       "      <td>70103</td>\n",
       "    </tr>\n",
       "    <tr>\n",
       "      <th>360</th>\n",
       "      <td>60657</td>\n",
       "      <td>2</td>\n",
       "      <td>1770.0</td>\n",
       "      <td>8.573410e+05</td>\n",
       "      <td>8.710963e+05</td>\n",
       "      <td>6.170520e+05</td>\n",
       "      <td>161.666667</td>\n",
       "      <td>46717.166667</td>\n",
       "      <td>27031</td>\n",
       "      <td>3.8</td>\n",
       "      <td>0.0</td>\n",
       "      <td>0.0</td>\n",
       "      <td>1.3</td>\n",
       "      <td>86.6</td>\n",
       "      <td>2.9</td>\n",
       "      <td>6.7</td>\n",
       "      <td>0.0</td>\n",
       "      <td>70103</td>\n",
       "      <td>11.2</td>\n",
       "      <td>38.0</td>\n",
       "      <td>14.1</td>\n",
       "      <td>9.5</td>\n",
       "      <td>3.7</td>\n",
       "      <td>3.3</td>\n",
       "      <td>4.9</td>\n",
       "      <td>2.4</td>\n",
       "      <td>1.0</td>\n",
       "      <td>70103</td>\n",
       "    </tr>\n",
       "    <tr>\n",
       "      <th>366</th>\n",
       "      <td>10023</td>\n",
       "      <td>3</td>\n",
       "      <td>3490.0</td>\n",
       "      <td>2.270603e+06</td>\n",
       "      <td>2.299776e+06</td>\n",
       "      <td>1.031574e+06</td>\n",
       "      <td>145.000000</td>\n",
       "      <td>303624.166667</td>\n",
       "      <td>36061</td>\n",
       "      <td>4.1</td>\n",
       "      <td>0.8</td>\n",
       "      <td>0.7</td>\n",
       "      <td>1.8</td>\n",
       "      <td>79.8</td>\n",
       "      <td>3.7</td>\n",
       "      <td>11.0</td>\n",
       "      <td>0.0</td>\n",
       "      <td>61514</td>\n",
       "      <td>3.9</td>\n",
       "      <td>17.8</td>\n",
       "      <td>16.6</td>\n",
       "      <td>13.3</td>\n",
       "      <td>6.6</td>\n",
       "      <td>5.8</td>\n",
       "      <td>12.0</td>\n",
       "      <td>5.4</td>\n",
       "      <td>3.5</td>\n",
       "      <td>61514</td>\n",
       "    </tr>\n",
       "  </tbody>\n",
       "</table>\n",
       "</div>"
      ],
      "text/plain": [
       "    ZIPCODE  SizeRank   value      AGIncome     TotIncome  SalariesWages  \\\n",
       "0     10025         1  3771.0  1.222721e+06  1.247542e+06   7.633333e+05   \n",
       "129   60657         2  1770.0  8.573410e+05  8.710963e+05   6.170520e+05   \n",
       "134   60657         2  1770.0  8.573410e+05  8.710963e+05   6.170520e+05   \n",
       "360   60657         2  1770.0  8.573410e+05  8.710963e+05   6.170520e+05   \n",
       "366   10023         3  3490.0  2.270603e+06  2.299776e+06   1.031574e+06   \n",
       "\n",
       "     NumUnemply       TotTaxes FIPSCode  Unemploy-\\nment Rate\\n(%)  \\\n",
       "0    208.333333  138435.833333    36061                        4.1   \n",
       "129  161.666667   46717.166667    13075                        4.5   \n",
       "134  161.666667   46717.166667    17031                        5.1   \n",
       "360  161.666667   46717.166667    27031                        3.8   \n",
       "366  145.000000  303624.166667    36061                        4.1   \n",
       "\n",
       "     MortDeliq30-89  MortDeliq90 RentalVacancyRate white black asian NHOPI  \\\n",
       "0               0.8          0.7               1.1  64.4  12.5   9.8   0.0   \n",
       "129             0.0          0.0               1.3  86.6   2.9   6.7   0.0   \n",
       "134             2.2          1.9               1.3  86.6   2.9   6.7   0.0   \n",
       "360             0.0          0.0               1.3  86.6   2.9   6.7   0.0   \n",
       "366             0.8          0.7               1.8  79.8   3.7  11.0   0.0   \n",
       "\n",
       "    hispanic_latino 20_to_24 25_to_34 35_to_44 45_to_54 55_to_59 60_to_64  \\\n",
       "0             94382      6.6     18.0     13.2     13.1      5.9      7.3   \n",
       "129           70103     11.2     38.0     14.1      9.5      3.7      3.3   \n",
       "134           70103     11.2     38.0     14.1      9.5      3.7      3.3   \n",
       "360           70103     11.2     38.0     14.1      9.5      3.7      3.3   \n",
       "366           61514      3.9     17.8     16.6     13.3      6.6      5.8   \n",
       "\n",
       "    65_to_74 75_to_85 85_over Population  \n",
       "0       11.5      4.8     3.0      94382  \n",
       "129      4.9      2.4     1.0      70103  \n",
       "134      4.9      2.4     1.0      70103  \n",
       "360      4.9      2.4     1.0      70103  \n",
       "366     12.0      5.4     3.5      61514  "
      ]
     },
     "execution_count": 217,
     "metadata": {},
     "output_type": "execute_result"
    }
   ],
   "source": [
    "X_train.head()"
   ]
  },
  {
   "cell_type": "markdown",
   "metadata": {},
   "source": [
    "# Gradient Boost"
   ]
  },
  {
   "cell_type": "code",
   "execution_count": 218,
   "metadata": {},
   "outputs": [],
   "source": [
    "from sklearn.ensemble import GradientBoostingRegressor\n",
    "from sklearn.model_selection import train_test_split\n",
    "from sklearn.model_selection import GridSearchCV"
   ]
  },
  {
   "cell_type": "code",
   "execution_count": 220,
   "metadata": {},
   "outputs": [
    {
     "name": "stdout",
     "output_type": "stream",
     "text": [
      "--------------------------------------------------\n",
      "The train set R^2 is 0.857\n"
     ]
    }
   ],
   "source": [
    "gbm = GradientBoostingRegressor()\n",
    "\n",
    "gbm.set_params(n_estimators = 464, \n",
    "            learning_rate = .1, #.3,\n",
    "            max_depth = 2, #2,\n",
    "            min_samples_leaf = 3)\n",
    "\n",
    "gbm.fit(X_train,y_train)\n",
    "\n",
    "print('-'*50)\n",
    "print(\"The train set R^2 is %.3f\" %(gbm.score(X_train, y_train)))\n",
    "#print(\"The test set R^2 is %.3f\" %(gbm.score(X_test,y_test)))"
   ]
  },
  {
   "cell_type": "markdown",
   "metadata": {},
   "source": [
    "### Grid Search for Gradient Boost"
   ]
  },
  {
   "cell_type": "code",
   "execution_count": 221,
   "metadata": {},
   "outputs": [],
   "source": [
    "# n_estimator: \n",
    "\n",
    "x = np.logspace(1, 4, 100)\n",
    "x = x.astype(np.int64)"
   ]
  },
  {
   "cell_type": "code",
   "execution_count": null,
   "metadata": {},
   "outputs": [],
   "source": [
    "param_grid={'n_estimators':x,\n",
    "           'learning_rate': [.3,.2,0.1],\n",
    "            'max_depth':[1,2,3],\n",
    "            'min_samples_leaf':[3]}\n",
    "\n",
    "grid_search = GridSearchCV(estimator= gbm, param_grid= param_grid)\n",
    "grid_search.fit(X_train,y_train)"
   ]
  },
  {
   "cell_type": "code",
   "execution_count": null,
   "metadata": {},
   "outputs": [],
   "source": [
    "print(grid_search.best_estimator_)\n",
    "print(grid_search.best_params_)\n",
    "print(grid_search.best_score_)"
   ]
  },
  {
   "cell_type": "code",
   "execution_count": null,
   "metadata": {},
   "outputs": [],
   "source": [
    "gbm.get_params"
   ]
  },
  {
   "cell_type": "code",
   "execution_count": null,
   "metadata": {},
   "outputs": [],
   "source": []
  },
  {
   "cell_type": "code",
   "execution_count": null,
   "metadata": {},
   "outputs": [],
   "source": []
  }
 ],
 "metadata": {
  "kernelspec": {
   "display_name": "Python 3",
   "language": "python",
   "name": "python3"
  },
  "language_info": {
   "codemirror_mode": {
    "name": "ipython",
    "version": 3
   },
   "file_extension": ".py",
   "mimetype": "text/x-python",
   "name": "python",
   "nbconvert_exporter": "python",
   "pygments_lexer": "ipython3",
   "version": "3.7.6"
  }
 },
 "nbformat": 4,
 "nbformat_minor": 4
}
