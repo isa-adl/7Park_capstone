{
 "cells": [
  {
   "cell_type": "code",
   "execution_count": 3,
   "metadata": {},
   "outputs": [],
   "source": [
    "#importing packages\n",
    "import pandas as pd\n",
    "import numpy as np\n",
    "import seaborn as sns\n",
    "from matplotlib import pyplot as plt\n",
    "plt.style.use('ggplot')\n",
    "from scipy.stats import norm\n",
    "from scipy import stats\n",
    "%matplotlib inline"
   ]
  },
  {
   "cell_type": "code",
   "execution_count": 4,
   "metadata": {},
   "outputs": [],
   "source": [
    "#so all DataFrame data is displayed\n",
    "pd.set_option('display.max_columns', None)\n",
    "pd.set_option('display.max_rows', 1000)"
   ]
  },
  {
   "cell_type": "code",
   "execution_count": 5,
   "metadata": {},
   "outputs": [],
   "source": [
    "ZRI = pd.read_csv('./data/Zip_Zri_MultiFamilyResidenceRental.csv', index_col=0,dtype={'RegionName': 'str'})"
   ]
  },
  {
   "cell_type": "code",
   "execution_count": 6,
   "metadata": {},
   "outputs": [
    {
     "data": {
      "text/plain": [
       "(1861, 119)"
      ]
     },
     "execution_count": 6,
     "metadata": {},
     "output_type": "execute_result"
    }
   ],
   "source": [
    "ZRI.shape"
   ]
  },
  {
   "cell_type": "code",
   "execution_count": 7,
   "metadata": {},
   "outputs": [],
   "source": [
    "#melt zri dataframe\n",
    "ZRI_f = pd.melt(ZRI, id_vars =['RegionName', 'City', 'State', 'Metro', 'CountyName', 'SizeRank'], value_vars=ZRI.iloc[:,6:119])\n"
   ]
  },
  {
   "cell_type": "code",
   "execution_count": 8,
   "metadata": {},
   "outputs": [
    {
     "data": {
      "text/html": [
       "<div>\n",
       "<style scoped>\n",
       "    .dataframe tbody tr th:only-of-type {\n",
       "        vertical-align: middle;\n",
       "    }\n",
       "\n",
       "    .dataframe tbody tr th {\n",
       "        vertical-align: top;\n",
       "    }\n",
       "\n",
       "    .dataframe thead th {\n",
       "        text-align: right;\n",
       "    }\n",
       "</style>\n",
       "<table border=\"1\" class=\"dataframe\">\n",
       "  <thead>\n",
       "    <tr style=\"text-align: right;\">\n",
       "      <th></th>\n",
       "      <th>RegionName</th>\n",
       "      <th>City</th>\n",
       "      <th>State</th>\n",
       "      <th>Metro</th>\n",
       "      <th>CountyName</th>\n",
       "      <th>SizeRank</th>\n",
       "      <th>variable</th>\n",
       "      <th>value</th>\n",
       "    </tr>\n",
       "  </thead>\n",
       "  <tbody>\n",
       "  </tbody>\n",
       "</table>\n",
       "</div>"
      ],
      "text/plain": [
       "Empty DataFrame\n",
       "Columns: [RegionName, City, State, Metro, CountyName, SizeRank, variable, value]\n",
       "Index: []"
      ]
     },
     "execution_count": 8,
     "metadata": {},
     "output_type": "execute_result"
    }
   ],
   "source": [
    "ZRI_f[ZRI_f.value == 0]"
   ]
  },
  {
   "cell_type": "code",
   "execution_count": 9,
   "metadata": {},
   "outputs": [
    {
     "data": {
      "text/plain": [
       "Index(['Metro', 'value'], dtype='object')"
      ]
     },
     "execution_count": 9,
     "metadata": {},
     "output_type": "execute_result"
    }
   ],
   "source": [
    "ZRI_f.columns[ZRI_f.isnull().any()]"
   ]
  },
  {
   "cell_type": "code",
   "execution_count": 10,
   "metadata": {},
   "outputs": [
    {
     "data": {
      "text/plain": [
       "Text(0.5, 1.0, 'ZRI Distribution')"
      ]
     },
     "execution_count": 10,
     "metadata": {},
     "output_type": "execute_result"
    },
    {
     "data": {
      "image/png": "[encoded data removed]",
      "text/plain": [
       "<Figure size 432x432 with 1 Axes>"
      ]
     },
     "metadata": {
      "needs_background": "light"
     },
     "output_type": "display_data"
    }
   ],
   "source": [
    "plt.figure(figsize=(6,6))\n",
    "ZRI_f['value'].hist()\n",
    "plt.title('ZRI Distribution')"
   ]
  },
  {
   "cell_type": "code",
   "execution_count": 11,
   "metadata": {},
   "outputs": [
    {
     "name": "stdout",
     "output_type": "stream",
     "text": [
      "Rent Mean:  1518.0649123433427\n",
      "Rent Median:  1395.0\n",
      "Outliers are above 3436.70 and below -400.57\n"
     ]
    }
   ],
   "source": [
    "print('Rent Mean: ', np.mean(ZRI_f.value))\n",
    "print('Rent Median: ', (ZRI_f.value).median())\n",
    "\n",
    "upper_lim = np.mean(ZRI_f.value) + 3 * np.std(ZRI_f.value)\n",
    "lower_lim = np.mean(ZRI_f.value) - 3 * np.std(ZRI_f.value)\n",
    "print('Outliers are above %.2f and below %.2f' % (upper_lim, lower_lim))"
   ]
  },
  {
   "cell_type": "code",
   "execution_count": 12,
   "metadata": {},
   "outputs": [
    {
     "data": {
      "text/plain": [
       "Text(0.5, 1.0, 'Log Rent Distribution')"
      ]
     },
     "execution_count": 12,
     "metadata": {},
     "output_type": "execute_result"
    },
    {
     "data": {
      "image/png": "[encoded data removed]",
      "text/plain": [
       "<Figure size 432x432 with 1 Axes>"
      ]
     },
     "metadata": {
      "needs_background": "light"
     },
     "output_type": "display_data"
    }
   ],
   "source": [
    "ZRI_f['LogValue'] = np.log(ZRI_f.value)\n",
    "plt.figure(figsize=(6,6))\n",
    "ZRI_f['LogValue'].hist()\n",
    "plt.title('Log Rent Distribution')"
   ]
  },
  {
   "cell_type": "code",
   "execution_count": 13,
   "metadata": {},
   "outputs": [
    {
     "name": "stdout",
     "output_type": "stream",
     "text": [
      "Log Rent Mean: 7.2\n",
      "Outliers are above 8.7 and below 5.8\n"
     ]
    }
   ],
   "source": [
    "print('Log Rent Mean: %.1f' % np.mean(ZRI_f['LogValue']))\n",
    "\n",
    "upper_lim = np.mean(ZRI_f['LogValue']) + 3.5 * np.std(ZRI_f['LogValue'])\n",
    "lower_lim = np.mean(ZRI_f['LogValue']) - 3.5 * np.std(ZRI_f['LogValue'])\n",
    "print('Outliers are above %.1f and below %.1f' % (upper_lim, lower_lim))"
   ]
  },
  {
   "cell_type": "code",
   "execution_count": 14,
   "metadata": {},
   "outputs": [
    {
     "data": {
      "text/html": [
       "<div>\n",
       "<style scoped>\n",
       "    .dataframe tbody tr th:only-of-type {\n",
       "        vertical-align: middle;\n",
       "    }\n",
       "\n",
       "    .dataframe tbody tr th {\n",
       "        vertical-align: top;\n",
       "    }\n",
       "\n",
       "    .dataframe thead th {\n",
       "        text-align: right;\n",
       "    }\n",
       "</style>\n",
       "<table border=\"1\" class=\"dataframe\">\n",
       "  <thead>\n",
       "    <tr style=\"text-align: right;\">\n",
       "      <th></th>\n",
       "      <th>RegionName</th>\n",
       "      <th>City</th>\n",
       "      <th>State</th>\n",
       "      <th>Metro</th>\n",
       "      <th>CountyName</th>\n",
       "      <th>SizeRank</th>\n",
       "      <th>variable</th>\n",
       "      <th>value</th>\n",
       "      <th>LogValue</th>\n",
       "    </tr>\n",
       "  </thead>\n",
       "  <tbody>\n",
       "    <tr>\n",
       "      <th>181886</th>\n",
       "      <td>11901</td>\n",
       "      <td>Riverhead</td>\n",
       "      <td>NY</td>\n",
       "      <td>New York-Newark-Jersey City</td>\n",
       "      <td>Suffolk County</td>\n",
       "      <td>1370</td>\n",
       "      <td>2018-10</td>\n",
       "      <td>18349.0</td>\n",
       "      <td>9.817330</td>\n",
       "    </tr>\n",
       "    <tr>\n",
       "      <th>200496</th>\n",
       "      <td>11901</td>\n",
       "      <td>Riverhead</td>\n",
       "      <td>NY</td>\n",
       "      <td>New York-Newark-Jersey City</td>\n",
       "      <td>Suffolk County</td>\n",
       "      <td>1370</td>\n",
       "      <td>2019-08</td>\n",
       "      <td>17943.0</td>\n",
       "      <td>9.794955</td>\n",
       "    </tr>\n",
       "    <tr>\n",
       "      <th>161415</th>\n",
       "      <td>11901</td>\n",
       "      <td>Riverhead</td>\n",
       "      <td>NY</td>\n",
       "      <td>New York-Newark-Jersey City</td>\n",
       "      <td>Suffolk County</td>\n",
       "      <td>1370</td>\n",
       "      <td>2017-11</td>\n",
       "      <td>15445.0</td>\n",
       "      <td>9.645041</td>\n",
       "    </tr>\n",
       "    <tr>\n",
       "      <th>168859</th>\n",
       "      <td>11901</td>\n",
       "      <td>Riverhead</td>\n",
       "      <td>NY</td>\n",
       "      <td>New York-Newark-Jersey City</td>\n",
       "      <td>Suffolk County</td>\n",
       "      <td>1370</td>\n",
       "      <td>2018-03</td>\n",
       "      <td>13434.0</td>\n",
       "      <td>9.505544</td>\n",
       "    </tr>\n",
       "    <tr>\n",
       "      <th>170720</th>\n",
       "      <td>11901</td>\n",
       "      <td>Riverhead</td>\n",
       "      <td>NY</td>\n",
       "      <td>New York-Newark-Jersey City</td>\n",
       "      <td>Suffolk County</td>\n",
       "      <td>1370</td>\n",
       "      <td>2018-04</td>\n",
       "      <td>13427.0</td>\n",
       "      <td>9.505023</td>\n",
       "    </tr>\n",
       "  </tbody>\n",
       "</table>\n",
       "</div>"
      ],
      "text/plain": [
       "       RegionName       City State                        Metro  \\\n",
       "181886      11901  Riverhead    NY  New York-Newark-Jersey City   \n",
       "200496      11901  Riverhead    NY  New York-Newark-Jersey City   \n",
       "161415      11901  Riverhead    NY  New York-Newark-Jersey City   \n",
       "168859      11901  Riverhead    NY  New York-Newark-Jersey City   \n",
       "170720      11901  Riverhead    NY  New York-Newark-Jersey City   \n",
       "\n",
       "            CountyName  SizeRank variable    value  LogValue  \n",
       "181886  Suffolk County      1370  2018-10  18349.0  9.817330  \n",
       "200496  Suffolk County      1370  2019-08  17943.0  9.794955  \n",
       "161415  Suffolk County      1370  2017-11  15445.0  9.645041  \n",
       "168859  Suffolk County      1370  2018-03  13434.0  9.505544  \n",
       "170720  Suffolk County      1370  2018-04  13427.0  9.505023  "
      ]
     },
     "execution_count": 14,
     "metadata": {},
     "output_type": "execute_result"
    }
   ],
   "source": [
    "ZRI_f[ZRI_f.LogValue > 8.7].sort_values('LogValue', ascending=False)"
   ]
  },
  {
   "cell_type": "code",
   "execution_count": 15,
   "metadata": {},
   "outputs": [
    {
     "data": {
      "text/html": [
       "<div>\n",
       "<style scoped>\n",
       "    .dataframe tbody tr th:only-of-type {\n",
       "        vertical-align: middle;\n",
       "    }\n",
       "\n",
       "    .dataframe tbody tr th {\n",
       "        vertical-align: top;\n",
       "    }\n",
       "\n",
       "    .dataframe thead th {\n",
       "        text-align: right;\n",
       "    }\n",
       "</style>\n",
       "<table border=\"1\" class=\"dataframe\">\n",
       "  <thead>\n",
       "    <tr style=\"text-align: right;\">\n",
       "      <th></th>\n",
       "      <th>RegionName</th>\n",
       "      <th>City</th>\n",
       "      <th>State</th>\n",
       "      <th>Metro</th>\n",
       "      <th>CountyName</th>\n",
       "      <th>SizeRank</th>\n",
       "      <th>variable</th>\n",
       "      <th>value</th>\n",
       "      <th>LogValue</th>\n",
       "    </tr>\n",
       "  </thead>\n",
       "  <tbody>\n",
       "  </tbody>\n",
       "</table>\n",
       "</div>"
      ],
      "text/plain": [
       "Empty DataFrame\n",
       "Columns: [RegionName, City, State, Metro, CountyName, SizeRank, variable, value, LogValue]\n",
       "Index: []"
      ]
     },
     "execution_count": 15,
     "metadata": {},
     "output_type": "execute_result"
    }
   ],
   "source": [
    "ZRI_f[ZRI_f.LogValue < 5.8].sort_values('LogValue', ascending=False)"
   ]
  },
  {
   "cell_type": "code",
   "execution_count": 16,
   "metadata": {},
   "outputs": [],
   "source": [
    "#remove outliers\n",
    "ZRI_f = ZRI_f[(ZRI_f.LogValue < 8.7)]"
   ]
  },
  {
   "cell_type": "code",
   "execution_count": 17,
   "metadata": {},
   "outputs": [],
   "source": [
    "#remove outliers\n",
    "ZRI_f = ZRI_f[(ZRI_f.value < 3436.70)]"
   ]
  },
  {
   "cell_type": "code",
   "execution_count": 18,
   "metadata": {},
   "outputs": [
    {
     "data": {
      "text/html": [
       "<div>\n",
       "<style scoped>\n",
       "    .dataframe tbody tr th:only-of-type {\n",
       "        vertical-align: middle;\n",
       "    }\n",
       "\n",
       "    .dataframe tbody tr th {\n",
       "        vertical-align: top;\n",
       "    }\n",
       "\n",
       "    .dataframe thead th {\n",
       "        text-align: right;\n",
       "    }\n",
       "</style>\n",
       "<table border=\"1\" class=\"dataframe\">\n",
       "  <thead>\n",
       "    <tr style=\"text-align: right;\">\n",
       "      <th></th>\n",
       "      <th>RegionName</th>\n",
       "      <th>City</th>\n",
       "      <th>State</th>\n",
       "      <th>Metro</th>\n",
       "      <th>CountyName</th>\n",
       "      <th>SizeRank</th>\n",
       "      <th>variable</th>\n",
       "      <th>value</th>\n",
       "      <th>LogValue</th>\n",
       "    </tr>\n",
       "  </thead>\n",
       "  <tbody>\n",
       "  </tbody>\n",
       "</table>\n",
       "</div>"
      ],
      "text/plain": [
       "Empty DataFrame\n",
       "Columns: [RegionName, City, State, Metro, CountyName, SizeRank, variable, value, LogValue]\n",
       "Index: []"
      ]
     },
     "execution_count": 18,
     "metadata": {},
     "output_type": "execute_result"
    }
   ],
   "source": [
    "ZRI_f[ZRI_f.LogValue > 8.7].sort_values('LogValue', ascending=False)"
   ]
  },
  {
   "cell_type": "code",
   "execution_count": 19,
   "metadata": {},
   "outputs": [
    {
     "data": {
      "text/plain": [
       "Text(0.5, 1.0, 'Log Rent Distribution Outliers Removed')"
      ]
     },
     "execution_count": 19,
     "metadata": {},
     "output_type": "execute_result"
    },
    {
     "data": {
      "image/png": "[encoded data removed]",
      "text/plain": [
       "<Figure size 432x432 with 1 Axes>"
      ]
     },
     "metadata": {
      "needs_background": "light"
     },
     "output_type": "display_data"
    }
   ],
   "source": [
    "ZRI_f['LogValue'] = np.log(ZRI_f.value)\n",
    "plt.figure(figsize=(6,6))\n",
    "ZRI_f['LogValue'].hist()\n",
    "plt.title('Log Rent Distribution Outliers Removed')"
   ]
  },
  {
   "cell_type": "code",
   "execution_count": 20,
   "metadata": {},
   "outputs": [
    {
     "data": {
      "text/plain": [
       "Text(0.5, 1.0, 'Rent Distribution')"
      ]
     },
     "execution_count": 20,
     "metadata": {},
     "output_type": "execute_result"
    },
    {
     "data": {
      "image/png": "[encoded data removed]",
      "text/plain": [
       "<Figure size 432x432 with 1 Axes>"
      ]
     },
     "metadata": {
      "needs_background": "light"
     },
     "output_type": "display_data"
    }
   ],
   "source": [
    "plt.figure(figsize=(6,6))\n",
    "ZRI_f['value'].hist()\n",
    "plt.title('Rent Distribution')"
   ]
  },
  {
   "cell_type": "code",
   "execution_count": 21,
   "metadata": {},
   "outputs": [
    {
     "data": {
      "text/html": [
       "<div>\n",
       "<style scoped>\n",
       "    .dataframe tbody tr th:only-of-type {\n",
       "        vertical-align: middle;\n",
       "    }\n",
       "\n",
       "    .dataframe tbody tr th {\n",
       "        vertical-align: top;\n",
       "    }\n",
       "\n",
       "    .dataframe thead th {\n",
       "        text-align: right;\n",
       "    }\n",
       "</style>\n",
       "<table border=\"1\" class=\"dataframe\">\n",
       "  <thead>\n",
       "    <tr style=\"text-align: right;\">\n",
       "      <th></th>\n",
       "      <th>RegionName</th>\n",
       "      <th>City</th>\n",
       "      <th>State</th>\n",
       "      <th>Metro</th>\n",
       "      <th>CountyName</th>\n",
       "      <th>SizeRank</th>\n",
       "      <th>variable</th>\n",
       "      <th>value</th>\n",
       "      <th>LogValue</th>\n",
       "    </tr>\n",
       "  </thead>\n",
       "  <tbody>\n",
       "    <tr>\n",
       "      <th>0</th>\n",
       "      <td>10025</td>\n",
       "      <td>New York</td>\n",
       "      <td>NY</td>\n",
       "      <td>New York-Newark-Jersey City</td>\n",
       "      <td>New York County</td>\n",
       "      <td>1</td>\n",
       "      <td>2010-09</td>\n",
       "      <td>2930.0</td>\n",
       "      <td>7.982758</td>\n",
       "    </tr>\n",
       "    <tr>\n",
       "      <th>1</th>\n",
       "      <td>60657</td>\n",
       "      <td>Chicago</td>\n",
       "      <td>IL</td>\n",
       "      <td>Chicago-Naperville-Elgin</td>\n",
       "      <td>Cook County</td>\n",
       "      <td>2</td>\n",
       "      <td>2010-09</td>\n",
       "      <td>1447.0</td>\n",
       "      <td>7.277248</td>\n",
       "    </tr>\n",
       "    <tr>\n",
       "      <th>2</th>\n",
       "      <td>10023</td>\n",
       "      <td>New York</td>\n",
       "      <td>NY</td>\n",
       "      <td>New York-Newark-Jersey City</td>\n",
       "      <td>New York County</td>\n",
       "      <td>3</td>\n",
       "      <td>2010-09</td>\n",
       "      <td>2797.0</td>\n",
       "      <td>7.936303</td>\n",
       "    </tr>\n",
       "    <tr>\n",
       "      <th>4</th>\n",
       "      <td>60614</td>\n",
       "      <td>Chicago</td>\n",
       "      <td>IL</td>\n",
       "      <td>Chicago-Naperville-Elgin</td>\n",
       "      <td>Cook County</td>\n",
       "      <td>5</td>\n",
       "      <td>2010-09</td>\n",
       "      <td>1437.0</td>\n",
       "      <td>7.270313</td>\n",
       "    </tr>\n",
       "    <tr>\n",
       "      <th>8</th>\n",
       "      <td>79936</td>\n",
       "      <td>El Paso</td>\n",
       "      <td>TX</td>\n",
       "      <td>El Paso</td>\n",
       "      <td>El Paso County</td>\n",
       "      <td>9</td>\n",
       "      <td>2010-09</td>\n",
       "      <td>982.0</td>\n",
       "      <td>6.889591</td>\n",
       "    </tr>\n",
       "  </tbody>\n",
       "</table>\n",
       "</div>"
      ],
      "text/plain": [
       "  RegionName      City State                        Metro       CountyName  \\\n",
       "0      10025  New York    NY  New York-Newark-Jersey City  New York County   \n",
       "1      60657   Chicago    IL     Chicago-Naperville-Elgin      Cook County   \n",
       "2      10023  New York    NY  New York-Newark-Jersey City  New York County   \n",
       "4      60614   Chicago    IL     Chicago-Naperville-Elgin      Cook County   \n",
       "8      79936   El Paso    TX                      El Paso   El Paso County   \n",
       "\n",
       "   SizeRank variable   value  LogValue  \n",
       "0         1  2010-09  2930.0  7.982758  \n",
       "1         2  2010-09  1447.0  7.277248  \n",
       "2         3  2010-09  2797.0  7.936303  \n",
       "4         5  2010-09  1437.0  7.270313  \n",
       "8         9  2010-09   982.0  6.889591  "
      ]
     },
     "execution_count": 21,
     "metadata": {},
     "output_type": "execute_result"
    }
   ],
   "source": [
    "ZRI_f.head()"
   ]
  },
  {
   "cell_type": "code",
   "execution_count": 22,
   "metadata": {},
   "outputs": [],
   "source": [
    "ZRI_f['variable'] = pd.to_datetime(ZRI_f['variable'])\n",
    "ZRI_f['Month'] = ZRI_f['variable'].dt.month\n",
    "ZRI_f['Year'] = ZRI_f['variable'].dt.year"
   ]
  },
  {
   "cell_type": "code",
   "execution_count": 23,
   "metadata": {},
   "outputs": [
    {
     "data": {
      "text/html": [
       "<div>\n",
       "<style scoped>\n",
       "    .dataframe tbody tr th:only-of-type {\n",
       "        vertical-align: middle;\n",
       "    }\n",
       "\n",
       "    .dataframe tbody tr th {\n",
       "        vertical-align: top;\n",
       "    }\n",
       "\n",
       "    .dataframe thead th {\n",
       "        text-align: right;\n",
       "    }\n",
       "</style>\n",
       "<table border=\"1\" class=\"dataframe\">\n",
       "  <thead>\n",
       "    <tr style=\"text-align: right;\">\n",
       "      <th></th>\n",
       "      <th>RegionName</th>\n",
       "      <th>City</th>\n",
       "      <th>State</th>\n",
       "      <th>Metro</th>\n",
       "      <th>CountyName</th>\n",
       "      <th>SizeRank</th>\n",
       "      <th>variable</th>\n",
       "      <th>value</th>\n",
       "      <th>LogValue</th>\n",
       "      <th>Month</th>\n",
       "      <th>Year</th>\n",
       "    </tr>\n",
       "  </thead>\n",
       "  <tbody>\n",
       "    <tr>\n",
       "      <th>0</th>\n",
       "      <td>10025</td>\n",
       "      <td>New York</td>\n",
       "      <td>NY</td>\n",
       "      <td>New York-Newark-Jersey City</td>\n",
       "      <td>New York County</td>\n",
       "      <td>1</td>\n",
       "      <td>2010-09-01</td>\n",
       "      <td>2930.0</td>\n",
       "      <td>7.982758</td>\n",
       "      <td>9</td>\n",
       "      <td>2010</td>\n",
       "    </tr>\n",
       "    <tr>\n",
       "      <th>1</th>\n",
       "      <td>60657</td>\n",
       "      <td>Chicago</td>\n",
       "      <td>IL</td>\n",
       "      <td>Chicago-Naperville-Elgin</td>\n",
       "      <td>Cook County</td>\n",
       "      <td>2</td>\n",
       "      <td>2010-09-01</td>\n",
       "      <td>1447.0</td>\n",
       "      <td>7.277248</td>\n",
       "      <td>9</td>\n",
       "      <td>2010</td>\n",
       "    </tr>\n",
       "    <tr>\n",
       "      <th>2</th>\n",
       "      <td>10023</td>\n",
       "      <td>New York</td>\n",
       "      <td>NY</td>\n",
       "      <td>New York-Newark-Jersey City</td>\n",
       "      <td>New York County</td>\n",
       "      <td>3</td>\n",
       "      <td>2010-09-01</td>\n",
       "      <td>2797.0</td>\n",
       "      <td>7.936303</td>\n",
       "      <td>9</td>\n",
       "      <td>2010</td>\n",
       "    </tr>\n",
       "    <tr>\n",
       "      <th>4</th>\n",
       "      <td>60614</td>\n",
       "      <td>Chicago</td>\n",
       "      <td>IL</td>\n",
       "      <td>Chicago-Naperville-Elgin</td>\n",
       "      <td>Cook County</td>\n",
       "      <td>5</td>\n",
       "      <td>2010-09-01</td>\n",
       "      <td>1437.0</td>\n",
       "      <td>7.270313</td>\n",
       "      <td>9</td>\n",
       "      <td>2010</td>\n",
       "    </tr>\n",
       "    <tr>\n",
       "      <th>8</th>\n",
       "      <td>79936</td>\n",
       "      <td>El Paso</td>\n",
       "      <td>TX</td>\n",
       "      <td>El Paso</td>\n",
       "      <td>El Paso County</td>\n",
       "      <td>9</td>\n",
       "      <td>2010-09-01</td>\n",
       "      <td>982.0</td>\n",
       "      <td>6.889591</td>\n",
       "      <td>9</td>\n",
       "      <td>2010</td>\n",
       "    </tr>\n",
       "  </tbody>\n",
       "</table>\n",
       "</div>"
      ],
      "text/plain": [
       "  RegionName      City State                        Metro       CountyName  \\\n",
       "0      10025  New York    NY  New York-Newark-Jersey City  New York County   \n",
       "1      60657   Chicago    IL     Chicago-Naperville-Elgin      Cook County   \n",
       "2      10023  New York    NY  New York-Newark-Jersey City  New York County   \n",
       "4      60614   Chicago    IL     Chicago-Naperville-Elgin      Cook County   \n",
       "8      79936   El Paso    TX                      El Paso   El Paso County   \n",
       "\n",
       "   SizeRank   variable   value  LogValue  Month  Year  \n",
       "0         1 2010-09-01  2930.0  7.982758      9  2010  \n",
       "1         2 2010-09-01  1447.0  7.277248      9  2010  \n",
       "2         3 2010-09-01  2797.0  7.936303      9  2010  \n",
       "4         5 2010-09-01  1437.0  7.270313      9  2010  \n",
       "8         9 2010-09-01   982.0  6.889591      9  2010  "
      ]
     },
     "execution_count": 23,
     "metadata": {},
     "output_type": "execute_result"
    }
   ],
   "source": [
    "ZRI_f.head()"
   ]
  },
  {
   "cell_type": "code",
   "execution_count": 24,
   "metadata": {},
   "outputs": [
    {
     "data": {
      "text/plain": [
       "Text(0.5, 1.0, 'Avg Yearly Rent')"
      ]
     },
     "execution_count": 24,
     "metadata": {},
     "output_type": "execute_result"
    },
    {
     "data": {
      "image/png": "[encoded data removed]",
      "text/plain": [
       "<Figure size 360x360 with 1 Axes>"
      ]
     },
     "metadata": {
      "needs_background": "light"
     },
     "output_type": "display_data"
    }
   ],
   "source": [
    "plt.figure(figsize=(5,5))\n",
    "ZRI_f.groupby('Year').agg({'value':'mean'})['value'].plot()\n",
    "plt.title('Avg Yearly Rent')"
   ]
  },
  {
   "cell_type": "code",
   "execution_count": 25,
   "metadata": {},
   "outputs": [
    {
     "data": {
      "text/plain": [
       "Text(0.5, 1.0, 'Avg Yearly Rent')"
      ]
     },
     "execution_count": 25,
     "metadata": {},
     "output_type": "execute_result"
    },
    {
     "data": {
      "text/plain": [
       "<Figure size 360x360 with 0 Axes>"
      ]
     },
     "metadata": {},
     "output_type": "display_data"
    },
    {
     "data": {
      "image/png": "[encoded data removed]",
      "text/plain": [
       "<Figure size 432x288 with 1 Axes>"
      ]
     },
     "metadata": {
      "needs_background": "light"
     },
     "output_type": "display_data"
    }
   ],
   "source": [
    "plt.figure(figsize=(5,5))\n",
    "ZRI_f.groupby('Year').agg({'value':'mean'}).plot()\n",
    "plt.title('Avg Yearly Rent')"
   ]
  },
  {
   "cell_type": "code",
   "execution_count": 26,
   "metadata": {},
   "outputs": [
    {
     "data": {
      "text/plain": [
       "<seaborn.axisgrid.FacetGrid at 0x1a18da5f50>"
      ]
     },
     "execution_count": 26,
     "metadata": {},
     "output_type": "execute_result"
    },
    {
     "data": {
      "image/png": "[encoded data removed]",
      "text/plain": [
       "<Figure size 421.375x360 with 1 Axes>"
      ]
     },
     "metadata": {
      "needs_background": "light"
     },
     "output_type": "display_data"
    }
   ],
   "source": [
    "sns.lmplot(\"Year\", \"value\", ZRI_f, hue=\"Year\")"
   ]
  },
  {
   "cell_type": "code",
   "execution_count": 27,
   "metadata": {},
   "outputs": [
    {
     "data": {
      "text/plain": [
       "Text(0.5, 1.0, 'Avg Monthly Rent')"
      ]
     },
     "execution_count": 27,
     "metadata": {},
     "output_type": "execute_result"
    },
    {
     "data": {
      "image/png": "[encoded data removed]",
      "text/plain": [
       "<Figure size 360x360 with 1 Axes>"
      ]
     },
     "metadata": {
      "needs_background": "light"
     },
     "output_type": "display_data"
    }
   ],
   "source": [
    "plt.figure(figsize=(5,5))\n",
    "ZRI_f.groupby('Month').agg({'value':'mean'})['value'].plot()\n",
    "plt.title('Avg Monthly Rent')"
   ]
  },
  {
   "cell_type": "code",
   "execution_count": 28,
   "metadata": {},
   "outputs": [],
   "source": [
    "#Add season feature \n",
    "\n",
    "def month_to_season(month):\n",
    "    if month in range(3,5):\n",
    "        month = 'spring'\n",
    "    elif month in range(6,8):\n",
    "        month = 'summer'\n",
    "    elif month in range(9,11):\n",
    "        month = 'fall'\n",
    "    else:\n",
    "        month = 'winter'\n",
    "    return(month)\n",
    "\n",
    "ZRI_f['Season'] = ZRI_f.Month.apply(month_to_season)"
   ]
  },
  {
   "cell_type": "code",
   "execution_count": 29,
   "metadata": {},
   "outputs": [
    {
     "data": {
      "text/html": [
       "<div>\n",
       "<style scoped>\n",
       "    .dataframe tbody tr th:only-of-type {\n",
       "        vertical-align: middle;\n",
       "    }\n",
       "\n",
       "    .dataframe tbody tr th {\n",
       "        vertical-align: top;\n",
       "    }\n",
       "\n",
       "    .dataframe thead th {\n",
       "        text-align: right;\n",
       "    }\n",
       "</style>\n",
       "<table border=\"1\" class=\"dataframe\">\n",
       "  <thead>\n",
       "    <tr style=\"text-align: right;\">\n",
       "      <th></th>\n",
       "      <th>RegionName</th>\n",
       "      <th>City</th>\n",
       "      <th>State</th>\n",
       "      <th>Metro</th>\n",
       "      <th>CountyName</th>\n",
       "      <th>SizeRank</th>\n",
       "      <th>variable</th>\n",
       "      <th>value</th>\n",
       "      <th>LogValue</th>\n",
       "      <th>Month</th>\n",
       "      <th>Year</th>\n",
       "      <th>Season</th>\n",
       "    </tr>\n",
       "  </thead>\n",
       "  <tbody>\n",
       "    <tr>\n",
       "      <th>0</th>\n",
       "      <td>10025</td>\n",
       "      <td>New York</td>\n",
       "      <td>NY</td>\n",
       "      <td>New York-Newark-Jersey City</td>\n",
       "      <td>New York County</td>\n",
       "      <td>1</td>\n",
       "      <td>2010-09-01</td>\n",
       "      <td>2930.0</td>\n",
       "      <td>7.982758</td>\n",
       "      <td>9</td>\n",
       "      <td>2010</td>\n",
       "      <td>fall</td>\n",
       "    </tr>\n",
       "    <tr>\n",
       "      <th>1</th>\n",
       "      <td>60657</td>\n",
       "      <td>Chicago</td>\n",
       "      <td>IL</td>\n",
       "      <td>Chicago-Naperville-Elgin</td>\n",
       "      <td>Cook County</td>\n",
       "      <td>2</td>\n",
       "      <td>2010-09-01</td>\n",
       "      <td>1447.0</td>\n",
       "      <td>7.277248</td>\n",
       "      <td>9</td>\n",
       "      <td>2010</td>\n",
       "      <td>fall</td>\n",
       "    </tr>\n",
       "    <tr>\n",
       "      <th>2</th>\n",
       "      <td>10023</td>\n",
       "      <td>New York</td>\n",
       "      <td>NY</td>\n",
       "      <td>New York-Newark-Jersey City</td>\n",
       "      <td>New York County</td>\n",
       "      <td>3</td>\n",
       "      <td>2010-09-01</td>\n",
       "      <td>2797.0</td>\n",
       "      <td>7.936303</td>\n",
       "      <td>9</td>\n",
       "      <td>2010</td>\n",
       "      <td>fall</td>\n",
       "    </tr>\n",
       "    <tr>\n",
       "      <th>4</th>\n",
       "      <td>60614</td>\n",
       "      <td>Chicago</td>\n",
       "      <td>IL</td>\n",
       "      <td>Chicago-Naperville-Elgin</td>\n",
       "      <td>Cook County</td>\n",
       "      <td>5</td>\n",
       "      <td>2010-09-01</td>\n",
       "      <td>1437.0</td>\n",
       "      <td>7.270313</td>\n",
       "      <td>9</td>\n",
       "      <td>2010</td>\n",
       "      <td>fall</td>\n",
       "    </tr>\n",
       "    <tr>\n",
       "      <th>8</th>\n",
       "      <td>79936</td>\n",
       "      <td>El Paso</td>\n",
       "      <td>TX</td>\n",
       "      <td>El Paso</td>\n",
       "      <td>El Paso County</td>\n",
       "      <td>9</td>\n",
       "      <td>2010-09-01</td>\n",
       "      <td>982.0</td>\n",
       "      <td>6.889591</td>\n",
       "      <td>9</td>\n",
       "      <td>2010</td>\n",
       "      <td>fall</td>\n",
       "    </tr>\n",
       "  </tbody>\n",
       "</table>\n",
       "</div>"
      ],
      "text/plain": [
       "  RegionName      City State                        Metro       CountyName  \\\n",
       "0      10025  New York    NY  New York-Newark-Jersey City  New York County   \n",
       "1      60657   Chicago    IL     Chicago-Naperville-Elgin      Cook County   \n",
       "2      10023  New York    NY  New York-Newark-Jersey City  New York County   \n",
       "4      60614   Chicago    IL     Chicago-Naperville-Elgin      Cook County   \n",
       "8      79936   El Paso    TX                      El Paso   El Paso County   \n",
       "\n",
       "   SizeRank   variable   value  LogValue  Month  Year Season  \n",
       "0         1 2010-09-01  2930.0  7.982758      9  2010   fall  \n",
       "1         2 2010-09-01  1447.0  7.277248      9  2010   fall  \n",
       "2         3 2010-09-01  2797.0  7.936303      9  2010   fall  \n",
       "4         5 2010-09-01  1437.0  7.270313      9  2010   fall  \n",
       "8         9 2010-09-01   982.0  6.889591      9  2010   fall  "
      ]
     },
     "execution_count": 29,
     "metadata": {},
     "output_type": "execute_result"
    }
   ],
   "source": [
    "ZRI_f.head()"
   ]
  },
  {
   "cell_type": "code",
   "execution_count": 30,
   "metadata": {},
   "outputs": [
    {
     "data": {
      "image/png": "[encoded data removed]",
      "text/plain": [
       "<Figure size 432x288 with 1 Axes>"
      ]
     },
     "metadata": {
      "needs_background": "light"
     },
     "output_type": "display_data"
    }
   ],
   "source": [
    "season_rent = ZRI_f.groupby(['Season']).agg({\"value\": 'median'})\n",
    "\n",
    "season_rent.plot.bar()\n",
    "plt.title('median rent by season')\n",
    "plt.xlabel('Seasons')\n",
    "plt.ylabel('rent')\n",
    "plt.ylim(1350,1420)\n",
    "plt.show()"
   ]
  },
  {
   "cell_type": "code",
   "execution_count": 31,
   "metadata": {},
   "outputs": [
    {
     "name": "stderr",
     "output_type": "stream",
     "text": [
      "/Users/isa.adls/opt/anaconda3/lib/python3.7/site-packages/IPython/core/interactiveshell.py:3063: DtypeWarning: Columns (6,7,8,9,11) have mixed types.Specify dtype option on import or set low_memory=False.\n",
      "  interactivity=interactivity, compiler=compiler, result=result)\n"
     ]
    }
   ],
   "source": [
    "# calling in other dataframes to get features\n",
    "\n",
    "zri = pd.read_csv('./data/df4.csv', index_col=0)\n",
    "\n",
    "\n"
   ]
  },
  {
   "cell_type": "code",
   "execution_count": 32,
   "metadata": {
    "scrolled": true
   },
   "outputs": [
    {
     "data": {
      "text/html": [
       "<div>\n",
       "<style scoped>\n",
       "    .dataframe tbody tr th:only-of-type {\n",
       "        vertical-align: middle;\n",
       "    }\n",
       "\n",
       "    .dataframe tbody tr th {\n",
       "        vertical-align: top;\n",
       "    }\n",
       "\n",
       "    .dataframe thead th {\n",
       "        text-align: right;\n",
       "    }\n",
       "</style>\n",
       "<table border=\"1\" class=\"dataframe\">\n",
       "  <thead>\n",
       "    <tr style=\"text-align: right;\">\n",
       "      <th></th>\n",
       "      <th>ZIPCODE</th>\n",
       "      <th>value</th>\n",
       "      <th>Month</th>\n",
       "      <th>Year</th>\n",
       "      <th>total_pop</th>\n",
       "      <th>City</th>\n",
       "      <th>State</th>\n",
       "      <th>Metro</th>\n",
       "      <th>CountyName</th>\n",
       "      <th>SizeRank</th>\n",
       "      <th>Year-Month</th>\n",
       "      <th>Season</th>\n",
       "      <th>AGIncome</th>\n",
       "      <th>TotIncome</th>\n",
       "      <th>SalariesWages</th>\n",
       "      <th>NumUnemply</th>\n",
       "      <th>TotTaxes</th>\n",
       "      <th>FIPSCode</th>\n",
       "      <th>Labor\\nForce</th>\n",
       "      <th>Employed</th>\n",
       "      <th>Unemployed</th>\n",
       "      <th>Unemploy-\\nment Rate\\n(%)</th>\n",
       "      <th>MortDeliq30-89</th>\n",
       "      <th>MortDeliq90</th>\n",
       "      <th>geo_id</th>\n",
       "      <th>median_age</th>\n",
       "      <th>white_pop</th>\n",
       "      <th>black_pop</th>\n",
       "      <th>asian_pop</th>\n",
       "      <th>hispanic_pop</th>\n",
       "      <th>gini_index</th>\n",
       "      <th>income_per_capita</th>\n",
       "      <th>vacant_housing_units_for_rent</th>\n",
       "      <th>housing_units_renter_occupied</th>\n",
       "      <th>percent_income_spent_on_rent</th>\n",
       "      <th>high_school_diploma</th>\n",
       "      <th>associates_degree</th>\n",
       "      <th>bachelors_degree</th>\n",
       "      <th>masters_degree</th>\n",
       "      <th>rental_units_supply</th>\n",
       "      <th>year</th>\n",
       "      <th>population_change</th>\n",
       "      <th>income_change</th>\n",
       "      <th>supply_change</th>\n",
       "      <th>natural_amenity_rank</th>\n",
       "    </tr>\n",
       "  </thead>\n",
       "  <tbody>\n",
       "    <tr>\n",
       "      <th>0</th>\n",
       "      <td>60657</td>\n",
       "      <td>1723.0</td>\n",
       "      <td>1</td>\n",
       "      <td>2019.0</td>\n",
       "      <td>70052.0</td>\n",
       "      <td>NaN</td>\n",
       "      <td>NaN</td>\n",
       "      <td>NaN</td>\n",
       "      <td>NaN</td>\n",
       "      <td>NaN</td>\n",
       "      <td>NaN</td>\n",
       "      <td>NaN</td>\n",
       "      <td>NaN</td>\n",
       "      <td>NaN</td>\n",
       "      <td>NaN</td>\n",
       "      <td>NaN</td>\n",
       "      <td>NaN</td>\n",
       "      <td>NaN</td>\n",
       "      <td>NaN</td>\n",
       "      <td>NaN</td>\n",
       "      <td>NaN</td>\n",
       "      <td>NaN</td>\n",
       "      <td>NaN</td>\n",
       "      <td>NaN</td>\n",
       "      <td>NaN</td>\n",
       "      <td>NaN</td>\n",
       "      <td>NaN</td>\n",
       "      <td>NaN</td>\n",
       "      <td>NaN</td>\n",
       "      <td>NaN</td>\n",
       "      <td>NaN</td>\n",
       "      <td>NaN</td>\n",
       "      <td>NaN</td>\n",
       "      <td>NaN</td>\n",
       "      <td>NaN</td>\n",
       "      <td>NaN</td>\n",
       "      <td>NaN</td>\n",
       "      <td>NaN</td>\n",
       "      <td>NaN</td>\n",
       "      <td>NaN</td>\n",
       "      <td>NaN</td>\n",
       "      <td>NaN</td>\n",
       "      <td>NaN</td>\n",
       "      <td>NaN</td>\n",
       "      <td>NaN</td>\n",
       "    </tr>\n",
       "    <tr>\n",
       "      <th>1</th>\n",
       "      <td>77494</td>\n",
       "      <td>1255.0</td>\n",
       "      <td>1</td>\n",
       "      <td>2019.0</td>\n",
       "      <td>114989.0</td>\n",
       "      <td>NaN</td>\n",
       "      <td>NaN</td>\n",
       "      <td>NaN</td>\n",
       "      <td>NaN</td>\n",
       "      <td>NaN</td>\n",
       "      <td>NaN</td>\n",
       "      <td>NaN</td>\n",
       "      <td>NaN</td>\n",
       "      <td>NaN</td>\n",
       "      <td>NaN</td>\n",
       "      <td>NaN</td>\n",
       "      <td>NaN</td>\n",
       "      <td>NaN</td>\n",
       "      <td>NaN</td>\n",
       "      <td>NaN</td>\n",
       "      <td>NaN</td>\n",
       "      <td>NaN</td>\n",
       "      <td>NaN</td>\n",
       "      <td>NaN</td>\n",
       "      <td>NaN</td>\n",
       "      <td>NaN</td>\n",
       "      <td>NaN</td>\n",
       "      <td>NaN</td>\n",
       "      <td>NaN</td>\n",
       "      <td>NaN</td>\n",
       "      <td>NaN</td>\n",
       "      <td>NaN</td>\n",
       "      <td>NaN</td>\n",
       "      <td>NaN</td>\n",
       "      <td>NaN</td>\n",
       "      <td>NaN</td>\n",
       "      <td>NaN</td>\n",
       "      <td>NaN</td>\n",
       "      <td>NaN</td>\n",
       "      <td>NaN</td>\n",
       "      <td>NaN</td>\n",
       "      <td>NaN</td>\n",
       "      <td>NaN</td>\n",
       "      <td>NaN</td>\n",
       "      <td>NaN</td>\n",
       "    </tr>\n",
       "    <tr>\n",
       "      <th>2</th>\n",
       "      <td>60614</td>\n",
       "      <td>1872.0</td>\n",
       "      <td>1</td>\n",
       "      <td>2019.0</td>\n",
       "      <td>71308.0</td>\n",
       "      <td>NaN</td>\n",
       "      <td>NaN</td>\n",
       "      <td>NaN</td>\n",
       "      <td>NaN</td>\n",
       "      <td>NaN</td>\n",
       "      <td>NaN</td>\n",
       "      <td>NaN</td>\n",
       "      <td>NaN</td>\n",
       "      <td>NaN</td>\n",
       "      <td>NaN</td>\n",
       "      <td>NaN</td>\n",
       "      <td>NaN</td>\n",
       "      <td>NaN</td>\n",
       "      <td>NaN</td>\n",
       "      <td>NaN</td>\n",
       "      <td>NaN</td>\n",
       "      <td>NaN</td>\n",
       "      <td>NaN</td>\n",
       "      <td>NaN</td>\n",
       "      <td>NaN</td>\n",
       "      <td>NaN</td>\n",
       "      <td>NaN</td>\n",
       "      <td>NaN</td>\n",
       "      <td>NaN</td>\n",
       "      <td>NaN</td>\n",
       "      <td>NaN</td>\n",
       "      <td>NaN</td>\n",
       "      <td>NaN</td>\n",
       "      <td>NaN</td>\n",
       "      <td>NaN</td>\n",
       "      <td>NaN</td>\n",
       "      <td>NaN</td>\n",
       "      <td>NaN</td>\n",
       "      <td>NaN</td>\n",
       "      <td>NaN</td>\n",
       "      <td>NaN</td>\n",
       "      <td>NaN</td>\n",
       "      <td>NaN</td>\n",
       "      <td>NaN</td>\n",
       "      <td>NaN</td>\n",
       "    </tr>\n",
       "    <tr>\n",
       "      <th>3</th>\n",
       "      <td>77084</td>\n",
       "      <td>1326.0</td>\n",
       "      <td>1</td>\n",
       "      <td>2019.0</td>\n",
       "      <td>107700.0</td>\n",
       "      <td>NaN</td>\n",
       "      <td>NaN</td>\n",
       "      <td>NaN</td>\n",
       "      <td>NaN</td>\n",
       "      <td>NaN</td>\n",
       "      <td>NaN</td>\n",
       "      <td>NaN</td>\n",
       "      <td>NaN</td>\n",
       "      <td>NaN</td>\n",
       "      <td>NaN</td>\n",
       "      <td>NaN</td>\n",
       "      <td>NaN</td>\n",
       "      <td>NaN</td>\n",
       "      <td>NaN</td>\n",
       "      <td>NaN</td>\n",
       "      <td>NaN</td>\n",
       "      <td>NaN</td>\n",
       "      <td>NaN</td>\n",
       "      <td>NaN</td>\n",
       "      <td>NaN</td>\n",
       "      <td>NaN</td>\n",
       "      <td>NaN</td>\n",
       "      <td>NaN</td>\n",
       "      <td>NaN</td>\n",
       "      <td>NaN</td>\n",
       "      <td>NaN</td>\n",
       "      <td>NaN</td>\n",
       "      <td>NaN</td>\n",
       "      <td>NaN</td>\n",
       "      <td>NaN</td>\n",
       "      <td>NaN</td>\n",
       "      <td>NaN</td>\n",
       "      <td>NaN</td>\n",
       "      <td>NaN</td>\n",
       "      <td>NaN</td>\n",
       "      <td>NaN</td>\n",
       "      <td>NaN</td>\n",
       "      <td>NaN</td>\n",
       "      <td>NaN</td>\n",
       "      <td>NaN</td>\n",
       "    </tr>\n",
       "    <tr>\n",
       "      <th>4</th>\n",
       "      <td>79936</td>\n",
       "      <td>898.0</td>\n",
       "      <td>1</td>\n",
       "      <td>2019.0</td>\n",
       "      <td>112355.0</td>\n",
       "      <td>NaN</td>\n",
       "      <td>NaN</td>\n",
       "      <td>NaN</td>\n",
       "      <td>NaN</td>\n",
       "      <td>NaN</td>\n",
       "      <td>NaN</td>\n",
       "      <td>NaN</td>\n",
       "      <td>NaN</td>\n",
       "      <td>NaN</td>\n",
       "      <td>NaN</td>\n",
       "      <td>NaN</td>\n",
       "      <td>NaN</td>\n",
       "      <td>NaN</td>\n",
       "      <td>NaN</td>\n",
       "      <td>NaN</td>\n",
       "      <td>NaN</td>\n",
       "      <td>NaN</td>\n",
       "      <td>NaN</td>\n",
       "      <td>NaN</td>\n",
       "      <td>NaN</td>\n",
       "      <td>NaN</td>\n",
       "      <td>NaN</td>\n",
       "      <td>NaN</td>\n",
       "      <td>NaN</td>\n",
       "      <td>NaN</td>\n",
       "      <td>NaN</td>\n",
       "      <td>NaN</td>\n",
       "      <td>NaN</td>\n",
       "      <td>NaN</td>\n",
       "      <td>NaN</td>\n",
       "      <td>NaN</td>\n",
       "      <td>NaN</td>\n",
       "      <td>NaN</td>\n",
       "      <td>NaN</td>\n",
       "      <td>NaN</td>\n",
       "      <td>NaN</td>\n",
       "      <td>NaN</td>\n",
       "      <td>NaN</td>\n",
       "      <td>NaN</td>\n",
       "      <td>NaN</td>\n",
       "    </tr>\n",
       "  </tbody>\n",
       "</table>\n",
       "</div>"
      ],
      "text/plain": [
       "   ZIPCODE   value  Month    Year  total_pop City State Metro CountyName  \\\n",
       "0    60657  1723.0      1  2019.0    70052.0  NaN   NaN   NaN        NaN   \n",
       "1    77494  1255.0      1  2019.0   114989.0  NaN   NaN   NaN        NaN   \n",
       "2    60614  1872.0      1  2019.0    71308.0  NaN   NaN   NaN        NaN   \n",
       "3    77084  1326.0      1  2019.0   107700.0  NaN   NaN   NaN        NaN   \n",
       "4    79936   898.0      1  2019.0   112355.0  NaN   NaN   NaN        NaN   \n",
       "\n",
       "   SizeRank Year-Month  Season  AGIncome  TotIncome  SalariesWages  \\\n",
       "0       NaN        NaN     NaN       NaN        NaN            NaN   \n",
       "1       NaN        NaN     NaN       NaN        NaN            NaN   \n",
       "2       NaN        NaN     NaN       NaN        NaN            NaN   \n",
       "3       NaN        NaN     NaN       NaN        NaN            NaN   \n",
       "4       NaN        NaN     NaN       NaN        NaN            NaN   \n",
       "\n",
       "   NumUnemply  TotTaxes  FIPSCode  Labor\\nForce  Employed  Unemployed  \\\n",
       "0         NaN       NaN       NaN           NaN       NaN         NaN   \n",
       "1         NaN       NaN       NaN           NaN       NaN         NaN   \n",
       "2         NaN       NaN       NaN           NaN       NaN         NaN   \n",
       "3         NaN       NaN       NaN           NaN       NaN         NaN   \n",
       "4         NaN       NaN       NaN           NaN       NaN         NaN   \n",
       "\n",
       "   Unemploy-\\nment Rate\\n(%)  MortDeliq30-89  MortDeliq90  geo_id  median_age  \\\n",
       "0                        NaN             NaN          NaN     NaN         NaN   \n",
       "1                        NaN             NaN          NaN     NaN         NaN   \n",
       "2                        NaN             NaN          NaN     NaN         NaN   \n",
       "3                        NaN             NaN          NaN     NaN         NaN   \n",
       "4                        NaN             NaN          NaN     NaN         NaN   \n",
       "\n",
       "   white_pop  black_pop  asian_pop  hispanic_pop  gini_index  \\\n",
       "0        NaN        NaN        NaN           NaN         NaN   \n",
       "1        NaN        NaN        NaN           NaN         NaN   \n",
       "2        NaN        NaN        NaN           NaN         NaN   \n",
       "3        NaN        NaN        NaN           NaN         NaN   \n",
       "4        NaN        NaN        NaN           NaN         NaN   \n",
       "\n",
       "   income_per_capita  vacant_housing_units_for_rent  \\\n",
       "0                NaN                            NaN   \n",
       "1                NaN                            NaN   \n",
       "2                NaN                            NaN   \n",
       "3                NaN                            NaN   \n",
       "4                NaN                            NaN   \n",
       "\n",
       "   housing_units_renter_occupied  percent_income_spent_on_rent  \\\n",
       "0                            NaN                           NaN   \n",
       "1                            NaN                           NaN   \n",
       "2                            NaN                           NaN   \n",
       "3                            NaN                           NaN   \n",
       "4                            NaN                           NaN   \n",
       "\n",
       "   high_school_diploma  associates_degree  bachelors_degree  masters_degree  \\\n",
       "0                  NaN                NaN               NaN             NaN   \n",
       "1                  NaN                NaN               NaN             NaN   \n",
       "2                  NaN                NaN               NaN             NaN   \n",
       "3                  NaN                NaN               NaN             NaN   \n",
       "4                  NaN                NaN               NaN             NaN   \n",
       "\n",
       "   rental_units_supply  year  population_change  income_change  supply_change  \\\n",
       "0                  NaN   NaN                NaN            NaN            NaN   \n",
       "1                  NaN   NaN                NaN            NaN            NaN   \n",
       "2                  NaN   NaN                NaN            NaN            NaN   \n",
       "3                  NaN   NaN                NaN            NaN            NaN   \n",
       "4                  NaN   NaN                NaN            NaN            NaN   \n",
       "\n",
       "   natural_amenity_rank  \n",
       "0                   NaN  \n",
       "1                   NaN  \n",
       "2                   NaN  \n",
       "3                   NaN  \n",
       "4                   NaN  "
      ]
     },
     "execution_count": 32,
     "metadata": {},
     "output_type": "execute_result"
    }
   ],
   "source": [
    "zri.head()"
   ]
  },
  {
   "cell_type": "code",
   "execution_count": 33,
   "metadata": {},
   "outputs": [],
   "source": [
    "zri['MortDeliq30-89'] = zri['MortDeliq30-89'].fillna(zri['MortDeliq30-89'].mean())\n",
    "zri['MortDeliq90'] = zri['MortDeliq90'].fillna(zri['MortDeliq90'].mean())\n",
    "zri['education'] = zri['high_school_diploma'] + zri['associates_degree'] * 2 + zri['bachelors_degree'] * 3 +zri['masters_degree']* 4"
   ]
  },
  {
   "cell_type": "code",
   "execution_count": 34,
   "metadata": {},
   "outputs": [],
   "source": [
    "zri['AGIncome'] = (zri['AGIncome']*1000)/zri['total_pop']\n",
    "zri['TotIncome'] = (zri['TotIncome']*1000)/zri['total_pop']\n",
    "zri['SalariesWages'] = (zri['SalariesWages']*1000)/zri['total_pop']\n",
    "zri['NumUnemply'] =(zri['NumUnemply']*1000)/zri['total_pop']\n",
    "zri['TotTaxes'] = (zri['TotTaxes']*1000)/zri['total_pop']"
   ]
  },
  {
   "cell_type": "code",
   "execution_count": 33,
   "metadata": {},
   "outputs": [],
   "source": [
    "zri.income_change = zri.income_change.fillna(0)"
   ]
  },
  {
   "cell_type": "code",
   "execution_count": 35,
   "metadata": {},
   "outputs": [
    {
     "name": "stderr",
     "output_type": "stream",
     "text": [
      "/Users/isa.adls/opt/anaconda3/lib/python3.7/site-packages/pandas/core/series.py:679: RuntimeWarning: divide by zero encountered in log\n",
      "  result = getattr(ufunc, method)(*inputs, **kwargs)\n"
     ]
    }
   ],
   "source": [
    "# #Log Transformation:\n",
    "zri['LogValue'] = np.log(zri.value)\n",
    "zri['LogTotTaxes'] = np.log(zri.TotTaxes)\n",
    "zri['Logincome_per_capita'] = np.log(zri.income_per_capita)"
   ]
  },
  {
   "cell_type": "code",
   "execution_count": 42,
   "metadata": {},
   "outputs": [
    {
     "data": {
      "text/plain": [
       "Index(['ZIPCODE', 'value', 'total_pop', 'Season', 'AGIncome', 'TotIncome',\n",
       "       'SalariesWages', 'NumUnemply', 'TotTaxes', 'Unemploy-\\nment Rate\\n(%)',\n",
       "       'MortDeliq30-89', 'MortDeliq90', 'median_age', 'white_pop', 'black_pop',\n",
       "       'asian_pop', 'hispanic_pop', 'gini_index', 'income_per_capita',\n",
       "       'vacant_housing_units_for_rent', 'housing_units_renter_occupied',\n",
       "       'percent_income_spent_on_rent', 'high_school_diploma',\n",
       "       'associates_degree', 'bachelors_degree', 'masters_degree',\n",
       "       'rental_units_supply', 'population_change', 'income_change',\n",
       "       'supply_change', 'natural_amenity_rank', 'education', 'LogValue_2015',\n",
       "       'LogTotTaxes', 'Logincome_per_capita', 'LogValue'],\n",
       "      dtype='object')"
      ]
     },
     "execution_count": 42,
     "metadata": {},
     "output_type": "execute_result"
    }
   ],
   "source": [
    "train.columns"
   ]
  },
  {
   "cell_type": "code",
   "execution_count": 36,
   "metadata": {},
   "outputs": [],
   "source": [
    "train = pd.merge(zri.loc[zri['Year']==2015].rename(columns = {'LogValue' : 'LogValue_2015'}),\n",
    "                 zri.loc[zri['Year']==2018][['ZIPCODE', 'Month','LogValue']],\n",
    "                 how = 'left', on = ['ZIPCODE', 'Month'])\n",
    "test = pd.merge(zri.loc[zri['Year']==2016].rename(columns = {'LogValue' : 'LogValue_2016'}),\n",
    "                zri.loc[zri['Year']==2019][['ZIPCODE', 'Month','LogValue']],\n",
    "                how = 'left', on = ['ZIPCODE', 'Month'])"
   ]
  },
  {
   "cell_type": "code",
   "execution_count": 37,
   "metadata": {},
   "outputs": [],
   "source": [
    "#drop columns to test\n",
    "\n",
    "dropped = ['SizeRank', 'City', 'State', 'Metro', 'CountyName',\\\n",
    "        'Month','Year','Labor\\nForce','Employed', 'Unemployed',\\\n",
    "        'Year-Month', 'FIPSCode', 'geo_id',\\\n",
    "        'year'] #'ZIPCODE'\n",
    "\n",
    "train.drop(columns = dropped, inplace=True)\n",
    "test.drop(columns = dropped, inplace=True)"
   ]
  },
  {
   "cell_type": "code",
   "execution_count": 38,
   "metadata": {},
   "outputs": [],
   "source": [
    "train = train.dropna(subset=['LogValue'])\n",
    "test = test.dropna(subset=['LogValue'])"
   ]
  },
  {
   "cell_type": "code",
   "execution_count": 39,
   "metadata": {},
   "outputs": [],
   "source": [
    "X_train = train.drop(columns = ['LogValue'])\n",
    "y_train = train['LogValue']\n",
    "X_test = test.drop(columns = ['LogValue'])\n",
    "y_test = test['LogValue']"
   ]
  },
  {
   "cell_type": "code",
   "execution_count": 40,
   "metadata": {},
   "outputs": [],
   "source": [
    "# from sklearn.linear_model import LinearRegression\n",
    "# continuous_features = ['LogValue_2015', 'Season', 'LogTotTaxes',\n",
    "#        'MortDeliq90', 'gini_index',\n",
    "#        'black_pop', 'asian_pop', 'white_pop',\n",
    "#        'vacant_housing_units_for_rent', \n",
    "#        'natural_amenity_rank']\n",
    "# scores = {}\n",
    "# ols4 = LinearRegression()\n",
    "# from sklearn.metrics import r2_score\n",
    "# for feature_name in continuous_features:\n",
    "#                 df2     = train.copy()\n",
    "#                 feature = df2[feature_name].copy()\n",
    "#                 df2.drop(feature_name, axis=1, inplace=True)\n",
    "#                 ols4.fit(df2, feature)\n",
    "#                 scores[feature_name] = ols4.score(df2, feature)  "
   ]
  },
  {
   "cell_type": "code",
   "execution_count": 1,
   "metadata": {},
   "outputs": [],
   "source": [
    "# sns.barplot(x='R2', y='index', data=pd.DataFrame(scores, index=['R2'])\\\n",
    "#             .T.reset_index())\n",
    "# plt.title('$R^2$ of a continuous feature against the other features')"
   ]
  },
  {
   "cell_type": "code",
   "execution_count": 44,
   "metadata": {},
   "outputs": [
    {
     "data": {
      "text/plain": [
       "Text(0.5, 1.0, 'Feature Importance to ZRI')"
      ]
     },
     "execution_count": 44,
     "metadata": {},
     "output_type": "execute_result"
    },
    {
     "data": {
      "image/png": "[encoded data removed]",
      "text/plain": [
       "<Figure size 432x288 with 1 Axes>"
      ]
     },
     "metadata": {
      "needs_background": "light"
     },
     "output_type": "display_data"
    }
   ],
   "source": [
    "features = ['LogValue_2015', 'Season', 'LogTotTaxes',\n",
    "       'MortDeliq90', 'gini_index',\n",
    "       'black_pop', 'asian_pop', 'white_pop',\n",
    "       'vacant_housing_units_for_rent', \n",
    "       'natural_amenity_rank', 'rental_units_supply']\n",
    "corr = train[['value'] + features].corr()\n",
    "\n",
    "corr = corr.sort_values('value', ascending=False)\n",
    "sns.barplot( corr.value[1:], corr.index[1:], orient='h')\n",
    "plt.xlabel(\"Correlation to ZRI\")\n",
    "plt.ylabel(\"Features\")\n",
    "plt.title(\"Feature Importance to ZRI\")"
   ]
  },
  {
   "cell_type": "code",
   "execution_count": null,
   "metadata": {},
   "outputs": [],
   "source": [
    "features = ['LogValue_2015', 'Season', 'NumUnemply', 'LogTotTaxes',\n",
    "       'Unemploy-\\nment Rate\\n(%)', 'MortDeliq30-89', 'MortDeliq90',\n",
    "       'total_pop', 'median_age', 'white_pop', 'black_pop', 'asian_pop',\n",
    "       'hispanic_pop', 'gini_index', 'Logincome_per_capita',\n",
    "       'vacant_housing_units_for_rent', 'percent_income_spent_on_rent',\n",
    "       'population_change', 'income_change', 'natural_amenity_rank',\n",
    "       'education']\n",
    "corr = train[['value'] + features].corr()\n",
    "\n",
    "corr = corr.sort_values('value', ascending=False)\n",
    "sns.barplot( corr.value[1:], corr.index[1:], orient='h')\n",
    "plt.xlabel(\"Correlation to ZRI\")\n",
    "plt.ylabel(\"Features\")\n",
    "plt.title(\"Feature Importance to ZRI\")"
   ]
  },
  {
   "cell_type": "code",
   "execution_count": null,
   "metadata": {},
   "outputs": [],
   "source": [
    "#create a single data frame with both features and target by concatonating\n",
    "train_df=pd.concat([X_train, y_train], axis=1)\n",
    "train_df.head()"
   ]
  },
  {
   "cell_type": "code",
   "execution_count": null,
   "metadata": {},
   "outputs": [],
   "source": [
    "p = sns.pairplot(zri, x_vars=['total_pop', 'median_age', 'white_pop', 'black_pop',\n",
    "       'asian_pop', 'hispanic_pop', 'gini_index', 'income_per_capita',\n",
    "       'vacant_housing_units_for_rent', 'percent_income_spent_on_rent',\n",
    "       'high_school_diploma', 'associates_degree', 'bachelors_degree',\n",
    "       'masters_degree', 'population_change', 'natural_amenity_rank',\n",
    "                             'education'], y_vars='value', height=7, aspect=0.7)"
   ]
  },
  {
   "cell_type": "code",
   "execution_count": null,
   "metadata": {},
   "outputs": [],
   "source": [
    "p = sns.pairplot(zri, x_vars=['TotTaxes',\n",
    "                             'LogTotTaxes'], y_vars='LogValue', height=7, aspect=0.7)"
   ]
  },
  {
   "cell_type": "code",
   "execution_count": null,
   "metadata": {},
   "outputs": [],
   "source": [
    "# simple plot of residuals\n",
    "import seaborn as sns\n",
    "\n",
    "sns.residplot('LogValue', 'Logincome_per_capita', data=train_df)"
   ]
  },
  {
   "cell_type": "code",
   "execution_count": null,
   "metadata": {},
   "outputs": [],
   "source": [
    "# simple plot of residuals\n",
    "import seaborn as sns\n",
    "\n",
    "sns.residplot('value', 'income_per_capita', data=train_df)"
   ]
  },
  {
   "cell_type": "code",
   "execution_count": null,
   "metadata": {},
   "outputs": [],
   "source": [
    "# simple plot of residuals\n",
    "import seaborn as sns\n",
    "\n",
    "sns.residplot('value', 'education', data=train_df)"
   ]
  },
  {
   "cell_type": "code",
   "execution_count": null,
   "metadata": {},
   "outputs": [],
   "source": [
    "# res_x = [target/1000 for target in expo(y)]\n",
    "# res_y = [(target - predict)/1000 for (target, predict) in zip(expo(y), expo(lm.predict(x)))]\n",
    "# plt.figure(figsize=(8,8))\n",
    "# plt.scatter(res_x, res_y, alpha = 0.5)\n",
    "# plt.title('Distribution of Residuals')\n",
    "# plt.xlabel('Actual House Price in $K')\n",
    "# plt.ylabel('Residual House Price in $K')"
   ]
  },
  {
   "cell_type": "code",
   "execution_count": null,
   "metadata": {},
   "outputs": [],
   "source": [
    "train_df.columns"
   ]
  },
  {
   "cell_type": "code",
   "execution_count": null,
   "metadata": {},
   "outputs": [],
   "source": [
    "sns.distplot((train_df['natural_amenity_rank']), kde = True, color = 'r', hist_kws={'alpha': 0.9})"
   ]
  },
  {
   "cell_type": "code",
   "execution_count": null,
   "metadata": {},
   "outputs": [],
   "source": [
    "p = sns.pairplot(train_df, x_vars=['LogValue_2015', 'LogTotTaxes', 'MortDeliq90', 'black_pop',\n",
    "    'asian_pop', 'vacant_housing_units_for_rent', 'natural_amenity_rank'], y_vars='LogValue', height=7, aspect=0.7)\n",
    "\n"
   ]
  },
  {
   "cell_type": "code",
   "execution_count": null,
   "metadata": {},
   "outputs": [],
   "source": [
    "sns.distplot((train_df['vacant_housing_units_for_rent']), kde = True, color = 'r', hist_kws={'alpha': 0.9})"
   ]
  },
  {
   "cell_type": "code",
   "execution_count": null,
   "metadata": {},
   "outputs": [],
   "source": [
    "sns.distplot((train_df['Season']), kde = True, color = 'r', hist_kws={'alpha': 0.9})"
   ]
  },
  {
   "cell_type": "code",
   "execution_count": null,
   "metadata": {},
   "outputs": [],
   "source": [
    "sns.distplot((train_df['asian_pop']), kde = True, color = 'r', hist_kws={'alpha': 0.9})"
   ]
  },
  {
   "cell_type": "code",
   "execution_count": null,
   "metadata": {},
   "outputs": [],
   "source": [
    "sns.distplot((train_df['black_pop']), kde = True, color = 'r', hist_kws={'alpha': 0.9})"
   ]
  },
  {
   "cell_type": "code",
   "execution_count": null,
   "metadata": {},
   "outputs": [],
   "source": [
    "sns.distplot((train_df['income_per_capita']), kde = True, color = 'r', hist_kws={'alpha': 0.9})\n"
   ]
  },
  {
   "cell_type": "code",
   "execution_count": null,
   "metadata": {},
   "outputs": [],
   "source": [
    "sns.distplot((train_df['Logincome_per_capita']), kde = True, color = 'r', hist_kws={'alpha': 0.9})\n"
   ]
  },
  {
   "cell_type": "code",
   "execution_count": null,
   "metadata": {},
   "outputs": [],
   "source": [
    "sns.distplot((train_df['TotTaxes']), kde = True, color = 'r', hist_kws={'alpha': 0.9})\n"
   ]
  },
  {
   "cell_type": "code",
   "execution_count": null,
   "metadata": {},
   "outputs": [],
   "source": [
    "sns.distplot((train_df['LogTotTaxes']), kde = True, color = 'r', hist_kws={'alpha': 0.9})\n"
   ]
  },
  {
   "cell_type": "code",
   "execution_count": null,
   "metadata": {},
   "outputs": [],
   "source": [
    "# Create correlation matrix and print it\n",
    "cor = zri.corr()\n",
    "# print(cor)\n",
    "\n",
    "# Correlation matrix heatmap\n",
    "plt.figure()\n",
    "sns.heatmap(cor, annot=True, cmap=plt.cm.Reds)\n",
    "plt.show()\n",
    "\n",
    "# Correlation with output variable\n",
    "cor_target = abs(cor[\"LogValue\"])\n",
    "\n",
    "# Selecting highly correlated features\n",
    "best_features = cor_target[cor_target > .5]\n",
    "print(best_features)"
   ]
  },
  {
   "cell_type": "code",
   "execution_count": null,
   "metadata": {},
   "outputs": [],
   "source": [
    "Testing1 = zri.copy()"
   ]
  },
  {
   "cell_type": "code",
   "execution_count": null,
   "metadata": {},
   "outputs": [],
   "source": [
    "Testing1.columns"
   ]
  },
  {
   "cell_type": "code",
   "execution_count": null,
   "metadata": {},
   "outputs": [],
   "source": [
    "Testing1 = Testing1.drop(columns =['ZIPCODE', 'City', 'State', 'Metro', 'CountyName', 'SizeRank'])"
   ]
  },
  {
   "cell_type": "code",
   "execution_count": null,
   "metadata": {},
   "outputs": [],
   "source": [
    "Testing1 = Testing1.drop(columns =['Year-Month'])"
   ]
  },
  {
   "cell_type": "code",
   "execution_count": null,
   "metadata": {},
   "outputs": [],
   "source": [
    "Testing1 = Testing1.drop(columns =['FIPSCode'])"
   ]
  },
  {
   "cell_type": "code",
   "execution_count": null,
   "metadata": {},
   "outputs": [],
   "source": [
    "Testing1.columns"
   ]
  },
  {
   "cell_type": "code",
   "execution_count": null,
   "metadata": {},
   "outputs": [],
   "source": [
    "Testing1 = Testing1.apply(pd.to_numeric)"
   ]
  },
  {
   "cell_type": "code",
   "execution_count": null,
   "metadata": {},
   "outputs": [],
   "source": [
    "Testing1.head()"
   ]
  },
  {
   "cell_type": "code",
   "execution_count": null,
   "metadata": {},
   "outputs": [],
   "source": [
    "Testing1 = Testing1.dropna(subset=['value'])"
   ]
  },
  {
   "cell_type": "code",
   "execution_count": null,
   "metadata": {},
   "outputs": [],
   "source": [
    "Testing1 = Testing1[Testing1.Year > 2010]"
   ]
  },
  {
   "cell_type": "code",
   "execution_count": null,
   "metadata": {},
   "outputs": [],
   "source": [
    "Testing1 = Testing1[Testing1.Year < 2019]"
   ]
  },
  {
   "cell_type": "code",
   "execution_count": null,
   "metadata": {},
   "outputs": [],
   "source": [
    "X = Testing1.drop(columns =[\"value\"]) \n",
    "y = Testing1.value\n"
   ]
  },
  {
   "cell_type": "code",
   "execution_count": null,
   "metadata": {},
   "outputs": [],
   "source": [
    "X = X.replace(np.nan, 0)\n"
   ]
  },
  {
   "cell_type": "code",
   "execution_count": null,
   "metadata": {},
   "outputs": [],
   "source": [
    "# # Import modules\n",
    "# from sklearn.svm import SVR\n",
    "# from sklearn.feature_selection import RFECV\n",
    "\n",
    "# # Instantiate estimator and feature selector\n",
    "# svr_mod = SVR(kernel=\"linear\")\n",
    "# feat_selector = RFECV(svr_mod, cv=2)\n",
    "\n",
    "# # Fit\n",
    "# feat_selector = feat_selector.fit(X, y)\n",
    "\n",
    "# # Print support and ranking\n",
    "# print(feat_selector.support_)\n",
    "# print(feat_selector.ranking_)\n",
    "# print(X.columns)"
   ]
  },
  {
   "cell_type": "code",
   "execution_count": null,
   "metadata": {},
   "outputs": [],
   "source": [
    "# Import modules\n",
    "from sklearn.linear_model import LarsCV\n",
    "\n",
    "# Drop feature suggested not important in step 2\n",
    "X = X.drop('...', axis=1)\n",
    "\n",
    "# Instantiate\n",
    "lars_mod = LarsCV(cv=5, normalize=False)\n",
    "\n",
    "# Fit\n",
    "feat_selector = lars_mod.fit(X, y)\n",
    "\n",
    "# Print r-squared score and estimated alpha\n",
    "print(lars_mod.score(X, y))\n",
    "print(lars_mod.alpha_)"
   ]
  },
  {
   "cell_type": "code",
   "execution_count": null,
   "metadata": {},
   "outputs": [],
   "source": [
    "# look into features correlations \n"
   ]
  },
  {
   "cell_type": "code",
   "execution_count": null,
   "metadata": {},
   "outputs": [],
   "source": [
    "corr = pd.concat([X_train, y_train], axis=1).corr()\n",
    "corr"
   ]
  },
  {
   "cell_type": "code",
   "execution_count": null,
   "metadata": {},
   "outputs": [],
   "source": [
    "#removing outliers\n",
    "y_train18_2 = y_train18[y_train18.value < 6000]"
   ]
  },
  {
   "cell_type": "code",
   "execution_count": null,
   "metadata": {},
   "outputs": [],
   "source": [
    "pd.concat([X_train['SalariesWages'], y_train18_2['value']], axis=1).plot(kind='scatter', x='SalariesWages', y='value')\n"
   ]
  },
  {
   "cell_type": "code",
   "execution_count": null,
   "metadata": {},
   "outputs": [],
   "source": [
    "pd.concat([np.log10(X_train['SalariesWages']), np.log10(y_train18_2['value'])], axis=1).plot(kind='scatter', x='SalariesWages', y='value')\n"
   ]
  },
  {
   "cell_type": "code",
   "execution_count": null,
   "metadata": {},
   "outputs": [],
   "source": [
    "pd.concat([np.log10(X_train['TotTaxes']), np.log10(y_train18_2['value'])], axis=1).plot(kind='scatter', x='TotTaxes', y='value')\n"
   ]
  },
  {
   "cell_type": "code",
   "execution_count": null,
   "metadata": {},
   "outputs": [],
   "source": [
    "#MortDeliq30-89\n",
    "pd.concat([np.log10(X_train['MortDeliq30-89']), np.log10(y_train18_2['value'])], axis=1).plot(kind='scatter', x='MortDeliq30-89', y='value')\n"
   ]
  },
  {
   "cell_type": "code",
   "execution_count": null,
   "metadata": {},
   "outputs": [],
   "source": [
    "print('Income_per_capita Mean: ', np.mean(zri.income_per_capita))\n",
    "print('Income_per_capita Median: ', (zri.income_per_capita).median())\n",
    "\n",
    "upper_lim = np.mean(zri.income_per_capita) + 3 * np.std(zri.income_per_capita)\n",
    "lower_lim = np.mean(zri.income_per_capita) - 3 * np.std(zri.income_per_capita)\n",
    "print('Outliers are above %.2f and below %.2f' % (upper_lim, lower_lim))"
   ]
  },
  {
   "cell_type": "code",
   "execution_count": null,
   "metadata": {},
   "outputs": [],
   "source": [
    "print('TotTaxes Mean: ', np.mean(zri.TotTaxes))\n",
    "print('TotTaxes Median: ', (zri.TotTaxes).median())\n",
    "\n",
    "upper_lim = np.mean(zri.TotTaxes) + 3 * np.std(zri.TotTaxes)\n",
    "lower_lim = np.mean(zri.TotTaxes) - 3 * np.std(zri.TotTaxes)\n",
    "print('Outliers are above %.2f and below %.2f' % (upper_lim, lower_lim))"
   ]
  },
  {
   "cell_type": "code",
   "execution_count": null,
   "metadata": {},
   "outputs": [],
   "source": [
    "zri.plot(kind=\"scatter\",     # Create a scatterplot\n",
    "              x=\"Logincome_per_capita\",          # Put carat on the x axis\n",
    "              y=\"LogValue\",          # Put price on the y axis\n",
    "              figsize=(5,5),\n",
    "              ylim=(6,10))"
   ]
  },
  {
   "cell_type": "code",
   "execution_count": null,
   "metadata": {},
   "outputs": [],
   "source": [
    "zri.plot(kind=\"scatter\",     # Create a scatterplot\n",
    "              x=\"LogTotTaxes\",          # Put carat on the x axis\n",
    "              y=\"LogValue\",          # Put price on the y axis\n",
    "              figsize=(5,5),\n",
    "              ylim=(6,10))"
   ]
  },
  {
   "cell_type": "code",
   "execution_count": null,
   "metadata": {},
   "outputs": [],
   "source": []
  }
 ],
 "metadata": {
  "kernelspec": {
   "display_name": "Python 3",
   "language": "python",
   "name": "python3"
  },
  "language_info": {
   "codemirror_mode": {
    "name": "ipython",
    "version": 3
   },
   "file_extension": ".py",
   "mimetype": "text/x-python",
   "name": "python",
   "nbconvert_exporter": "python",
   "pygments_lexer": "ipython3",
   "version": "3.7.6"
  }
 },
 "nbformat": 4,
 "nbformat_minor": 4
}
