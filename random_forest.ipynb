{
 "cells": [
  {
   "cell_type": "code",
   "execution_count": 1,
   "metadata": {},
   "outputs": [],
   "source": [
    "#importing packages\n",
    "import pandas as pd\n",
    "import numpy as np\n",
    "import seaborn as sns\n",
    "from matplotlib import pyplot as plt\n",
    "plt.style.use('ggplot')\n",
    "from scipy.stats import norm\n",
    "from scipy import stats\n",
    "%matplotlib inline"
   ]
  },
  {
   "cell_type": "markdown",
   "metadata": {},
   "source": [
    "# Random Forest Model"
   ]
  },
  {
   "cell_type": "code",
   "execution_count": 58,
   "metadata": {},
   "outputs": [],
   "source": [
    "zri = pd.read_csv('df.csv', index_col=0)\n"
   ]
  },
  {
   "cell_type": "code",
   "execution_count": 59,
   "metadata": {},
   "outputs": [
    {
     "data": {
      "text/plain": [
       "Index(['ZIPCODE', 'City', 'State', 'Metro', 'CountyName', 'SizeRank',\n",
       "       'Year-Month', 'value', 'Month', 'Year', 'Season', 'AGIncome',\n",
       "       'TotIncome', 'SalariesWages', 'NumUnemply', 'TotTaxes', 'FIPSCode',\n",
       "       'Labor\\nForce', 'Employed', 'Unemployed', 'Unemploy-\\nment Rate\\n(%)',\n",
       "       'MortDeliq30-89', 'MortDeliq90', 'geo_id', 'total_pop', 'median_age',\n",
       "       'white_pop', 'black_pop', 'asian_pop', 'hispanic_pop', 'gini_index',\n",
       "       'income_per_capita', 'vacant_housing_units_for_rent',\n",
       "       'percent_income_spent_on_rent', 'high_school_diploma',\n",
       "       'associates_degree', 'bachelors_degree', 'masters_degree', 'year',\n",
       "       'population_change', 'natural_amenity_rank'],\n",
       "      dtype='object')"
      ]
     },
     "execution_count": 59,
     "metadata": {},
     "output_type": "execute_result"
    }
   ],
   "source": [
    "zri.columns"
   ]
  },
  {
   "cell_type": "code",
   "execution_count": 60,
   "metadata": {},
   "outputs": [],
   "source": [
    "zri['MortDeliq30-89'] = zri['MortDeliq30-89'].fillna(zri['MortDeliq30-89'].mean())\n",
    "zri['MortDeliq90'] = zri['MortDeliq90'].fillna(zri['MortDeliq90'].mean())"
   ]
  },
  {
   "cell_type": "code",
   "execution_count": 76,
   "metadata": {},
   "outputs": [],
   "source": [
    "train = pd.merge(zri.loc[zri['Year']==2017].drop(columns = ['value']),\n",
    "                 zri.loc[zri['Year']==2018][['ZIPCODE', 'Month','value']],\n",
    "                 how = 'left', on = ['ZIPCODE', 'Month'])\n",
    "test = pd.merge(zri.loc[zri['Year']==2018].drop(columns = ['value']),\n",
    "                zri.loc[zri['Year']==2019][['ZIPCODE', 'Month','value']],\n",
    "                how = 'left', on = ['ZIPCODE', 'Month'])"
   ]
  },
  {
   "cell_type": "code",
   "execution_count": 77,
   "metadata": {},
   "outputs": [],
   "source": [
    "train = train.dropna(subset=['value'])\n",
    "train = train.replace(np.nan, 0)"
   ]
  },
  {
   "cell_type": "code",
   "execution_count": 78,
   "metadata": {},
   "outputs": [],
   "source": [
    "test = test.dropna(subset=['value'])\n",
    "test = test.replace(np.nan, 0)"
   ]
  },
  {
   "cell_type": "code",
   "execution_count": 79,
   "metadata": {},
   "outputs": [],
   "source": [
    "X_train = train.drop(columns = [ 'City', 'State', 'Metro', 'CountyName', 'SizeRank',\n",
    "       'Year-Month', 'value', 'Month', 'Year', 'year', 'FIPSCode', 'geo_id'])\n",
    "X_test = test.drop(columns = [ 'City', 'State', 'Metro', 'CountyName', 'SizeRank',\n",
    "       'Year-Month', 'value', 'Month', 'Year','year', 'FIPSCode', 'geo_id'])\n",
    "y_train = train['value']\n",
    "y_test = test['value']"
   ]
  },
  {
   "cell_type": "code",
   "execution_count": 80,
   "metadata": {},
   "outputs": [],
   "source": [
    "X_train['AGIncome'] = (X_train['AGIncome']*1000)/X_train['total_pop']\n",
    "X_train['TotIncome'] = (X_train['TotIncome']*1000)/X_train['total_pop']\n",
    "X_train['SalariesWages'] = (X_train['SalariesWages']*1000)/X_train['total_pop']\n",
    "X_train['NumUnemply'] =(X_train['NumUnemply']*1000)/X_train['total_pop']\n",
    "X_train['TotTaxes'] = (X_train['TotTaxes']*1000)/X_train['total_pop']\n",
    "X_train = X_train.replace(np.nan, 0) "
   ]
  },
  {
   "cell_type": "code",
   "execution_count": 81,
   "metadata": {},
   "outputs": [],
   "source": [
    "X_test['AGIncome'] = (X_test['AGIncome']*1000)/X_test['total_pop']\n",
    "X_test['TotIncome'] = (X_test['TotIncome']*1000)/X_test['total_pop']\n",
    "X_test['SalariesWages'] = (X_test['SalariesWages']*1000)/X_test['total_pop']\n",
    "X_test['NumUnemply'] = (X_test['NumUnemply']*1000)/X_test['total_pop']\n",
    "X_test['TotTaxes'] = (X_test['TotTaxes']*1000)/X_test['total_pop']\n",
    "X_test = X_test.replace(np.nan, 0)"
   ]
  },
  {
   "cell_type": "code",
   "execution_count": 82,
   "metadata": {},
   "outputs": [
    {
     "data": {
      "text/plain": [
       "Index(['ZIPCODE', 'Season', 'AGIncome', 'TotIncome', 'SalariesWages',\n",
       "       'NumUnemply', 'TotTaxes', 'Labor\\nForce', 'Employed', 'Unemployed',\n",
       "       'Unemploy-\\nment Rate\\n(%)', 'MortDeliq30-89', 'MortDeliq90',\n",
       "       'total_pop', 'median_age', 'white_pop', 'black_pop', 'asian_pop',\n",
       "       'hispanic_pop', 'gini_index', 'income_per_capita',\n",
       "       'vacant_housing_units_for_rent', 'percent_income_spent_on_rent',\n",
       "       'high_school_diploma', 'associates_degree', 'bachelors_degree',\n",
       "       'masters_degree', 'population_change', 'natural_amenity_rank'],\n",
       "      dtype='object')"
      ]
     },
     "execution_count": 82,
     "metadata": {},
     "output_type": "execute_result"
    }
   ],
   "source": [
    "X_train.columns"
   ]
  },
  {
   "cell_type": "markdown",
   "metadata": {},
   "source": [
    "look at scatterplots between zri and features"
   ]
  },
  {
   "cell_type": "code",
   "execution_count": 83,
   "metadata": {},
   "outputs": [
    {
     "name": "stdout",
     "output_type": "stream",
     "text": [
      "The training error is: 0.00054\n",
      "The test     error is: 0.24349\n"
     ]
    }
   ],
   "source": [
    "# (1)\n",
    "from sklearn import ensemble\n",
    "randomForest = ensemble.RandomForestRegressor(n_jobs = -1)\n",
    "\n",
    "# fit RF model on training set\n",
    "randomForest.set_params(random_state=0)\n",
    "randomForest.fit(X_train, y_train) \n",
    "\n",
    "print(\"The training error is: %.5f\" % (1 - randomForest.score(X_train, y_train)))\n",
    "print(\"The test     error is: %.5f\" % (1 - randomForest.score(X_test, y_test)))"
   ]
  },
  {
   "cell_type": "code",
   "execution_count": 84,
   "metadata": {},
   "outputs": [
    {
     "name": "stdout",
     "output_type": "stream",
     "text": [
      "0.9994564428902053\n",
      "0.7565063692384608\n"
     ]
    }
   ],
   "source": [
    "print(randomForest.score(X_train, y_train))\n",
    "print(randomForest.score(X_test, y_test))"
   ]
  },
  {
   "cell_type": "code",
   "execution_count": 59,
   "metadata": {},
   "outputs": [],
   "source": [
    "grid_para_forest = {\n",
    "    'max_depth': range(1, 31),\n",
    "    'n_estimators': range(10, 110, 10)\n",
    "}\n",
    "import sklearn.model_selection as ms"
   ]
  },
  {
   "cell_type": "code",
   "execution_count": 25,
   "metadata": {},
   "outputs": [
    {
     "name": "stderr",
     "output_type": "stream",
     "text": [
      "/home/jack/anaconda3/lib/python3.7/site-packages/joblib/externals/loky/process_executor.py:706: UserWarning: A worker stopped while some jobs were given to the executor. This can be caused by a too short worker timeout or by a memory leak.\n",
      "  \"timeout or by a memory leak.\", UserWarning\n"
     ]
    },
    {
     "name": "stdout",
     "output_type": "stream",
     "text": [
      "CPU times: user 17.7 s, sys: 1.76 s, total: 19.5 s\n",
      "Wall time: 1h 8min 54s\n"
     ]
    },
    {
     "data": {
      "text/plain": [
       "GridSearchCV(cv=5, error_score=nan,\n",
       "             estimator=RandomForestRegressor(bootstrap=True, ccp_alpha=0.0,\n",
       "                                             criterion='mse', max_depth=None,\n",
       "                                             max_features='auto',\n",
       "                                             max_leaf_nodes=None,\n",
       "                                             max_samples=None,\n",
       "                                             min_impurity_decrease=0.0,\n",
       "                                             min_impurity_split=None,\n",
       "                                             min_samples_leaf=1,\n",
       "                                             min_samples_split=2,\n",
       "                                             min_weight_fraction_leaf=0.0,\n",
       "                                             n_estimators=100, n_jobs=-1,\n",
       "                                             oob_score=False, random_state=0,\n",
       "                                             verbose=0, warm_start=False),\n",
       "             iid='deprecated', n_jobs=-1,\n",
       "             param_grid={'max_depth': range(1, 31),\n",
       "                         'n_estimators': range(10, 110, 10)},\n",
       "             pre_dispatch='2*n_jobs', refit=True, return_train_score=False,\n",
       "             scoring=None, verbose=0)"
      ]
     },
     "execution_count": 25,
     "metadata": {},
     "output_type": "execute_result"
    }
   ],
   "source": [
    "grid_search_forest = ms.GridSearchCV(randomForest, grid_para_forest, cv=5, n_jobs=-1)\n",
    "%time grid_search_forest.fit(X_train, y_train)"
   ]
  },
  {
   "cell_type": "code",
   "execution_count": 26,
   "metadata": {},
   "outputs": [
    {
     "data": {
      "text/plain": [
       "{'max_depth': 21, 'n_estimators': 10}"
      ]
     },
     "execution_count": 26,
     "metadata": {},
     "output_type": "execute_result"
    }
   ],
   "source": [
    "grid_search_forest.best_params_"
   ]
  },
  {
   "cell_type": "code",
   "execution_count": 27,
   "metadata": {},
   "outputs": [
    {
     "data": {
      "text/plain": [
       "0.9928971145578723"
      ]
     },
     "execution_count": 27,
     "metadata": {},
     "output_type": "execute_result"
    }
   ],
   "source": [
    "grid_search_forest.best_score_"
   ]
  },
  {
   "cell_type": "code",
   "execution_count": 85,
   "metadata": {},
   "outputs": [
    {
     "data": {
      "text/plain": [
       "[b'TotTaxes', b'ZIPCODE', b'Labor\\nForc', b'Employed', b'vacant_hou']"
      ]
     },
     "execution_count": 85,
     "metadata": {},
     "output_type": "execute_result"
    }
   ],
   "source": [
    "feature_importance = list(zip(X_train.columns, randomForest.feature_importances_))\n",
    "dtype = [('feature', 'S10'), ('importance', 'float')]\n",
    "feature_importance = np.array(feature_importance, dtype=dtype)\n",
    "feature_sort = np.sort(feature_importance, order='importance')[::-1]\n",
    "[i for (i, j) in feature_sort[0:5]]"
   ]
  },
  {
   "cell_type": "code",
   "execution_count": 86,
   "metadata": {},
   "outputs": [
    {
     "data": {
      "text/plain": [
       "Text(0.5, 1.0, 'feature importance')"
      ]
     },
     "execution_count": 86,
     "metadata": {},
     "output_type": "execute_result"
    },
    {
     "data": {
      "image/png": "[encoded data removed]",
      "text/plain": [
       "<Figure size 432x288 with 1 Axes>"
      ]
     },
     "metadata": {
      "needs_background": "light"
     },
     "output_type": "display_data"
    }
   ],
   "source": [
    "featureNames, featureScores = zip(*list(feature_sort))\n",
    "plt.barh(range(len(featureScores)), featureScores, tick_label=featureNames)\n",
    "plt.title('feature importance')"
   ]
  },
  {
   "cell_type": "code",
   "execution_count": 41,
   "metadata": {},
   "outputs": [
    {
     "data": {
      "text/plain": [
       "Index(['Season', 'AGIncome', 'TotIncome', 'SalariesWages', 'NumUnemply',\n",
       "       'TotTaxes', 'Unemploy-\\nment Rate\\n(%)', 'MortDeliq30-89',\n",
       "       'MortDeliq90', 'total_pop', 'median_age', 'white_pop', 'black_pop',\n",
       "       'asian_pop', 'hispanic_pop', 'gini_index', 'income_per_capita',\n",
       "       'vacant_housing_units_for_rent', 'percent_income_spent_on_rent',\n",
       "       'high_school_diploma', 'associates_degree', 'bachelors_degree',\n",
       "       'masters_degree'],\n",
       "      dtype='object')"
      ]
     },
     "execution_count": 41,
     "metadata": {},
     "output_type": "execute_result"
    }
   ],
   "source": [
    "X_train.columns"
   ]
  },
  {
   "cell_type": "code",
   "execution_count": 42,
   "metadata": {},
   "outputs": [
    {
     "data": {
      "text/plain": [
       "0        208.333333\n",
       "1        161.666667\n",
       "2        161.666667\n",
       "3        161.666667\n",
       "4        145.000000\n",
       "            ...    \n",
       "66879      8.333333\n",
       "66880      8.333333\n",
       "66882      6.666667\n",
       "66883      6.666667\n",
       "66884      6.666667\n",
       "Name: NumUnemply, Length: 54620, dtype: float64"
      ]
     },
     "execution_count": 42,
     "metadata": {},
     "output_type": "execute_result"
    }
   ],
   "source": [
    "X_train['NumUnemply']"
   ]
  },
  {
   "cell_type": "code",
   "execution_count": 87,
   "metadata": {},
   "outputs": [
    {
     "name": "stdout",
     "output_type": "stream",
     "text": [
      "[90.49627902 41.50794992 67.44479509 31.87342836 53.18303899]\n"
     ]
    }
   ],
   "source": [
    "from sklearn.model_selection import cross_val_score\n",
    "\n",
    "print(np.sqrt(-1* cross_val_score(randomForest, X_train, y_train, cv=5, scoring='neg_mean_squared_error', n_jobs =-1)))\n"
   ]
  },
  {
   "cell_type": "code",
   "execution_count": null,
   "metadata": {},
   "outputs": [],
   "source": []
  }
 ],
 "metadata": {
  "kernelspec": {
   "display_name": "Python 3",
   "language": "python",
   "name": "python3"
  },
  "language_info": {
   "codemirror_mode": {
    "name": "ipython",
    "version": 3
   },
   "file_extension": ".py",
   "mimetype": "text/x-python",
   "name": "python",
   "nbconvert_exporter": "python",
   "pygments_lexer": "ipython3",
   "version": "3.7.6"
  }
 },
 "nbformat": 4,
 "nbformat_minor": 4
}
