{
 "cells": [
  {
   "cell_type": "code",
   "execution_count": 1,
   "metadata": {},
   "outputs": [],
   "source": [
    "# import necessary packages\n",
    "import numpy as np\n",
    "import pandas as pd\n",
    "import matplotlib.pyplot as plt\n",
    "from math import exp\n",
    "\n",
    "# set display options\n",
    "pd.set_option('display.max_columns', None)"
   ]
  },
  {
   "cell_type": "code",
   "execution_count": 291,
   "metadata": {},
   "outputs": [],
   "source": [
    "zri = pd.read_csv('./data/df2.csv', index_col=0)"
   ]
  },
  {
   "cell_type": "code",
   "execution_count": 292,
   "metadata": {},
   "outputs": [],
   "source": [
    "zri['MortDeliq30-89'] = zri['MortDeliq30-89'].fillna(zri['MortDeliq30-89'].mean())\n",
    "zri['MortDeliq90'] = zri['MortDeliq90'].fillna(zri['MortDeliq90'].mean())\n",
    "zri['education'] = zri['high_school_diploma'] + zri['associates_degree'] * 2 + zri['bachelors_degree'] * 3 +zri['masters_degree']* 4"
   ]
  },
  {
   "cell_type": "code",
   "execution_count": 294,
   "metadata": {},
   "outputs": [],
   "source": [
    "zri['AGIncome'] = (zri['AGIncome']*1000)/zri['total_pop']\n",
    "zri['TotIncome'] = (zri['TotIncome']*1000)/zri['total_pop']\n",
    "zri['SalariesWages'] = (zri['SalariesWages']*1000)/zri['total_pop']\n",
    "zri['NumUnemply'] =(zri['NumUnemply']*1000)/zri['total_pop']\n",
    "zri['TotTaxes'] = (zri['TotTaxes']*1000)/zri['total_pop']"
   ]
  },
  {
   "cell_type": "code",
   "execution_count": 296,
   "metadata": {},
   "outputs": [],
   "source": [
    "#remove outliers\n",
    "#zri = zri[(zri.value < 3433.18)]\n",
    "## zri = zri[(zri.income_per_capita < 85180.28)]\n",
    "## zri = zri[(zri.TotTaxes < 2531.24)]\n"
   ]
  },
  {
   "cell_type": "code",
   "execution_count": 297,
   "metadata": {},
   "outputs": [
    {
     "name": "stderr",
     "output_type": "stream",
     "text": [
      "/Users/isa.adls/opt/anaconda3/lib/python3.7/site-packages/pandas/core/series.py:679: RuntimeWarning: divide by zero encountered in log\n",
      "  result = getattr(ufunc, method)(*inputs, **kwargs)\n"
     ]
    }
   ],
   "source": [
    "# #Log Transformation:\n",
    "zri['LogValue'] = np.log(zri.value)\n",
    "zri['LogTotTaxes'] = np.log(zri.TotTaxes)\n",
    "# zri['LogTotIncome'] = np.log(zri.TotIncome)\n",
    "# zri['LogSalariesWages'] = np.log(zri.SalariesWages)\n",
    "zri['Logincome_per_capita'] = np.log(zri.income_per_capita)\n",
    "# zri['Logmedian_age'] = np.log(zri.median_age)\n",
    "# zri['LogAGIncome'] = np.log(zri.AGIncome)\n",
    "# zri['Loggini_index'] = np.log(zri.gini_index)\n",
    "# zri['Logpopulation_change'] = np.log(zri.population_change)\n"
   ]
  },
  {
   "cell_type": "code",
   "execution_count": 299,
   "metadata": {},
   "outputs": [],
   "source": [
    "train = pd.merge(zri.loc[zri['Year']==2015].rename(columns = {'LogValue' : 'LogValue_2015'}),\n",
    "                 zri.loc[zri['Year']==2018][['ZIPCODE', 'Month','LogValue']],\n",
    "                 how = 'left', on = ['ZIPCODE', 'Month'])\n",
    "test = pd.merge(zri.loc[zri['Year']==2016].rename(columns = {'LogValue' : 'LogValue_2016'}),\n",
    "                zri.loc[zri['Year']==2019][['ZIPCODE', 'Month','LogValue']],\n",
    "                how = 'left', on = ['ZIPCODE', 'Month'])"
   ]
  },
  {
   "cell_type": "code",
   "execution_count": 300,
   "metadata": {},
   "outputs": [],
   "source": [
    "#drop columns to test\n",
    "\n",
    "dropped = ['SizeRank', 'City', 'State', 'Metro', 'CountyName',\\\n",
    "        'Month', 'Year','Labor\\nForce','Employed', 'Unemployed',\\\n",
    "        'Year-Month', 'FIPSCode', 'geo_id',\\\n",
    "        'value', 'year', 'TotTaxes', 'income_per_capita'] #'ZIPCODE'\n",
    "\n",
    "train.drop(columns = dropped, inplace=True)\n",
    "test.drop(columns = dropped, inplace=True)\n",
    "\n",
    "# print(test.columns)\n",
    "# train.columns"
   ]
  },
  {
   "cell_type": "code",
   "execution_count": 301,
   "metadata": {},
   "outputs": [
    {
     "data": {
      "text/plain": [
       "Index(['LogValue'], dtype='object')"
      ]
     },
     "execution_count": 301,
     "metadata": {},
     "output_type": "execute_result"
    }
   ],
   "source": [
    "train.columns[test.isnull().any()]"
   ]
  },
  {
   "cell_type": "code",
   "execution_count": 302,
   "metadata": {},
   "outputs": [],
   "source": [
    "train = train.dropna(subset=['LogValue'])"
   ]
  },
  {
   "cell_type": "code",
   "execution_count": 303,
   "metadata": {},
   "outputs": [],
   "source": [
    "X_train = train.drop(columns = ['LogValue'])\n",
    "y_train = train['LogValue']"
   ]
  },
  {
   "cell_type": "code",
   "execution_count": 304,
   "metadata": {},
   "outputs": [
    {
     "data": {
      "text/plain": [
       "Index(['LogValue'], dtype='object')"
      ]
     },
     "execution_count": 304,
     "metadata": {},
     "output_type": "execute_result"
    }
   ],
   "source": [
    "test.columns[test.isnull().any()]"
   ]
  },
  {
   "cell_type": "code",
   "execution_count": 305,
   "metadata": {},
   "outputs": [],
   "source": [
    "test = test.dropna(subset=['LogValue'])"
   ]
  },
  {
   "cell_type": "code",
   "execution_count": 308,
   "metadata": {},
   "outputs": [],
   "source": [
    "X_test = test.drop(columns = ['LogValue'])\n",
    "y_test = test['LogValue']"
   ]
  },
  {
   "cell_type": "code",
   "execution_count": 309,
   "metadata": {},
   "outputs": [
    {
     "name": "stdout",
     "output_type": "stream",
     "text": [
      "Index([], dtype='object')\n",
      "Index([], dtype='object')\n"
     ]
    }
   ],
   "source": [
    "#show columns with missing values\n",
    "print(X_train.columns[X_train.isnull().any()])\n",
    "print(X_test.columns[X_test.isnull().any()])"
   ]
  },
  {
   "cell_type": "code",
   "execution_count": 337,
   "metadata": {},
   "outputs": [],
   "source": [
    "#feature selection\n",
    "model_cols = ['LogValue_2015', 'LogTotTaxes',\n",
    "       'MortDeliq30-89', 'MortDeliq90',\n",
    "       'white_pop', 'black_pop', 'asian_pop', 'hispanic_pop',\n",
    "       'gini_index', 'Logincome_per_capita',\n",
    "       'natural_amenity_rank', 'education']\n",
    "\n",
    "model_cols2 = ['LogValue_2016','LogTotTaxes',\n",
    "        'MortDeliq30-89', 'MortDeliq90',\n",
    "       'white_pop', 'black_pop', 'asian_pop', 'hispanic_pop',\n",
    "       'gini_index', 'Logincome_per_capita',\n",
    "       'natural_amenity_rank', 'education']\n",
    "\n",
    "X_train = X_train[model_cols]\n",
    "\n",
    "X_test = X_test[model_cols2]\n"
   ]
  },
  {
   "cell_type": "markdown",
   "metadata": {},
   "source": [
    "## Model Generation"
   ]
  },
  {
   "cell_type": "code",
   "execution_count": 338,
   "metadata": {},
   "outputs": [],
   "source": [
    "from sklearn.linear_model import LinearRegression, Lasso\n",
    "from sklearn import model_selection"
   ]
  },
  {
   "cell_type": "code",
   "execution_count": 339,
   "metadata": {},
   "outputs": [
    {
     "name": "stdout",
     "output_type": "stream",
     "text": [
      "Train Score: 0.9634\n",
      "Test Score:  0.9543\n",
      "0.009144749032678479\n"
     ]
    }
   ],
   "source": [
    "lm = LinearRegression()\n",
    "\n",
    "lm.fit(X_train, y_train)\n",
    "\n",
    "print(\"Train Score: %.4f\" % lm.score(X_train, y_train))\n",
    "print(\"Test Score:  %.4f\" % lm.score(X_test, y_test))\n",
    "\n",
    "print(lm.score(X_train, y_train)- lm.score(X_test, y_test))\n",
    "\n"
   ]
  },
  {
   "cell_type": "code",
   "execution_count": 340,
   "metadata": {},
   "outputs": [
    {
     "data": {
      "text/plain": [
       "(1.1430347633415447,\n",
       " array([ 0.90763529,  0.01246364, -0.01886763,  0.01565896, -0.30374057,\n",
       "        -0.26335692, -0.24088229, -0.2675004 , -0.09820183, -0.02245685,\n",
       "         0.02153897,  0.01578588]))"
      ]
     },
     "execution_count": 340,
     "metadata": {},
     "output_type": "execute_result"
    }
   ],
   "source": [
    "lm.intercept_, lm.coef_"
   ]
  },
  {
   "cell_type": "code",
   "execution_count": 341,
   "metadata": {},
   "outputs": [
    {
     "name": "stdout",
     "output_type": "stream",
     "text": [
      "[0.07509215 0.07430121 0.07112064 0.07210564 0.07234085]\n"
     ]
    }
   ],
   "source": [
    "from sklearn.model_selection import cross_val_score\n",
    "print(np.sqrt(-1* cross_val_score(lm, X_train, y_train, cv=5, scoring='neg_mean_squared_error', n_jobs =-1)))"
   ]
  },
  {
   "cell_type": "code",
   "execution_count": 342,
   "metadata": {
    "scrolled": false
   },
   "outputs": [
    {
     "name": "stderr",
     "output_type": "stream",
     "text": [
      "/Users/isa.adls/opt/anaconda3/lib/python3.7/site-packages/ipykernel_launcher.py:12: UserWarning: With alpha=0, this algorithm does not converge well. You are advised to use the LinearRegression estimator\n",
      "  if sys.path[0] == '':\n",
      "/Users/isa.adls/opt/anaconda3/lib/python3.7/site-packages/sklearn/linear_model/_coordinate_descent.py:476: UserWarning: Coordinate descent with no regularization may lead to unexpected results and is discouraged.\n",
      "  positive)\n",
      "/Users/isa.adls/opt/anaconda3/lib/python3.7/site-packages/sklearn/linear_model/_coordinate_descent.py:476: ConvergenceWarning: Objective did not converge. You might want to increase the number of iterations. Duality gap: 42.89663010641153, tolerance: 0.23463986036698162\n",
      "  positive)\n"
     ]
    },
    {
     "data": {
      "text/plain": [
       "Text(0.5, 1.0, 'Coefficients in the Lasso Model')"
      ]
     },
     "execution_count": 342,
     "metadata": {},
     "output_type": "execute_result"
    },
    {
     "data": {
      "image/png": "[encoded data removed]",
      "text/plain": [
       "<Figure size 864x576 with 1 Axes>"
      ]
     },
     "metadata": {
      "needs_background": "light"
     },
     "output_type": "display_data"
    }
   ],
   "source": [
    "# param_grid={'alpha': np.logspace(-5, -3, 100)}\n",
    "# grid_search = model_selection.GridSearchCV(estimator = Lasso(), param_grid = param_grid, cv=3)\n",
    "# grid_search.fit(X_train, y_train)\n",
    "\n",
    "# print(\"Cross Validation\")\n",
    "# print(\"-\" * 20)\n",
    "# print(\"Best parameter: \", grid_search.best_params_)\n",
    "# print(\"Best CV score:  %.4f\" % grid_search.best_score_)\n",
    "\n",
    "#alpha_cv = grid_search.best_estimator_.get_params()['alpha']\n",
    "\n",
    "lasso = Lasso(alpha = 0, normalize=True).fit(X_train, y_train)\n",
    "coef = pd.Series(lasso.coef_, index = X_train.columns)\n",
    "imp_coef = pd.concat([coef.sort_values()])\n",
    "imp_coef.plot(kind = \"barh\", figsize = (12, 8))\n",
    "plt.title(\"Coefficients in the Lasso Model\")"
   ]
  },
  {
   "cell_type": "code",
   "execution_count": 344,
   "metadata": {},
   "outputs": [
    {
     "name": "stdout",
     "output_type": "stream",
     "text": [
      "0.9634361953341429\n"
     ]
    },
    {
     "data": {
      "text/plain": [
       "0.9542915796646663"
      ]
     },
     "execution_count": 344,
     "metadata": {},
     "output_type": "execute_result"
    }
   ],
   "source": [
    "print(lasso.score(X_train, y_train))\n",
    "lasso.score(X_test, y_test)"
   ]
  },
  {
   "cell_type": "code",
   "execution_count": 37,
   "metadata": {},
   "outputs": [
    {
     "ename": "NameError",
     "evalue": "name 'sm' is not defined",
     "output_type": "error",
     "traceback": [
      "\u001b[0;31m---------------------------------------------------------------------------\u001b[0m",
      "\u001b[0;31mNameError\u001b[0m                                 Traceback (most recent call last)",
      "\u001b[0;32m<ipython-input-37-88eb6d679e21>\u001b[0m in \u001b[0;36m<module>\u001b[0;34m\u001b[0m\n\u001b[1;32m      1\u001b[0m \u001b[0;31m#Q-Q plot for normality\u001b[0m\u001b[0;34m\u001b[0m\u001b[0;34m\u001b[0m\u001b[0;34m\u001b[0m\u001b[0m\n\u001b[0;32m----> 2\u001b[0;31m \u001b[0mfig4\u001b[0m\u001b[0;34m=\u001b[0m\u001b[0msm\u001b[0m\u001b[0;34m.\u001b[0m\u001b[0mqqplot\u001b[0m\u001b[0;34m(\u001b[0m\u001b[0mreg1\u001b[0m\u001b[0;34m.\u001b[0m\u001b[0mresid\u001b[0m\u001b[0;34m,\u001b[0m \u001b[0mline\u001b[0m\u001b[0;34m=\u001b[0m\u001b[0;34m'r'\u001b[0m\u001b[0;34m)\u001b[0m\u001b[0;34m\u001b[0m\u001b[0;34m\u001b[0m\u001b[0m\n\u001b[0m",
      "\u001b[0;31mNameError\u001b[0m: name 'sm' is not defined"
     ]
    }
   ],
   "source": [
    "#Q-Q plot for normality\n",
    "#fig4=sm.qqplot(reg1.resid, line='r')"
   ]
  },
  {
   "cell_type": "code",
   "execution_count": 347,
   "metadata": {},
   "outputs": [],
   "source": [
    "coefs = []\n",
    "intercepts = []\n",
    "R2  = []\n",
    "alphaRange = np.linspace(1e-3,1,20)\n",
    "for alpha in alphaRange:\n",
    "    lasso.set_params(alpha=alpha, normalize = True)\n",
    "    lasso.fit(X_train, y_train)\n",
    "    intercepts.append(lasso.intercept_)\n",
    "    coefs.append(lasso.coef_)\n",
    "    R2.append(lasso.score(X_train, y_train))"
   ]
  },
  {
   "cell_type": "code",
   "execution_count": 348,
   "metadata": {},
   "outputs": [
    {
     "data": {
      "text/plain": [
       "Text(0.5, 1.0, 'Change of Lasso Slopes Varying Alpha')"
      ]
     },
     "execution_count": 348,
     "metadata": {},
     "output_type": "execute_result"
    },
    {
     "data": {
      "image/png": "[encoded data removed]",
      "text/plain": [
       "<Figure size 432x288 with 1 Axes>"
      ]
     },
     "metadata": {
      "needs_background": "light"
     },
     "output_type": "display_data"
    }
   ],
   "source": [
    "coefs = pd.DataFrame(np.array(coefs), columns=X_train.columns)\n",
    "for name in coefs.columns:\n",
    "    plt.plot(alphaRange, coefs[name], label=name)\n",
    "plt.legend(loc=0)\n",
    "plt.title('Change of Lasso Slopes Varying Alpha')"
   ]
  },
  {
   "cell_type": "code",
   "execution_count": null,
   "metadata": {},
   "outputs": [],
   "source": [
    "X_train.head()"
   ]
  },
  {
   "cell_type": "code",
   "execution_count": null,
   "metadata": {},
   "outputs": [],
   "source": [
    "y_train = pd.DataFrame(y_train)"
   ]
  },
  {
   "cell_type": "code",
   "execution_count": null,
   "metadata": {},
   "outputs": [],
   "source": [
    "y_train.head()"
   ]
  },
  {
   "cell_type": "code",
   "execution_count": null,
   "metadata": {},
   "outputs": [],
   "source": [
    "X_train.columns = X_train.columns.to_series().apply(lambda x: x.strip())"
   ]
  },
  {
   "cell_type": "code",
   "execution_count": null,
   "metadata": {},
   "outputs": [],
   "source": [
    "X_train.reset_index(drop = True, inplace = True)"
   ]
  },
  {
   "cell_type": "code",
   "execution_count": null,
   "metadata": {},
   "outputs": [],
   "source": [
    "X_train.head()"
   ]
  },
  {
   "cell_type": "code",
   "execution_count": null,
   "metadata": {},
   "outputs": [],
   "source": [
    "y_train.reset_index(drop = True, inplace = True)"
   ]
  },
  {
   "cell_type": "code",
   "execution_count": 349,
   "metadata": {},
   "outputs": [],
   "source": [
    "# import pandas as pd\n",
    "# import statsmodels.api as sm\n",
    "\n",
    "# def forward_regression(X, y,\n",
    "#                        initial_list=[], \n",
    "#                        threshold_in=0.01, \n",
    "#                        threshold_out = 0.05, \n",
    "#                        verbose=True):\n",
    "#     initial_list = []\n",
    "#     included = list(initial_list)\n",
    "#     while True:\n",
    "#         changed=False\n",
    "#         # forward step\n",
    "#         excluded = list(set(X.columns)-set(included))\n",
    "#         new_pval = pd.Series(index=excluded)\n",
    "#         for new_column in excluded:\n",
    "#             model = sm.OLS(y, sm.add_constant(pd.DataFrame(X[included+[new_column]]))).fit()\n",
    "#             new_pval[new_column] = model.pvalues[new_column]\n",
    "#         best_pval = new_pval.min()\n",
    "#         if best_pval < threshold_in:\n",
    "#             best_feature = new_pval.argmin()\n",
    "#             included.append(best_feature)\n",
    "#             changed=True\n",
    "#             if verbose:\n",
    "#                 print('Add   with p-value '.format(best_feature, best_pval))\n",
    "\n",
    "#         if not changed:\n",
    "#             break\n",
    "\n",
    "#     return included\n",
    "\n",
    "# forward_regression(X_train, y_train)"
   ]
  },
  {
   "cell_type": "code",
   "execution_count": 350,
   "metadata": {
    "scrolled": false
   },
   "outputs": [
    {
     "data": {
      "text/plain": [
       "['LogValue_2015',\n",
       " 'LogTotTaxes',\n",
       " 'MortDeliq30-89',\n",
       " 'MortDeliq90',\n",
       " 'white_pop',\n",
       " 'black_pop',\n",
       " 'asian_pop',\n",
       " 'hispanic_pop',\n",
       " 'gini_index',\n",
       " 'Logincome_per_capita',\n",
       " 'natural_amenity_rank',\n",
       " 'education']"
      ]
     },
     "execution_count": 350,
     "metadata": {},
     "output_type": "execute_result"
    }
   ],
   "source": [
    "def backward_regression(X, y,\n",
    "                           initial_list=[], \n",
    "                           threshold_in=0.01, \n",
    "                           threshold_out = 0.05, \n",
    "                           verbose=True):\n",
    "    included=list(X.columns)\n",
    "    while True:\n",
    "        changed=False\n",
    "        model = sm.OLS(y, sm.add_constant(pd.DataFrame(X[included]))).fit()\n",
    "        # use all coefs except intercept\n",
    "        pvalues = model.pvalues.iloc[1:]\n",
    "        worst_pval = pvalues.max() # null if pvalues is empty\n",
    "        if worst_pval > threshold_out:\n",
    "            changed=True\n",
    "            worst_feature = pvalues.idxmax()\n",
    "            included.remove(worst_feature)\n",
    "            if verbose:\n",
    "                print('Drop  with p-value '.format(worst_feature, worst_pval))\n",
    "        if not changed:\n",
    "            break\n",
    "    return included\n",
    "\n",
    "backward_regression(X_train, y_train)"
   ]
  },
  {
   "cell_type": "code",
   "execution_count": 351,
   "metadata": {
    "scrolled": true
   },
   "outputs": [
    {
     "data": {
      "text/html": [
       "<div>\n",
       "<style scoped>\n",
       "    .dataframe tbody tr th:only-of-type {\n",
       "        vertical-align: middle;\n",
       "    }\n",
       "\n",
       "    .dataframe tbody tr th {\n",
       "        vertical-align: top;\n",
       "    }\n",
       "\n",
       "    .dataframe thead th {\n",
       "        text-align: right;\n",
       "    }\n",
       "</style>\n",
       "<table border=\"1\" class=\"dataframe\">\n",
       "  <thead>\n",
       "    <tr style=\"text-align: right;\">\n",
       "      <th></th>\n",
       "      <th>0</th>\n",
       "    </tr>\n",
       "  </thead>\n",
       "  <tbody>\n",
       "    <tr>\n",
       "      <th>0</th>\n",
       "      <td>1</td>\n",
       "    </tr>\n",
       "    <tr>\n",
       "      <th>1</th>\n",
       "      <td>8</td>\n",
       "    </tr>\n",
       "    <tr>\n",
       "      <th>2</th>\n",
       "      <td>4</td>\n",
       "    </tr>\n",
       "    <tr>\n",
       "      <th>3</th>\n",
       "      <td>5</td>\n",
       "    </tr>\n",
       "    <tr>\n",
       "      <th>4</th>\n",
       "      <td>1</td>\n",
       "    </tr>\n",
       "    <tr>\n",
       "      <th>5</th>\n",
       "      <td>1</td>\n",
       "    </tr>\n",
       "    <tr>\n",
       "      <th>6</th>\n",
       "      <td>1</td>\n",
       "    </tr>\n",
       "    <tr>\n",
       "      <th>7</th>\n",
       "      <td>1</td>\n",
       "    </tr>\n",
       "    <tr>\n",
       "      <th>8</th>\n",
       "      <td>2</td>\n",
       "    </tr>\n",
       "    <tr>\n",
       "      <th>9</th>\n",
       "      <td>6</td>\n",
       "    </tr>\n",
       "    <tr>\n",
       "      <th>10</th>\n",
       "      <td>3</td>\n",
       "    </tr>\n",
       "    <tr>\n",
       "      <th>11</th>\n",
       "      <td>7</td>\n",
       "    </tr>\n",
       "  </tbody>\n",
       "</table>\n",
       "</div>"
      ],
      "text/plain": [
       "    0\n",
       "0   1\n",
       "1   8\n",
       "2   4\n",
       "3   5\n",
       "4   1\n",
       "5   1\n",
       "6   1\n",
       "7   1\n",
       "8   2\n",
       "9   6\n",
       "10  3\n",
       "11  7"
      ]
     },
     "execution_count": 351,
     "metadata": {},
     "output_type": "execute_result"
    }
   ],
   "source": [
    "#RECURSIVE FEATURE ELIMINATION\n",
    "#Feature ranking with recursive feature elimination and cross-validated selection of the best number of features\n",
    "\n",
    "from sklearn.feature_selection import RFE\n",
    "from sklearn.feature_selection import RFECV\n",
    "X = X_train\n",
    "y = y_train\n",
    "names=pd.DataFrame(X_train.columns)\n",
    "\n",
    "#use linear regression as the model\n",
    "lin_reg = LinearRegression()\n",
    "\n",
    "#This is to select 5 variables: can be changed and checked in model for accuracy\n",
    "rfe_mod = RFE(lin_reg, 5, step=1) #RFECV(lin_reg, step=1, cv=5) \n",
    "myvalues=rfe_mod.fit(X,y) #to fit\n",
    "myvalues.support_#The mask of selected features.\n",
    "myvalues.ranking_ #The feature ranking, such that ranking_[i] corresponds to the ranking position of the i-th feature. Selected (i.e., estimated best) features are assigned rank 1.\n",
    "\n",
    "rankings=pd.DataFrame(myvalues.ranking_) #Make it into data frame\n",
    "rankings"
   ]
  },
  {
   "cell_type": "code",
   "execution_count": 352,
   "metadata": {},
   "outputs": [
    {
     "name": "stdout",
     "output_type": "stream",
     "text": [
      "         Feature  Rank\n",
      "0  LogValue_2015     1\n",
      "4      white_pop     1\n",
      "5      black_pop     1\n",
      "6      asian_pop     1\n",
      "7   hispanic_pop     1\n"
     ]
    },
    {
     "data": {
      "text/plain": [
       "5"
      ]
     },
     "execution_count": 352,
     "metadata": {},
     "output_type": "execute_result"
    }
   ],
   "source": [
    "#Concat and name columns\n",
    "ranked=pd.concat([names,rankings], axis=1)\n",
    "ranked.columns = [\"Feature\", \"Rank\"]\n",
    "ranked\n",
    "\n",
    "#Select most important (Only 1's)\n",
    "most_important = ranked.loc[ranked['Rank'] ==1] \n",
    "print(most_important)\n",
    "\n",
    "most_important['Rank'].count()"
   ]
  },
  {
   "cell_type": "code",
   "execution_count": 248,
   "metadata": {},
   "outputs": [],
   "source": [
    "#use linear regression as the model\n",
    "lin_reg = LinearRegression()\n",
    "\n",
    "#This is to select 8 variables: can be changed and checked in model for accuracy\n",
    "rfe_mod =  RFECV(lin_reg, step=1, cv=300) #RFE(lin_reg, 4, step=1)\n",
    "\n",
    "myvalues=rfe_mod.fit(X,y) #to fit"
   ]
  },
  {
   "cell_type": "code",
   "execution_count": 353,
   "metadata": {},
   "outputs": [
    {
     "name": "stdout",
     "output_type": "stream",
     "text": [
      "[3.45012927e+05 5.91101022e+03 2.65466764e+03 2.62798039e+01\n",
      " 4.39359118e+02 5.78443956e+02 3.60792121e+03 5.85021505e+02\n",
      " 1.14796211e+02 3.03192355e+03 1.88411230e+03 2.48056247e+03]\n"
     ]
    },
    {
     "data": {
      "text/html": [
       "<div>\n",
       "<style scoped>\n",
       "    .dataframe tbody tr th:only-of-type {\n",
       "        vertical-align: middle;\n",
       "    }\n",
       "\n",
       "    .dataframe tbody tr th {\n",
       "        vertical-align: top;\n",
       "    }\n",
       "\n",
       "    .dataframe thead th {\n",
       "        text-align: right;\n",
       "    }\n",
       "</style>\n",
       "<table border=\"1\" class=\"dataframe\">\n",
       "  <thead>\n",
       "    <tr style=\"text-align: right;\">\n",
       "      <th></th>\n",
       "      <th>Feature</th>\n",
       "      <th>Score</th>\n",
       "    </tr>\n",
       "  </thead>\n",
       "  <tbody>\n",
       "    <tr>\n",
       "      <th>3</th>\n",
       "      <td>MortDeliq90</td>\n",
       "      <td>26.279804</td>\n",
       "    </tr>\n",
       "    <tr>\n",
       "      <th>8</th>\n",
       "      <td>gini_index</td>\n",
       "      <td>114.796211</td>\n",
       "    </tr>\n",
       "    <tr>\n",
       "      <th>4</th>\n",
       "      <td>white_pop</td>\n",
       "      <td>439.359118</td>\n",
       "    </tr>\n",
       "    <tr>\n",
       "      <th>5</th>\n",
       "      <td>black_pop</td>\n",
       "      <td>578.443956</td>\n",
       "    </tr>\n",
       "    <tr>\n",
       "      <th>7</th>\n",
       "      <td>hispanic_pop</td>\n",
       "      <td>585.021505</td>\n",
       "    </tr>\n",
       "    <tr>\n",
       "      <th>10</th>\n",
       "      <td>natural_amenity_rank</td>\n",
       "      <td>1884.112298</td>\n",
       "    </tr>\n",
       "    <tr>\n",
       "      <th>11</th>\n",
       "      <td>education</td>\n",
       "      <td>2480.562470</td>\n",
       "    </tr>\n",
       "    <tr>\n",
       "      <th>2</th>\n",
       "      <td>MortDeliq30-89</td>\n",
       "      <td>2654.667642</td>\n",
       "    </tr>\n",
       "    <tr>\n",
       "      <th>9</th>\n",
       "      <td>Logincome_per_capita</td>\n",
       "      <td>3031.923545</td>\n",
       "    </tr>\n",
       "    <tr>\n",
       "      <th>6</th>\n",
       "      <td>asian_pop</td>\n",
       "      <td>3607.921205</td>\n",
       "    </tr>\n",
       "    <tr>\n",
       "      <th>1</th>\n",
       "      <td>LogTotTaxes</td>\n",
       "      <td>5911.010224</td>\n",
       "    </tr>\n",
       "    <tr>\n",
       "      <th>0</th>\n",
       "      <td>LogValue_2015</td>\n",
       "      <td>345012.926535</td>\n",
       "    </tr>\n",
       "  </tbody>\n",
       "</table>\n",
       "</div>"
      ],
      "text/plain": [
       "                 Feature          Score\n",
       "3            MortDeliq90      26.279804\n",
       "8             gini_index     114.796211\n",
       "4              white_pop     439.359118\n",
       "5              black_pop     578.443956\n",
       "7           hispanic_pop     585.021505\n",
       "10  natural_amenity_rank    1884.112298\n",
       "11             education    2480.562470\n",
       "2         MortDeliq30-89    2654.667642\n",
       "9   Logincome_per_capita    3031.923545\n",
       "6              asian_pop    3607.921205\n",
       "1            LogTotTaxes    5911.010224\n",
       "0          LogValue_2015  345012.926535"
      ]
     },
     "execution_count": 353,
     "metadata": {},
     "output_type": "execute_result"
    }
   ],
   "source": [
    "#UNIVARIATE SELECTION\n",
    "# Feature Extraction with Univariate Statistical Tests (f_regression)\n",
    "import pandas\n",
    "import numpy\n",
    "from sklearn.feature_selection import SelectKBest\n",
    "from sklearn.feature_selection import f_regression\n",
    "from sklearn.datasets import load_digits\n",
    "\n",
    "# load data\n",
    "X = X_train\n",
    "y = y_train\n",
    "names=pd.DataFrame(X_train.columns)\n",
    "\n",
    "model = SelectKBest(score_func=f_regression, k=4)\n",
    "results = model.fit(X, y)\n",
    "\n",
    "print (results.scores_)\n",
    "#print (results.pvalues_)\n",
    "\n",
    "results_df=pd.DataFrame(results.scores_)\n",
    "#Concat and name columns\n",
    "scored=pd.concat([names,results_df], axis=1)\n",
    "scored.columns = [\"Feature\", \"Score\"]\n",
    "scored.sort_values(by=['Score']).head(13)\n",
    "\n",
    "#We can now rank the importance of each feature based on their score.  \n",
    "#The higher the score, the more important the variable. "
   ]
  },
  {
   "cell_type": "code",
   "execution_count": 354,
   "metadata": {},
   "outputs": [
    {
     "data": {
      "text/html": [
       "<div>\n",
       "<style scoped>\n",
       "    .dataframe tbody tr th:only-of-type {\n",
       "        vertical-align: middle;\n",
       "    }\n",
       "\n",
       "    .dataframe tbody tr th {\n",
       "        vertical-align: top;\n",
       "    }\n",
       "\n",
       "    .dataframe thead th {\n",
       "        text-align: right;\n",
       "    }\n",
       "</style>\n",
       "<table border=\"1\" class=\"dataframe\">\n",
       "  <thead>\n",
       "    <tr style=\"text-align: right;\">\n",
       "      <th></th>\n",
       "      <th>LogValue_2015</th>\n",
       "      <th>LogTotTaxes</th>\n",
       "      <th>MortDeliq30-89</th>\n",
       "      <th>MortDeliq90</th>\n",
       "      <th>white_pop</th>\n",
       "      <th>black_pop</th>\n",
       "      <th>asian_pop</th>\n",
       "      <th>hispanic_pop</th>\n",
       "      <th>gini_index</th>\n",
       "      <th>Logincome_per_capita</th>\n",
       "      <th>natural_amenity_rank</th>\n",
       "      <th>education</th>\n",
       "      <th>LogValue</th>\n",
       "    </tr>\n",
       "  </thead>\n",
       "  <tbody>\n",
       "    <tr>\n",
       "      <th>0</th>\n",
       "      <td>7.421776</td>\n",
       "      <td>6.350867</td>\n",
       "      <td>2.300000</td>\n",
       "      <td>3.00000</td>\n",
       "      <td>0.815625</td>\n",
       "      <td>0.026682</td>\n",
       "      <td>0.071471</td>\n",
       "      <td>0.060639</td>\n",
       "      <td>0.5041</td>\n",
       "      <td>11.084002</td>\n",
       "      <td>3.0</td>\n",
       "      <td>1.828814</td>\n",
       "      <td>7.458763</td>\n",
       "    </tr>\n",
       "    <tr>\n",
       "      <th>2</th>\n",
       "      <td>7.036148</td>\n",
       "      <td>6.229107</td>\n",
       "      <td>2.149178</td>\n",
       "      <td>2.17876</td>\n",
       "      <td>0.581662</td>\n",
       "      <td>0.062797</td>\n",
       "      <td>0.155716</td>\n",
       "      <td>0.173303</td>\n",
       "      <td>0.3454</td>\n",
       "      <td>10.767516</td>\n",
       "      <td>3.0</td>\n",
       "      <td>1.264326</td>\n",
       "      <td>7.101676</td>\n",
       "    </tr>\n",
       "    <tr>\n",
       "      <th>3</th>\n",
       "      <td>7.507690</td>\n",
       "      <td>6.965521</td>\n",
       "      <td>2.300000</td>\n",
       "      <td>3.00000</td>\n",
       "      <td>0.804186</td>\n",
       "      <td>0.043573</td>\n",
       "      <td>0.057157</td>\n",
       "      <td>0.066750</td>\n",
       "      <td>0.5235</td>\n",
       "      <td>11.163567</td>\n",
       "      <td>3.0</td>\n",
       "      <td>1.693632</td>\n",
       "      <td>7.515345</td>\n",
       "    </tr>\n",
       "    <tr>\n",
       "      <th>4</th>\n",
       "      <td>6.858565</td>\n",
       "      <td>4.276235</td>\n",
       "      <td>4.500000</td>\n",
       "      <td>2.10000</td>\n",
       "      <td>0.111496</td>\n",
       "      <td>0.015401</td>\n",
       "      <td>0.009632</td>\n",
       "      <td>0.853346</td>\n",
       "      <td>0.4264</td>\n",
       "      <td>9.978920</td>\n",
       "      <td>5.0</td>\n",
       "      <td>0.659715</td>\n",
       "      <td>6.800170</td>\n",
       "    </tr>\n",
       "    <tr>\n",
       "      <th>5</th>\n",
       "      <td>7.243513</td>\n",
       "      <td>5.445087</td>\n",
       "      <td>2.300000</td>\n",
       "      <td>3.00000</td>\n",
       "      <td>0.542195</td>\n",
       "      <td>0.192627</td>\n",
       "      <td>0.104966</td>\n",
       "      <td>0.122316</td>\n",
       "      <td>0.5263</td>\n",
       "      <td>10.564266</td>\n",
       "      <td>3.0</td>\n",
       "      <td>1.471915</td>\n",
       "      <td>7.288244</td>\n",
       "    </tr>\n",
       "  </tbody>\n",
       "</table>\n",
       "</div>"
      ],
      "text/plain": [
       "   LogValue_2015  LogTotTaxes  MortDeliq30-89  MortDeliq90  white_pop  \\\n",
       "0       7.421776     6.350867        2.300000      3.00000   0.815625   \n",
       "2       7.036148     6.229107        2.149178      2.17876   0.581662   \n",
       "3       7.507690     6.965521        2.300000      3.00000   0.804186   \n",
       "4       6.858565     4.276235        4.500000      2.10000   0.111496   \n",
       "5       7.243513     5.445087        2.300000      3.00000   0.542195   \n",
       "\n",
       "   black_pop  asian_pop  hispanic_pop  gini_index  Logincome_per_capita  \\\n",
       "0   0.026682   0.071471      0.060639      0.5041             11.084002   \n",
       "2   0.062797   0.155716      0.173303      0.3454             10.767516   \n",
       "3   0.043573   0.057157      0.066750      0.5235             11.163567   \n",
       "4   0.015401   0.009632      0.853346      0.4264              9.978920   \n",
       "5   0.192627   0.104966      0.122316      0.5263             10.564266   \n",
       "\n",
       "   natural_amenity_rank  education  LogValue  \n",
       "0                   3.0   1.828814  7.458763  \n",
       "2                   3.0   1.264326  7.101676  \n",
       "3                   3.0   1.693632  7.515345  \n",
       "4                   5.0   0.659715  6.800170  \n",
       "5                   3.0   1.471915  7.288244  "
      ]
     },
     "execution_count": 354,
     "metadata": {},
     "output_type": "execute_result"
    }
   ],
   "source": [
    "#create a single data frame with both features and target by concatonating\n",
    "train_df=pd.concat([X_train, y_train], axis=1)\n",
    "train_df.head()"
   ]
  },
  {
   "cell_type": "code",
   "execution_count": 355,
   "metadata": {},
   "outputs": [
    {
     "data": {
      "image/png": "[encoded data removed]",
      "text/plain": [
       "<Figure size 864x720 with 2 Axes>"
      ]
     },
     "metadata": {
      "needs_background": "light"
     },
     "output_type": "display_data"
    }
   ],
   "source": [
    "#Visualize corelations\n",
    "import seaborn as sns\n",
    "plt.figure(figsize=(12,10))\n",
    "ax=sns.heatmap(train_df.corr(), annot=True, cmap=sns.cubehelix_palette(20,  light=0.95, dark=0.15))\n",
    "ax.xaxis.tick_top\n",
    "plt.show()"
   ]
  },
  {
   "cell_type": "code",
   "execution_count": 356,
   "metadata": {},
   "outputs": [
    {
     "data": {
      "text/html": [
       "<div>\n",
       "<style scoped>\n",
       "    .dataframe tbody tr th:only-of-type {\n",
       "        vertical-align: middle;\n",
       "    }\n",
       "\n",
       "    .dataframe tbody tr th {\n",
       "        vertical-align: top;\n",
       "    }\n",
       "\n",
       "    .dataframe thead th {\n",
       "        text-align: right;\n",
       "    }\n",
       "</style>\n",
       "<table border=\"1\" class=\"dataframe\">\n",
       "  <thead>\n",
       "    <tr style=\"text-align: right;\">\n",
       "      <th></th>\n",
       "      <th>LogValue_2015</th>\n",
       "      <th>LogTotTaxes</th>\n",
       "      <th>MortDeliq30-89</th>\n",
       "      <th>MortDeliq90</th>\n",
       "      <th>white_pop</th>\n",
       "      <th>black_pop</th>\n",
       "      <th>asian_pop</th>\n",
       "      <th>hispanic_pop</th>\n",
       "      <th>gini_index</th>\n",
       "      <th>Logincome_per_capita</th>\n",
       "      <th>natural_amenity_rank</th>\n",
       "      <th>education</th>\n",
       "      <th>LogValue</th>\n",
       "    </tr>\n",
       "  </thead>\n",
       "  <tbody>\n",
       "    <tr>\n",
       "      <th>0</th>\n",
       "      <td>7.421776</td>\n",
       "      <td>6.350867</td>\n",
       "      <td>2.300000</td>\n",
       "      <td>3.00000</td>\n",
       "      <td>0.815625</td>\n",
       "      <td>0.026682</td>\n",
       "      <td>0.071471</td>\n",
       "      <td>0.060639</td>\n",
       "      <td>0.5041</td>\n",
       "      <td>11.084002</td>\n",
       "      <td>3.0</td>\n",
       "      <td>1.828814</td>\n",
       "      <td>7.458763</td>\n",
       "    </tr>\n",
       "    <tr>\n",
       "      <th>2</th>\n",
       "      <td>7.036148</td>\n",
       "      <td>6.229107</td>\n",
       "      <td>2.149178</td>\n",
       "      <td>2.17876</td>\n",
       "      <td>0.581662</td>\n",
       "      <td>0.062797</td>\n",
       "      <td>0.155716</td>\n",
       "      <td>0.173303</td>\n",
       "      <td>0.3454</td>\n",
       "      <td>10.767516</td>\n",
       "      <td>3.0</td>\n",
       "      <td>1.264326</td>\n",
       "      <td>7.101676</td>\n",
       "    </tr>\n",
       "    <tr>\n",
       "      <th>3</th>\n",
       "      <td>7.507690</td>\n",
       "      <td>6.965521</td>\n",
       "      <td>2.300000</td>\n",
       "      <td>3.00000</td>\n",
       "      <td>0.804186</td>\n",
       "      <td>0.043573</td>\n",
       "      <td>0.057157</td>\n",
       "      <td>0.066750</td>\n",
       "      <td>0.5235</td>\n",
       "      <td>11.163567</td>\n",
       "      <td>3.0</td>\n",
       "      <td>1.693632</td>\n",
       "      <td>7.515345</td>\n",
       "    </tr>\n",
       "    <tr>\n",
       "      <th>4</th>\n",
       "      <td>6.858565</td>\n",
       "      <td>4.276235</td>\n",
       "      <td>4.500000</td>\n",
       "      <td>2.10000</td>\n",
       "      <td>0.111496</td>\n",
       "      <td>0.015401</td>\n",
       "      <td>0.009632</td>\n",
       "      <td>0.853346</td>\n",
       "      <td>0.4264</td>\n",
       "      <td>9.978920</td>\n",
       "      <td>5.0</td>\n",
       "      <td>0.659715</td>\n",
       "      <td>6.800170</td>\n",
       "    </tr>\n",
       "    <tr>\n",
       "      <th>5</th>\n",
       "      <td>7.243513</td>\n",
       "      <td>5.445087</td>\n",
       "      <td>2.300000</td>\n",
       "      <td>3.00000</td>\n",
       "      <td>0.542195</td>\n",
       "      <td>0.192627</td>\n",
       "      <td>0.104966</td>\n",
       "      <td>0.122316</td>\n",
       "      <td>0.5263</td>\n",
       "      <td>10.564266</td>\n",
       "      <td>3.0</td>\n",
       "      <td>1.471915</td>\n",
       "      <td>7.288244</td>\n",
       "    </tr>\n",
       "  </tbody>\n",
       "</table>\n",
       "</div>"
      ],
      "text/plain": [
       "   LogValue_2015  LogTotTaxes  MortDeliq30-89  MortDeliq90  white_pop  \\\n",
       "0       7.421776     6.350867        2.300000      3.00000   0.815625   \n",
       "2       7.036148     6.229107        2.149178      2.17876   0.581662   \n",
       "3       7.507690     6.965521        2.300000      3.00000   0.804186   \n",
       "4       6.858565     4.276235        4.500000      2.10000   0.111496   \n",
       "5       7.243513     5.445087        2.300000      3.00000   0.542195   \n",
       "\n",
       "   black_pop  asian_pop  hispanic_pop  gini_index  Logincome_per_capita  \\\n",
       "0   0.026682   0.071471      0.060639      0.5041             11.084002   \n",
       "2   0.062797   0.155716      0.173303      0.3454             10.767516   \n",
       "3   0.043573   0.057157      0.066750      0.5235             11.163567   \n",
       "4   0.015401   0.009632      0.853346      0.4264              9.978920   \n",
       "5   0.192627   0.104966      0.122316      0.5263             10.564266   \n",
       "\n",
       "   natural_amenity_rank  education  LogValue  \n",
       "0                   3.0   1.828814  7.458763  \n",
       "2                   3.0   1.264326  7.101676  \n",
       "3                   3.0   1.693632  7.515345  \n",
       "4                   5.0   0.659715  6.800170  \n",
       "5                   3.0   1.471915  7.288244  "
      ]
     },
     "execution_count": 356,
     "metadata": {},
     "output_type": "execute_result"
    }
   ],
   "source": [
    "train_df.head()"
   ]
  },
  {
   "cell_type": "code",
   "execution_count": 359,
   "metadata": {},
   "outputs": [
    {
     "data": {
      "text/plain": [
       "Index(['LogValue_2015', 'MortDeliq30-89', 'MortDeliq90', 'white_pop',\n",
       "       'asian_pop', 'gini_index', 'natural_amenity_rank'],\n",
       "      dtype='object')"
      ]
     },
     "execution_count": 359,
     "metadata": {},
     "output_type": "execute_result"
    }
   ],
   "source": [
    "import matplotlib.pyplot as plt\n",
    "import numpy as np\n",
    "\n",
    "from sklearn.feature_selection import SelectFromModel\n",
    "from sklearn.linear_model import LassoCV\n",
    "\n",
    "# load data\n",
    "X = X_train\n",
    "y = y_train\n",
    "\n",
    "# Use L1 penalty\n",
    "estimator = LassoCV(cv=5, normalize = True)\n",
    "\n",
    "# Set a minimum threshold of 0.25\n",
    "sfm = SelectFromModel(estimator, threshold=0.01, prefit=False, norm_order=1, max_features=None)\n",
    "\n",
    "sfm.fit(X, y)\n",
    "\n",
    "feature_idx = sfm.get_support()\n",
    "feature_name = X.columns[feature_idx]\n",
    "feature_name\n"
   ]
  },
  {
   "cell_type": "code",
   "execution_count": 360,
   "metadata": {},
   "outputs": [
    {
     "data": {
      "text/plain": [
       "7"
      ]
     },
     "execution_count": 360,
     "metadata": {},
     "output_type": "execute_result"
    }
   ],
   "source": [
    "n_features = sfm.transform(X).shape[1]\n",
    "n_features"
   ]
  },
  {
   "cell_type": "code",
   "execution_count": 362,
   "metadata": {},
   "outputs": [
    {
     "data": {
      "text/plain": [
       "<matplotlib.axes._subplots.AxesSubplot at 0x1a3c62a410>"
      ]
     },
     "execution_count": 362,
     "metadata": {},
     "output_type": "execute_result"
    },
    {
     "data": {
      "image/png": "[encoded data removed]",
      "text/plain": [
       "<Figure size 432x288 with 1 Axes>"
      ]
     },
     "metadata": {
      "needs_background": "light"
     },
     "output_type": "display_data"
    }
   ],
   "source": [
    "# simple plot of residuals\n",
    "import seaborn as sns\n",
    "\n",
    "sns.residplot('LogValue', 'Logincome_per_capita', data=train_df)"
   ]
  },
  {
   "cell_type": "code",
   "execution_count": 363,
   "metadata": {},
   "outputs": [],
   "source": [
    "#sns.distplot(np.log(train_df['income_per_capita']), kde = True, color = 'r', hist_kws={'alpha': 0.9})"
   ]
  },
  {
   "cell_type": "code",
   "execution_count": null,
   "metadata": {},
   "outputs": [],
   "source": [
    "#sns.distplot(np.log(train_df['SalariesWages']), kde = True, color = 'r', hist_kws={'alpha': 0.9})\n"
   ]
  },
  {
   "cell_type": "code",
   "execution_count": null,
   "metadata": {},
   "outputs": [],
   "source": [
    "#sns.distplot(np.log(train_df['SalariesWages']), kde = True, color = 'r', hist_kws={'alpha': 0.9})\n"
   ]
  },
  {
   "cell_type": "code",
   "execution_count": null,
   "metadata": {},
   "outputs": [],
   "source": [
    "#sns.distplot(np.log(train_df['TotTaxes']), kde = True, color = 'r', hist_kws={'alpha': 0.9})"
   ]
  },
  {
   "cell_type": "code",
   "execution_count": null,
   "metadata": {},
   "outputs": [],
   "source": [
    "# y_train['value'] = np.log(y_train.value)"
   ]
  },
  {
   "cell_type": "code",
   "execution_count": 364,
   "metadata": {},
   "outputs": [
    {
     "name": "stdout",
     "output_type": "stream",
     "text": [
      "Linear Model\n",
      "--------------------\n",
      "Train Score:   0.96344\n",
      "Test Score:    0.95429\n",
      "\n"
     ]
    }
   ],
   "source": [
    "lm.fit(X_train, y_train)\n",
    "\n",
    "print('Linear Model')\n",
    "print('-'*20)\n",
    "print(\"Train Score:   %.5f\" % lm.score(X_train, y_train))\n",
    "print(\"Test Score:    %.5f\\n\" % lm.score(X_test, y_test))"
   ]
  },
  {
   "cell_type": "code",
   "execution_count": 365,
   "metadata": {},
   "outputs": [
    {
     "name": "stdout",
     "output_type": "stream",
     "text": [
      "Penalized Linear Model\n",
      "--------------------\n",
      "Train Score: 0.00000\n",
      "Test Score:  -0.00437\n"
     ]
    }
   ],
   "source": [
    "lasso.fit(X_train, y_train)\n",
    "\n",
    "print('Penalized Linear Model')\n",
    "print('-'*20)\n",
    "print(\"Train Score: %.5f\" % lasso.score(X_train, y_train))\n",
    "print(\"Test Score:  %.5f\" % lasso.score(X_test, y_test))"
   ]
  },
  {
   "cell_type": "code",
   "execution_count": 366,
   "metadata": {},
   "outputs": [
    {
     "name": "stdout",
     "output_type": "stream",
     "text": [
      "Final Model\n",
      "--------------------\n",
      "R^2 Score:  96.34\n",
      "Mean Error: $0\n",
      "\n"
     ]
    }
   ],
   "source": [
    "from sklearn.metrics import mean_squared_error\n",
    "\n",
    "def expo(list_):\n",
    "    return list(map(exp, list_))\n",
    "\n",
    "print('Final Model')\n",
    "print('-'*20)\n",
    "lm.fit(X_train, y_train)\n",
    "\n",
    "y_pred = lm.predict(X_test)#lin_mod\n",
    "\n",
    "    \n",
    "print(\"R^2 Score:  %.2f\" % (100*lm.score(X_train, y_train)))\n",
    "print(\"Mean Error: $%.0f\\n\" % mean_squared_error(y_test, y_pred))\n"
   ]
  },
  {
   "cell_type": "code",
   "execution_count": 369,
   "metadata": {},
   "outputs": [
    {
     "name": "stdout",
     "output_type": "stream",
     "text": [
      "Coefficients: \n",
      " [ 0.90763529  0.01246364 -0.01886763  0.01565896 -0.30374057 -0.26335692\n",
      " -0.24088229 -0.2675004  -0.09820183 -0.02245685  0.02153897  0.01578588]\n",
      "Mean squared error: 0.01\n",
      "R_squared score: 0.95\n"
     ]
    }
   ],
   "source": [
    "# Instantiate, fit, predict\n",
    "from sklearn.metrics import r2_score \n",
    "\n",
    "\n",
    "lm.fit(X_train, y_train)\n",
    "y_pred = lm.predict(X_test)\n",
    "\n",
    "# Coefficient estimates\n",
    "print('Coefficients: \\n', lm.coef_)\n",
    "\n",
    "# Mean squared error\n",
    "print(\"Mean squared error: %.2f\"\n",
    "      % mean_squared_error(y_test, y_pred))\n",
    "\n",
    "# Explained variance score\n",
    "print('R_squared score: %.2f' % r2_score(y_test, y_pred))"
   ]
  },
  {
   "cell_type": "code",
   "execution_count": 371,
   "metadata": {},
   "outputs": [],
   "source": [
    "# res_x = [target/1000 for target in expo(y_test)]\n",
    "# res_y = [(target - predict)/1000 for (target, predict) in zip(expo(y_test), expo(lm.predict(y_pred)))]\n",
    "# plt.figure(figsize=(8,8))\n",
    "# plt.scatter(res_x, res_y, alpha = 0.5)\n",
    "# plt.title('Distribution of Residuals')\n",
    "# plt.xlabel('Actual House Price in $K')\n",
    "# plt.ylabel('Residual House Price in $K')"
   ]
  },
  {
   "cell_type": "code",
   "execution_count": 372,
   "metadata": {},
   "outputs": [],
   "source": [
    "train_set = pd.concat([X_train, y_train], axis=1)"
   ]
  },
  {
   "cell_type": "code",
   "execution_count": 373,
   "metadata": {},
   "outputs": [
    {
     "data": {
      "text/html": [
       "<div>\n",
       "<style scoped>\n",
       "    .dataframe tbody tr th:only-of-type {\n",
       "        vertical-align: middle;\n",
       "    }\n",
       "\n",
       "    .dataframe tbody tr th {\n",
       "        vertical-align: top;\n",
       "    }\n",
       "\n",
       "    .dataframe thead th {\n",
       "        text-align: right;\n",
       "    }\n",
       "</style>\n",
       "<table border=\"1\" class=\"dataframe\">\n",
       "  <thead>\n",
       "    <tr style=\"text-align: right;\">\n",
       "      <th></th>\n",
       "      <th>LogValue_2015</th>\n",
       "      <th>LogTotTaxes</th>\n",
       "      <th>MortDeliq30-89</th>\n",
       "      <th>MortDeliq90</th>\n",
       "      <th>white_pop</th>\n",
       "      <th>black_pop</th>\n",
       "      <th>asian_pop</th>\n",
       "      <th>hispanic_pop</th>\n",
       "      <th>gini_index</th>\n",
       "      <th>Logincome_per_capita</th>\n",
       "      <th>natural_amenity_rank</th>\n",
       "      <th>education</th>\n",
       "      <th>LogValue</th>\n",
       "    </tr>\n",
       "  </thead>\n",
       "  <tbody>\n",
       "    <tr>\n",
       "      <th>0</th>\n",
       "      <td>7.421776</td>\n",
       "      <td>6.350867</td>\n",
       "      <td>2.300000</td>\n",
       "      <td>3.00000</td>\n",
       "      <td>0.815625</td>\n",
       "      <td>0.026682</td>\n",
       "      <td>0.071471</td>\n",
       "      <td>0.060639</td>\n",
       "      <td>0.5041</td>\n",
       "      <td>11.084002</td>\n",
       "      <td>3.0</td>\n",
       "      <td>1.828814</td>\n",
       "      <td>7.458763</td>\n",
       "    </tr>\n",
       "    <tr>\n",
       "      <th>2</th>\n",
       "      <td>7.036148</td>\n",
       "      <td>6.229107</td>\n",
       "      <td>2.149178</td>\n",
       "      <td>2.17876</td>\n",
       "      <td>0.581662</td>\n",
       "      <td>0.062797</td>\n",
       "      <td>0.155716</td>\n",
       "      <td>0.173303</td>\n",
       "      <td>0.3454</td>\n",
       "      <td>10.767516</td>\n",
       "      <td>3.0</td>\n",
       "      <td>1.264326</td>\n",
       "      <td>7.101676</td>\n",
       "    </tr>\n",
       "    <tr>\n",
       "      <th>3</th>\n",
       "      <td>7.507690</td>\n",
       "      <td>6.965521</td>\n",
       "      <td>2.300000</td>\n",
       "      <td>3.00000</td>\n",
       "      <td>0.804186</td>\n",
       "      <td>0.043573</td>\n",
       "      <td>0.057157</td>\n",
       "      <td>0.066750</td>\n",
       "      <td>0.5235</td>\n",
       "      <td>11.163567</td>\n",
       "      <td>3.0</td>\n",
       "      <td>1.693632</td>\n",
       "      <td>7.515345</td>\n",
       "    </tr>\n",
       "    <tr>\n",
       "      <th>4</th>\n",
       "      <td>6.858565</td>\n",
       "      <td>4.276235</td>\n",
       "      <td>4.500000</td>\n",
       "      <td>2.10000</td>\n",
       "      <td>0.111496</td>\n",
       "      <td>0.015401</td>\n",
       "      <td>0.009632</td>\n",
       "      <td>0.853346</td>\n",
       "      <td>0.4264</td>\n",
       "      <td>9.978920</td>\n",
       "      <td>5.0</td>\n",
       "      <td>0.659715</td>\n",
       "      <td>6.800170</td>\n",
       "    </tr>\n",
       "    <tr>\n",
       "      <th>5</th>\n",
       "      <td>7.243513</td>\n",
       "      <td>5.445087</td>\n",
       "      <td>2.300000</td>\n",
       "      <td>3.00000</td>\n",
       "      <td>0.542195</td>\n",
       "      <td>0.192627</td>\n",
       "      <td>0.104966</td>\n",
       "      <td>0.122316</td>\n",
       "      <td>0.5263</td>\n",
       "      <td>10.564266</td>\n",
       "      <td>3.0</td>\n",
       "      <td>1.471915</td>\n",
       "      <td>7.288244</td>\n",
       "    </tr>\n",
       "  </tbody>\n",
       "</table>\n",
       "</div>"
      ],
      "text/plain": [
       "   LogValue_2015  LogTotTaxes  MortDeliq30-89  MortDeliq90  white_pop  \\\n",
       "0       7.421776     6.350867        2.300000      3.00000   0.815625   \n",
       "2       7.036148     6.229107        2.149178      2.17876   0.581662   \n",
       "3       7.507690     6.965521        2.300000      3.00000   0.804186   \n",
       "4       6.858565     4.276235        4.500000      2.10000   0.111496   \n",
       "5       7.243513     5.445087        2.300000      3.00000   0.542195   \n",
       "\n",
       "   black_pop  asian_pop  hispanic_pop  gini_index  Logincome_per_capita  \\\n",
       "0   0.026682   0.071471      0.060639      0.5041             11.084002   \n",
       "2   0.062797   0.155716      0.173303      0.3454             10.767516   \n",
       "3   0.043573   0.057157      0.066750      0.5235             11.163567   \n",
       "4   0.015401   0.009632      0.853346      0.4264              9.978920   \n",
       "5   0.192627   0.104966      0.122316      0.5263             10.564266   \n",
       "\n",
       "   natural_amenity_rank  education  LogValue  \n",
       "0                   3.0   1.828814  7.458763  \n",
       "2                   3.0   1.264326  7.101676  \n",
       "3                   3.0   1.693632  7.515345  \n",
       "4                   5.0   0.659715  6.800170  \n",
       "5                   3.0   1.471915  7.288244  "
      ]
     },
     "execution_count": 373,
     "metadata": {},
     "output_type": "execute_result"
    }
   ],
   "source": [
    "train_set.head()"
   ]
  },
  {
   "cell_type": "code",
   "execution_count": 375,
   "metadata": {},
   "outputs": [
    {
     "name": "stdout",
     "output_type": "stream",
     "text": [
      "OLS regression model for the association between ZRI value and asian_pop\n",
      "                            OLS Regression Results                            \n",
      "==============================================================================\n",
      "Dep. Variable:               LogValue   R-squared:                       0.182\n",
      "Model:                            OLS   Adj. R-squared:                  0.182\n",
      "Method:                 Least Squares   F-statistic:                     3608.\n",
      "Date:                Sat, 19 Sep 2020   Prob (F-statistic):               0.00\n",
      "Time:                        18:48:59   Log-Likelihood:                -5705.9\n",
      "No. Observations:               16232   AIC:                         1.142e+04\n",
      "Df Residuals:                   16230   BIC:                         1.143e+04\n",
      "Df Model:                           1                                         \n",
      "Covariance Type:            nonrobust                                         \n",
      "==============================================================================\n",
      "                 coef    std err          t      P>|t|      [0.025      0.975]\n",
      "------------------------------------------------------------------------------\n",
      "Intercept      7.1625      0.004   2028.075      0.000       7.156       7.169\n",
      "asian_pop      1.7069      0.028     60.066      0.000       1.651       1.763\n",
      "==============================================================================\n",
      "Omnibus:                      699.955   Durbin-Watson:                   2.037\n",
      "Prob(Omnibus):                  0.000   Jarque-Bera (JB):              293.357\n",
      "Skew:                          -0.012   Prob(JB):                     1.99e-64\n",
      "Kurtosis:                       2.342   Cond. No.                         10.6\n",
      "==============================================================================\n",
      "\n",
      "Warnings:\n",
      "[1] Standard Errors assume that the covariance matrix of the errors is correctly specified.\n"
     ]
    }
   ],
   "source": [
    "import statsmodels.api as sm\n",
    "import statsmodels.formula.api as smf \n",
    "print (\"OLS regression model for the association between ZRI value and asian_pop\")\n",
    "# reg1 is the model name , followed by equal sign. \n",
    "reg1 = smf.ols(formula = 'LogValue ~ asian_pop', data=train_set).fit()\n",
    "# print the result\n",
    "print (reg1.summary())"
   ]
  },
  {
   "cell_type": "code",
   "execution_count": 376,
   "metadata": {},
   "outputs": [
    {
     "name": "stdout",
     "output_type": "stream",
     "text": [
      "OLS regression model for the association between ZRI value and income_per_capita\n",
      "                            OLS Regression Results                            \n",
      "==============================================================================\n",
      "Dep. Variable:               LogValue   R-squared:                       0.157\n",
      "Model:                            OLS   Adj. R-squared:                  0.157\n",
      "Method:                 Least Squares   F-statistic:                     3032.\n",
      "Date:                Sat, 19 Sep 2020   Prob (F-statistic):               0.00\n",
      "Time:                        18:49:08   Log-Likelihood:                -5945.0\n",
      "No. Observations:               16232   AIC:                         1.189e+04\n",
      "Df Residuals:                   16230   BIC:                         1.191e+04\n",
      "Df Model:                           1                                         \n",
      "Covariance Type:            nonrobust                                         \n",
      "========================================================================================\n",
      "                           coef    std err          t      P>|t|      [0.025      0.975]\n",
      "----------------------------------------------------------------------------------------\n",
      "Intercept                3.8740      0.062     62.215      0.000       3.752       3.996\n",
      "Logincome_per_capita     0.3330      0.006     55.063      0.000       0.321       0.345\n",
      "==============================================================================\n",
      "Omnibus:                      976.149   Durbin-Watson:                   1.973\n",
      "Prob(Omnibus):                  0.000   Jarque-Bera (JB):              390.230\n",
      "Skew:                           0.123   Prob(JB):                     1.83e-85\n",
      "Kurtosis:                       2.281   Cond. No.                         236.\n",
      "==============================================================================\n",
      "\n",
      "Warnings:\n",
      "[1] Standard Errors assume that the covariance matrix of the errors is correctly specified.\n"
     ]
    }
   ],
   "source": [
    "import statsmodels.api as sm\n",
    "import statsmodels.formula.api as smf \n",
    "print (\"OLS regression model for the association between ZRI value and income_per_capita\")\n",
    "# reg1 is the model name , followed by equal sign. \n",
    "reg1 = smf.ols(formula = 'LogValue ~ Logincome_per_capita', data=train_set).fit()\n",
    "# print the result\n",
    "print (reg1.summary())"
   ]
  },
  {
   "cell_type": "code",
   "execution_count": 377,
   "metadata": {},
   "outputs": [
    {
     "data": {
      "image/png": "[encoded data removed]",
      "text/plain": [
       "<Figure size 432x288 with 1 Axes>"
      ]
     },
     "metadata": {
      "needs_background": "light"
     },
     "output_type": "display_data"
    }
   ],
   "source": [
    "#Q-Q plot for normality\n",
    "fig4=sm.qqplot(reg1.resid, line='r')"
   ]
  },
  {
   "cell_type": "code",
   "execution_count": 379,
   "metadata": {},
   "outputs": [
    {
     "data": {
      "text/plain": [
       "<matplotlib.axes._subplots.AxesSubplot at 0x1a3f177d10>"
      ]
     },
     "execution_count": 379,
     "metadata": {},
     "output_type": "execute_result"
    },
    {
     "data": {
      "image/png": "[encoded data removed]",
      "text/plain": [
       "<Figure size 432x288 with 1 Axes>"
      ]
     },
     "metadata": {
      "needs_background": "light"
     },
     "output_type": "display_data"
    }
   ],
   "source": [
    "# simple plot of residuals\n",
    "import seaborn as sns\n",
    "\n",
    "sns.residplot('LogValue', 'Logincome_per_capita', data=train_set)"
   ]
  },
  {
   "cell_type": "code",
   "execution_count": null,
   "metadata": {},
   "outputs": [],
   "source": [
    "train_set.columns"
   ]
  },
  {
   "cell_type": "code",
   "execution_count": 380,
   "metadata": {},
   "outputs": [
    {
     "name": "stdout",
     "output_type": "stream",
     "text": [
      "\n",
      "\n",
      "---------------------\n",
      "TRAIN SET INFORMATION\n",
      "---------------------\n",
      "Shape of training set: (16232, 13) \n",
      "\n",
      "Column Headers: ['LogValue_2015', 'LogTotTaxes', 'MortDeliq30-89', 'MortDeliq90', 'white_pop', 'black_pop', 'asian_pop', 'hispanic_pop', 'gini_index', 'Logincome_per_capita', 'natural_amenity_rank', 'education', 'LogValue'] \n",
      "\n",
      "LogValue_2015           float64\n",
      "LogTotTaxes             float64\n",
      "MortDeliq30-89          float64\n",
      "MortDeliq90             float64\n",
      "white_pop               float64\n",
      "black_pop               float64\n",
      "asian_pop               float64\n",
      "hispanic_pop            float64\n",
      "gini_index              float64\n",
      "Logincome_per_capita    float64\n",
      "natural_amenity_rank    float64\n",
      "education               float64\n",
      "LogValue                float64\n",
      "dtype: object\n"
     ]
    }
   ],
   "source": [
    "print (\"\\n\\n---------------------\")\n",
    "print (\"TRAIN SET INFORMATION\")\n",
    "print (\"---------------------\")\n",
    "print (\"Shape of training set:\", train_set.shape, \"\\n\")\n",
    "print (\"Column Headers:\", list(train_set.columns.values), \"\\n\")\n",
    "print (train_set.dtypes)"
   ]
  },
  {
   "cell_type": "code",
   "execution_count": 381,
   "metadata": {},
   "outputs": [
    {
     "name": "stdout",
     "output_type": "stream",
     "text": [
      "TRAINING SET INFORMATION\n",
      "========================\n",
      "\n",
      "'LogValue_2015' has 2408 unique values\n",
      "~~Listing up to 10 unique values~~\n",
      "[7.42177579 7.03614849 7.50769008 6.85856503 7.24351297 7.53689713\n",
      " 7.27378632 7.03262426 8.08425411 7.30114781]\n",
      "\n",
      "-----------------------------------------------------------------------\n",
      "\n",
      "'LogTotTaxes' has 1454 unique values\n",
      "~~Listing up to 10 unique values~~\n",
      "[6.35086727 6.22910712 6.96552063 4.27623545 5.44508714 5.06574688\n",
      " 4.5592508  5.18651449 7.07649258 5.31612566]\n",
      "\n",
      "-----------------------------------------------------------------------\n",
      "\n",
      "'MortDeliq30-89' has 57 unique values\n",
      "~~Listing up to 10 unique values~~\n",
      "[2.3        2.14917826 4.5        2.7        3.2        1.7\n",
      " 0.6        2.1        3.3        1.        ]\n",
      "\n",
      "-----------------------------------------------------------------------\n",
      "\n",
      "'MortDeliq90' has 57 unique values\n",
      "~~Listing up to 10 unique values~~\n",
      "[3.        2.1787599 2.1       4.3       5.8       1.1       0.7\n",
      " 4.2       1.6       1.       ]\n",
      "\n",
      "-----------------------------------------------------------------------\n",
      "\n",
      "'white_pop' has 1454 unique values\n",
      "~~Listing up to 10 unique values~~\n",
      "[0.81562468 0.5816615  0.80418593 0.11149648 0.54219531 0.08866358\n",
      " 0.08904028 0.44380083 0.55127636 0.39452129]\n",
      "\n",
      "-----------------------------------------------------------------------\n",
      "\n",
      "'black_pop' has 1454 unique values\n",
      "~~Listing up to 10 unique values~~\n",
      "[0.02668229 0.06279733 0.04357346 0.01540123 0.1926268  0.68815261\n",
      " 0.3279016  0.14242351 0.04160375 0.05594263]\n",
      "\n",
      "-----------------------------------------------------------------------\n",
      "\n",
      "'asian_pop' has 1451 unique values\n",
      "~~Listing up to 10 unique values~~\n",
      "[0.07147092 0.15571602 0.05715685 0.00963235 0.10496593 0.03036576\n",
      " 0.06726719 0.08724247 0.26720907 0.02448198]\n",
      "\n",
      "-----------------------------------------------------------------------\n",
      "\n",
      "'hispanic_pop' has 1454 unique values\n",
      "~~Listing up to 10 unique values~~\n",
      "[0.06063893 0.17330291 0.06675021 0.85334586 0.12231643 0.16458304\n",
      " 0.49200071 0.30746076 0.09670829 0.50527365]\n",
      "\n",
      "-----------------------------------------------------------------------\n",
      "\n",
      "'gini_index' has 1011 unique values\n",
      "~~Listing up to 10 unique values~~\n",
      "[0.5041 0.3454 0.5235 0.4264 0.5263 0.4623 0.4772 0.3766 0.5392 0.4895]\n",
      "\n",
      "-----------------------------------------------------------------------\n",
      "\n",
      "'Logincome_per_capita' has 1433 unique values\n",
      "~~Listing up to 10 unique values~~\n",
      "[11.08400236 10.7675161  11.16356655  9.97891965 10.56426649 10.01525252\n",
      "  9.77223927 10.31910099 11.09040066 10.37832324]\n",
      "\n",
      "-----------------------------------------------------------------------\n",
      "\n",
      "'natural_amenity_rank' has 7 unique values\n",
      "[3. 5. 4. 7. 6. 2. 1.]\n",
      "\n",
      "-----------------------------------------------------------------------\n",
      "\n",
      "'education' has 1454 unique values\n",
      "~~Listing up to 10 unique values~~\n",
      "[1.82881398 1.26432553 1.69363179 0.65971533 1.47191522 0.78274393\n",
      " 0.60767892 0.97288376 1.76545929 1.10091878]\n",
      "\n",
      "-----------------------------------------------------------------------\n",
      "\n",
      "'LogValue' has 2491 unique values\n",
      "~~Listing up to 10 unique values~~\n",
      "[7.45876269 7.10167597 7.51534457 6.80017007 7.2882444  7.57301726\n",
      " 7.44949801 7.14834574 8.09620827 7.35500192]\n",
      "\n",
      "-----------------------------------------------------------------------\n",
      "\n",
      "\n",
      "~~~~~~~~~~~~~~~~~~~~~~~~~~~~~~~~~~~~~~~~~~~~~~~~~~~~~~~~~~~~~~~~~~~~~~~~~~~~~~~~~~~~~\n",
      "\n",
      "Features with missing values:\n",
      "[]\n",
      "\n",
      "\n",
      "Features with non-numeric values:\n",
      "[]\n",
      "\n",
      "~~~~~~~~~~~~~~~~~~~~~~~~~~~~~~~~~~~~~~~~~~~~~~~~~~~~~~~~~~~~~~~~~~~~~~~~~~~~~~~~~~~~~\n",
      "\n"
     ]
    }
   ],
   "source": [
    "import re\n",
    "missing_values = []\n",
    "nonumeric_values = []\n",
    "\n",
    "print (\"TRAINING SET INFORMATION\")\n",
    "print (\"========================\\n\")\n",
    "\n",
    "for column in train_set:\n",
    "    # Find all the unique feature values\n",
    "    uniq = train_set[column].unique()\n",
    "    print (\"'{}' has {} unique values\" .format(column,uniq.size))\n",
    "    if (uniq.size > 10):\n",
    "        print(\"~~Listing up to 10 unique values~~\")\n",
    "    print (uniq[0:10])\n",
    "    print (\"\\n-----------------------------------------------------------------------\\n\")\n",
    "    \n",
    "    # Find features with missing values\n",
    "    if (True in pd.isnull(uniq)):\n",
    "        s = \"{} has {} missing\" .format(column, pd.isnull(train_set[column]).sum())\n",
    "        missing_values.append(s)\n",
    "    \n",
    "    # Find features with non-numeric values\n",
    "    for i in range (1, np.prod(uniq.shape)):\n",
    "        if (re.match('nan', str(uniq[i]))):\n",
    "            break\n",
    "        if not (re.search('(^\\d+\\.?\\d*$)|(^\\d*\\.?\\d+$)', str(uniq[i]))):\n",
    "            nonumeric_values.append(column)\n",
    "            break\n",
    "  \n",
    "print (\"\\n~~~~~~~~~~~~~~~~~~~~~~~~~~~~~~~~~~~~~~~~~~~~~~~~~~~~~~~~~~~~~~~~~~~~~~~~~~~~~~~~~~~~~\\n\")\n",
    "print (\"Features with missing values:\\n{}\\n\\n\" .format(missing_values))\n",
    "print (\"Features with non-numeric values:\\n{}\" .format(nonumeric_values))\n",
    "print (\"\\n~~~~~~~~~~~~~~~~~~~~~~~~~~~~~~~~~~~~~~~~~~~~~~~~~~~~~~~~~~~~~~~~~~~~~~~~~~~~~~~~~~~~~\\n\")"
   ]
  },
  {
   "cell_type": "code",
   "execution_count": 382,
   "metadata": {},
   "outputs": [
    {
     "name": "stdout",
     "output_type": "stream",
     "text": [
      "There are 0 duplicate IDs for 16232 total entries\n"
     ]
    }
   ],
   "source": [
    "# Check for duplicate index or rows\n",
    "idsUnique = len(set(train_set.index))\n",
    "idsTotal = train_set.shape[0]\n",
    "idsDupli = idsTotal - idsUnique\n",
    "print(\"There are \" + str(idsDupli) + \" duplicate IDs for \" + str(idsTotal) + \" total entries\")"
   ]
  },
  {
   "cell_type": "code",
   "execution_count": 383,
   "metadata": {},
   "outputs": [
    {
     "data": {
      "text/html": [
       "<div>\n",
       "<style scoped>\n",
       "    .dataframe tbody tr th:only-of-type {\n",
       "        vertical-align: middle;\n",
       "    }\n",
       "\n",
       "    .dataframe tbody tr th {\n",
       "        vertical-align: top;\n",
       "    }\n",
       "\n",
       "    .dataframe thead th {\n",
       "        text-align: right;\n",
       "    }\n",
       "</style>\n",
       "<table border=\"1\" class=\"dataframe\">\n",
       "  <thead>\n",
       "    <tr style=\"text-align: right;\">\n",
       "      <th></th>\n",
       "      <th>LogValue_2015</th>\n",
       "      <th>LogTotTaxes</th>\n",
       "      <th>MortDeliq30-89</th>\n",
       "      <th>MortDeliq90</th>\n",
       "      <th>white_pop</th>\n",
       "      <th>black_pop</th>\n",
       "      <th>asian_pop</th>\n",
       "      <th>hispanic_pop</th>\n",
       "      <th>gini_index</th>\n",
       "      <th>Logincome_per_capita</th>\n",
       "      <th>natural_amenity_rank</th>\n",
       "      <th>education</th>\n",
       "      <th>LogValue</th>\n",
       "    </tr>\n",
       "  </thead>\n",
       "  <tbody>\n",
       "    <tr>\n",
       "      <th>count</th>\n",
       "      <td>16232.000000</td>\n",
       "      <td>16232.000000</td>\n",
       "      <td>16232.000000</td>\n",
       "      <td>16232.000000</td>\n",
       "      <td>16232.000000</td>\n",
       "      <td>16232.000000</td>\n",
       "      <td>16232.000000</td>\n",
       "      <td>16232.000000</td>\n",
       "      <td>16232.000000</td>\n",
       "      <td>16232.000000</td>\n",
       "      <td>16232.000000</td>\n",
       "      <td>16232.000000</td>\n",
       "      <td>16232.000000</td>\n",
       "    </tr>\n",
       "    <tr>\n",
       "      <th>mean</th>\n",
       "      <td>7.208741</td>\n",
       "      <td>5.295491</td>\n",
       "      <td>2.080028</td>\n",
       "      <td>2.091439</td>\n",
       "      <td>0.505920</td>\n",
       "      <td>0.158088</td>\n",
       "      <td>0.080139</td>\n",
       "      <td>0.222805</td>\n",
       "      <td>0.461378</td>\n",
       "      <td>10.285659</td>\n",
       "      <td>4.132701</td>\n",
       "      <td>0.973286</td>\n",
       "      <td>7.299328</td>\n",
       "    </tr>\n",
       "    <tr>\n",
       "      <th>std</th>\n",
       "      <td>0.387965</td>\n",
       "      <td>1.076202</td>\n",
       "      <td>0.768142</td>\n",
       "      <td>1.012056</td>\n",
       "      <td>0.260271</td>\n",
       "      <td>0.198060</td>\n",
       "      <td>0.094996</td>\n",
       "      <td>0.206948</td>\n",
       "      <td>0.052346</td>\n",
       "      <td>0.452968</td>\n",
       "      <td>1.485936</td>\n",
       "      <td>0.378077</td>\n",
       "      <td>0.380214</td>\n",
       "    </tr>\n",
       "    <tr>\n",
       "      <th>min</th>\n",
       "      <td>6.139885</td>\n",
       "      <td>1.474761</td>\n",
       "      <td>0.200000</td>\n",
       "      <td>0.200000</td>\n",
       "      <td>0.005237</td>\n",
       "      <td>0.000617</td>\n",
       "      <td>0.000000</td>\n",
       "      <td>0.003302</td>\n",
       "      <td>0.326100</td>\n",
       "      <td>9.173780</td>\n",
       "      <td>1.000000</td>\n",
       "      <td>0.196150</td>\n",
       "      <td>6.293419</td>\n",
       "    </tr>\n",
       "    <tr>\n",
       "      <th>25%</th>\n",
       "      <td>6.905753</td>\n",
       "      <td>4.596455</td>\n",
       "      <td>1.600000</td>\n",
       "      <td>1.300000</td>\n",
       "      <td>0.311214</td>\n",
       "      <td>0.030026</td>\n",
       "      <td>0.021260</td>\n",
       "      <td>0.071320</td>\n",
       "      <td>0.424900</td>\n",
       "      <td>9.976552</td>\n",
       "      <td>3.000000</td>\n",
       "      <td>0.684644</td>\n",
       "      <td>7.033506</td>\n",
       "    </tr>\n",
       "    <tr>\n",
       "      <th>50%</th>\n",
       "      <td>7.199678</td>\n",
       "      <td>5.332099</td>\n",
       "      <td>2.100000</td>\n",
       "      <td>2.000000</td>\n",
       "      <td>0.543967</td>\n",
       "      <td>0.079847</td>\n",
       "      <td>0.047343</td>\n",
       "      <td>0.152132</td>\n",
       "      <td>0.454900</td>\n",
       "      <td>10.255376</td>\n",
       "      <td>3.000000</td>\n",
       "      <td>0.932191</td>\n",
       "      <td>7.282761</td>\n",
       "    </tr>\n",
       "    <tr>\n",
       "      <th>75%</th>\n",
       "      <td>7.529943</td>\n",
       "      <td>6.051938</td>\n",
       "      <td>2.500000</td>\n",
       "      <td>2.700000</td>\n",
       "      <td>0.722533</td>\n",
       "      <td>0.197638</td>\n",
       "      <td>0.098698</td>\n",
       "      <td>0.308822</td>\n",
       "      <td>0.493400</td>\n",
       "      <td>10.608514</td>\n",
       "      <td>5.000000</td>\n",
       "      <td>1.229185</td>\n",
       "      <td>7.630947</td>\n",
       "    </tr>\n",
       "    <tr>\n",
       "      <th>max</th>\n",
       "      <td>8.137396</td>\n",
       "      <td>8.892779</td>\n",
       "      <td>5.900000</td>\n",
       "      <td>5.900000</td>\n",
       "      <td>0.968975</td>\n",
       "      <td>0.979294</td>\n",
       "      <td>0.732625</td>\n",
       "      <td>0.979747</td>\n",
       "      <td>0.690900</td>\n",
       "      <td>11.695214</td>\n",
       "      <td>7.000000</td>\n",
       "      <td>2.186592</td>\n",
       "      <td>8.137103</td>\n",
       "    </tr>\n",
       "  </tbody>\n",
       "</table>\n",
       "</div>"
      ],
      "text/plain": [
       "       LogValue_2015   LogTotTaxes  MortDeliq30-89   MortDeliq90  \\\n",
       "count   16232.000000  16232.000000    16232.000000  16232.000000   \n",
       "mean        7.208741      5.295491        2.080028      2.091439   \n",
       "std         0.387965      1.076202        0.768142      1.012056   \n",
       "min         6.139885      1.474761        0.200000      0.200000   \n",
       "25%         6.905753      4.596455        1.600000      1.300000   \n",
       "50%         7.199678      5.332099        2.100000      2.000000   \n",
       "75%         7.529943      6.051938        2.500000      2.700000   \n",
       "max         8.137396      8.892779        5.900000      5.900000   \n",
       "\n",
       "          white_pop     black_pop     asian_pop  hispanic_pop    gini_index  \\\n",
       "count  16232.000000  16232.000000  16232.000000  16232.000000  16232.000000   \n",
       "mean       0.505920      0.158088      0.080139      0.222805      0.461378   \n",
       "std        0.260271      0.198060      0.094996      0.206948      0.052346   \n",
       "min        0.005237      0.000617      0.000000      0.003302      0.326100   \n",
       "25%        0.311214      0.030026      0.021260      0.071320      0.424900   \n",
       "50%        0.543967      0.079847      0.047343      0.152132      0.454900   \n",
       "75%        0.722533      0.197638      0.098698      0.308822      0.493400   \n",
       "max        0.968975      0.979294      0.732625      0.979747      0.690900   \n",
       "\n",
       "       Logincome_per_capita  natural_amenity_rank     education      LogValue  \n",
       "count          16232.000000          16232.000000  16232.000000  16232.000000  \n",
       "mean              10.285659              4.132701      0.973286      7.299328  \n",
       "std                0.452968              1.485936      0.378077      0.380214  \n",
       "min                9.173780              1.000000      0.196150      6.293419  \n",
       "25%                9.976552              3.000000      0.684644      7.033506  \n",
       "50%               10.255376              3.000000      0.932191      7.282761  \n",
       "75%               10.608514              5.000000      1.229185      7.630947  \n",
       "max               11.695214              7.000000      2.186592      8.137103  "
      ]
     },
     "execution_count": 383,
     "metadata": {},
     "output_type": "execute_result"
    }
   ],
   "source": [
    "#get summary of numerical variables\n",
    "train_set.describe()"
   ]
  },
  {
   "cell_type": "code",
   "execution_count": 384,
   "metadata": {},
   "outputs": [
    {
     "name": "stdout",
     "output_type": "stream",
     "text": [
      "LogValue_2015           0.014384\n",
      "LogTotTaxes            -0.059441\n",
      "MortDeliq30-89          0.785002\n",
      "MortDeliq90             0.719880\n",
      "white_pop              -0.328686\n",
      "black_pop               2.134712\n",
      "asian_pop               2.582877\n",
      "hispanic_pop            1.440239\n",
      "gini_index              0.590211\n",
      "Logincome_per_capita    0.189863\n",
      "natural_amenity_rank    0.778618\n",
      "education               0.403717\n",
      "LogValue               -0.120789\n",
      "dtype: float64\n"
     ]
    }
   ],
   "source": [
    "# Skewness of the distribution\n",
    "\n",
    "print(train_set.skew())\n",
    "\n",
    "# Values close to 0 show less skew\n"
   ]
  },
  {
   "cell_type": "code",
   "execution_count": 385,
   "metadata": {},
   "outputs": [
    {
     "name": "stdout",
     "output_type": "stream",
     "text": [
      "LogValue_2015          -0.837687\n",
      "LogTotTaxes            -0.046049\n",
      "MortDeliq30-89          2.180783\n",
      "MortDeliq90             0.224270\n",
      "white_pop              -0.985178\n",
      "black_pop               4.410282\n",
      "asian_pop               8.395329\n",
      "hispanic_pop            1.564457\n",
      "gini_index              0.450044\n",
      "Logincome_per_capita   -0.291035\n",
      "natural_amenity_rank   -0.752082\n",
      "education              -0.392455\n",
      "LogValue               -0.786163\n",
      "dtype: float64\n"
     ]
    }
   ],
   "source": [
    "# Skewness of the distribution\n",
    "\n",
    "print(train_set.kurt())"
   ]
  },
  {
   "cell_type": "code",
   "execution_count": 387,
   "metadata": {},
   "outputs": [
    {
     "data": {
      "text/plain": [
       "LogValue_2015           0\n",
       "LogTotTaxes             0\n",
       "MortDeliq30-89          0\n",
       "MortDeliq90             0\n",
       "white_pop               0\n",
       "black_pop               0\n",
       "asian_pop               0\n",
       "hispanic_pop            0\n",
       "gini_index              0\n",
       "Logincome_per_capita    0\n",
       "natural_amenity_rank    0\n",
       "education               0\n",
       "LogValue                0\n",
       "dtype: int64"
      ]
     },
     "execution_count": 387,
     "metadata": {},
     "output_type": "execute_result"
    }
   ],
   "source": [
    "#Check when a value in a cloumn is zero\n",
    "train_set[(train_set['LogValue'] == 0)].count()"
   ]
  },
  {
   "cell_type": "code",
   "execution_count": 388,
   "metadata": {},
   "outputs": [],
   "source": [
    "df = train_set[['Logincome_per_capita','LogValue']]\n"
   ]
  },
  {
   "cell_type": "code",
   "execution_count": 389,
   "metadata": {},
   "outputs": [
    {
     "data": {
      "text/html": [
       "<div>\n",
       "<style scoped>\n",
       "    .dataframe tbody tr th:only-of-type {\n",
       "        vertical-align: middle;\n",
       "    }\n",
       "\n",
       "    .dataframe tbody tr th {\n",
       "        vertical-align: top;\n",
       "    }\n",
       "\n",
       "    .dataframe thead th {\n",
       "        text-align: right;\n",
       "    }\n",
       "</style>\n",
       "<table border=\"1\" class=\"dataframe\">\n",
       "  <thead>\n",
       "    <tr style=\"text-align: right;\">\n",
       "      <th></th>\n",
       "      <th>Logincome_per_capita</th>\n",
       "      <th>LogValue</th>\n",
       "    </tr>\n",
       "  </thead>\n",
       "  <tbody>\n",
       "    <tr>\n",
       "      <th>0</th>\n",
       "      <td>11.084002</td>\n",
       "      <td>7.458763</td>\n",
       "    </tr>\n",
       "    <tr>\n",
       "      <th>2</th>\n",
       "      <td>10.767516</td>\n",
       "      <td>7.101676</td>\n",
       "    </tr>\n",
       "    <tr>\n",
       "      <th>3</th>\n",
       "      <td>11.163567</td>\n",
       "      <td>7.515345</td>\n",
       "    </tr>\n",
       "    <tr>\n",
       "      <th>4</th>\n",
       "      <td>9.978920</td>\n",
       "      <td>6.800170</td>\n",
       "    </tr>\n",
       "    <tr>\n",
       "      <th>5</th>\n",
       "      <td>10.564266</td>\n",
       "      <td>7.288244</td>\n",
       "    </tr>\n",
       "  </tbody>\n",
       "</table>\n",
       "</div>"
      ],
      "text/plain": [
       "   Logincome_per_capita  LogValue\n",
       "0             11.084002  7.458763\n",
       "2             10.767516  7.101676\n",
       "3             11.163567  7.515345\n",
       "4              9.978920  6.800170\n",
       "5             10.564266  7.288244"
      ]
     },
     "execution_count": 389,
     "metadata": {},
     "output_type": "execute_result"
    }
   ],
   "source": [
    "df.head()\n"
   ]
  },
  {
   "cell_type": "code",
   "execution_count": 390,
   "metadata": {},
   "outputs": [
    {
     "data": {
      "text/plain": [
       "<matplotlib.axes._subplots.AxesSubplot at 0x1a4042f490>"
      ]
     },
     "execution_count": 390,
     "metadata": {},
     "output_type": "execute_result"
    },
    {
     "data": {
      "image/png": "[encoded data removed]",
      "text/plain": [
       "<Figure size 432x288 with 1 Axes>"
      ]
     },
     "metadata": {
      "needs_background": "light"
     },
     "output_type": "display_data"
    }
   ],
   "source": [
    "#draw a histogram and not fit a kernel density estimate (KDE).\n",
    "sns.distplot(df['Logincome_per_capita'], kde = True, color = 'r', hist_kws={'alpha': 0.9})"
   ]
  },
  {
   "cell_type": "code",
   "execution_count": 392,
   "metadata": {},
   "outputs": [
    {
     "data": {
      "text/plain": [
       "<matplotlib.axes._subplots.AxesSubplot at 0x1315d0890>"
      ]
     },
     "execution_count": 392,
     "metadata": {},
     "output_type": "execute_result"
    },
    {
     "data": {
      "image/png": "[encoded data removed]",
      "text/plain": [
       "<Figure size 432x288 with 1 Axes>"
      ]
     },
     "metadata": {
      "needs_background": "light"
     },
     "output_type": "display_data"
    }
   ],
   "source": [
    "train_set.boxplot(column=\"LogValue\")\n",
    "#sns.boxplot(x='value', y='Year', data=train_set)"
   ]
  },
  {
   "cell_type": "code",
   "execution_count": 397,
   "metadata": {},
   "outputs": [
    {
     "data": {
      "text/plain": [
       "<matplotlib.axes._subplots.AxesSubplot at 0x1a3a91d090>"
      ]
     },
     "execution_count": 397,
     "metadata": {},
     "output_type": "execute_result"
    },
    {
     "data": {
      "image/png": "[encoded data removed]",
      "text/plain": [
       "<Figure size 360x360 with 1 Axes>"
      ]
     },
     "metadata": {
      "needs_background": "light"
     },
     "output_type": "display_data"
    }
   ],
   "source": [
    "train_set.plot(kind=\"scatter\",     # Create a scatterplot\n",
    "              x=\"Logincome_per_capita\",          # Put carat on the x axis\n",
    "              y=\"LogValue\",          # Put price on the y axis\n",
    "              figsize=(5,5),\n",
    "              ylim=(5,10))"
   ]
  },
  {
   "cell_type": "code",
   "execution_count": 398,
   "metadata": {},
   "outputs": [],
   "source": [
    "from sklearn.ensemble import GradientBoostingRegressor\n",
    "from sklearn.model_selection import train_test_split\n",
    "from sklearn.model_selection import GridSearchCV"
   ]
  },
  {
   "cell_type": "code",
   "execution_count": 399,
   "metadata": {},
   "outputs": [
    {
     "name": "stdout",
     "output_type": "stream",
     "text": [
      "--------------------------------------------------\n",
      "The train set R^2 is 0.995\n",
      "The test set R^2 is 0.964\n"
     ]
    }
   ],
   "source": [
    "gbm = GradientBoostingRegressor()\n",
    "\n",
    "gbm.set_params(n_estimators = 1000, \n",
    "            learning_rate = .1, #.3,\n",
    "            max_depth = 3, #2,\n",
    "            min_samples_leaf = 3)\n",
    "\n",
    "gbm.fit(X_train,y_train)\n",
    "\n",
    "print('-'*50)\n",
    "print(\"The train set R^2 is %.3f\" %(gbm.score(X_train, y_train)))\n",
    "print(\"The test set R^2 is %.3f\" %(gbm.score(X_test,y_test)))"
   ]
  },
  {
   "cell_type": "code",
   "execution_count": 400,
   "metadata": {},
   "outputs": [
    {
     "name": "stdout",
     "output_type": "stream",
     "text": [
      "RandomForestRegressor(bootstrap=True, ccp_alpha=0.0, criterion='mse',\n",
      "                      max_depth=5, max_features=4, max_leaf_nodes=None,\n",
      "                      max_samples=None, min_impurity_decrease=0.0,\n",
      "                      min_impurity_split=None, min_samples_leaf=1,\n",
      "                      min_samples_split=2, min_weight_fraction_leaf=0.0,\n",
      "                      n_estimators=1000, n_jobs=None, oob_score=False,\n",
      "                      random_state=42, verbose=0, warm_start=False)\n",
      "0.9373718802054932\n"
     ]
    },
    {
     "data": {
      "text/plain": [
       "0.9257676860260627"
      ]
     },
     "execution_count": 400,
     "metadata": {},
     "output_type": "execute_result"
    }
   ],
   "source": [
    "#Random Forrest\n",
    "from sklearn import ensemble\n",
    "\n",
    "randomForest = ensemble.RandomForestRegressor()\n",
    "bagging      = ensemble.BaggingRegressor()\n",
    "\n",
    "randomForest.set_params(random_state=42, max_depth = 5, min_samples_split = 2, n_estimators=1000, max_features =4)\n",
    "\n",
    "print(randomForest.fit(X_train,y_train))\n",
    "\n",
    "\n",
    "print(randomForest.score(X_train,y_train))\n",
    "randomForest.score(X_test,y_test)\n"
   ]
  },
  {
   "cell_type": "code",
   "execution_count": 401,
   "metadata": {},
   "outputs": [
    {
     "data": {
      "text/plain": [
       "<matplotlib.axes._subplots.AxesSubplot at 0x1316395d0>"
      ]
     },
     "execution_count": 401,
     "metadata": {},
     "output_type": "execute_result"
    },
    {
     "data": {
      "image/png": "[encoded data removed]",
      "text/plain": [
       "<Figure size 432x288 with 1 Axes>"
      ]
     },
     "metadata": {
      "needs_background": "light"
     },
     "output_type": "display_data"
    }
   ],
   "source": [
    "feature_importance = list(zip(X_train.columns[:-2], randomForest.feature_importances_))\n",
    "dtype = [('feature', 'S10'), ('importance', 'float')]\n",
    "feature_importance = np.array(feature_importance, dtype=dtype)\n",
    "feature_sort = np.sort(feature_importance, order='importance')[::-1]\n",
    "name, score = zip(*list(feature_sort))\n",
    "pd.DataFrame({'name':name,'score':score})[:15].plot.bar(x='name', y='score')"
   ]
  },
  {
   "cell_type": "code",
   "execution_count": 402,
   "metadata": {},
   "outputs": [],
   "source": [
    "#save to CSV\n",
    "X_train.to_csv('./data/X_train.csv')\n",
    "y_train.to_csv('./data/y_train.csv')\n",
    "X_test.to_csv('./data/X_test.csv')\n",
    "y_test.to_csv('./data/y_test.csv')"
   ]
  },
  {
   "cell_type": "code",
   "execution_count": 405,
   "metadata": {},
   "outputs": [
    {
     "name": "stdout",
     "output_type": "stream",
     "text": [
      "Collecting xgboost\n",
      "  Downloading xgboost-1.2.0-py3-none-macosx_10_13_x86_64.macosx_10_14_x86_64.macosx_10_15_x86_64.whl (1.2 MB)\n",
      "\u001b[K     |████████████████████████████████| 1.2 MB 2.5 MB/s eta 0:00:01\n",
      "\u001b[?25hRequirement already satisfied: numpy in /Users/isa.adls/opt/anaconda3/lib/python3.7/site-packages (from xgboost) (1.19.1)\n",
      "Requirement already satisfied: scipy in /Users/isa.adls/opt/anaconda3/lib/python3.7/site-packages (from xgboost) (1.4.1)\n",
      "Installing collected packages: xgboost\n",
      "Successfully installed xgboost-1.2.0\n",
      "Note: you may need to restart the kernel to use updated packages.\n"
     ]
    }
   ],
   "source": [
    "pip install xgboost"
   ]
  },
  {
   "cell_type": "code",
   "execution_count": 409,
   "metadata": {},
   "outputs": [],
   "source": [
    "# from xgboost import XGBRegressor\n",
    "# from sklearn.metrics import accuracy_score"
   ]
  },
  {
   "cell_type": "code",
   "execution_count": 410,
   "metadata": {},
   "outputs": [],
   "source": [
    "# model1 = XGBRegressor()\n",
    "# model1.fit(X_train, y_train)"
   ]
  },
  {
   "cell_type": "code",
   "execution_count": null,
   "metadata": {},
   "outputs": [],
   "source": [
    "print(\"The train set R^2 is %.3f\" %(model1.score(X_train, y_train)))\n",
    "print(\"The test set R^2 is %.3f\" %(model1.score(X_test,y_test)))"
   ]
  },
  {
   "cell_type": "code",
   "execution_count": null,
   "metadata": {},
   "outputs": [],
   "source": [
    "model1.get_booster().get_score(importance_type=\"gain\")"
   ]
  }
 ],
 "metadata": {
  "kernelspec": {
   "display_name": "Python 3",
   "language": "python",
   "name": "python3"
  },
  "language_info": {
   "codemirror_mode": {
    "name": "ipython",
    "version": 3
   },
   "file_extension": ".py",
   "mimetype": "text/x-python",
   "name": "python",
   "nbconvert_exporter": "python",
   "pygments_lexer": "ipython3",
   "version": "3.7.6"
  }
 },
 "nbformat": 4,
 "nbformat_minor": 4
}
