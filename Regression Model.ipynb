{
 "cells": [
  {
   "cell_type": "code",
   "execution_count": 1,
   "metadata": {},
   "outputs": [],
   "source": [
    "# import necessary packages\n",
    "import numpy as np\n",
    "import pandas as pd\n",
    "import matplotlib.pyplot as plt\n",
    "from math import exp\n",
    "\n",
    "# set display options\n",
    "pd.set_option('display.max_columns', None)"
   ]
  },
  {
   "cell_type": "code",
   "execution_count": 198,
   "metadata": {},
   "outputs": [
    {
     "name": "stderr",
     "output_type": "stream",
     "text": [
      "/Users/isa.adls/opt/anaconda3/lib/python3.7/site-packages/IPython/core/interactiveshell.py:3063: DtypeWarning: Columns (6,7,8,9,11) have mixed types.Specify dtype option on import or set low_memory=False.\n",
      "  interactivity=interactivity, compiler=compiler, result=result)\n"
     ]
    }
   ],
   "source": [
    "zri = pd.read_csv('./data/df4.csv', index_col=0)"
   ]
  },
  {
   "cell_type": "code",
   "execution_count": 199,
   "metadata": {},
   "outputs": [
    {
     "data": {
      "text/plain": [
       "(136447, 45)"
      ]
     },
     "execution_count": 199,
     "metadata": {},
     "output_type": "execute_result"
    }
   ],
   "source": [
    "zri.shape"
   ]
  },
  {
   "cell_type": "code",
   "execution_count": 200,
   "metadata": {},
   "outputs": [],
   "source": [
    "zri['MortDeliq30-89'] = zri['MortDeliq30-89'].fillna(zri['MortDeliq30-89'].mean())\n",
    "zri['MortDeliq90'] = zri['MortDeliq90'].fillna(zri['MortDeliq90'].mean())\n",
    "zri['education'] = zri['high_school_diploma'] + zri['associates_degree'] * 2 + zri['bachelors_degree'] * 3 +zri['masters_degree']* 4"
   ]
  },
  {
   "cell_type": "code",
   "execution_count": 201,
   "metadata": {},
   "outputs": [],
   "source": [
    "# zri['withdegree'] = zri['bachelors_degree'] + zri['masters_degree']\n",
    "# zri['withdegree'] = zri.withdegree.fillna(0)\n",
    "# zri['hasdegree'] = np.where(zri['withdegree'] >0, 1, 0)\n",
    "# zri['hasdegree'].value_counts()"
   ]
  },
  {
   "cell_type": "code",
   "execution_count": 202,
   "metadata": {},
   "outputs": [],
   "source": [
    "zri['AGIncome'] = (zri['AGIncome']*1000)/zri['total_pop']\n",
    "zri['TotIncome'] = (zri['TotIncome']*1000)/zri['total_pop']\n",
    "zri['SalariesWages'] = (zri['SalariesWages']*1000)/zri['total_pop']\n",
    "zri['NumUnemply'] =(zri['NumUnemply']*1000)/zri['total_pop']\n",
    "zri['TotTaxes'] = (zri['TotTaxes']*1000)/zri['total_pop']"
   ]
  },
  {
   "cell_type": "code",
   "execution_count": 7,
   "metadata": {},
   "outputs": [],
   "source": [
    "zipcodes = [12010, 13021, 90201, 91770, 91732, 90706, 91733, 12078]\n",
    "for zipcode in zipcodes:\n",
    "    zri.drop(zri[zri['ZIPCODE'] == zipcode].index, inplace = True)"
   ]
  },
  {
   "cell_type": "code",
   "execution_count": 203,
   "metadata": {},
   "outputs": [],
   "source": [
    "#remove outliers\n",
    "#zri = zri[(zri.value < 3433.18)]\n",
    "# zri.income_per_capita = zri.income_per_capita.fillna(0)\n",
    "# zri.TotTaxes = zri.TotTaxes.fillna(0)\n",
    "# zri = zri[(zri.income_per_capita < 85180.28)]\n",
    "# zri = zri[(zri.TotTaxes < 2531.24)]\n",
    "zri.income_change = zri.income_change.fillna(0)\n"
   ]
  },
  {
   "cell_type": "code",
   "execution_count": 204,
   "metadata": {},
   "outputs": [
    {
     "name": "stderr",
     "output_type": "stream",
     "text": [
      "/Users/isa.adls/opt/anaconda3/lib/python3.7/site-packages/pandas/core/series.py:679: RuntimeWarning: divide by zero encountered in log\n",
      "  result = getattr(ufunc, method)(*inputs, **kwargs)\n"
     ]
    }
   ],
   "source": [
    "# #Log Transformation:\n",
    "zri['LogValue'] = np.log(zri.value)\n",
    "zri['LogTotTaxes'] = np.log(zri.TotTaxes)\n",
    "zri['Logincome_per_capita'] = np.log(zri.income_per_capita)\n",
    "\n",
    "# zri['LogTotIncome'] = np.log(zri.TotIncome)\n",
    "# zri['LogSalariesWages'] = np.log(zri.SalariesWages)\n",
    "# zri['Logmedian_age'] = np.log(zri.median_age)\n",
    "# zri['LogAGIncome'] = np.log(zri.AGIncome)\n",
    "# zri['Loggini_index'] = np.log(zri.gini_index)\n",
    "# zri['Logpopulation_change'] = np.log(zri.population_change)\n"
   ]
  },
  {
   "cell_type": "code",
   "execution_count": 205,
   "metadata": {},
   "outputs": [],
   "source": [
    "train = pd.merge(zri.loc[zri['Year']==2015].rename(columns = {'LogValue' : 'LogValue_2015'}),\n",
    "                 zri.loc[zri['Year']==2018][['ZIPCODE', 'Month','LogValue']],\n",
    "                 how = 'left', on = ['ZIPCODE', 'Month'])\n",
    "test = pd.merge(zri.loc[zri['Year']==2016].rename(columns = {'LogValue' : 'LogValue_2016'}),\n",
    "                zri.loc[zri['Year']==2019][['ZIPCODE', 'Month','LogValue']],\n",
    "                how = 'left', on = ['ZIPCODE', 'Month'])"
   ]
  },
  {
   "cell_type": "code",
   "execution_count": 206,
   "metadata": {},
   "outputs": [],
   "source": [
    "#drop columns to test\n",
    "\n",
    "dropped = ['SizeRank', 'City', 'State', 'Metro', 'CountyName',\\\n",
    "        'Month','Year','Labor\\nForce','Employed', 'Unemployed',\\\n",
    "        'Year-Month', 'FIPSCode', 'geo_id',\\\n",
    "        'value', 'year', 'TotTaxes', 'income_per_capita'] #'ZIPCODE'\n",
    "\n",
    "train.drop(columns = dropped, inplace=True)\n",
    "test.drop(columns = dropped, inplace=True)\n",
    "\n",
    "# print(test.columns)\n",
    "# train.columns"
   ]
  },
  {
   "cell_type": "code",
   "execution_count": 207,
   "metadata": {},
   "outputs": [
    {
     "data": {
      "text/plain": [
       "Index(['LogValue'], dtype='object')"
      ]
     },
     "execution_count": 207,
     "metadata": {},
     "output_type": "execute_result"
    }
   ],
   "source": [
    "train.columns[test.isnull().any()]"
   ]
  },
  {
   "cell_type": "code",
   "execution_count": 208,
   "metadata": {},
   "outputs": [],
   "source": [
    "train = train.dropna(subset=['LogValue'])"
   ]
  },
  {
   "cell_type": "code",
   "execution_count": 209,
   "metadata": {},
   "outputs": [],
   "source": [
    "X_train = train.drop(columns = ['LogValue'])\n",
    "y_train = train['LogValue']"
   ]
  },
  {
   "cell_type": "code",
   "execution_count": 210,
   "metadata": {},
   "outputs": [
    {
     "data": {
      "text/plain": [
       "Index(['LogValue'], dtype='object')"
      ]
     },
     "execution_count": 210,
     "metadata": {},
     "output_type": "execute_result"
    }
   ],
   "source": [
    "test.columns[test.isnull().any()]"
   ]
  },
  {
   "cell_type": "code",
   "execution_count": 211,
   "metadata": {},
   "outputs": [],
   "source": [
    "test = test.dropna(subset=['LogValue'])"
   ]
  },
  {
   "cell_type": "code",
   "execution_count": 212,
   "metadata": {},
   "outputs": [],
   "source": [
    "X_test = test.drop(columns = ['LogValue'])\n",
    "y_test = test['LogValue']"
   ]
  },
  {
   "cell_type": "code",
   "execution_count": 213,
   "metadata": {},
   "outputs": [
    {
     "name": "stdout",
     "output_type": "stream",
     "text": [
      "Index([], dtype='object')\n",
      "Index([], dtype='object')\n"
     ]
    }
   ],
   "source": [
    "#show columns with missing values\n",
    "print(X_train.columns[X_train.isnull().any()])\n",
    "print(X_test.columns[X_test.isnull().any()])"
   ]
  },
  {
   "cell_type": "code",
   "execution_count": 214,
   "metadata": {},
   "outputs": [
    {
     "data": {
      "text/plain": [
       "Index(['ZIPCODE', 'total_pop', 'Season', 'AGIncome', 'TotIncome',\n",
       "       'SalariesWages', 'NumUnemply', 'Unemploy-\\nment Rate\\n(%)',\n",
       "       'MortDeliq30-89', 'MortDeliq90', 'median_age', 'white_pop', 'black_pop',\n",
       "       'asian_pop', 'hispanic_pop', 'gini_index',\n",
       "       'vacant_housing_units_for_rent', 'housing_units_renter_occupied',\n",
       "       'percent_income_spent_on_rent', 'high_school_diploma',\n",
       "       'associates_degree', 'bachelors_degree', 'masters_degree',\n",
       "       'rental_units_supply', 'population_change', 'income_change',\n",
       "       'supply_change', 'natural_amenity_rank', 'education', 'LogValue_2015',\n",
       "       'LogTotTaxes', 'Logincome_per_capita'],\n",
       "      dtype='object')"
      ]
     },
     "execution_count": 214,
     "metadata": {},
     "output_type": "execute_result"
    }
   ],
   "source": [
    "X_train.columns"
   ]
  },
  {
   "cell_type": "code",
   "execution_count": 215,
   "metadata": {},
   "outputs": [
    {
     "data": {
      "text/plain": [
       "(16232, 32)"
      ]
     },
     "execution_count": 215,
     "metadata": {},
     "output_type": "execute_result"
    }
   ],
   "source": [
    "X_train.shape"
   ]
  },
  {
   "cell_type": "code",
   "execution_count": 216,
   "metadata": {},
   "outputs": [],
   "source": [
    "#feature selection\n",
    "model_cols = ['LogValue_2015', 'Season', 'LogTotTaxes',\n",
    "       'MortDeliq90', 'gini_index',\n",
    "       'black_pop', 'asian_pop', 'white_pop',\n",
    "       'vacant_housing_units_for_rent', \n",
    "       'natural_amenity_rank']\n",
    "\n",
    "model_cols2 = ['LogValue_2016', 'Season', 'LogTotTaxes',\n",
    "       'MortDeliq90', 'gini_index',\n",
    "       'black_pop', 'asian_pop', 'white_pop',\n",
    "       'vacant_housing_units_for_rent',\n",
    "    'natural_amenity_rank']\n",
    "\n",
    "X_train = X_train[model_cols]\n",
    "\n",
    "X_test = X_test[model_cols2]\n"
   ]
  },
  {
   "cell_type": "code",
   "execution_count": 167,
   "metadata": {},
   "outputs": [],
   "source": [
    "# #feature selection\n",
    "# model_cols = ['LogValue_2015', 'black_pop', 'asian_pop',\n",
    "#        'vacant_housing_units_for_rent', 'natural_amenity_rank']\n",
    "\n",
    "# model_cols2 = ['LogValue_2016', 'black_pop', 'asian_pop',\n",
    "#        'vacant_housing_units_for_rent', 'natural_amenity_rank']\n",
    "\n",
    "# X_train = X_train[model_cols]\n",
    "\n",
    "# X_test = X_test[model_cols2]\n"
   ]
  },
  {
   "cell_type": "markdown",
   "metadata": {},
   "source": [
    "## Model Generation"
   ]
  },
  {
   "cell_type": "code",
   "execution_count": 217,
   "metadata": {},
   "outputs": [],
   "source": [
    "from sklearn.linear_model import LinearRegression, Lasso\n",
    "from sklearn import model_selection"
   ]
  },
  {
   "cell_type": "code",
   "execution_count": 218,
   "metadata": {},
   "outputs": [
    {
     "name": "stdout",
     "output_type": "stream",
     "text": [
      "Train Score: 0.9625\n",
      "Test Score:  0.9525\n",
      "0.01005453804926637\n"
     ]
    }
   ],
   "source": [
    "lm = LinearRegression()\n",
    "\n",
    "lm.fit(X_train, y_train)\n",
    "\n",
    "print(\"Train Score: %.4f\" % lm.score(X_train, y_train))\n",
    "print(\"Test Score:  %.4f\" % lm.score(X_test, y_test))\n",
    "\n",
    "print(lm.score(X_train, y_train)- lm.score(X_test, y_test))\n",
    "\n"
   ]
  },
  {
   "cell_type": "code",
   "execution_count": 170,
   "metadata": {},
   "outputs": [
    {
     "data": {
      "text/plain": [
       "(0.5779678783662137,\n",
       " array([ 0.91479972,  0.00453724,  0.00796693,  0.00632675, -0.03942328,\n",
       "        -0.19346547,  0.02218155]))"
      ]
     },
     "execution_count": 170,
     "metadata": {},
     "output_type": "execute_result"
    }
   ],
   "source": [
    "lm.intercept_, lm.coef_"
   ]
  },
  {
   "cell_type": "code",
   "execution_count": 171,
   "metadata": {},
   "outputs": [
    {
     "data": {
      "text/plain": [
       "Index(['LogValue_2015', 'Season', 'LogTotTaxes', 'MortDeliq90', 'white_pop',\n",
       "       'vacant_housing_units_for_rent', 'natural_amenity_rank'],\n",
       "      dtype='object')"
      ]
     },
     "execution_count": 171,
     "metadata": {},
     "output_type": "execute_result"
    }
   ],
   "source": [
    "X_train.columns"
   ]
  },
  {
   "cell_type": "code",
   "execution_count": 172,
   "metadata": {},
   "outputs": [],
   "source": [
    "# from sklearn.model_selection import cross_val_score\n",
    "# print(np.sqrt(-1* cross_val_score(lm, X_train, y_train, cv=5, scoring='neg_mean_squared_error', n_jobs =-1)))"
   ]
  },
  {
   "cell_type": "code",
   "execution_count": 219,
   "metadata": {
    "scrolled": false
   },
   "outputs": [
    {
     "data": {
      "text/plain": [
       "Text(0.5, 1.0, 'Coefficients in the Lasso Model')"
      ]
     },
     "execution_count": 219,
     "metadata": {},
     "output_type": "execute_result"
    },
    {
     "data": {
      "image/png": "[encoded data removed]",
      "text/plain": [
       "<Figure size 864x576 with 1 Axes>"
      ]
     },
     "metadata": {},
     "output_type": "display_data"
    }
   ],
   "source": [
    "# param_grid={'alpha': np.logspace(-5, -3, 100)}\n",
    "# grid_search = model_selection.GridSearchCV(estimator = Lasso(), param_grid = param_grid, cv=5)\n",
    "# grid_search.fit(X_train, y_train)\n",
    "\n",
    "# print(\"Cross Validation\")\n",
    "# print(\"-\" * 20)\n",
    "# print(\"Best parameter: \", grid_search.best_params_)\n",
    "# print(\"Best CV score:  %.4f\" % grid_search.best_score_)\n",
    "\n",
    "# alpha_cv = grid_search.best_estimator_.get_params()['alpha']\n",
    "\n",
    "lasso = Lasso(alpha = 1e-05, normalize=True).fit(X_train, y_train)\n",
    "coef = pd.Series(lasso.coef_, index = X_train.columns)\n",
    "imp_coef = pd.concat([coef.sort_values()])\n",
    "imp_coef.plot(kind = \"barh\", figsize = (12, 8))\n",
    "plt.title(\"Coefficients in the Lasso Model\")"
   ]
  },
  {
   "cell_type": "code",
   "execution_count": 174,
   "metadata": {},
   "outputs": [
    {
     "name": "stdout",
     "output_type": "stream",
     "text": [
      "0.9620296278012107\n"
     ]
    },
    {
     "data": {
      "text/plain": [
       "0.9520623456203344"
      ]
     },
     "execution_count": 174,
     "metadata": {},
     "output_type": "execute_result"
    }
   ],
   "source": [
    "print(lasso.score(X_train, y_train))\n",
    "lasso.score(X_test, y_test)"
   ]
  },
  {
   "cell_type": "code",
   "execution_count": 222,
   "metadata": {},
   "outputs": [
    {
     "data": {
      "text/html": [
       "<div>\n",
       "<style scoped>\n",
       "    .dataframe tbody tr th:only-of-type {\n",
       "        vertical-align: middle;\n",
       "    }\n",
       "\n",
       "    .dataframe tbody tr th {\n",
       "        vertical-align: top;\n",
       "    }\n",
       "\n",
       "    .dataframe thead th {\n",
       "        text-align: right;\n",
       "    }\n",
       "</style>\n",
       "<table border=\"1\" class=\"dataframe\">\n",
       "  <thead>\n",
       "    <tr style=\"text-align: right;\">\n",
       "      <th></th>\n",
       "      <th>VIF Factor</th>\n",
       "      <th>features</th>\n",
       "    </tr>\n",
       "  </thead>\n",
       "  <tbody>\n",
       "    <tr>\n",
       "      <th>0</th>\n",
       "      <td>147.7</td>\n",
       "      <td>LogValue_2015</td>\n",
       "    </tr>\n",
       "    <tr>\n",
       "      <th>1</th>\n",
       "      <td>7.0</td>\n",
       "      <td>Season</td>\n",
       "    </tr>\n",
       "    <tr>\n",
       "      <th>2</th>\n",
       "      <td>54.8</td>\n",
       "      <td>LogTotTaxes</td>\n",
       "    </tr>\n",
       "    <tr>\n",
       "      <th>3</th>\n",
       "      <td>7.0</td>\n",
       "      <td>MortDeliq90</td>\n",
       "    </tr>\n",
       "    <tr>\n",
       "      <th>4</th>\n",
       "      <td>86.9</td>\n",
       "      <td>gini_index</td>\n",
       "    </tr>\n",
       "    <tr>\n",
       "      <th>5</th>\n",
       "      <td>3.3</td>\n",
       "      <td>black_pop</td>\n",
       "    </tr>\n",
       "    <tr>\n",
       "      <th>6</th>\n",
       "      <td>2.6</td>\n",
       "      <td>asian_pop</td>\n",
       "    </tr>\n",
       "    <tr>\n",
       "      <th>7</th>\n",
       "      <td>11.5</td>\n",
       "      <td>white_pop</td>\n",
       "    </tr>\n",
       "    <tr>\n",
       "      <th>8</th>\n",
       "      <td>4.6</td>\n",
       "      <td>vacant_housing_units_for_rent</td>\n",
       "    </tr>\n",
       "    <tr>\n",
       "      <th>9</th>\n",
       "      <td>12.5</td>\n",
       "      <td>natural_amenity_rank</td>\n",
       "    </tr>\n",
       "  </tbody>\n",
       "</table>\n",
       "</div>"
      ],
      "text/plain": [
       "   VIF Factor                       features\n",
       "0       147.7                  LogValue_2015\n",
       "1         7.0                         Season\n",
       "2        54.8                    LogTotTaxes\n",
       "3         7.0                    MortDeliq90\n",
       "4        86.9                     gini_index\n",
       "5         3.3                      black_pop\n",
       "6         2.6                      asian_pop\n",
       "7        11.5                      white_pop\n",
       "8         4.6  vacant_housing_units_for_rent\n",
       "9        12.5           natural_amenity_rank"
      ]
     },
     "execution_count": 222,
     "metadata": {},
     "output_type": "execute_result"
    }
   ],
   "source": [
    "# For each X, calculate VIF and save in dataframe\n",
    "import statsmodels.api as sm\n",
    "from statsmodels.stats.outliers_influence import variance_inflation_factor\n",
    "\n",
    "vif = pd.DataFrame()\n",
    "vif[\"VIF Factor\"] = [variance_inflation_factor(X_train.values, i) for i in range(X_train.shape[1])]\n",
    "vif[\"features\"] = X_train.columns\n",
    "vif.round(1)"
   ]
  },
  {
   "cell_type": "code",
   "execution_count": 31,
   "metadata": {},
   "outputs": [],
   "source": [
    "#Q-Q plot for normality\n",
    "#fig4=sm.qqplot(reg1.resid, line='r')"
   ]
  },
  {
   "cell_type": "code",
   "execution_count": 32,
   "metadata": {},
   "outputs": [],
   "source": [
    "coefs = []\n",
    "intercepts = []\n",
    "R2  = []\n",
    "alphaRange = np.linspace(1e-10,1,20)\n",
    "for alpha in alphaRange:\n",
    "    lasso.set_params(alpha=alpha, normalize = True)\n",
    "    lasso.fit(X_train, y_train)\n",
    "    intercepts.append(lasso.intercept_)\n",
    "    coefs.append(lasso.coef_)\n",
    "    R2.append(lasso.score(X_train, y_train))"
   ]
  },
  {
   "cell_type": "code",
   "execution_count": 33,
   "metadata": {},
   "outputs": [
    {
     "data": {
      "text/plain": [
       "Text(0.5, 1.0, 'Change of Lasso Slopes Varying Alpha')"
      ]
     },
     "execution_count": 33,
     "metadata": {},
     "output_type": "execute_result"
    },
    {
     "data": {
      "image/png": "[encoded data removed]",
      "text/plain": [
       "<Figure size 432x288 with 1 Axes>"
      ]
     },
     "metadata": {
      "needs_background": "light"
     },
     "output_type": "display_data"
    }
   ],
   "source": [
    "coefs = pd.DataFrame(np.array(coefs), columns=X_train.columns)\n",
    "for name in coefs.columns:\n",
    "    plt.plot(alphaRange, coefs[name], label=name)\n",
    "plt.legend(loc=0)\n",
    "plt.title('Change of Lasso Slopes Varying Alpha')"
   ]
  },
  {
   "cell_type": "code",
   "execution_count": 34,
   "metadata": {},
   "outputs": [
    {
     "data": {
      "text/html": [
       "<div>\n",
       "<style scoped>\n",
       "    .dataframe tbody tr th:only-of-type {\n",
       "        vertical-align: middle;\n",
       "    }\n",
       "\n",
       "    .dataframe tbody tr th {\n",
       "        vertical-align: top;\n",
       "    }\n",
       "\n",
       "    .dataframe thead th {\n",
       "        text-align: right;\n",
       "    }\n",
       "</style>\n",
       "<table border=\"1\" class=\"dataframe\">\n",
       "  <thead>\n",
       "    <tr style=\"text-align: right;\">\n",
       "      <th></th>\n",
       "      <th>LogValue_2015</th>\n",
       "      <th>Season</th>\n",
       "      <th>LogTotTaxes</th>\n",
       "      <th>MortDeliq90</th>\n",
       "      <th>black_pop</th>\n",
       "      <th>asian_pop</th>\n",
       "      <th>vacant_housing_units_for_rent</th>\n",
       "      <th>natural_amenity_rank</th>\n",
       "      <th>supply_change</th>\n",
       "    </tr>\n",
       "  </thead>\n",
       "  <tbody>\n",
       "    <tr>\n",
       "      <th>0</th>\n",
       "      <td>7.421776</td>\n",
       "      <td>2.0</td>\n",
       "      <td>6.350867</td>\n",
       "      <td>3.000000</td>\n",
       "      <td>0.026682</td>\n",
       "      <td>0.071471</td>\n",
       "      <td>0.053914</td>\n",
       "      <td>3.0</td>\n",
       "      <td>4.827290</td>\n",
       "    </tr>\n",
       "    <tr>\n",
       "      <th>2</th>\n",
       "      <td>7.036148</td>\n",
       "      <td>2.0</td>\n",
       "      <td>6.229107</td>\n",
       "      <td>2.396746</td>\n",
       "      <td>0.062797</td>\n",
       "      <td>0.155716</td>\n",
       "      <td>0.030479</td>\n",
       "      <td>3.0</td>\n",
       "      <td>7.735772</td>\n",
       "    </tr>\n",
       "    <tr>\n",
       "      <th>3</th>\n",
       "      <td>7.507690</td>\n",
       "      <td>2.0</td>\n",
       "      <td>6.965521</td>\n",
       "      <td>3.000000</td>\n",
       "      <td>0.043573</td>\n",
       "      <td>0.057157</td>\n",
       "      <td>0.028165</td>\n",
       "      <td>3.0</td>\n",
       "      <td>54.949438</td>\n",
       "    </tr>\n",
       "    <tr>\n",
       "      <th>4</th>\n",
       "      <td>6.858565</td>\n",
       "      <td>2.0</td>\n",
       "      <td>4.276235</td>\n",
       "      <td>2.100000</td>\n",
       "      <td>0.015401</td>\n",
       "      <td>0.009632</td>\n",
       "      <td>0.069657</td>\n",
       "      <td>5.0</td>\n",
       "      <td>0.886511</td>\n",
       "    </tr>\n",
       "    <tr>\n",
       "      <th>5</th>\n",
       "      <td>7.243513</td>\n",
       "      <td>2.0</td>\n",
       "      <td>5.445087</td>\n",
       "      <td>3.000000</td>\n",
       "      <td>0.192627</td>\n",
       "      <td>0.104966</td>\n",
       "      <td>0.067138</td>\n",
       "      <td>3.0</td>\n",
       "      <td>42.438567</td>\n",
       "    </tr>\n",
       "  </tbody>\n",
       "</table>\n",
       "</div>"
      ],
      "text/plain": [
       "   LogValue_2015  Season  LogTotTaxes  MortDeliq90  black_pop  asian_pop  \\\n",
       "0       7.421776     2.0     6.350867     3.000000   0.026682   0.071471   \n",
       "2       7.036148     2.0     6.229107     2.396746   0.062797   0.155716   \n",
       "3       7.507690     2.0     6.965521     3.000000   0.043573   0.057157   \n",
       "4       6.858565     2.0     4.276235     2.100000   0.015401   0.009632   \n",
       "5       7.243513     2.0     5.445087     3.000000   0.192627   0.104966   \n",
       "\n",
       "   vacant_housing_units_for_rent  natural_amenity_rank  supply_change  \n",
       "0                       0.053914                   3.0       4.827290  \n",
       "2                       0.030479                   3.0       7.735772  \n",
       "3                       0.028165                   3.0      54.949438  \n",
       "4                       0.069657                   5.0       0.886511  \n",
       "5                       0.067138                   3.0      42.438567  "
      ]
     },
     "execution_count": 34,
     "metadata": {},
     "output_type": "execute_result"
    }
   ],
   "source": [
    "X_train.head()"
   ]
  },
  {
   "cell_type": "code",
   "execution_count": 35,
   "metadata": {},
   "outputs": [],
   "source": [
    "y_train = pd.DataFrame(y_train)"
   ]
  },
  {
   "cell_type": "code",
   "execution_count": 36,
   "metadata": {},
   "outputs": [
    {
     "data": {
      "text/html": [
       "<div>\n",
       "<style scoped>\n",
       "    .dataframe tbody tr th:only-of-type {\n",
       "        vertical-align: middle;\n",
       "    }\n",
       "\n",
       "    .dataframe tbody tr th {\n",
       "        vertical-align: top;\n",
       "    }\n",
       "\n",
       "    .dataframe thead th {\n",
       "        text-align: right;\n",
       "    }\n",
       "</style>\n",
       "<table border=\"1\" class=\"dataframe\">\n",
       "  <thead>\n",
       "    <tr style=\"text-align: right;\">\n",
       "      <th></th>\n",
       "      <th>LogValue</th>\n",
       "    </tr>\n",
       "  </thead>\n",
       "  <tbody>\n",
       "    <tr>\n",
       "      <th>0</th>\n",
       "      <td>7.458763</td>\n",
       "    </tr>\n",
       "    <tr>\n",
       "      <th>2</th>\n",
       "      <td>7.101676</td>\n",
       "    </tr>\n",
       "    <tr>\n",
       "      <th>3</th>\n",
       "      <td>7.515345</td>\n",
       "    </tr>\n",
       "    <tr>\n",
       "      <th>4</th>\n",
       "      <td>6.800170</td>\n",
       "    </tr>\n",
       "    <tr>\n",
       "      <th>5</th>\n",
       "      <td>7.288244</td>\n",
       "    </tr>\n",
       "  </tbody>\n",
       "</table>\n",
       "</div>"
      ],
      "text/plain": [
       "   LogValue\n",
       "0  7.458763\n",
       "2  7.101676\n",
       "3  7.515345\n",
       "4  6.800170\n",
       "5  7.288244"
      ]
     },
     "execution_count": 36,
     "metadata": {},
     "output_type": "execute_result"
    }
   ],
   "source": [
    "y_train.head()"
   ]
  },
  {
   "cell_type": "code",
   "execution_count": 37,
   "metadata": {},
   "outputs": [],
   "source": [
    "X_train.columns = X_train.columns.to_series().apply(lambda x: x.strip())"
   ]
  },
  {
   "cell_type": "code",
   "execution_count": 38,
   "metadata": {},
   "outputs": [],
   "source": [
    "X_train.reset_index(drop = True, inplace = True)"
   ]
  },
  {
   "cell_type": "code",
   "execution_count": 39,
   "metadata": {},
   "outputs": [
    {
     "data": {
      "text/html": [
       "<div>\n",
       "<style scoped>\n",
       "    .dataframe tbody tr th:only-of-type {\n",
       "        vertical-align: middle;\n",
       "    }\n",
       "\n",
       "    .dataframe tbody tr th {\n",
       "        vertical-align: top;\n",
       "    }\n",
       "\n",
       "    .dataframe thead th {\n",
       "        text-align: right;\n",
       "    }\n",
       "</style>\n",
       "<table border=\"1\" class=\"dataframe\">\n",
       "  <thead>\n",
       "    <tr style=\"text-align: right;\">\n",
       "      <th></th>\n",
       "      <th>LogValue_2015</th>\n",
       "      <th>Season</th>\n",
       "      <th>LogTotTaxes</th>\n",
       "      <th>MortDeliq90</th>\n",
       "      <th>black_pop</th>\n",
       "      <th>asian_pop</th>\n",
       "      <th>vacant_housing_units_for_rent</th>\n",
       "      <th>natural_amenity_rank</th>\n",
       "      <th>supply_change</th>\n",
       "    </tr>\n",
       "  </thead>\n",
       "  <tbody>\n",
       "    <tr>\n",
       "      <th>0</th>\n",
       "      <td>7.421776</td>\n",
       "      <td>2.0</td>\n",
       "      <td>6.350867</td>\n",
       "      <td>3.000000</td>\n",
       "      <td>0.026682</td>\n",
       "      <td>0.071471</td>\n",
       "      <td>0.053914</td>\n",
       "      <td>3.0</td>\n",
       "      <td>4.827290</td>\n",
       "    </tr>\n",
       "    <tr>\n",
       "      <th>1</th>\n",
       "      <td>7.036148</td>\n",
       "      <td>2.0</td>\n",
       "      <td>6.229107</td>\n",
       "      <td>2.396746</td>\n",
       "      <td>0.062797</td>\n",
       "      <td>0.155716</td>\n",
       "      <td>0.030479</td>\n",
       "      <td>3.0</td>\n",
       "      <td>7.735772</td>\n",
       "    </tr>\n",
       "    <tr>\n",
       "      <th>2</th>\n",
       "      <td>7.507690</td>\n",
       "      <td>2.0</td>\n",
       "      <td>6.965521</td>\n",
       "      <td>3.000000</td>\n",
       "      <td>0.043573</td>\n",
       "      <td>0.057157</td>\n",
       "      <td>0.028165</td>\n",
       "      <td>3.0</td>\n",
       "      <td>54.949438</td>\n",
       "    </tr>\n",
       "    <tr>\n",
       "      <th>3</th>\n",
       "      <td>6.858565</td>\n",
       "      <td>2.0</td>\n",
       "      <td>4.276235</td>\n",
       "      <td>2.100000</td>\n",
       "      <td>0.015401</td>\n",
       "      <td>0.009632</td>\n",
       "      <td>0.069657</td>\n",
       "      <td>5.0</td>\n",
       "      <td>0.886511</td>\n",
       "    </tr>\n",
       "    <tr>\n",
       "      <th>4</th>\n",
       "      <td>7.243513</td>\n",
       "      <td>2.0</td>\n",
       "      <td>5.445087</td>\n",
       "      <td>3.000000</td>\n",
       "      <td>0.192627</td>\n",
       "      <td>0.104966</td>\n",
       "      <td>0.067138</td>\n",
       "      <td>3.0</td>\n",
       "      <td>42.438567</td>\n",
       "    </tr>\n",
       "  </tbody>\n",
       "</table>\n",
       "</div>"
      ],
      "text/plain": [
       "   LogValue_2015  Season  LogTotTaxes  MortDeliq90  black_pop  asian_pop  \\\n",
       "0       7.421776     2.0     6.350867     3.000000   0.026682   0.071471   \n",
       "1       7.036148     2.0     6.229107     2.396746   0.062797   0.155716   \n",
       "2       7.507690     2.0     6.965521     3.000000   0.043573   0.057157   \n",
       "3       6.858565     2.0     4.276235     2.100000   0.015401   0.009632   \n",
       "4       7.243513     2.0     5.445087     3.000000   0.192627   0.104966   \n",
       "\n",
       "   vacant_housing_units_for_rent  natural_amenity_rank  supply_change  \n",
       "0                       0.053914                   3.0       4.827290  \n",
       "1                       0.030479                   3.0       7.735772  \n",
       "2                       0.028165                   3.0      54.949438  \n",
       "3                       0.069657                   5.0       0.886511  \n",
       "4                       0.067138                   3.0      42.438567  "
      ]
     },
     "execution_count": 39,
     "metadata": {},
     "output_type": "execute_result"
    }
   ],
   "source": [
    "X_train.head()"
   ]
  },
  {
   "cell_type": "code",
   "execution_count": 40,
   "metadata": {},
   "outputs": [],
   "source": [
    "y_train.reset_index(drop = True, inplace = True)"
   ]
  },
  {
   "cell_type": "code",
   "execution_count": 42,
   "metadata": {
    "scrolled": false
   },
   "outputs": [
    {
     "name": "stdout",
     "output_type": "stream",
     "text": [
      "Drop  with p-value \n"
     ]
    },
    {
     "data": {
      "text/plain": [
       "['LogValue_2015',\n",
       " 'Season',\n",
       " 'MortDeliq90',\n",
       " 'black_pop',\n",
       " 'asian_pop',\n",
       " 'vacant_housing_units_for_rent',\n",
       " 'natural_amenity_rank',\n",
       " 'supply_change']"
      ]
     },
     "execution_count": 42,
     "metadata": {},
     "output_type": "execute_result"
    }
   ],
   "source": [
    "def backward_regression(X, y,\n",
    "                           initial_list=[], \n",
    "                           threshold_in=0.01, \n",
    "                           threshold_out = 0.05, \n",
    "                           verbose=True):\n",
    "    included=list(X.columns)\n",
    "    while True:\n",
    "        changed=False\n",
    "        model = sm.OLS(y, sm.add_constant(pd.DataFrame(X[included]))).fit()\n",
    "        # use all coefs except intercept\n",
    "        pvalues = model.pvalues.iloc[1:]\n",
    "        worst_pval = pvalues.max() # null if pvalues is empty\n",
    "        if worst_pval > threshold_out:\n",
    "            changed=True\n",
    "            worst_feature = pvalues.idxmax()\n",
    "            included.remove(worst_feature)\n",
    "            if verbose:\n",
    "                print('Drop  with p-value '.format(worst_feature, worst_pval))\n",
    "        if not changed:\n",
    "            break\n",
    "    return included\n",
    "\n",
    "backward_regression(X_train, y_train)"
   ]
  },
  {
   "cell_type": "code",
   "execution_count": 43,
   "metadata": {
    "scrolled": true
   },
   "outputs": [
    {
     "name": "stderr",
     "output_type": "stream",
     "text": [
      "/Users/isa.adls/opt/anaconda3/lib/python3.7/site-packages/sklearn/utils/validation.py:760: DataConversionWarning: A column-vector y was passed when a 1d array was expected. Please change the shape of y to (n_samples, ), for example using ravel().\n",
      "  y = column_or_1d(y, warn=True)\n"
     ]
    },
    {
     "data": {
      "text/html": [
       "<div>\n",
       "<style scoped>\n",
       "    .dataframe tbody tr th:only-of-type {\n",
       "        vertical-align: middle;\n",
       "    }\n",
       "\n",
       "    .dataframe tbody tr th {\n",
       "        vertical-align: top;\n",
       "    }\n",
       "\n",
       "    .dataframe thead th {\n",
       "        text-align: right;\n",
       "    }\n",
       "</style>\n",
       "<table border=\"1\" class=\"dataframe\">\n",
       "  <thead>\n",
       "    <tr style=\"text-align: right;\">\n",
       "      <th></th>\n",
       "      <th>0</th>\n",
       "    </tr>\n",
       "  </thead>\n",
       "  <tbody>\n",
       "    <tr>\n",
       "      <th>0</th>\n",
       "      <td>1</td>\n",
       "    </tr>\n",
       "    <tr>\n",
       "      <th>1</th>\n",
       "      <td>3</td>\n",
       "    </tr>\n",
       "    <tr>\n",
       "      <th>2</th>\n",
       "      <td>4</td>\n",
       "    </tr>\n",
       "    <tr>\n",
       "      <th>3</th>\n",
       "      <td>2</td>\n",
       "    </tr>\n",
       "    <tr>\n",
       "      <th>4</th>\n",
       "      <td>1</td>\n",
       "    </tr>\n",
       "    <tr>\n",
       "      <th>5</th>\n",
       "      <td>1</td>\n",
       "    </tr>\n",
       "    <tr>\n",
       "      <th>6</th>\n",
       "      <td>1</td>\n",
       "    </tr>\n",
       "    <tr>\n",
       "      <th>7</th>\n",
       "      <td>1</td>\n",
       "    </tr>\n",
       "    <tr>\n",
       "      <th>8</th>\n",
       "      <td>5</td>\n",
       "    </tr>\n",
       "  </tbody>\n",
       "</table>\n",
       "</div>"
      ],
      "text/plain": [
       "   0\n",
       "0  1\n",
       "1  3\n",
       "2  4\n",
       "3  2\n",
       "4  1\n",
       "5  1\n",
       "6  1\n",
       "7  1\n",
       "8  5"
      ]
     },
     "execution_count": 43,
     "metadata": {},
     "output_type": "execute_result"
    }
   ],
   "source": [
    "#RECURSIVE FEATURE ELIMINATION\n",
    "#Feature ranking with recursive feature elimination and cross-validated selection of the best number of features\n",
    "\n",
    "from sklearn.feature_selection import RFE\n",
    "from sklearn.feature_selection import RFECV\n",
    "X = X_train\n",
    "y = y_train\n",
    "names=pd.DataFrame(X_train.columns)\n",
    "\n",
    "#use linear regression as the model\n",
    "lin_reg = LinearRegression()\n",
    "\n",
    "#This is to select 5 variables: can be changed and checked in model for accuracy\n",
    "rfe_mod = RFE(lin_reg, 5, step=1) #RFECV(lin_reg, step=1, cv=5) \n",
    "myvalues=rfe_mod.fit(X,y) #to fit\n",
    "myvalues.support_#The mask of selected features.\n",
    "myvalues.ranking_ #The feature ranking, such that ranking_[i] corresponds to the ranking position of the i-th feature. Selected (i.e., estimated best) features are assigned rank 1.\n",
    "\n",
    "rankings=pd.DataFrame(myvalues.ranking_) #Make it into data frame\n",
    "rankings"
   ]
  },
  {
   "cell_type": "code",
   "execution_count": 44,
   "metadata": {},
   "outputs": [
    {
     "name": "stdout",
     "output_type": "stream",
     "text": [
      "                         Feature  Rank\n",
      "0                  LogValue_2015     1\n",
      "4                      black_pop     1\n",
      "5                      asian_pop     1\n",
      "6  vacant_housing_units_for_rent     1\n",
      "7           natural_amenity_rank     1\n"
     ]
    },
    {
     "data": {
      "text/plain": [
       "5"
      ]
     },
     "execution_count": 44,
     "metadata": {},
     "output_type": "execute_result"
    }
   ],
   "source": [
    "#Concat and name columns\n",
    "ranked=pd.concat([names,rankings], axis=1)\n",
    "ranked.columns = [\"Feature\", \"Rank\"]\n",
    "ranked\n",
    "\n",
    "#Select most important (Only 1's)\n",
    "most_important = ranked.loc[ranked['Rank'] ==1] \n",
    "print(most_important)\n",
    "\n",
    "most_important['Rank'].count()"
   ]
  },
  {
   "cell_type": "code",
   "execution_count": 45,
   "metadata": {},
   "outputs": [
    {
     "name": "stderr",
     "output_type": "stream",
     "text": [
      "/Users/isa.adls/opt/anaconda3/lib/python3.7/site-packages/sklearn/utils/validation.py:760: DataConversionWarning: A column-vector y was passed when a 1d array was expected. Please change the shape of y to (n_samples, ), for example using ravel().\n",
      "  y = column_or_1d(y, warn=True)\n"
     ]
    }
   ],
   "source": [
    "#use linear regression as the model\n",
    "lin_reg = LinearRegression()\n",
    "\n",
    "#This is to select 8 variables: can be changed and checked in model for accuracy\n",
    "rfe_mod =  RFECV(lin_reg, step=1, cv=300) #RFE(lin_reg, 4, step=1)\n",
    "\n",
    "myvalues=rfe_mod.fit(X,y) #to fit"
   ]
  },
  {
   "cell_type": "code",
   "execution_count": 46,
   "metadata": {},
   "outputs": [
    {
     "name": "stdout",
     "output_type": "stream",
     "text": [
      "[3.60910833e+05 3.50298332e+00 6.04973282e+03 4.32662895e+01\n",
      " 5.71941832e+02 3.55981447e+03 3.22187719e+03 1.80936130e+03\n",
      " 1.47535083e+01]\n"
     ]
    },
    {
     "name": "stderr",
     "output_type": "stream",
     "text": [
      "/Users/isa.adls/opt/anaconda3/lib/python3.7/site-packages/sklearn/utils/validation.py:760: DataConversionWarning: A column-vector y was passed when a 1d array was expected. Please change the shape of y to (n_samples, ), for example using ravel().\n",
      "  y = column_or_1d(y, warn=True)\n"
     ]
    },
    {
     "data": {
      "text/html": [
       "<div>\n",
       "<style scoped>\n",
       "    .dataframe tbody tr th:only-of-type {\n",
       "        vertical-align: middle;\n",
       "    }\n",
       "\n",
       "    .dataframe tbody tr th {\n",
       "        vertical-align: top;\n",
       "    }\n",
       "\n",
       "    .dataframe thead th {\n",
       "        text-align: right;\n",
       "    }\n",
       "</style>\n",
       "<table border=\"1\" class=\"dataframe\">\n",
       "  <thead>\n",
       "    <tr style=\"text-align: right;\">\n",
       "      <th></th>\n",
       "      <th>Feature</th>\n",
       "      <th>Score</th>\n",
       "    </tr>\n",
       "  </thead>\n",
       "  <tbody>\n",
       "    <tr>\n",
       "      <th>1</th>\n",
       "      <td>Season</td>\n",
       "      <td>3.502983</td>\n",
       "    </tr>\n",
       "    <tr>\n",
       "      <th>8</th>\n",
       "      <td>supply_change</td>\n",
       "      <td>14.753508</td>\n",
       "    </tr>\n",
       "    <tr>\n",
       "      <th>3</th>\n",
       "      <td>MortDeliq90</td>\n",
       "      <td>43.266289</td>\n",
       "    </tr>\n",
       "    <tr>\n",
       "      <th>4</th>\n",
       "      <td>black_pop</td>\n",
       "      <td>571.941832</td>\n",
       "    </tr>\n",
       "    <tr>\n",
       "      <th>7</th>\n",
       "      <td>natural_amenity_rank</td>\n",
       "      <td>1809.361297</td>\n",
       "    </tr>\n",
       "    <tr>\n",
       "      <th>6</th>\n",
       "      <td>vacant_housing_units_for_rent</td>\n",
       "      <td>3221.877191</td>\n",
       "    </tr>\n",
       "    <tr>\n",
       "      <th>5</th>\n",
       "      <td>asian_pop</td>\n",
       "      <td>3559.814469</td>\n",
       "    </tr>\n",
       "    <tr>\n",
       "      <th>2</th>\n",
       "      <td>LogTotTaxes</td>\n",
       "      <td>6049.732817</td>\n",
       "    </tr>\n",
       "    <tr>\n",
       "      <th>0</th>\n",
       "      <td>LogValue_2015</td>\n",
       "      <td>360910.832910</td>\n",
       "    </tr>\n",
       "  </tbody>\n",
       "</table>\n",
       "</div>"
      ],
      "text/plain": [
       "                         Feature          Score\n",
       "1                         Season       3.502983\n",
       "8                  supply_change      14.753508\n",
       "3                    MortDeliq90      43.266289\n",
       "4                      black_pop     571.941832\n",
       "7           natural_amenity_rank    1809.361297\n",
       "6  vacant_housing_units_for_rent    3221.877191\n",
       "5                      asian_pop    3559.814469\n",
       "2                    LogTotTaxes    6049.732817\n",
       "0                  LogValue_2015  360910.832910"
      ]
     },
     "execution_count": 46,
     "metadata": {},
     "output_type": "execute_result"
    }
   ],
   "source": [
    "#UNIVARIATE SELECTION\n",
    "# Feature Extraction with Univariate Statistical Tests (f_regression)\n",
    "import pandas\n",
    "import numpy\n",
    "from sklearn.feature_selection import SelectKBest\n",
    "from sklearn.feature_selection import f_regression\n",
    "from sklearn.datasets import load_digits\n",
    "\n",
    "# load data\n",
    "X = X_train\n",
    "y = y_train\n",
    "names=pd.DataFrame(X_train.columns)\n",
    "\n",
    "model = SelectKBest(score_func=f_regression, k=4)\n",
    "results = model.fit(X, y)\n",
    "\n",
    "print (results.scores_)\n",
    "#print (results.pvalues_)\n",
    "\n",
    "results_df=pd.DataFrame(results.scores_)\n",
    "#Concat and name columns\n",
    "scored=pd.concat([names,results_df], axis=1)\n",
    "scored.columns = [\"Feature\", \"Score\"]\n",
    "scored.sort_values(by=['Score']).head(13)\n",
    "\n",
    "#We can now rank the importance of each feature based on their score.  \n",
    "#The higher the score, the more important the variable. "
   ]
  },
  {
   "cell_type": "code",
   "execution_count": 47,
   "metadata": {},
   "outputs": [
    {
     "data": {
      "text/html": [
       "<div>\n",
       "<style scoped>\n",
       "    .dataframe tbody tr th:only-of-type {\n",
       "        vertical-align: middle;\n",
       "    }\n",
       "\n",
       "    .dataframe tbody tr th {\n",
       "        vertical-align: top;\n",
       "    }\n",
       "\n",
       "    .dataframe thead th {\n",
       "        text-align: right;\n",
       "    }\n",
       "</style>\n",
       "<table border=\"1\" class=\"dataframe\">\n",
       "  <thead>\n",
       "    <tr style=\"text-align: right;\">\n",
       "      <th></th>\n",
       "      <th>LogValue_2015</th>\n",
       "      <th>Season</th>\n",
       "      <th>LogTotTaxes</th>\n",
       "      <th>MortDeliq90</th>\n",
       "      <th>black_pop</th>\n",
       "      <th>asian_pop</th>\n",
       "      <th>vacant_housing_units_for_rent</th>\n",
       "      <th>natural_amenity_rank</th>\n",
       "      <th>supply_change</th>\n",
       "      <th>LogValue</th>\n",
       "    </tr>\n",
       "  </thead>\n",
       "  <tbody>\n",
       "    <tr>\n",
       "      <th>0</th>\n",
       "      <td>7.421776</td>\n",
       "      <td>2.0</td>\n",
       "      <td>6.350867</td>\n",
       "      <td>3.000000</td>\n",
       "      <td>0.026682</td>\n",
       "      <td>0.071471</td>\n",
       "      <td>0.053914</td>\n",
       "      <td>3.0</td>\n",
       "      <td>4.827290</td>\n",
       "      <td>7.458763</td>\n",
       "    </tr>\n",
       "    <tr>\n",
       "      <th>1</th>\n",
       "      <td>7.036148</td>\n",
       "      <td>2.0</td>\n",
       "      <td>6.229107</td>\n",
       "      <td>2.396746</td>\n",
       "      <td>0.062797</td>\n",
       "      <td>0.155716</td>\n",
       "      <td>0.030479</td>\n",
       "      <td>3.0</td>\n",
       "      <td>7.735772</td>\n",
       "      <td>7.101676</td>\n",
       "    </tr>\n",
       "    <tr>\n",
       "      <th>2</th>\n",
       "      <td>7.507690</td>\n",
       "      <td>2.0</td>\n",
       "      <td>6.965521</td>\n",
       "      <td>3.000000</td>\n",
       "      <td>0.043573</td>\n",
       "      <td>0.057157</td>\n",
       "      <td>0.028165</td>\n",
       "      <td>3.0</td>\n",
       "      <td>54.949438</td>\n",
       "      <td>7.515345</td>\n",
       "    </tr>\n",
       "    <tr>\n",
       "      <th>3</th>\n",
       "      <td>6.858565</td>\n",
       "      <td>2.0</td>\n",
       "      <td>4.276235</td>\n",
       "      <td>2.100000</td>\n",
       "      <td>0.015401</td>\n",
       "      <td>0.009632</td>\n",
       "      <td>0.069657</td>\n",
       "      <td>5.0</td>\n",
       "      <td>0.886511</td>\n",
       "      <td>6.800170</td>\n",
       "    </tr>\n",
       "    <tr>\n",
       "      <th>4</th>\n",
       "      <td>7.243513</td>\n",
       "      <td>2.0</td>\n",
       "      <td>5.445087</td>\n",
       "      <td>3.000000</td>\n",
       "      <td>0.192627</td>\n",
       "      <td>0.104966</td>\n",
       "      <td>0.067138</td>\n",
       "      <td>3.0</td>\n",
       "      <td>42.438567</td>\n",
       "      <td>7.288244</td>\n",
       "    </tr>\n",
       "  </tbody>\n",
       "</table>\n",
       "</div>"
      ],
      "text/plain": [
       "   LogValue_2015  Season  LogTotTaxes  MortDeliq90  black_pop  asian_pop  \\\n",
       "0       7.421776     2.0     6.350867     3.000000   0.026682   0.071471   \n",
       "1       7.036148     2.0     6.229107     2.396746   0.062797   0.155716   \n",
       "2       7.507690     2.0     6.965521     3.000000   0.043573   0.057157   \n",
       "3       6.858565     2.0     4.276235     2.100000   0.015401   0.009632   \n",
       "4       7.243513     2.0     5.445087     3.000000   0.192627   0.104966   \n",
       "\n",
       "   vacant_housing_units_for_rent  natural_amenity_rank  supply_change  \\\n",
       "0                       0.053914                   3.0       4.827290   \n",
       "1                       0.030479                   3.0       7.735772   \n",
       "2                       0.028165                   3.0      54.949438   \n",
       "3                       0.069657                   5.0       0.886511   \n",
       "4                       0.067138                   3.0      42.438567   \n",
       "\n",
       "   LogValue  \n",
       "0  7.458763  \n",
       "1  7.101676  \n",
       "2  7.515345  \n",
       "3  6.800170  \n",
       "4  7.288244  "
      ]
     },
     "execution_count": 47,
     "metadata": {},
     "output_type": "execute_result"
    }
   ],
   "source": [
    "#create a single data frame with both features and target by concatonating\n",
    "train_df=pd.concat([X_train, y_train], axis=1)\n",
    "train_df.head()"
   ]
  },
  {
   "cell_type": "code",
   "execution_count": 48,
   "metadata": {},
   "outputs": [
    {
     "data": {
      "image/png": "[encoded data removed]",
      "text/plain": [
       "<Figure size 864x720 with 2 Axes>"
      ]
     },
     "metadata": {
      "needs_background": "light"
     },
     "output_type": "display_data"
    }
   ],
   "source": [
    "#Visualize corelations\n",
    "import seaborn as sns\n",
    "plt.figure(figsize=(12,10))\n",
    "ax=sns.heatmap(train_df.corr(), annot=True, cmap=sns.cubehelix_palette(20,  light=0.95, dark=0.15))\n",
    "ax.xaxis.tick_top\n",
    "plt.show()"
   ]
  },
  {
   "cell_type": "code",
   "execution_count": 49,
   "metadata": {},
   "outputs": [
    {
     "data": {
      "text/html": [
       "<div>\n",
       "<style scoped>\n",
       "    .dataframe tbody tr th:only-of-type {\n",
       "        vertical-align: middle;\n",
       "    }\n",
       "\n",
       "    .dataframe tbody tr th {\n",
       "        vertical-align: top;\n",
       "    }\n",
       "\n",
       "    .dataframe thead th {\n",
       "        text-align: right;\n",
       "    }\n",
       "</style>\n",
       "<table border=\"1\" class=\"dataframe\">\n",
       "  <thead>\n",
       "    <tr style=\"text-align: right;\">\n",
       "      <th></th>\n",
       "      <th>LogValue_2015</th>\n",
       "      <th>Season</th>\n",
       "      <th>LogTotTaxes</th>\n",
       "      <th>MortDeliq90</th>\n",
       "      <th>black_pop</th>\n",
       "      <th>asian_pop</th>\n",
       "      <th>vacant_housing_units_for_rent</th>\n",
       "      <th>natural_amenity_rank</th>\n",
       "      <th>supply_change</th>\n",
       "      <th>LogValue</th>\n",
       "    </tr>\n",
       "  </thead>\n",
       "  <tbody>\n",
       "    <tr>\n",
       "      <th>0</th>\n",
       "      <td>7.421776</td>\n",
       "      <td>2.0</td>\n",
       "      <td>6.350867</td>\n",
       "      <td>3.000000</td>\n",
       "      <td>0.026682</td>\n",
       "      <td>0.071471</td>\n",
       "      <td>0.053914</td>\n",
       "      <td>3.0</td>\n",
       "      <td>4.827290</td>\n",
       "      <td>7.458763</td>\n",
       "    </tr>\n",
       "    <tr>\n",
       "      <th>1</th>\n",
       "      <td>7.036148</td>\n",
       "      <td>2.0</td>\n",
       "      <td>6.229107</td>\n",
       "      <td>2.396746</td>\n",
       "      <td>0.062797</td>\n",
       "      <td>0.155716</td>\n",
       "      <td>0.030479</td>\n",
       "      <td>3.0</td>\n",
       "      <td>7.735772</td>\n",
       "      <td>7.101676</td>\n",
       "    </tr>\n",
       "    <tr>\n",
       "      <th>2</th>\n",
       "      <td>7.507690</td>\n",
       "      <td>2.0</td>\n",
       "      <td>6.965521</td>\n",
       "      <td>3.000000</td>\n",
       "      <td>0.043573</td>\n",
       "      <td>0.057157</td>\n",
       "      <td>0.028165</td>\n",
       "      <td>3.0</td>\n",
       "      <td>54.949438</td>\n",
       "      <td>7.515345</td>\n",
       "    </tr>\n",
       "    <tr>\n",
       "      <th>3</th>\n",
       "      <td>6.858565</td>\n",
       "      <td>2.0</td>\n",
       "      <td>4.276235</td>\n",
       "      <td>2.100000</td>\n",
       "      <td>0.015401</td>\n",
       "      <td>0.009632</td>\n",
       "      <td>0.069657</td>\n",
       "      <td>5.0</td>\n",
       "      <td>0.886511</td>\n",
       "      <td>6.800170</td>\n",
       "    </tr>\n",
       "    <tr>\n",
       "      <th>4</th>\n",
       "      <td>7.243513</td>\n",
       "      <td>2.0</td>\n",
       "      <td>5.445087</td>\n",
       "      <td>3.000000</td>\n",
       "      <td>0.192627</td>\n",
       "      <td>0.104966</td>\n",
       "      <td>0.067138</td>\n",
       "      <td>3.0</td>\n",
       "      <td>42.438567</td>\n",
       "      <td>7.288244</td>\n",
       "    </tr>\n",
       "  </tbody>\n",
       "</table>\n",
       "</div>"
      ],
      "text/plain": [
       "   LogValue_2015  Season  LogTotTaxes  MortDeliq90  black_pop  asian_pop  \\\n",
       "0       7.421776     2.0     6.350867     3.000000   0.026682   0.071471   \n",
       "1       7.036148     2.0     6.229107     2.396746   0.062797   0.155716   \n",
       "2       7.507690     2.0     6.965521     3.000000   0.043573   0.057157   \n",
       "3       6.858565     2.0     4.276235     2.100000   0.015401   0.009632   \n",
       "4       7.243513     2.0     5.445087     3.000000   0.192627   0.104966   \n",
       "\n",
       "   vacant_housing_units_for_rent  natural_amenity_rank  supply_change  \\\n",
       "0                       0.053914                   3.0       4.827290   \n",
       "1                       0.030479                   3.0       7.735772   \n",
       "2                       0.028165                   3.0      54.949438   \n",
       "3                       0.069657                   5.0       0.886511   \n",
       "4                       0.067138                   3.0      42.438567   \n",
       "\n",
       "   LogValue  \n",
       "0  7.458763  \n",
       "1  7.101676  \n",
       "2  7.515345  \n",
       "3  6.800170  \n",
       "4  7.288244  "
      ]
     },
     "execution_count": 49,
     "metadata": {},
     "output_type": "execute_result"
    }
   ],
   "source": [
    "train_df.head()"
   ]
  },
  {
   "cell_type": "code",
   "execution_count": 50,
   "metadata": {},
   "outputs": [
    {
     "name": "stderr",
     "output_type": "stream",
     "text": [
      "/Users/isa.adls/opt/anaconda3/lib/python3.7/site-packages/sklearn/linear_model/_coordinate_descent.py:1088: DataConversionWarning: A column-vector y was passed when a 1d array was expected. Please change the shape of y to (n_samples, ), for example using ravel().\n",
      "  y = column_or_1d(y, warn=True)\n"
     ]
    },
    {
     "data": {
      "text/plain": [
       "Index(['LogValue_2015'], dtype='object')"
      ]
     },
     "execution_count": 50,
     "metadata": {},
     "output_type": "execute_result"
    }
   ],
   "source": [
    "import matplotlib.pyplot as plt\n",
    "import numpy as np\n",
    "\n",
    "from sklearn.feature_selection import SelectFromModel\n",
    "from sklearn.linear_model import LassoCV\n",
    "\n",
    "# load data\n",
    "X = X_train\n",
    "y = y_train\n",
    "\n",
    "# Use L1 penalty\n",
    "estimator = LassoCV(cv=5, normalize = True)\n",
    "\n",
    "# Set a minimum threshold of 0.25\n",
    "sfm = SelectFromModel(estimator, threshold=0.25, prefit=False, norm_order=1, max_features=None)\n",
    "\n",
    "sfm.fit(X, y)\n",
    "\n",
    "feature_idx = sfm.get_support()\n",
    "feature_name = X.columns[feature_idx]\n",
    "feature_name\n"
   ]
  },
  {
   "cell_type": "code",
   "execution_count": 51,
   "metadata": {},
   "outputs": [
    {
     "data": {
      "text/plain": [
       "1"
      ]
     },
     "execution_count": 51,
     "metadata": {},
     "output_type": "execute_result"
    }
   ],
   "source": [
    "n_features = sfm.transform(X).shape[1]\n",
    "n_features"
   ]
  },
  {
   "cell_type": "code",
   "execution_count": null,
   "metadata": {},
   "outputs": [],
   "source": []
  },
  {
   "cell_type": "code",
   "execution_count": 176,
   "metadata": {},
   "outputs": [
    {
     "name": "stdout",
     "output_type": "stream",
     "text": [
      "Linear Model\n",
      "--------------------\n",
      "Train Score:   0.96212\n",
      "Test Score:    0.95211\n",
      "\n"
     ]
    }
   ],
   "source": [
    "lm.fit(X_train, y_train)\n",
    "\n",
    "print('Linear Model')\n",
    "print('-'*20)\n",
    "print(\"Train Score:   %.5f\" % lm.score(X_train, y_train))\n",
    "print(\"Test Score:    %.5f\\n\" % lm.score(X_test, y_test))"
   ]
  },
  {
   "cell_type": "code",
   "execution_count": 177,
   "metadata": {},
   "outputs": [
    {
     "name": "stdout",
     "output_type": "stream",
     "text": [
      "Penalized Linear Model\n",
      "--------------------\n",
      "Train Score: 0.96203\n",
      "Test Score:  0.95206\n"
     ]
    }
   ],
   "source": [
    "lasso = Lasso(alpha = 1e-05, normalize=True).fit(X_train, y_train)\n",
    "\n",
    "print('Penalized Linear Model')\n",
    "print('-'*20)\n",
    "print(\"Train Score: %.5f\" % lasso.score(X_train, y_train))\n",
    "print(\"Test Score:  %.5f\" % lasso.score(X_test, y_test))"
   ]
  },
  {
   "cell_type": "code",
   "execution_count": 178,
   "metadata": {},
   "outputs": [
    {
     "name": "stdout",
     "output_type": "stream",
     "text": [
      "Final Model\n",
      "--------------------\n",
      "R^2 Score:  96.21\n",
      "Mean Error: $111\n",
      "\n"
     ]
    }
   ],
   "source": [
    "train_set = pd.concat([X_train, y_train], axis=1)\n",
    "y = train_set['LogValue']\n",
    "x = train_set.drop('LogValue', axis=1)\n",
    "\n",
    "from sklearn.metrics import mean_squared_error\n",
    "\n",
    "def expo(list_):\n",
    "    return list(map(exp, list_))\n",
    "\n",
    "print('Final Model')\n",
    "print('-'*20)\n",
    "lm.fit(x, y)\n",
    "print(\"R^2 Score:  %.2f\" % (100*lm.score(x, y)))\n",
    "print(\"Mean Error: $%.0f\\n\" % mean_squared_error(expo(y), expo(lm.predict(x)), squared=False))\n",
    "\n"
   ]
  },
  {
   "cell_type": "code",
   "execution_count": 182,
   "metadata": {},
   "outputs": [],
   "source": [
    "residuals = pd.DataFrame(y_test - y_pred)"
   ]
  },
  {
   "cell_type": "code",
   "execution_count": 183,
   "metadata": {},
   "outputs": [
    {
     "data": {
      "text/plain": [
       "39"
      ]
     },
     "execution_count": 183,
     "metadata": {},
     "output_type": "execute_result"
    }
   ],
   "source": [
    "len(residuals.loc[abs(residuals['LogValue']) > 0.4])"
   ]
  },
  {
   "cell_type": "code",
   "execution_count": 184,
   "metadata": {},
   "outputs": [
    {
     "data": {
      "text/plain": [
       "Int64Index([  974,  1995,  2426,  3446,  3880,  4905,  5332,  6344,  6772,\n",
       "             7365,  7791,  8215,  8805,  8819,  9197,  9394,  9657,  9821,\n",
       "            10249, 10263, 10638, 10675, 10838, 11261, 11689, 11703, 12073,\n",
       "            12108, 12267, 12684, 12692, 13119, 13133, 13503, 13694, 13961,\n",
       "            14960, 15157, 16026],\n",
       "           dtype='int64')"
      ]
     },
     "execution_count": 184,
     "metadata": {},
     "output_type": "execute_result"
    }
   ],
   "source": [
    "residuals.loc[abs(residuals['LogValue']) > 0.4].index"
   ]
  },
  {
   "cell_type": "code",
   "execution_count": null,
   "metadata": {},
   "outputs": [],
   "source": [
    "largeres = test.loc[[974,  1995,  2426,  3446,  3880,  4905,  5332,  6344,  6772,\n",
    "             7365,  7791,  8215,  8805,  8819,  9197,  9394,  9657,  9821,\n",
    "            10249, 10263, 10638, 10675, 10838, 11261, 11689, 11703, 12073,\n",
    "            12108, 12267, 12684, 12692, 13119, 13133, 13503, 13961, 14960,\n",
    "            15157, 16026], :]\n"
   ]
  },
  {
   "cell_type": "code",
   "execution_count": null,
   "metadata": {},
   "outputs": [],
   "source": [
    "largeres.ZIPCODE.value_counts()"
   ]
  },
  {
   "cell_type": "code",
   "execution_count": null,
   "metadata": {},
   "outputs": [],
   "source": [
    "zipcodes = [12010, 13021, 90201, 91770, 91732, 90706, 91733, 12078]"
   ]
  },
  {
   "cell_type": "code",
   "execution_count": null,
   "metadata": {},
   "outputs": [],
   "source": [
    "dropzips= zri[zri.ZIPCODE.isin(zipcodes)==True]"
   ]
  },
  {
   "cell_type": "code",
   "execution_count": null,
   "metadata": {},
   "outputs": [],
   "source": [
    "dz = dropzips.groupby(['Year', 'ZIPCODE']).agg({'value':'mean'}).reset_index()"
   ]
  },
  {
   "cell_type": "code",
   "execution_count": null,
   "metadata": {},
   "outputs": [],
   "source": [
    "dz"
   ]
  },
  {
   "cell_type": "code",
   "execution_count": null,
   "metadata": {},
   "outputs": [],
   "source": [
    "dz = dz.pivot(index='Year', columns='ZIPCODE', values='value')"
   ]
  },
  {
   "cell_type": "code",
   "execution_count": null,
   "metadata": {},
   "outputs": [],
   "source": [
    "dz.head()"
   ]
  },
  {
   "cell_type": "code",
   "execution_count": null,
   "metadata": {},
   "outputs": [],
   "source": []
  },
  {
   "cell_type": "code",
   "execution_count": null,
   "metadata": {
    "scrolled": false
   },
   "outputs": [],
   "source": [
    "dz.plot(figsize = (15,7)).legend(title='zipcode', bbox_to_anchor=(1, 1))\n",
    "plt.title('Yearly ZRI for zipcodes with largest residuals')\n",
    "plt.ylabel('ZRI')\n",
    "plt.rcParams.update({'font.size': 10})\n",
    "plt.savefig('YearlyZRIzipcodes.png')\n"
   ]
  },
  {
   "cell_type": "code",
   "execution_count": null,
   "metadata": {},
   "outputs": [],
   "source": [
    "dropzips.groupby('Year').agg({'value':'mean'}).plot()"
   ]
  },
  {
   "cell_type": "code",
   "execution_count": null,
   "metadata": {},
   "outputs": [],
   "source": [
    "zipZRI = zri[zri.ZIPCODE == 12010]\n",
    "zipZRI.groupby('Year').agg({'value':'mean'}).plot()"
   ]
  },
  {
   "cell_type": "code",
   "execution_count": 88,
   "metadata": {},
   "outputs": [
    {
     "name": "stdout",
     "output_type": "stream",
     "text": [
      "Final Model\n",
      "--------------------\n",
      "R^2 Score:  96.43\n",
      "Mean Error: $108\n",
      "\n"
     ]
    }
   ],
   "source": [
    "train_set = pd.concat([X_train, y_train], axis=1)\n",
    "y = train_set['LogValue']\n",
    "x = train_set.drop('LogValue', axis=1)\n",
    "\n",
    "from sklearn.metrics import mean_squared_error\n",
    "\n",
    "def expo(list_):\n",
    "    return list(map(exp, list_))\n",
    "\n",
    "print('Final Model')\n",
    "print('-'*20)\n",
    "lm.fit(x, y)\n",
    "print(\"R^2 Score:  %.2f\" % (100*lm.score(x, y)))\n",
    "print(\"Mean Error: $%.0f\\n\" % mean_squared_error(expo(y), expo(lm.predict(x)), squared=False))"
   ]
  },
  {
   "cell_type": "code",
   "execution_count": 89,
   "metadata": {},
   "outputs": [
    {
     "data": {
      "text/plain": [
       "Text(0, 0.5, 'Residual Log Rent')"
      ]
     },
     "execution_count": 89,
     "metadata": {},
     "output_type": "execute_result"
    },
    {
     "data": {
      "image/png": "[encoded data removed]",
      "text/plain": [
       "<Figure size 576x576 with 1 Axes>"
      ]
     },
     "metadata": {
      "needs_background": "light"
     },
     "output_type": "display_data"
    }
   ],
   "source": [
    "res_x = [target/1000 for target in expo(y)]\n",
    "res_y = [(target - predict)/1000 for (target, predict) in zip(expo(y), expo(lm.predict(x)))]\n",
    "plt.figure(figsize=(8,8))\n",
    "plt.scatter(res_x, res_y, alpha = 0.5)\n",
    "plt.title('Distribution of Residuals')\n",
    "plt.xlabel('Actual Log Rent')\n",
    "plt.ylabel('Residual Log Rent')"
   ]
  },
  {
   "cell_type": "code",
   "execution_count": 181,
   "metadata": {},
   "outputs": [
    {
     "name": "stdout",
     "output_type": "stream",
     "text": [
      "Coefficients: \n",
      " [ 0.91479972  0.00453724  0.00796693  0.00632675 -0.03942328 -0.19346547\n",
      "  0.02218155]\n",
      "Mean squared error: 0.01\n",
      "R_squared score: 0.95\n"
     ]
    }
   ],
   "source": [
    "# Instantiate, fit, predict\n",
    "from sklearn.metrics import r2_score \n",
    "\n",
    "\n",
    "lm.fit(X_train, y_train)\n",
    "y_pred = lm.predict(X_test)\n",
    "\n",
    "# Coefficient estimates\n",
    "print('Coefficients: \\n', lm.coef_)\n",
    "\n",
    "# Mean squared error\n",
    "print(\"Mean squared error: %.2f\"\n",
    "      % mean_squared_error(y_test, y_pred))\n",
    "\n",
    "# Explained variance score\n",
    "print('R_squared score: %.2f' % r2_score(y_test, y_pred))"
   ]
  },
  {
   "cell_type": "code",
   "execution_count": null,
   "metadata": {},
   "outputs": [],
   "source": [
    "train_set.head()"
   ]
  },
  {
   "cell_type": "code",
   "execution_count": null,
   "metadata": {},
   "outputs": [],
   "source": [
    "import statsmodels.api as sm\n",
    "import statsmodels.formula.api as smf \n",
    "print (\"OLS regression model for the association between ZRI value and asian_pop\")\n",
    "# reg1 is the model name , followed by equal sign. \n",
    "reg1 = smf.ols(formula = 'LogValue ~ asian_pop', data=train_set).fit()\n",
    "# print the result\n",
    "print (reg1.summary())"
   ]
  },
  {
   "cell_type": "code",
   "execution_count": null,
   "metadata": {},
   "outputs": [],
   "source": [
    "import statsmodels.api as sm\n",
    "import statsmodels.formula.api as smf \n",
    "print (\"OLS regression model for the association between ZRI value and income_per_capita\")\n",
    "# reg1 is the model name , followed by equal sign. \n",
    "reg1 = smf.ols(formula = 'LogValue ~ LogValue_2015', data=train_set).fit()\n",
    "# print the result\n",
    "print (reg1.summary())"
   ]
  },
  {
   "cell_type": "code",
   "execution_count": null,
   "metadata": {},
   "outputs": [],
   "source": [
    "#Q-Q plot for normality\n",
    "fig4=sm.qqplot(reg1.resid, line='r')"
   ]
  },
  {
   "cell_type": "code",
   "execution_count": null,
   "metadata": {},
   "outputs": [],
   "source": [
    "# simple plot of residuals\n",
    "import seaborn as sns\n",
    "\n",
    "sns.residplot('LogValue', 'LogTotTaxes', data=train_set)"
   ]
  },
  {
   "cell_type": "code",
   "execution_count": null,
   "metadata": {},
   "outputs": [],
   "source": [
    "train_set.columns"
   ]
  },
  {
   "cell_type": "code",
   "execution_count": null,
   "metadata": {},
   "outputs": [],
   "source": [
    "print (\"\\n\\n---------------------\")\n",
    "print (\"TRAIN SET INFORMATION\")\n",
    "print (\"---------------------\")\n",
    "print (\"Shape of training set:\", train_set.shape, \"\\n\")\n",
    "print (\"Column Headers:\", list(train_set.columns.values), \"\\n\")\n",
    "print (train_set.dtypes)"
   ]
  },
  {
   "cell_type": "code",
   "execution_count": null,
   "metadata": {},
   "outputs": [],
   "source": [
    "import re\n",
    "missing_values = []\n",
    "nonumeric_values = []\n",
    "\n",
    "print (\"TRAINING SET INFORMATION\")\n",
    "print (\"========================\\n\")\n",
    "\n",
    "for column in train_set:\n",
    "    # Find all the unique feature values\n",
    "    uniq = train_set[column].unique()\n",
    "    print (\"'{}' has {} unique values\" .format(column,uniq.size))\n",
    "    if (uniq.size > 10):\n",
    "        print(\"~~Listing up to 10 unique values~~\")\n",
    "    print (uniq[0:10])\n",
    "    print (\"\\n-----------------------------------------------------------------------\\n\")\n",
    "    \n",
    "    # Find features with missing values\n",
    "    if (True in pd.isnull(uniq)):\n",
    "        s = \"{} has {} missing\" .format(column, pd.isnull(train_set[column]).sum())\n",
    "        missing_values.append(s)\n",
    "    \n",
    "    # Find features with non-numeric values\n",
    "    for i in range (1, np.prod(uniq.shape)):\n",
    "        if (re.match('nan', str(uniq[i]))):\n",
    "            break\n",
    "        if not (re.search('(^\\d+\\.?\\d*$)|(^\\d*\\.?\\d+$)', str(uniq[i]))):\n",
    "            nonumeric_values.append(column)\n",
    "            break\n",
    "  \n",
    "print (\"\\n~~~~~~~~~~~~~~~~~~~~~~~~~~~~~~~~~~~~~~~~~~~~~~~~~~~~~~~~~~~~~~~~~~~~~~~~~~~~~~~~~~~~~\\n\")\n",
    "print (\"Features with missing values:\\n{}\\n\\n\" .format(missing_values))\n",
    "print (\"Features with non-numeric values:\\n{}\" .format(nonumeric_values))\n",
    "print (\"\\n~~~~~~~~~~~~~~~~~~~~~~~~~~~~~~~~~~~~~~~~~~~~~~~~~~~~~~~~~~~~~~~~~~~~~~~~~~~~~~~~~~~~~\\n\")"
   ]
  },
  {
   "cell_type": "code",
   "execution_count": null,
   "metadata": {},
   "outputs": [],
   "source": [
    "# Check for duplicate index or rows\n",
    "idsUnique = len(set(train_set.index))\n",
    "idsTotal = train_set.shape[0]\n",
    "idsDupli = idsTotal - idsUnique\n",
    "print(\"There are \" + str(idsDupli) + \" duplicate IDs for \" + str(idsTotal) + \" total entries\")"
   ]
  },
  {
   "cell_type": "code",
   "execution_count": null,
   "metadata": {},
   "outputs": [],
   "source": [
    "#get summary of numerical variables\n",
    "train_set.describe()"
   ]
  },
  {
   "cell_type": "code",
   "execution_count": null,
   "metadata": {},
   "outputs": [],
   "source": [
    "# Skewness of the distribution\n",
    "\n",
    "print(train_set.skew())\n",
    "\n",
    "# Values close to 0 show less skew\n"
   ]
  },
  {
   "cell_type": "code",
   "execution_count": null,
   "metadata": {},
   "outputs": [],
   "source": [
    "# Skewness of the distribution\n",
    "\n",
    "print(train_set.kurt())"
   ]
  },
  {
   "cell_type": "code",
   "execution_count": null,
   "metadata": {},
   "outputs": [],
   "source": [
    "#Check when a value in a cloumn is zero\n",
    "train_set[(train_set['LogValue'] == 0)].count()"
   ]
  },
  {
   "cell_type": "code",
   "execution_count": null,
   "metadata": {},
   "outputs": [],
   "source": [
    "df = train_set[['LogTotTaxes','LogValue']]\n"
   ]
  },
  {
   "cell_type": "code",
   "execution_count": null,
   "metadata": {},
   "outputs": [],
   "source": [
    "df.head()\n"
   ]
  },
  {
   "cell_type": "code",
   "execution_count": null,
   "metadata": {},
   "outputs": [],
   "source": [
    "#draw a histogram and not fit a kernel density estimate (KDE).\n",
    "sns.distplot(df['LogTotTaxes'], kde = True, color = 'r', hist_kws={'alpha': 0.9})"
   ]
  },
  {
   "cell_type": "code",
   "execution_count": null,
   "metadata": {},
   "outputs": [],
   "source": [
    "train_set.boxplot(column=\"LogValue\")\n",
    "#sns.boxplot(x='value', y='Year', data=train_set)"
   ]
  },
  {
   "cell_type": "code",
   "execution_count": null,
   "metadata": {},
   "outputs": [],
   "source": [
    "train_set.plot(kind=\"scatter\",     # Create a scatterplot\n",
    "              x='vacant_housing_units_for_rent',          # Put carat on the x axis\n",
    "              y=\"LogValue\",          # Put price on the y axis\n",
    "              figsize=(5,5))"
   ]
  },
  {
   "cell_type": "code",
   "execution_count": null,
   "metadata": {},
   "outputs": [],
   "source": [
    "train_set.columns"
   ]
  },
  {
   "cell_type": "code",
   "execution_count": null,
   "metadata": {},
   "outputs": [],
   "source": [
    "p = sns.pairplot(train_set, x_vars=['LogValue_2015', 'Season', 'LogTotTaxes', 'MortDeliq90', 'black_pop',\n",
    "       'asian_pop', 'vacant_housing_units_for_rent', 'natural_amenity_rank'], y_vars='LogValue', height=7, aspect=0.7)"
   ]
  },
  {
   "cell_type": "code",
   "execution_count": null,
   "metadata": {},
   "outputs": [],
   "source": [
    "#load_ext rpy2.ipython"
   ]
  },
  {
   "cell_type": "code",
   "execution_count": null,
   "metadata": {},
   "outputs": [],
   "source": [
    "%%R -i X -i y\n",
    "a\n",
    "lin_reg <- lm(LogValue ~ ., data = train_set)\n",
    "summary(lin_reg)"
   ]
  },
  {
   "cell_type": "code",
   "execution_count": null,
   "metadata": {},
   "outputs": [],
   "source": [
    "from sklearn.ensemble import GradientBoostingRegressor\n",
    "from sklearn.model_selection import train_test_split\n",
    "from sklearn.model_selection import GridSearchCV"
   ]
  },
  {
   "cell_type": "code",
   "execution_count": null,
   "metadata": {},
   "outputs": [],
   "source": [
    "gbm = GradientBoostingRegressor()\n",
    "\n",
    "gbm.set_params(n_estimators = 1000, \n",
    "            learning_rate = .3, #.3,\n",
    "            max_depth = 3, #2,\n",
    "            min_samples_leaf = 3)\n",
    "\n",
    "gbm.fit(X_train,y_train)\n",
    "\n",
    "print('-'*50)\n",
    "print(\"The train set R^2 is %.3f\" %(gbm.score(X_train, y_train)))\n",
    "print(\"The test set R^2 is %.3f\" %(gbm.score(X_test,y_test)))"
   ]
  },
  {
   "cell_type": "code",
   "execution_count": null,
   "metadata": {},
   "outputs": [],
   "source": [
    "#Random Forrest\n",
    "from sklearn import ensemble\n",
    "\n",
    "randomForest = ensemble.RandomForestRegressor()\n",
    "bagging      = ensemble.BaggingRegressor()\n",
    "\n",
    "randomForest.set_params(random_state=42, max_depth = 8, min_samples_split = 2, n_estimators=100, max_features =4)\n",
    "\n",
    "print(randomForest.fit(X_train,y_train))\n",
    "\n",
    "\n",
    "print(randomForest.score(X_train,y_train))\n",
    "randomForest.score(X_test,y_test)\n"
   ]
  },
  {
   "cell_type": "code",
   "execution_count": null,
   "metadata": {},
   "outputs": [],
   "source": [
    "feature_importance = list(zip(X_train.columns[:-2], randomForest.feature_importances_))\n",
    "dtype = [('feature', 'S10'), ('importance', 'float')]\n",
    "feature_importance = np.array(feature_importance, dtype=dtype)\n",
    "feature_sort = np.sort(feature_importance, order='importance')[::-1]\n",
    "name, score = zip(*list(feature_sort))\n",
    "pd.DataFrame({'name':name,'score':score})[:15].plot.bar(x='name', y='score')"
   ]
  },
  {
   "cell_type": "code",
   "execution_count": 90,
   "metadata": {},
   "outputs": [
    {
     "name": "stderr",
     "output_type": "stream",
     "text": [
      "/Users/isa.adls/opt/anaconda3/lib/python3.7/site-packages/sklearn/utils/deprecation.py:144: FutureWarning: The sklearn.metrics.classification module is  deprecated in version 0.22 and will be removed in version 0.24. The corresponding classes / functions should instead be imported from sklearn.metrics. Anything that cannot be imported from sklearn.metrics is now part of the private API.\n",
      "  warnings.warn(message, FutureWarning)\n"
     ]
    },
    {
     "data": {
      "image/png": "[encoded data removed]",
      "text/plain": [
       "<Figure size 576x396 with 2 Axes>"
      ]
     },
     "metadata": {},
     "output_type": "display_data"
    },
    {
     "data": {
      "text/plain": [
       "<Figure size 576x396 with 0 Axes>"
      ]
     },
     "metadata": {},
     "output_type": "display_data"
    }
   ],
   "source": [
    "from yellowbrick.datasets import load_concrete\n",
    "from yellowbrick.regressor import ResidualsPlot\n",
    "# Instantiate the linear model and visualizer\n",
    "visualizer = ResidualsPlot(lm, train_alpha = 0.1, test_alpha =0.1)\n",
    "visualizer.fit(X_train, y_train)  # Fit the training data to the visualizer\n",
    "visualizer.score(X_test, y_test)# Evaluate ttrain_alpha = 0.1, test_alpha =0.01he model on the test data\n",
    "plt.ylim([-0.5, 0.7])\n",
    "visualizer.show()                 # Finalize and render the figure\n",
    "plt.savefig('Residuals1.png')"
   ]
  },
  {
   "cell_type": "code",
   "execution_count": null,
   "metadata": {},
   "outputs": [],
   "source": []
  }
 ],
 "metadata": {
  "kernelspec": {
   "display_name": "Python 3",
   "language": "python",
   "name": "python3"
  },
  "language_info": {
   "codemirror_mode": {
    "name": "ipython",
    "version": 3
   },
   "file_extension": ".py",
   "mimetype": "text/x-python",
   "name": "python",
   "nbconvert_exporter": "python",
   "pygments_lexer": "ipython3",
   "version": "3.7.6"
  }
 },
 "nbformat": 4,
 "nbformat_minor": 4
}
