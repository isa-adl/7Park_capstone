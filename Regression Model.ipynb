{
 "cells": [
  {
   "cell_type": "code",
   "execution_count": 36,
   "metadata": {},
   "outputs": [],
   "source": [
    "# import necessary packages\n",
    "import numpy as np\n",
    "import pandas as pd\n",
    "import matplotlib.pyplot as plt\n",
    "from math import exp\n",
    "\n",
    "# set display options\n",
    "pd.set_option('display.max_columns', None)"
   ]
  },
  {
   "cell_type": "code",
   "execution_count": 254,
   "metadata": {},
   "outputs": [],
   "source": [
    "zri = pd.read_csv('./data/df.csv', index_col=0)"
   ]
  },
  {
   "cell_type": "code",
   "execution_count": 255,
   "metadata": {},
   "outputs": [
    {
     "data": {
      "text/plain": [
       "Index(['ZIPCODE', 'City', 'State', 'Metro', 'CountyName', 'SizeRank',\n",
       "       'Year-Month', 'value', 'Month', 'Year', 'Season', 'AGIncome',\n",
       "       'TotIncome', 'SalariesWages', 'NumUnemply', 'TotTaxes', 'FIPSCode',\n",
       "       'Labor\\nForce', 'Employed', 'Unemployed', 'Unemploy-\\nment Rate\\n(%)',\n",
       "       'MortDeliq30-89', 'MortDeliq90', 'geo_id', 'total_pop', 'median_age',\n",
       "       'white_pop', 'black_pop', 'asian_pop', 'hispanic_pop', 'gini_index',\n",
       "       'income_per_capita', 'vacant_housing_units_for_rent',\n",
       "       'percent_income_spent_on_rent', 'high_school_diploma',\n",
       "       'associates_degree', 'bachelors_degree', 'masters_degree', 'year',\n",
       "       'population_change', 'natural_amenity_rank'],\n",
       "      dtype='object')"
      ]
     },
     "execution_count": 255,
     "metadata": {},
     "output_type": "execute_result"
    }
   ],
   "source": [
    "zri.columns"
   ]
  },
  {
   "cell_type": "code",
   "execution_count": 279,
   "metadata": {},
   "outputs": [],
   "source": [
    "zri['MortDeliq30-89'] = zri['MortDeliq30-89'].fillna(zri['MortDeliq30-89'].mean())\n",
    "zri['MortDeliq90'] = zri['MortDeliq90'].fillna(zri['MortDeliq90'].mean())"
   ]
  },
  {
   "cell_type": "code",
   "execution_count": 280,
   "metadata": {},
   "outputs": [],
   "source": [
    "train = pd.merge(zri.loc[zri['Year']==2015].drop(columns = ['value']),\n",
    "                 zri.loc[zri['Year']==2018][['ZIPCODE', 'Month','value']],\n",
    "                 how = 'left', on = ['ZIPCODE', 'Month'])\n",
    "test = pd.merge(zri.loc[zri['Year']==2016].drop(columns = ['value']),\n",
    "                zri.loc[zri['Year']==2019][['ZIPCODE', 'Month','value']],\n",
    "                how = 'left', on = ['ZIPCODE', 'Month'])"
   ]
  },
  {
   "cell_type": "code",
   "execution_count": 281,
   "metadata": {},
   "outputs": [],
   "source": [
    "train['AGIncome'] = (train['AGIncome']*1000)/train['total_pop']\n",
    "train['TotIncome'] = (train['TotIncome']*1000)/train['total_pop']\n",
    "train['SalariesWages'] = (train['SalariesWages']*1000)/train['total_pop']\n",
    "train['NumUnemply'] =(train['NumUnemply']*1000)/train['total_pop']\n",
    "train['TotTaxes'] = (train['TotTaxes']*1000)/train['total_pop']\n",
    "train = train.replace(np.nan, 0)"
   ]
  },
  {
   "cell_type": "code",
   "execution_count": 282,
   "metadata": {},
   "outputs": [],
   "source": [
    "test['AGIncome'] = (test['AGIncome']*1000)/test['total_pop']\n",
    "test['TotIncome'] = (test['TotIncome']*1000)/test['total_pop']\n",
    "test['SalariesWages'] = (test['SalariesWages']*1000)/test['total_pop']\n",
    "test['NumUnemply'] = (test['NumUnemply']*1000)/test['total_pop']\n",
    "test['TotTaxes'] = (test['TotTaxes']*1000)/test['total_pop']"
   ]
  },
  {
   "cell_type": "code",
   "execution_count": 283,
   "metadata": {},
   "outputs": [
    {
     "name": "stdout",
     "output_type": "stream",
     "text": [
      "Index(['Season', 'AGIncome', 'TotIncome', 'SalariesWages', 'NumUnemply',\n",
      "       'TotTaxes', 'Unemploy-\\nment Rate\\n(%)', 'MortDeliq30-89',\n",
      "       'MortDeliq90', 'total_pop', 'median_age', 'white_pop', 'black_pop',\n",
      "       'asian_pop', 'hispanic_pop', 'gini_index', 'income_per_capita',\n",
      "       'vacant_housing_units_for_rent', 'percent_income_spent_on_rent',\n",
      "       'high_school_diploma', 'associates_degree', 'bachelors_degree',\n",
      "       'masters_degree', 'year', 'population_change', 'natural_amenity_rank',\n",
      "       'value'],\n",
      "      dtype='object')\n"
     ]
    },
    {
     "data": {
      "text/plain": [
       "Index(['Season', 'AGIncome', 'TotIncome', 'SalariesWages', 'NumUnemply',\n",
       "       'TotTaxes', 'Unemploy-\\nment Rate\\n(%)', 'MortDeliq30-89',\n",
       "       'MortDeliq90', 'total_pop', 'median_age', 'white_pop', 'black_pop',\n",
       "       'asian_pop', 'hispanic_pop', 'gini_index', 'income_per_capita',\n",
       "       'vacant_housing_units_for_rent', 'percent_income_spent_on_rent',\n",
       "       'high_school_diploma', 'associates_degree', 'bachelors_degree',\n",
       "       'masters_degree', 'year', 'population_change', 'natural_amenity_rank',\n",
       "       'value'],\n",
       "      dtype='object')"
      ]
     },
     "execution_count": 283,
     "metadata": {},
     "output_type": "execute_result"
    }
   ],
   "source": [
    "#drop columns to test\n",
    "\n",
    "dropped = ['SizeRank', 'City', 'State', 'Metro', 'CountyName',\\\n",
    "                        'Month', 'Year','Labor\\nForce','Employed', 'Unemployed',\\\n",
    "                        'Year-Month', 'ZIPCODE', 'FIPSCode', 'geo_id']\n",
    "\n",
    "train.drop(columns = dropped, inplace=True)\n",
    "test.drop(columns = dropped, inplace=True)\n",
    "\n",
    "print(test.columns)\n",
    "train.columns"
   ]
  },
  {
   "cell_type": "code",
   "execution_count": 284,
   "metadata": {},
   "outputs": [],
   "source": [
    "train = train.apply(pd.to_numeric)"
   ]
  },
  {
   "cell_type": "code",
   "execution_count": 285,
   "metadata": {},
   "outputs": [
    {
     "data": {
      "text/plain": [
       "Index(['value'], dtype='object')"
      ]
     },
     "execution_count": 285,
     "metadata": {},
     "output_type": "execute_result"
    }
   ],
   "source": [
    "train.columns[test.isnull().any()]"
   ]
  },
  {
   "cell_type": "code",
   "execution_count": 286,
   "metadata": {},
   "outputs": [],
   "source": [
    "train = train.dropna(subset=['value'])"
   ]
  },
  {
   "cell_type": "code",
   "execution_count": 287,
   "metadata": {},
   "outputs": [],
   "source": [
    "X_train = train.drop(columns = ['value'])\n",
    "y_train = train['value']"
   ]
  },
  {
   "cell_type": "code",
   "execution_count": 288,
   "metadata": {},
   "outputs": [
    {
     "data": {
      "text/plain": [
       "Index(['value'], dtype='object')"
      ]
     },
     "execution_count": 288,
     "metadata": {},
     "output_type": "execute_result"
    }
   ],
   "source": [
    "test.columns[test.isnull().any()]"
   ]
  },
  {
   "cell_type": "code",
   "execution_count": 289,
   "metadata": {},
   "outputs": [],
   "source": [
    "test = test.dropna(subset=['value'])"
   ]
  },
  {
   "cell_type": "code",
   "execution_count": 290,
   "metadata": {},
   "outputs": [],
   "source": [
    "X_test = test.drop(columns = ['value'])\n",
    "y_test = test['value']"
   ]
  },
  {
   "cell_type": "code",
   "execution_count": 291,
   "metadata": {},
   "outputs": [
    {
     "name": "stdout",
     "output_type": "stream",
     "text": [
      "Index([], dtype='object')\n",
      "Index([], dtype='object')\n"
     ]
    }
   ],
   "source": [
    "#show columns with missing values\n",
    "print(X_train.columns[X_train.isnull().any()])\n",
    "print(X_test.columns[X_test.isnull().any()])"
   ]
  },
  {
   "cell_type": "code",
   "execution_count": 292,
   "metadata": {},
   "outputs": [
    {
     "data": {
      "text/plain": [
       "(16922, 26)"
      ]
     },
     "execution_count": 292,
     "metadata": {},
     "output_type": "execute_result"
    }
   ],
   "source": [
    "X_train.shape"
   ]
  },
  {
   "cell_type": "code",
   "execution_count": 293,
   "metadata": {},
   "outputs": [
    {
     "data": {
      "text/plain": [
       "(16922,)"
      ]
     },
     "execution_count": 293,
     "metadata": {},
     "output_type": "execute_result"
    }
   ],
   "source": [
    "y_train.shape"
   ]
  },
  {
   "cell_type": "code",
   "execution_count": 294,
   "metadata": {},
   "outputs": [
    {
     "data": {
      "text/plain": [
       "(16339, 26)"
      ]
     },
     "execution_count": 294,
     "metadata": {},
     "output_type": "execute_result"
    }
   ],
   "source": [
    "X_test.shape"
   ]
  },
  {
   "cell_type": "code",
   "execution_count": 295,
   "metadata": {},
   "outputs": [
    {
     "data": {
      "text/plain": [
       "(16339,)"
      ]
     },
     "execution_count": 295,
     "metadata": {},
     "output_type": "execute_result"
    }
   ],
   "source": [
    "y_test.shape"
   ]
  },
  {
   "cell_type": "code",
   "execution_count": 296,
   "metadata": {},
   "outputs": [
    {
     "data": {
      "text/plain": [
       "Index(['Season', 'AGIncome', 'TotIncome', 'SalariesWages', 'NumUnemply',\n",
       "       'TotTaxes', 'Unemploy-\\nment Rate\\n(%)', 'MortDeliq30-89',\n",
       "       'MortDeliq90', 'total_pop', 'median_age', 'white_pop', 'black_pop',\n",
       "       'asian_pop', 'hispanic_pop', 'gini_index', 'income_per_capita',\n",
       "       'vacant_housing_units_for_rent', 'percent_income_spent_on_rent',\n",
       "       'high_school_diploma', 'associates_degree', 'bachelors_degree',\n",
       "       'masters_degree', 'year', 'population_change', 'natural_amenity_rank'],\n",
       "      dtype='object')"
      ]
     },
     "execution_count": 296,
     "metadata": {},
     "output_type": "execute_result"
    }
   ],
   "source": [
    "X_train.columns"
   ]
  },
  {
   "cell_type": "code",
   "execution_count": 297,
   "metadata": {},
   "outputs": [
    {
     "data": {
      "text/plain": [
       "Index(['Season', 'AGIncome', 'TotIncome', 'SalariesWages', 'NumUnemply',\n",
       "       'TotTaxes', 'Unemploy-\\nment Rate\\n(%)', 'MortDeliq30-89',\n",
       "       'MortDeliq90', 'total_pop', 'median_age', 'white_pop', 'black_pop',\n",
       "       'asian_pop', 'hispanic_pop', 'gini_index', 'income_per_capita',\n",
       "       'vacant_housing_units_for_rent', 'percent_income_spent_on_rent',\n",
       "       'high_school_diploma', 'associates_degree', 'bachelors_degree',\n",
       "       'masters_degree', 'year', 'population_change', 'natural_amenity_rank'],\n",
       "      dtype='object')"
      ]
     },
     "execution_count": 297,
     "metadata": {},
     "output_type": "execute_result"
    }
   ],
   "source": [
    "X_test.columns"
   ]
  },
  {
   "cell_type": "code",
   "execution_count": 298,
   "metadata": {},
   "outputs": [],
   "source": [
    "X_train.drop(columns = ['total_pop','year'], inplace=True)\n",
    "\n",
    "X_test.drop(columns = ['total_pop','year'], inplace=True)"
   ]
  },
  {
   "cell_type": "code",
   "execution_count": 299,
   "metadata": {},
   "outputs": [
    {
     "data": {
      "text/plain": [
       "Index(['Season', 'AGIncome', 'TotIncome', 'SalariesWages', 'NumUnemply',\n",
       "       'TotTaxes', 'Unemploy-\\nment Rate\\n(%)', 'MortDeliq30-89',\n",
       "       'MortDeliq90', 'median_age', 'white_pop', 'black_pop', 'asian_pop',\n",
       "       'hispanic_pop', 'gini_index', 'income_per_capita',\n",
       "       'vacant_housing_units_for_rent', 'percent_income_spent_on_rent',\n",
       "       'high_school_diploma', 'associates_degree', 'bachelors_degree',\n",
       "       'masters_degree', 'population_change', 'natural_amenity_rank'],\n",
       "      dtype='object')"
      ]
     },
     "execution_count": 299,
     "metadata": {},
     "output_type": "execute_result"
    }
   ],
   "source": [
    "X_train.columns"
   ]
  },
  {
   "cell_type": "code",
   "execution_count": 300,
   "metadata": {},
   "outputs": [],
   "source": [
    "#feature selection\n",
    "model_cols = ['Season','Unemploy-\\nment Rate\\n(%)', 'MortDeliq30-89',\\\n",
    "              'MortDeliq90', 'median_age', 'white_pop', 'black_pop', 'asian_pop',\\\n",
    "              'hispanic_pop', 'gini_index', 'income_per_capita',\\\n",
    "              'vacant_housing_units_for_rent', 'percent_income_spent_on_rent',\\\n",
    "              'high_school_diploma', 'associates_degree', 'bachelors_degree',\\\n",
    "              'masters_degree', 'natural_amenity_rank']\n",
    "\n",
    "X_train = X_train[model_cols]\n",
    "\n",
    "X_test = X_test[model_cols]"
   ]
  },
  {
   "cell_type": "markdown",
   "metadata": {},
   "source": [
    "## Model Generation"
   ]
  },
  {
   "cell_type": "code",
   "execution_count": 301,
   "metadata": {},
   "outputs": [],
   "source": [
    "from sklearn.linear_model import LinearRegression, Lasso\n",
    "from sklearn import model_selection"
   ]
  },
  {
   "cell_type": "code",
   "execution_count": 302,
   "metadata": {},
   "outputs": [
    {
     "name": "stdout",
     "output_type": "stream",
     "text": [
      "Train Score: 0.6492\n",
      "Test Score:  0.6683\n",
      "-0.019115255024999778\n"
     ]
    }
   ],
   "source": [
    "lm = LinearRegression()\n",
    "\n",
    "lm.fit(X_train, y_train)\n",
    "\n",
    "print(\"Train Score: %.4f\" % lm.score(X_train, y_train))\n",
    "print(\"Test Score:  %.4f\" % lm.score(X_test, y_test))\n",
    "\n",
    "print(lm.score(X_train, y_train)- lm.score(X_test, y_test))\n",
    "\n"
   ]
  },
  {
   "cell_type": "code",
   "execution_count": 303,
   "metadata": {},
   "outputs": [
    {
     "data": {
      "text/plain": [
       "(-123.04675250793707,\n",
       " array([-4.36564413e+01, -1.27379133e+00, -2.65615861e+02,  1.16112471e+02,\n",
       "        -9.01579190e+00, -5.65075417e+02,  5.25141988e+01,  1.31223682e+03,\n",
       "         5.31168371e+02,  1.26988729e+03,  1.91194171e-02, -4.43441865e+03,\n",
       "         1.55686129e+01,  3.71462427e+03, -2.48075662e+03,  1.16080138e+03,\n",
       "         2.23033593e+03,  7.84420508e+01]))"
      ]
     },
     "execution_count": 303,
     "metadata": {},
     "output_type": "execute_result"
    }
   ],
   "source": [
    "lm.intercept_, lm.coef_"
   ]
  },
  {
   "cell_type": "code",
   "execution_count": 304,
   "metadata": {},
   "outputs": [
    {
     "name": "stdout",
     "output_type": "stream",
     "text": [
      "[389.99356679 391.43145764 427.5782599  394.66559382 439.48684143]\n"
     ]
    }
   ],
   "source": [
    "from sklearn.model_selection import cross_val_score\n",
    "print(np.sqrt(-1* cross_val_score(lm, X_train, y_train, cv=5, scoring='neg_mean_squared_error', n_jobs =-1)))"
   ]
  },
  {
   "cell_type": "code",
   "execution_count": 218,
   "metadata": {},
   "outputs": [
    {
     "data": {
      "text/plain": [
       "Text(0.5, 1.0, 'Coefficients in the Lasso Model')"
      ]
     },
     "execution_count": 218,
     "metadata": {},
     "output_type": "execute_result"
    },
    {
     "data": {
      "image/png": "[encoded data removed]",
      "text/plain": [
       "<Figure size 864x576 with 1 Axes>"
      ]
     },
     "metadata": {
      "needs_background": "light"
     },
     "output_type": "display_data"
    }
   ],
   "source": [
    "# param_grid={'alpha': np.logspace(-5, -3, 100)}\n",
    "# grid_search = model_selection.GridSearchCV(estimator = Lasso(), param_grid = param_grid, cv=3)\n",
    "# grid_search.fit(X_train, y_train)\n",
    "\n",
    "# print(\"Cross Validation\")\n",
    "# print(\"-\" * 20)\n",
    "# print(\"Best parameter: \", grid_search.best_params_)\n",
    "# print(\"Best CV score:  %.4f\" % grid_search.best_score_)\n",
    "\n",
    "#alpha_cv = grid_search.best_estimator_.get_params()['alpha']\n",
    "\n",
    "lasso = Lasso(alpha = .1, normalize=True).fit(X_train, y_train)\n",
    "coef = pd.Series(lasso.coef_, index = X_train.columns)\n",
    "imp_coef = pd.concat([coef.sort_values()])\n",
    "imp_coef.plot(kind = \"barh\", figsize = (12, 8))\n",
    "plt.title(\"Coefficients in the Lasso Model\")"
   ]
  },
  {
   "cell_type": "code",
   "execution_count": 166,
   "metadata": {},
   "outputs": [],
   "source": [
    "coefs = []\n",
    "intercepts = []\n",
    "R2  = []\n",
    "alphaRange = np.linspace(1e-3,1,20)\n",
    "for alpha in alphaRange:\n",
    "    lasso.set_params(alpha=alpha, normalize = True)\n",
    "    lasso.fit(X_train, y_train)\n",
    "    intercepts.append(lasso.intercept_)\n",
    "    coefs.append(lasso.coef_)\n",
    "    R2.append(lasso.score(X_train, y_train))"
   ]
  },
  {
   "cell_type": "code",
   "execution_count": 167,
   "metadata": {},
   "outputs": [
    {
     "data": {
      "text/plain": [
       "Text(0.5, 1.0, 'Change of Lasso Slopes Varying Alpha')"
      ]
     },
     "execution_count": 167,
     "metadata": {},
     "output_type": "execute_result"
    },
    {
     "data": {
      "image/png": "[encoded data removed]",
      "text/plain": [
       "<Figure size 432x288 with 1 Axes>"
      ]
     },
     "metadata": {
      "needs_background": "light"
     },
     "output_type": "display_data"
    }
   ],
   "source": [
    "coefs = pd.DataFrame(np.array(coefs), columns=X_train.columns)\n",
    "for name in coefs.columns:\n",
    "    plt.plot(alphaRange, coefs[name], label=name)\n",
    "plt.legend(loc=0)\n",
    "plt.title('Change of Lasso Slopes Varying Alpha')"
   ]
  },
  {
   "cell_type": "code",
   "execution_count": 168,
   "metadata": {},
   "outputs": [
    {
     "name": "stdout",
     "output_type": "stream",
     "text": [
      "Linear Model\n",
      "--------------------\n",
      "Train Score:   0.67792\n",
      "Test Score:    0.69791\n",
      "\n"
     ]
    }
   ],
   "source": [
    "lm.fit(X_train, y_train)\n",
    "\n",
    "print('Linear Model')\n",
    "print('-'*20)\n",
    "print(\"Train Score:   %.5f\" % lm.score(X_train, y_train))\n",
    "print(\"Test Score:    %.5f\\n\" % lm.score(X_test, y_test))"
   ]
  },
  {
   "cell_type": "code",
   "execution_count": 55,
   "metadata": {},
   "outputs": [
    {
     "name": "stdout",
     "output_type": "stream",
     "text": [
      "Penalized Linear Model\n",
      "--------------------\n",
      "Train Score: 0.64900\n",
      "Test Score:  0.64157\n"
     ]
    }
   ],
   "source": [
    "lasso.fit(X_train, y_train)\n",
    "\n",
    "print('Penalized Linear Model')\n",
    "print('-'*20)\n",
    "print(\"Train Score: %.5f\" % lasso.score(X_train, y_train))\n",
    "print(\"Test Score:  %.5f\" % lasso.score(X_test, y_test))"
   ]
  },
  {
   "cell_type": "code",
   "execution_count": 57,
   "metadata": {},
   "outputs": [
    {
     "name": "stdout",
     "output_type": "stream",
     "text": [
      "Final Model\n",
      "--------------------\n",
      "R^2 Score:  67.72\n",
      "Mean Error: $403563\n",
      "\n"
     ]
    }
   ],
   "source": [
    "from sklearn.metrics import mean_squared_error\n",
    "\n",
    "def expo(list_):\n",
    "    return list(map(exp, list_))\n",
    "\n",
    "print('Final Model')\n",
    "print('-'*20)\n",
    "lm.fit(X_train, y_train)\n",
    "\n",
    "y_pred = lm.predict(X_test)#lin_mod\n",
    "\n",
    "    \n",
    "print(\"R^2 Score:  %.2f\" % (100*lm.score(X_train, y_train)))\n",
    "print(\"Mean Error: $%.0f\\n\" % mean_squared_error(y_test, y_pred))\n"
   ]
  },
  {
   "cell_type": "code",
   "execution_count": 59,
   "metadata": {},
   "outputs": [
    {
     "name": "stdout",
     "output_type": "stream",
     "text": [
      "Coefficients: \n",
      " [-1.52898291e+01  1.06258171e+00 -1.08879383e+00  4.31478558e-02\n",
      "  4.89777943e+01  2.62858205e-01 -7.14965990e+01 -2.16507300e+02\n",
      "  1.34428214e+02  1.67733102e+00 -2.96815164e+02  2.21197792e+02\n",
      "  1.26933357e+03  9.37095453e+02  1.60684247e+03  1.54432520e-02\n",
      " -2.23443558e+03  2.31680474e+01  2.29210718e+03 -1.45505699e+03\n",
      "  1.32779261e+03  2.11029125e+03  3.81395898e-01  5.51955040e+01]\n",
      "Mean squared error: 403562.96\n",
      "R_squared score: 0.06\n"
     ]
    }
   ],
   "source": [
    "# Instantiate, fit, predict\n",
    "from sklearn.metrics import r2_score \n",
    "\n",
    "\n",
    "lin_mod.fit(X_train, y_train)\n",
    "y_pred = lm.predict(X_test)\n",
    "\n",
    "# Coefficient estimates\n",
    "print('Coefficients: \\n', lin_mod.coef_)\n",
    "\n",
    "# Mean squared error\n",
    "print(\"Mean squared error: %.2f\"\n",
    "      % mean_squared_error(y_test, y_pred))\n",
    "\n",
    "# Explained variance score\n",
    "print('R_squared score: %.2f' % r2_score(y_test, y_pred))"
   ]
  },
  {
   "cell_type": "code",
   "execution_count": 208,
   "metadata": {},
   "outputs": [
    {
     "ename": "OverflowError",
     "evalue": "math range error",
     "output_type": "error",
     "traceback": [
      "\u001b[0;31m---------------------------------------------------------------------------\u001b[0m",
      "\u001b[0;31mOverflowError\u001b[0m                             Traceback (most recent call last)",
      "\u001b[0;32m<ipython-input-208-2664b7a775f1>\u001b[0m in \u001b[0;36m<module>\u001b[0;34m\u001b[0m\n\u001b[0;32m----> 1\u001b[0;31m \u001b[0mres_x\u001b[0m \u001b[0;34m=\u001b[0m \u001b[0;34m[\u001b[0m\u001b[0mtarget\u001b[0m\u001b[0;34m/\u001b[0m\u001b[0;36m1000\u001b[0m \u001b[0;32mfor\u001b[0m \u001b[0mtarget\u001b[0m \u001b[0;32min\u001b[0m \u001b[0mexpo\u001b[0m\u001b[0;34m(\u001b[0m\u001b[0my_test\u001b[0m\u001b[0;34m)\u001b[0m\u001b[0;34m]\u001b[0m\u001b[0;34m\u001b[0m\u001b[0;34m\u001b[0m\u001b[0m\n\u001b[0m\u001b[1;32m      2\u001b[0m \u001b[0mres_y\u001b[0m \u001b[0;34m=\u001b[0m \u001b[0;34m[\u001b[0m\u001b[0;34m(\u001b[0m\u001b[0mtarget\u001b[0m \u001b[0;34m-\u001b[0m \u001b[0mpredict\u001b[0m\u001b[0;34m)\u001b[0m\u001b[0;34m/\u001b[0m\u001b[0;36m1000\u001b[0m \u001b[0;32mfor\u001b[0m \u001b[0;34m(\u001b[0m\u001b[0mtarget\u001b[0m\u001b[0;34m,\u001b[0m \u001b[0mpredict\u001b[0m\u001b[0;34m)\u001b[0m \u001b[0;32min\u001b[0m \u001b[0mzip\u001b[0m\u001b[0;34m(\u001b[0m\u001b[0mexpo\u001b[0m\u001b[0;34m(\u001b[0m\u001b[0my_test\u001b[0m\u001b[0;34m)\u001b[0m\u001b[0;34m,\u001b[0m \u001b[0mexpo\u001b[0m\u001b[0;34m(\u001b[0m\u001b[0mlm\u001b[0m\u001b[0;34m.\u001b[0m\u001b[0mpredict\u001b[0m\u001b[0;34m(\u001b[0m\u001b[0my_pred\u001b[0m\u001b[0;34m)\u001b[0m\u001b[0;34m)\u001b[0m\u001b[0;34m)\u001b[0m\u001b[0;34m]\u001b[0m\u001b[0;34m\u001b[0m\u001b[0;34m\u001b[0m\u001b[0m\n\u001b[1;32m      3\u001b[0m \u001b[0mplt\u001b[0m\u001b[0;34m.\u001b[0m\u001b[0mfigure\u001b[0m\u001b[0;34m(\u001b[0m\u001b[0mfigsize\u001b[0m\u001b[0;34m=\u001b[0m\u001b[0;34m(\u001b[0m\u001b[0;36m8\u001b[0m\u001b[0;34m,\u001b[0m\u001b[0;36m8\u001b[0m\u001b[0;34m)\u001b[0m\u001b[0;34m)\u001b[0m\u001b[0;34m\u001b[0m\u001b[0;34m\u001b[0m\u001b[0m\n\u001b[1;32m      4\u001b[0m \u001b[0mplt\u001b[0m\u001b[0;34m.\u001b[0m\u001b[0mscatter\u001b[0m\u001b[0;34m(\u001b[0m\u001b[0mres_x\u001b[0m\u001b[0;34m,\u001b[0m \u001b[0mres_y\u001b[0m\u001b[0;34m,\u001b[0m \u001b[0malpha\u001b[0m \u001b[0;34m=\u001b[0m \u001b[0;36m0.5\u001b[0m\u001b[0;34m)\u001b[0m\u001b[0;34m\u001b[0m\u001b[0;34m\u001b[0m\u001b[0m\n\u001b[1;32m      5\u001b[0m \u001b[0mplt\u001b[0m\u001b[0;34m.\u001b[0m\u001b[0mtitle\u001b[0m\u001b[0;34m(\u001b[0m\u001b[0;34m'Distribution of Residuals'\u001b[0m\u001b[0;34m)\u001b[0m\u001b[0;34m\u001b[0m\u001b[0;34m\u001b[0m\u001b[0m\n",
      "\u001b[0;32m<ipython-input-204-4bfc803dacc3>\u001b[0m in \u001b[0;36mexpo\u001b[0;34m(list_)\u001b[0m\n\u001b[1;32m      3\u001b[0m \u001b[0;34m\u001b[0m\u001b[0m\n\u001b[1;32m      4\u001b[0m \u001b[0;32mdef\u001b[0m \u001b[0mexpo\u001b[0m\u001b[0;34m(\u001b[0m\u001b[0mlist_\u001b[0m\u001b[0;34m)\u001b[0m\u001b[0;34m:\u001b[0m\u001b[0;34m\u001b[0m\u001b[0;34m\u001b[0m\u001b[0m\n\u001b[0;32m----> 5\u001b[0;31m     \u001b[0;32mreturn\u001b[0m \u001b[0mlist\u001b[0m\u001b[0;34m(\u001b[0m\u001b[0mmap\u001b[0m\u001b[0;34m(\u001b[0m\u001b[0mexp\u001b[0m\u001b[0;34m,\u001b[0m \u001b[0mlist_\u001b[0m\u001b[0;34m)\u001b[0m\u001b[0;34m)\u001b[0m\u001b[0;34m\u001b[0m\u001b[0;34m\u001b[0m\u001b[0m\n\u001b[0m\u001b[1;32m      6\u001b[0m \u001b[0;34m\u001b[0m\u001b[0m\n\u001b[1;32m      7\u001b[0m \u001b[0mprint\u001b[0m\u001b[0;34m(\u001b[0m\u001b[0;34m'Final Model'\u001b[0m\u001b[0;34m)\u001b[0m\u001b[0;34m\u001b[0m\u001b[0;34m\u001b[0m\u001b[0m\n",
      "\u001b[0;31mOverflowError\u001b[0m: math range error"
     ]
    }
   ],
   "source": [
    "res_x = [target/1000 for target in expo(y_test)]\n",
    "res_y = [(target - predict)/1000 for (target, predict) in zip(expo(y_test), expo(lm.predict(y_pred)))]\n",
    "plt.figure(figsize=(8,8))\n",
    "plt.scatter(res_x, res_y, alpha = 0.5)\n",
    "plt.title('Distribution of Residuals')\n",
    "plt.xlabel('Actual House Price in $K')\n",
    "plt.ylabel('Residual House Price in $K')"
   ]
  },
  {
   "cell_type": "code",
   "execution_count": null,
   "metadata": {},
   "outputs": [],
   "source": [
    "#feature engineering\n",
    "\n",
    "#Median_age of each zipcode\n",
    "\n"
   ]
  },
  {
   "cell_type": "code",
   "execution_count": 22,
   "metadata": {},
   "outputs": [
    {
     "data": {
      "text/plain": [
       "Index(['SizeRank', 'Season', 'AGIncome', 'TotIncome', 'SalariesWages',\n",
       "       'NumUnemply', 'TotTaxes', 'Unemploy-\\nment Rate\\n(%)', 'MortDeliq30-89',\n",
       "       'MortDeliq90', 'RentalVacancyRate', 'white', 'black', 'asian', 'NHOPI',\n",
       "       'hispanic_latino', '20_to_24', '25_to_34', '35_to_44', '45_to_54',\n",
       "       '55_to_59', '60_to_64', '65_to_74', '75_to_85', '85_over',\n",
       "       'Population'],\n",
       "      dtype='object')"
      ]
     },
     "execution_count": 22,
     "metadata": {},
     "output_type": "execute_result"
    }
   ],
   "source": [
    "X_train.columns"
   ]
  },
  {
   "cell_type": "code",
   "execution_count": null,
   "metadata": {},
   "outputs": [],
   "source": [
    "#drop 'SizeRank',\n",
    "\n",
    "#1 # keep ordinal'Season'\n",
    "\n",
    "# drop 'AGIncome', 'TotIncome', 'SalariesWages', Unemploy-\\nment Rate\\n(%)', \n",
    "\n",
    "#2 #Keep'TotTaxes', \n",
    "\n",
    "#3 #''NumUnemply', \n",
    "\n",
    "#4 #'MortDeliq30-89',\n",
    "\n",
    "#5 #'MortDeliq90', \n",
    "\n",
    "#6 #'RentalVacancyRate', \n",
    "\n",
    "#7-9 'white', 'black', 'asian', 'NHOPI',\n",
    "       \n",
    "# drop for now'hispanic_latino', \n",
    "\n",
    "#10 # Feature engineer to be median age '20_to_24', '25_to_34', '35_to_44', '45_to_54','55_to_59', '60_to_64', '65_to_74', '75_to_85', '85_over',\n",
    "\n",
    "# drop'Population'"
   ]
  },
  {
   "cell_type": "code",
   "execution_count": 131,
   "metadata": {},
   "outputs": [],
   "source": [
    "train_set = pd.concat([X_train, y_train], axis=1)"
   ]
  },
  {
   "cell_type": "code",
   "execution_count": 132,
   "metadata": {},
   "outputs": [
    {
     "data": {
      "text/html": [
       "<div>\n",
       "<style scoped>\n",
       "    .dataframe tbody tr th:only-of-type {\n",
       "        vertical-align: middle;\n",
       "    }\n",
       "\n",
       "    .dataframe tbody tr th {\n",
       "        vertical-align: top;\n",
       "    }\n",
       "\n",
       "    .dataframe thead th {\n",
       "        text-align: right;\n",
       "    }\n",
       "</style>\n",
       "<table border=\"1\" class=\"dataframe\">\n",
       "  <thead>\n",
       "    <tr style=\"text-align: right;\">\n",
       "      <th></th>\n",
       "      <th>Season</th>\n",
       "      <th>Unemploy-\\nment Rate\\n(%)</th>\n",
       "      <th>MortDeliq30-89</th>\n",
       "      <th>MortDeliq90</th>\n",
       "      <th>median_age</th>\n",
       "      <th>white_pop</th>\n",
       "      <th>black_pop</th>\n",
       "      <th>asian_pop</th>\n",
       "      <th>hispanic_pop</th>\n",
       "      <th>gini_index</th>\n",
       "      <th>income_per_capita</th>\n",
       "      <th>vacant_housing_units_for_rent</th>\n",
       "      <th>percent_income_spent_on_rent</th>\n",
       "      <th>high_school_diploma</th>\n",
       "      <th>associates_degree</th>\n",
       "      <th>bachelors_degree</th>\n",
       "      <th>masters_degree</th>\n",
       "      <th>natural_amenity_rank</th>\n",
       "      <th>value</th>\n",
       "    </tr>\n",
       "  </thead>\n",
       "  <tbody>\n",
       "    <tr>\n",
       "      <th>0</th>\n",
       "      <td>2</td>\n",
       "      <td>4.9</td>\n",
       "      <td>1.000000</td>\n",
       "      <td>1.100000</td>\n",
       "      <td>40.3</td>\n",
       "      <td>0.557688</td>\n",
       "      <td>0.098274</td>\n",
       "      <td>0.091893</td>\n",
       "      <td>0.222228</td>\n",
       "      <td>0.5701</td>\n",
       "      <td>58664.0</td>\n",
       "      <td>0.033756</td>\n",
       "      <td>29.0</td>\n",
       "      <td>0.057709</td>\n",
       "      <td>0.021641</td>\n",
       "      <td>0.217179</td>\n",
       "      <td>0.178665</td>\n",
       "      <td>3.0</td>\n",
       "      <td>3727.0</td>\n",
       "    </tr>\n",
       "    <tr>\n",
       "      <th>1</th>\n",
       "      <td>2</td>\n",
       "      <td>6.2</td>\n",
       "      <td>2.300000</td>\n",
       "      <td>3.000000</td>\n",
       "      <td>30.9</td>\n",
       "      <td>0.815625</td>\n",
       "      <td>0.026682</td>\n",
       "      <td>0.071471</td>\n",
       "      <td>0.060639</td>\n",
       "      <td>0.5041</td>\n",
       "      <td>65121.0</td>\n",
       "      <td>0.053914</td>\n",
       "      <td>26.4</td>\n",
       "      <td>0.032742</td>\n",
       "      <td>0.027232</td>\n",
       "      <td>0.356183</td>\n",
       "      <td>0.168265</td>\n",
       "      <td>3.0</td>\n",
       "      <td>1735.0</td>\n",
       "    </tr>\n",
       "    <tr>\n",
       "      <th>2</th>\n",
       "      <td>2</td>\n",
       "      <td>4.9</td>\n",
       "      <td>1.000000</td>\n",
       "      <td>1.100000</td>\n",
       "      <td>42.1</td>\n",
       "      <td>0.757419</td>\n",
       "      <td>0.026590</td>\n",
       "      <td>0.093454</td>\n",
       "      <td>0.097052</td>\n",
       "      <td>0.5611</td>\n",
       "      <td>103249.0</td>\n",
       "      <td>0.068275</td>\n",
       "      <td>25.5</td>\n",
       "      <td>0.046149</td>\n",
       "      <td>0.014921</td>\n",
       "      <td>0.267554</td>\n",
       "      <td>0.243026</td>\n",
       "      <td>3.0</td>\n",
       "      <td>3609.0</td>\n",
       "    </tr>\n",
       "    <tr>\n",
       "      <th>3</th>\n",
       "      <td>2</td>\n",
       "      <td>4.3</td>\n",
       "      <td>2.127322</td>\n",
       "      <td>2.155775</td>\n",
       "      <td>34.4</td>\n",
       "      <td>0.581662</td>\n",
       "      <td>0.062797</td>\n",
       "      <td>0.155716</td>\n",
       "      <td>0.173303</td>\n",
       "      <td>0.3454</td>\n",
       "      <td>47454.0</td>\n",
       "      <td>0.030479</td>\n",
       "      <td>23.5</td>\n",
       "      <td>0.046845</td>\n",
       "      <td>0.046028</td>\n",
       "      <td>0.242833</td>\n",
       "      <td>0.099231</td>\n",
       "      <td>3.0</td>\n",
       "      <td>1214.0</td>\n",
       "    </tr>\n",
       "    <tr>\n",
       "      <th>4</th>\n",
       "      <td>2</td>\n",
       "      <td>6.2</td>\n",
       "      <td>2.300000</td>\n",
       "      <td>3.000000</td>\n",
       "      <td>30.1</td>\n",
       "      <td>0.804186</td>\n",
       "      <td>0.043573</td>\n",
       "      <td>0.057157</td>\n",
       "      <td>0.066750</td>\n",
       "      <td>0.5235</td>\n",
       "      <td>70514.0</td>\n",
       "      <td>0.028165</td>\n",
       "      <td>24.5</td>\n",
       "      <td>0.033692</td>\n",
       "      <td>0.014865</td>\n",
       "      <td>0.334558</td>\n",
       "      <td>0.156634</td>\n",
       "      <td>3.0</td>\n",
       "      <td>1836.0</td>\n",
       "    </tr>\n",
       "  </tbody>\n",
       "</table>\n",
       "</div>"
      ],
      "text/plain": [
       "   Season  Unemploy-\\nment Rate\\n(%)  MortDeliq30-89  MortDeliq90  median_age  \\\n",
       "0       2                        4.9        1.000000     1.100000        40.3   \n",
       "1       2                        6.2        2.300000     3.000000        30.9   \n",
       "2       2                        4.9        1.000000     1.100000        42.1   \n",
       "3       2                        4.3        2.127322     2.155775        34.4   \n",
       "4       2                        6.2        2.300000     3.000000        30.1   \n",
       "\n",
       "   white_pop  black_pop  asian_pop  hispanic_pop  gini_index  \\\n",
       "0   0.557688   0.098274   0.091893      0.222228      0.5701   \n",
       "1   0.815625   0.026682   0.071471      0.060639      0.5041   \n",
       "2   0.757419   0.026590   0.093454      0.097052      0.5611   \n",
       "3   0.581662   0.062797   0.155716      0.173303      0.3454   \n",
       "4   0.804186   0.043573   0.057157      0.066750      0.5235   \n",
       "\n",
       "   income_per_capita  vacant_housing_units_for_rent  \\\n",
       "0            58664.0                       0.033756   \n",
       "1            65121.0                       0.053914   \n",
       "2           103249.0                       0.068275   \n",
       "3            47454.0                       0.030479   \n",
       "4            70514.0                       0.028165   \n",
       "\n",
       "   percent_income_spent_on_rent  high_school_diploma  associates_degree  \\\n",
       "0                          29.0             0.057709           0.021641   \n",
       "1                          26.4             0.032742           0.027232   \n",
       "2                          25.5             0.046149           0.014921   \n",
       "3                          23.5             0.046845           0.046028   \n",
       "4                          24.5             0.033692           0.014865   \n",
       "\n",
       "   bachelors_degree  masters_degree  natural_amenity_rank   value  \n",
       "0          0.217179        0.178665                   3.0  3727.0  \n",
       "1          0.356183        0.168265                   3.0  1735.0  \n",
       "2          0.267554        0.243026                   3.0  3609.0  \n",
       "3          0.242833        0.099231                   3.0  1214.0  \n",
       "4          0.334558        0.156634                   3.0  1836.0  "
      ]
     },
     "execution_count": 132,
     "metadata": {},
     "output_type": "execute_result"
    }
   ],
   "source": [
    "train_set.head()"
   ]
  },
  {
   "cell_type": "code",
   "execution_count": 133,
   "metadata": {},
   "outputs": [
    {
     "name": "stdout",
     "output_type": "stream",
     "text": [
      "OLS regression model for the association between ZRI value and asian_pop\n",
      "                            OLS Regression Results                            \n",
      "==============================================================================\n",
      "Dep. Variable:                  value   R-squared:                       0.198\n",
      "Model:                            OLS   Adj. R-squared:                  0.198\n",
      "Method:                 Least Squares   F-statistic:                     4179.\n",
      "Date:                Fri, 18 Sep 2020   Prob (F-statistic):               0.00\n",
      "Time:                        17:09:14   Log-Likelihood:            -1.3272e+05\n",
      "No. Observations:               16922   AIC:                         2.654e+05\n",
      "Df Residuals:                   16920   BIC:                         2.655e+05\n",
      "Df Model:                           1                                         \n",
      "Covariance Type:            nonrobust                                         \n",
      "==============================================================================\n",
      "                 coef    std err          t      P>|t|      [0.025      0.975]\n",
      "------------------------------------------------------------------------------\n",
      "Intercept   1333.8767      6.218    214.526      0.000    1321.689    1346.064\n",
      "asian_pop   3185.5364     49.275     64.648      0.000    3088.952    3282.121\n",
      "==============================================================================\n",
      "Omnibus:                      866.087   Durbin-Watson:                   1.966\n",
      "Prob(Omnibus):                  0.000   Jarque-Bera (JB):             1171.126\n",
      "Skew:                           0.492   Prob(JB):                    4.93e-255\n",
      "Kurtosis:                       3.833   Cond. No.                         10.5\n",
      "==============================================================================\n",
      "\n",
      "Warnings:\n",
      "[1] Standard Errors assume that the covariance matrix of the errors is correctly specified.\n"
     ]
    }
   ],
   "source": [
    "import statsmodels.api as sm\n",
    "import statsmodels.formula.api as smf \n",
    "print (\"OLS regression model for the association between ZRI value and asian_pop\")\n",
    "# reg1 is the model name , followed by equal sign. \n",
    "reg1 = smf.ols(formula = 'value ~ asian_pop', data=train_set).fit()\n",
    "# print the result\n",
    "print (reg1.summary())"
   ]
  },
  {
   "cell_type": "code",
   "execution_count": 148,
   "metadata": {},
   "outputs": [
    {
     "name": "stdout",
     "output_type": "stream",
     "text": [
      "OLS regression model for the association between ZRI value and income_per_capita\n",
      "                            OLS Regression Results                            \n",
      "==============================================================================\n",
      "Dep. Variable:                  value   R-squared:                       0.257\n",
      "Model:                            OLS   Adj. R-squared:                  0.257\n",
      "Method:                 Least Squares   F-statistic:                 1.891e+04\n",
      "Date:                Thu, 17 Sep 2020   Prob (F-statistic):               0.00\n",
      "Time:                        11:44:04   Log-Likelihood:            -4.1701e+05\n",
      "No. Observations:               54620   AIC:                         8.340e+05\n",
      "Df Residuals:                   54618   BIC:                         8.340e+05\n",
      "Df Model:                           1                                         \n",
      "Covariance Type:            nonrobust                                         \n",
      "=====================================================================================\n",
      "                        coef    std err          t      P>|t|      [0.025      0.975]\n",
      "-------------------------------------------------------------------------------------\n",
      "Intercept           837.0979      4.954    168.975      0.000     827.388     846.808\n",
      "income_per_capita     0.0174      0.000    137.499      0.000       0.017       0.018\n",
      "==============================================================================\n",
      "Omnibus:                    46768.680   Durbin-Watson:                   0.921\n",
      "Prob(Omnibus):                  0.000   Jarque-Bera (JB):         12354085.927\n",
      "Skew:                           3.296   Prob(JB):                         0.00\n",
      "Kurtosis:                      76.382   Cond. No.                     9.06e+04\n",
      "==============================================================================\n",
      "\n",
      "Warnings:\n",
      "[1] Standard Errors assume that the covariance matrix of the errors is correctly specified.\n",
      "[2] The condition number is large, 9.06e+04. This might indicate that there are\n",
      "strong multicollinearity or other numerical problems.\n"
     ]
    }
   ],
   "source": [
    "import statsmodels.api as sm\n",
    "import statsmodels.formula.api as smf \n",
    "print (\"OLS regression model for the association between ZRI value and income_per_capita\")\n",
    "# reg1 is the model name , followed by equal sign. \n",
    "reg1 = smf.ols(formula = 'value ~ income_per_capita', data=train_set).fit()\n",
    "# print the result\n",
    "print (reg1.summary())"
   ]
  },
  {
   "cell_type": "code",
   "execution_count": 149,
   "metadata": {},
   "outputs": [
    {
     "data": {
      "image/png": "[encoded data removed]",
      "text/plain": [
       "<Figure size 432x288 with 1 Axes>"
      ]
     },
     "metadata": {
      "needs_background": "light"
     },
     "output_type": "display_data"
    }
   ],
   "source": [
    "#Q-Q plot for normality\n",
    "fig4=sm.qqplot(reg1.resid, line='r')"
   ]
  },
  {
   "cell_type": "code",
   "execution_count": 151,
   "metadata": {},
   "outputs": [
    {
     "data": {
      "text/plain": [
       "<matplotlib.axes._subplots.AxesSubplot at 0x1a3053a190>"
      ]
     },
     "execution_count": 151,
     "metadata": {},
     "output_type": "execute_result"
    },
    {
     "data": {
      "image/png": "[encoded data removed]",
      "text/plain": [
       "<Figure size 432x288 with 1 Axes>"
      ]
     },
     "metadata": {
      "needs_background": "light"
     },
     "output_type": "display_data"
    }
   ],
   "source": [
    "# simple plot of residuals\n",
    "import seaborn as sns\n",
    "\n",
    "sns.residplot('value', 'income_per_capita', data=train_set)"
   ]
  },
  {
   "cell_type": "code",
   "execution_count": 159,
   "metadata": {},
   "outputs": [
    {
     "data": {
      "text/plain": [
       "Index(['income_per_capita', 'median_age', 'white_pop', 'black_pop',\n",
       "       'asian_pop', 'hispanic_pop', 'Unemploy-\\nment Rate\\n(%)',\n",
       "       'MortDeliq30-89', 'MortDeliq90', 'percent_income_spent_on_rent',\n",
       "       'high_school_diploma', 'associates_degree', 'bachelors_degree',\n",
       "       'masters_degree', 'value'],\n",
       "      dtype='object')"
      ]
     },
     "execution_count": 159,
     "metadata": {},
     "output_type": "execute_result"
    }
   ],
   "source": [
    "train_set.columns"
   ]
  },
  {
   "cell_type": "code",
   "execution_count": 176,
   "metadata": {},
   "outputs": [
    {
     "name": "stdout",
     "output_type": "stream",
     "text": [
      "\n",
      "\n",
      "---------------------\n",
      "TRAIN SET INFORMATION\n",
      "---------------------\n",
      "Shape of training set: (54620, 15) \n",
      "\n",
      "Column Headers: ['income_per_capita', 'median_age', 'white_pop', 'black_pop', 'asian_pop', 'hispanic_pop', 'Unemploy-\\nment Rate\\n(%)', 'MortDeliq30-89', 'MortDeliq90', 'percent_income_spent_on_rent', 'high_school_diploma', 'associates_degree', 'bachelors_degree', 'masters_degree', 'value'] \n",
      "\n",
      "income_per_capita               float64\n",
      "median_age                      float64\n",
      "white_pop                       float64\n",
      "black_pop                       float64\n",
      "asian_pop                       float64\n",
      "hispanic_pop                    float64\n",
      "Unemploy-\\nment Rate\\n(%)       float64\n",
      "MortDeliq30-89                  float64\n",
      "MortDeliq90                     float64\n",
      "percent_income_spent_on_rent    float64\n",
      "high_school_diploma             float64\n",
      "associates_degree               float64\n",
      "bachelors_degree                float64\n",
      "masters_degree                  float64\n",
      "value                           float64\n",
      "dtype: object\n"
     ]
    }
   ],
   "source": [
    "print (\"\\n\\n---------------------\")\n",
    "print (\"TRAIN SET INFORMATION\")\n",
    "print (\"---------------------\")\n",
    "print (\"Shape of training set:\", train_set.shape, \"\\n\")\n",
    "print (\"Column Headers:\", list(train_set.columns.values), \"\\n\")\n",
    "print (train_set.dtypes)"
   ]
  },
  {
   "cell_type": "code",
   "execution_count": 177,
   "metadata": {},
   "outputs": [
    {
     "name": "stdout",
     "output_type": "stream",
     "text": [
      "TRAINING SET INFORMATION\n",
      "========================\n",
      "\n",
      "'income_per_capita' has 1608 unique values\n",
      "~~Listing up to 10 unique values~~\n",
      "[ 68995.  69983. 114641.  48249.  73991.  30677.  26893.  22610.  39257.\n",
      "  24798.]\n",
      "\n",
      "-----------------------------------------------------------------------\n",
      "\n",
      "'median_age' has 1640 unique values\n",
      "~~Listing up to 10 unique values~~\n",
      "[0.00044182 0.00044506 0.00069253 0.00032875 0.00043005 0.00053641\n",
      " 0.00031554 0.00027878 0.00054792 0.00033241]\n",
      "\n",
      "-----------------------------------------------------------------------\n",
      "\n",
      "'white_pop' has 1640 unique values\n",
      "~~Listing up to 10 unique values~~\n",
      "[0.54056918 0.81037901 0.72030757 0.51182761 0.79384834 0.20799487\n",
      " 0.29420933 0.09150449 0.55763427 0.11041575]\n",
      "\n",
      "-----------------------------------------------------------------------\n",
      "\n",
      "'black_pop' has 1639 unique values\n",
      "~~Listing up to 10 unique values~~\n",
      "[0.09032443 0.02827268 0.03348831 0.07157028 0.04209327 0.06111004\n",
      " 0.15225373 0.02380314 0.17136453 0.65292197]\n",
      "\n",
      "-----------------------------------------------------------------------\n",
      "\n",
      "'asian_pop' has 1636 unique values\n",
      "~~Listing up to 10 unique values~~\n",
      "[0.09781526 0.06560347 0.10847937 0.1802955  0.06846565 0.42916907\n",
      " 0.10469297 0.0113744  0.10989188 0.03336745]\n",
      "\n",
      "-----------------------------------------------------------------------\n",
      "\n",
      "'hispanic_pop' has 1640 unique values\n",
      "~~Listing up to 10 unique values~~\n",
      "[0.24071327 0.06784303 0.10940599 0.21008181 0.06719829 0.27398139\n",
      " 0.42906045 0.8654372  0.13327376 0.17765755]\n",
      "\n",
      "-----------------------------------------------------------------------\n",
      "\n",
      "'Unemploy-\n",
      "ment Rate\n",
      "(%)' has 71 unique values\n",
      "~~Listing up to 10 unique values~~\n",
      "[4.1 4.5 5.1 3.8 3.2 4.6 8.9 4.7 6.3 3. ]\n",
      "\n",
      "-----------------------------------------------------------------------\n",
      "\n",
      "'MortDeliq30-89' has 58 unique values\n",
      "~~Listing up to 10 unique values~~\n",
      "[0.8 0.  2.2 3.5 3.7 2.3 1.7 0.4 1.6 2.1]\n",
      "\n",
      "-----------------------------------------------------------------------\n",
      "\n",
      "'MortDeliq90' has 36 unique values\n",
      "~~Listing up to 10 unique values~~\n",
      "[0.7 0.  1.9 1.7 1.5 2.5 2.9 0.6 0.2 2.6]\n",
      "\n",
      "-----------------------------------------------------------------------\n",
      "\n",
      "'percent_income_spent_on_rent' has 245 unique values\n",
      "~~Listing up to 10 unique values~~\n",
      "[29.4 25.5 23.9 26.5 24.1 30.6 30.  29.3 34.1 37.4]\n",
      "\n",
      "-----------------------------------------------------------------------\n",
      "\n",
      "'high_school_diploma' has 1640 unique values\n",
      "~~Listing up to 10 unique values~~\n",
      "[0.06356085 0.0323524  0.04743636 0.05191112 0.03466002 0.137735\n",
      " 0.13409573 0.11805072 0.10866126 0.19522347]\n",
      "\n",
      "-----------------------------------------------------------------------\n",
      "\n",
      "'associates_degree' has 1640 unique values\n",
      "~~Listing up to 10 unique values~~\n",
      "[0.02756882 0.02680342 0.01754072 0.04234134 0.01367035 0.03123516\n",
      " 0.04694881 0.04899123 0.03555627 0.04030804]\n",
      "\n",
      "-----------------------------------------------------------------------\n",
      "\n",
      "'bachelors_degree' has 1640 unique values\n",
      "~~Listing up to 10 unique values~~\n",
      "[0.22713017 0.36714549 0.25799005 0.22376103 0.34792453 0.16985563\n",
      " 0.1271825  0.10249468 0.27378476 0.11935468]\n",
      "\n",
      "-----------------------------------------------------------------------\n",
      "\n",
      "'masters_degree' has 1640 unique values\n",
      "~~Listing up to 10 unique values~~\n",
      "[0.17616707 0.1689514  0.24501739 0.11110586 0.15485938 0.06111004\n",
      " 0.04107781 0.03185368 0.12246184 0.04954915]\n",
      "\n",
      "-----------------------------------------------------------------------\n",
      "\n",
      "'value' has 2796 unique values\n",
      "~~Listing up to 10 unique values~~\n",
      "[3727. 1735. 3609. 1214. 1836. 3560. 1320.  898. 1463. 1945.]\n",
      "\n",
      "-----------------------------------------------------------------------\n",
      "\n",
      "\n",
      "~~~~~~~~~~~~~~~~~~~~~~~~~~~~~~~~~~~~~~~~~~~~~~~~~~~~~~~~~~~~~~~~~~~~~~~~~~~~~~~~~~~~~\n",
      "\n",
      "Features with missing values:\n",
      "[]\n",
      "\n",
      "\n",
      "Features with non-numeric values:\n",
      "[]\n",
      "\n",
      "~~~~~~~~~~~~~~~~~~~~~~~~~~~~~~~~~~~~~~~~~~~~~~~~~~~~~~~~~~~~~~~~~~~~~~~~~~~~~~~~~~~~~\n",
      "\n"
     ]
    }
   ],
   "source": [
    "import re\n",
    "missing_values = []\n",
    "nonumeric_values = []\n",
    "\n",
    "print (\"TRAINING SET INFORMATION\")\n",
    "print (\"========================\\n\")\n",
    "\n",
    "for column in train_set:\n",
    "    # Find all the unique feature values\n",
    "    uniq = train_set[column].unique()\n",
    "    print (\"'{}' has {} unique values\" .format(column,uniq.size))\n",
    "    if (uniq.size > 10):\n",
    "        print(\"~~Listing up to 10 unique values~~\")\n",
    "    print (uniq[0:10])\n",
    "    print (\"\\n-----------------------------------------------------------------------\\n\")\n",
    "    \n",
    "    # Find features with missing values\n",
    "    if (True in pd.isnull(uniq)):\n",
    "        s = \"{} has {} missing\" .format(column, pd.isnull(train_set[column]).sum())\n",
    "        missing_values.append(s)\n",
    "    \n",
    "    # Find features with non-numeric values\n",
    "    for i in range (1, np.prod(uniq.shape)):\n",
    "        if (re.match('nan', str(uniq[i]))):\n",
    "            break\n",
    "        if not (re.search('(^\\d+\\.?\\d*$)|(^\\d*\\.?\\d+$)', str(uniq[i]))):\n",
    "            nonumeric_values.append(column)\n",
    "            break\n",
    "  \n",
    "print (\"\\n~~~~~~~~~~~~~~~~~~~~~~~~~~~~~~~~~~~~~~~~~~~~~~~~~~~~~~~~~~~~~~~~~~~~~~~~~~~~~~~~~~~~~\\n\")\n",
    "print (\"Features with missing values:\\n{}\\n\\n\" .format(missing_values))\n",
    "print (\"Features with non-numeric values:\\n{}\" .format(nonumeric_values))\n",
    "print (\"\\n~~~~~~~~~~~~~~~~~~~~~~~~~~~~~~~~~~~~~~~~~~~~~~~~~~~~~~~~~~~~~~~~~~~~~~~~~~~~~~~~~~~~~\\n\")"
   ]
  },
  {
   "cell_type": "code",
   "execution_count": 178,
   "metadata": {},
   "outputs": [
    {
     "name": "stdout",
     "output_type": "stream",
     "text": [
      "There are 0 duplicate IDs for 54620 total entries\n"
     ]
    }
   ],
   "source": [
    "# Check for duplicate index or rows\n",
    "idsUnique = len(set(train_set.index))\n",
    "idsTotal = train_set.shape[0]\n",
    "idsDupli = idsTotal - idsUnique\n",
    "print(\"There are \" + str(idsDupli) + \" duplicate IDs for \" + str(idsTotal) + \" total entries\")"
   ]
  },
  {
   "cell_type": "code",
   "execution_count": 179,
   "metadata": {},
   "outputs": [
    {
     "data": {
      "text/html": [
       "<div>\n",
       "<style scoped>\n",
       "    .dataframe tbody tr th:only-of-type {\n",
       "        vertical-align: middle;\n",
       "    }\n",
       "\n",
       "    .dataframe tbody tr th {\n",
       "        vertical-align: top;\n",
       "    }\n",
       "\n",
       "    .dataframe thead th {\n",
       "        text-align: right;\n",
       "    }\n",
       "</style>\n",
       "<table border=\"1\" class=\"dataframe\">\n",
       "  <thead>\n",
       "    <tr style=\"text-align: right;\">\n",
       "      <th></th>\n",
       "      <th>income_per_capita</th>\n",
       "      <th>median_age</th>\n",
       "      <th>white_pop</th>\n",
       "      <th>black_pop</th>\n",
       "      <th>asian_pop</th>\n",
       "      <th>hispanic_pop</th>\n",
       "      <th>Unemploy-\\nment Rate\\n(%)</th>\n",
       "      <th>MortDeliq30-89</th>\n",
       "      <th>MortDeliq90</th>\n",
       "      <th>percent_income_spent_on_rent</th>\n",
       "      <th>high_school_diploma</th>\n",
       "      <th>associates_degree</th>\n",
       "      <th>bachelors_degree</th>\n",
       "      <th>masters_degree</th>\n",
       "      <th>value</th>\n",
       "    </tr>\n",
       "  </thead>\n",
       "  <tbody>\n",
       "    <tr>\n",
       "      <th>count</th>\n",
       "      <td>54620.000000</td>\n",
       "      <td>54620.000000</td>\n",
       "      <td>54620.000000</td>\n",
       "      <td>54620.000000</td>\n",
       "      <td>54620.000000</td>\n",
       "      <td>54620.000000</td>\n",
       "      <td>54620.000000</td>\n",
       "      <td>54620.000000</td>\n",
       "      <td>54620.000000</td>\n",
       "      <td>54620.000000</td>\n",
       "      <td>54620.000000</td>\n",
       "      <td>54620.000000</td>\n",
       "      <td>54620.000000</td>\n",
       "      <td>54620.000000</td>\n",
       "      <td>54620.000000</td>\n",
       "    </tr>\n",
       "    <tr>\n",
       "      <th>mean</th>\n",
       "      <td>35310.429696</td>\n",
       "      <td>0.001272</td>\n",
       "      <td>0.549537</td>\n",
       "      <td>0.149582</td>\n",
       "      <td>0.073754</td>\n",
       "      <td>0.190990</td>\n",
       "      <td>4.401668</td>\n",
       "      <td>0.584074</td>\n",
       "      <td>0.378962</td>\n",
       "      <td>30.853182</td>\n",
       "      <td>0.129229</td>\n",
       "      <td>0.049854</td>\n",
       "      <td>0.160802</td>\n",
       "      <td>0.075925</td>\n",
       "      <td>1451.298792</td>\n",
       "    </tr>\n",
       "    <tr>\n",
       "      <th>std</th>\n",
       "      <td>16932.269793</td>\n",
       "      <td>0.001101</td>\n",
       "      <td>0.241982</td>\n",
       "      <td>0.184604</td>\n",
       "      <td>0.087030</td>\n",
       "      <td>0.182757</td>\n",
       "      <td>1.410166</td>\n",
       "      <td>0.966769</td>\n",
       "      <td>0.655935</td>\n",
       "      <td>4.856297</td>\n",
       "      <td>0.053856</td>\n",
       "      <td>0.018496</td>\n",
       "      <td>0.079110</td>\n",
       "      <td>0.048576</td>\n",
       "      <td>580.814489</td>\n",
       "    </tr>\n",
       "    <tr>\n",
       "      <th>min</th>\n",
       "      <td>0.000000</td>\n",
       "      <td>0.000000</td>\n",
       "      <td>0.000000</td>\n",
       "      <td>0.000000</td>\n",
       "      <td>0.000000</td>\n",
       "      <td>0.000000</td>\n",
       "      <td>0.000000</td>\n",
       "      <td>0.000000</td>\n",
       "      <td>0.000000</td>\n",
       "      <td>0.000000</td>\n",
       "      <td>0.000000</td>\n",
       "      <td>0.000000</td>\n",
       "      <td>0.000000</td>\n",
       "      <td>0.000000</td>\n",
       "      <td>541.000000</td>\n",
       "    </tr>\n",
       "    <tr>\n",
       "      <th>25%</th>\n",
       "      <td>23420.500000</td>\n",
       "      <td>0.000735</td>\n",
       "      <td>0.382418</td>\n",
       "      <td>0.027370</td>\n",
       "      <td>0.020537</td>\n",
       "      <td>0.061989</td>\n",
       "      <td>3.600000</td>\n",
       "      <td>0.000000</td>\n",
       "      <td>0.000000</td>\n",
       "      <td>27.500000</td>\n",
       "      <td>0.087329</td>\n",
       "      <td>0.036387</td>\n",
       "      <td>0.098236</td>\n",
       "      <td>0.039104</td>\n",
       "      <td>1035.750000</td>\n",
       "    </tr>\n",
       "    <tr>\n",
       "      <th>50%</th>\n",
       "      <td>31472.000000</td>\n",
       "      <td>0.001043</td>\n",
       "      <td>0.589044</td>\n",
       "      <td>0.079101</td>\n",
       "      <td>0.042825</td>\n",
       "      <td>0.128981</td>\n",
       "      <td>4.200000</td>\n",
       "      <td>0.000000</td>\n",
       "      <td>0.000000</td>\n",
       "      <td>30.300000</td>\n",
       "      <td>0.131911</td>\n",
       "      <td>0.048876</td>\n",
       "      <td>0.154487</td>\n",
       "      <td>0.066141</td>\n",
       "      <td>1335.000000</td>\n",
       "    </tr>\n",
       "    <tr>\n",
       "      <th>75%</th>\n",
       "      <td>43521.500000</td>\n",
       "      <td>0.001505</td>\n",
       "      <td>0.745745</td>\n",
       "      <td>0.189452</td>\n",
       "      <td>0.096552</td>\n",
       "      <td>0.245951</td>\n",
       "      <td>5.000000</td>\n",
       "      <td>1.200000</td>\n",
       "      <td>0.700000</td>\n",
       "      <td>33.500000</td>\n",
       "      <td>0.169399</td>\n",
       "      <td>0.061854</td>\n",
       "      <td>0.213617</td>\n",
       "      <td>0.107515</td>\n",
       "      <td>1724.000000</td>\n",
       "    </tr>\n",
       "    <tr>\n",
       "      <th>max</th>\n",
       "      <td>154723.000000</td>\n",
       "      <td>0.015890</td>\n",
       "      <td>0.973506</td>\n",
       "      <td>0.982393</td>\n",
       "      <td>0.726602</td>\n",
       "      <td>0.977026</td>\n",
       "      <td>14.600000</td>\n",
       "      <td>6.400000</td>\n",
       "      <td>3.600000</td>\n",
       "      <td>50.000000</td>\n",
       "      <td>0.279457</td>\n",
       "      <td>0.126473</td>\n",
       "      <td>0.462318</td>\n",
       "      <td>0.344235</td>\n",
       "      <td>18349.000000</td>\n",
       "    </tr>\n",
       "  </tbody>\n",
       "</table>\n",
       "</div>"
      ],
      "text/plain": [
       "       income_per_capita    median_age     white_pop     black_pop  \\\n",
       "count       54620.000000  54620.000000  54620.000000  54620.000000   \n",
       "mean        35310.429696      0.001272      0.549537      0.149582   \n",
       "std         16932.269793      0.001101      0.241982      0.184604   \n",
       "min             0.000000      0.000000      0.000000      0.000000   \n",
       "25%         23420.500000      0.000735      0.382418      0.027370   \n",
       "50%         31472.000000      0.001043      0.589044      0.079101   \n",
       "75%         43521.500000      0.001505      0.745745      0.189452   \n",
       "max        154723.000000      0.015890      0.973506      0.982393   \n",
       "\n",
       "          asian_pop  hispanic_pop  Unemploy-\\nment Rate\\n(%)  MortDeliq30-89  \\\n",
       "count  54620.000000  54620.000000               54620.000000    54620.000000   \n",
       "mean       0.073754      0.190990                   4.401668        0.584074   \n",
       "std        0.087030      0.182757                   1.410166        0.966769   \n",
       "min        0.000000      0.000000                   0.000000        0.000000   \n",
       "25%        0.020537      0.061989                   3.600000        0.000000   \n",
       "50%        0.042825      0.128981                   4.200000        0.000000   \n",
       "75%        0.096552      0.245951                   5.000000        1.200000   \n",
       "max        0.726602      0.977026                  14.600000        6.400000   \n",
       "\n",
       "        MortDeliq90  percent_income_spent_on_rent  high_school_diploma  \\\n",
       "count  54620.000000                  54620.000000         54620.000000   \n",
       "mean       0.378962                     30.853182             0.129229   \n",
       "std        0.655935                      4.856297             0.053856   \n",
       "min        0.000000                      0.000000             0.000000   \n",
       "25%        0.000000                     27.500000             0.087329   \n",
       "50%        0.000000                     30.300000             0.131911   \n",
       "75%        0.700000                     33.500000             0.169399   \n",
       "max        3.600000                     50.000000             0.279457   \n",
       "\n",
       "       associates_degree  bachelors_degree  masters_degree         value  \n",
       "count       54620.000000      54620.000000    54620.000000  54620.000000  \n",
       "mean            0.049854          0.160802        0.075925   1451.298792  \n",
       "std             0.018496          0.079110        0.048576    580.814489  \n",
       "min             0.000000          0.000000        0.000000    541.000000  \n",
       "25%             0.036387          0.098236        0.039104   1035.750000  \n",
       "50%             0.048876          0.154487        0.066141   1335.000000  \n",
       "75%             0.061854          0.213617        0.107515   1724.000000  \n",
       "max             0.126473          0.462318        0.344235  18349.000000  "
      ]
     },
     "execution_count": 179,
     "metadata": {},
     "output_type": "execute_result"
    }
   ],
   "source": [
    "#get summary of numerical variables\n",
    "train_set.describe()"
   ]
  },
  {
   "cell_type": "code",
   "execution_count": 180,
   "metadata": {},
   "outputs": [
    {
     "name": "stdout",
     "output_type": "stream",
     "text": [
      "income_per_capita               1.612365\n",
      "median_age                      7.017474\n",
      "white_pop                      -0.499358\n",
      "black_pop                       2.174977\n",
      "asian_pop                       2.658967\n",
      "hispanic_pop                    1.646705\n",
      "Unemploy-\\nment Rate\\n(%)       1.013576\n",
      "MortDeliq30-89                  1.607193\n",
      "MortDeliq90                     1.717386\n",
      "percent_income_spent_on_rent    0.588533\n",
      "high_school_diploma             0.047329\n",
      "associates_degree               0.442241\n",
      "bachelors_degree                0.520415\n",
      "masters_degree                  0.875553\n",
      "value                           2.476307\n",
      "dtype: float64\n"
     ]
    }
   ],
   "source": [
    "# Skewness of the distribution\n",
    "\n",
    "print(train_set.skew())\n",
    "\n",
    "# Values close to 0 show less skew\n"
   ]
  },
  {
   "cell_type": "code",
   "execution_count": 181,
   "metadata": {},
   "outputs": [
    {
     "name": "stdout",
     "output_type": "stream",
     "text": [
      "income_per_capita                4.086358\n",
      "median_age                      73.662056\n",
      "white_pop                       -0.711771\n",
      "black_pop                        5.017894\n",
      "asian_pop                        8.898027\n",
      "hispanic_pop                     2.494149\n",
      "Unemploy-\\nment Rate\\n(%)        5.123888\n",
      "MortDeliq30-89                   2.146365\n",
      "MortDeliq90                      2.085096\n",
      "percent_income_spent_on_rent     2.098374\n",
      "high_school_diploma             -0.765055\n",
      "associates_degree                0.230890\n",
      "bachelors_degree                -0.133190\n",
      "masters_degree                   0.454484\n",
      "value                           40.194009\n",
      "dtype: float64\n"
     ]
    }
   ],
   "source": [
    "# Skewness of the distribution\n",
    "\n",
    "print(train_set.kurt())"
   ]
  },
  {
   "cell_type": "code",
   "execution_count": 183,
   "metadata": {},
   "outputs": [
    {
     "data": {
      "text/plain": [
       "income_per_capita               0\n",
       "median_age                      0\n",
       "white_pop                       0\n",
       "black_pop                       0\n",
       "asian_pop                       0\n",
       "hispanic_pop                    0\n",
       "Unemploy-\\nment Rate\\n(%)       0\n",
       "MortDeliq30-89                  0\n",
       "MortDeliq90                     0\n",
       "percent_income_spent_on_rent    0\n",
       "high_school_diploma             0\n",
       "associates_degree               0\n",
       "bachelors_degree                0\n",
       "masters_degree                  0\n",
       "value                           0\n",
       "dtype: int64"
      ]
     },
     "execution_count": 183,
     "metadata": {},
     "output_type": "execute_result"
    }
   ],
   "source": [
    "#Check when a value in a cloumn is zero\n",
    "train_set[(train_set['value'] == 0)].count()"
   ]
  },
  {
   "cell_type": "code",
   "execution_count": 184,
   "metadata": {},
   "outputs": [],
   "source": [
    "df = train_set[['income_per_capita','value']]\n"
   ]
  },
  {
   "cell_type": "code",
   "execution_count": 185,
   "metadata": {},
   "outputs": [
    {
     "data": {
      "text/html": [
       "<div>\n",
       "<style scoped>\n",
       "    .dataframe tbody tr th:only-of-type {\n",
       "        vertical-align: middle;\n",
       "    }\n",
       "\n",
       "    .dataframe tbody tr th {\n",
       "        vertical-align: top;\n",
       "    }\n",
       "\n",
       "    .dataframe thead th {\n",
       "        text-align: right;\n",
       "    }\n",
       "</style>\n",
       "<table border=\"1\" class=\"dataframe\">\n",
       "  <thead>\n",
       "    <tr style=\"text-align: right;\">\n",
       "      <th></th>\n",
       "      <th>income_per_capita</th>\n",
       "      <th>value</th>\n",
       "    </tr>\n",
       "  </thead>\n",
       "  <tbody>\n",
       "    <tr>\n",
       "      <th>0</th>\n",
       "      <td>68995.0</td>\n",
       "      <td>3727.0</td>\n",
       "    </tr>\n",
       "    <tr>\n",
       "      <th>1</th>\n",
       "      <td>69983.0</td>\n",
       "      <td>1735.0</td>\n",
       "    </tr>\n",
       "    <tr>\n",
       "      <th>2</th>\n",
       "      <td>69983.0</td>\n",
       "      <td>1735.0</td>\n",
       "    </tr>\n",
       "    <tr>\n",
       "      <th>3</th>\n",
       "      <td>69983.0</td>\n",
       "      <td>1735.0</td>\n",
       "    </tr>\n",
       "    <tr>\n",
       "      <th>4</th>\n",
       "      <td>114641.0</td>\n",
       "      <td>3609.0</td>\n",
       "    </tr>\n",
       "  </tbody>\n",
       "</table>\n",
       "</div>"
      ],
      "text/plain": [
       "   income_per_capita   value\n",
       "0            68995.0  3727.0\n",
       "1            69983.0  1735.0\n",
       "2            69983.0  1735.0\n",
       "3            69983.0  1735.0\n",
       "4           114641.0  3609.0"
      ]
     },
     "execution_count": 185,
     "metadata": {},
     "output_type": "execute_result"
    }
   ],
   "source": [
    "df.head()\n"
   ]
  },
  {
   "cell_type": "code",
   "execution_count": 187,
   "metadata": {},
   "outputs": [
    {
     "data": {
      "text/plain": [
       "<matplotlib.axes._subplots.AxesSubplot at 0x1a326d0610>"
      ]
     },
     "execution_count": 187,
     "metadata": {},
     "output_type": "execute_result"
    },
    {
     "data": {
      "image/png": "[encoded data removed]",
      "text/plain": [
       "<Figure size 432x288 with 1 Axes>"
      ]
     },
     "metadata": {
      "needs_background": "light"
     },
     "output_type": "display_data"
    }
   ],
   "source": [
    "#draw a histogram and not fit a kernel density estimate (KDE).\n",
    "sns.distplot(df['income_per_capita'], kde = True, color = 'r', hist_kws={'alpha': 0.9})"
   ]
  },
  {
   "cell_type": "code",
   "execution_count": 189,
   "metadata": {},
   "outputs": [
    {
     "data": {
      "text/plain": [
       "<matplotlib.axes._subplots.AxesSubplot at 0x1a3159d810>"
      ]
     },
     "execution_count": 189,
     "metadata": {},
     "output_type": "execute_result"
    },
    {
     "data": {
      "image/png": "[encoded data removed]",
      "text/plain": [
       "<Figure size 432x288 with 1 Axes>"
      ]
     },
     "metadata": {
      "needs_background": "light"
     },
     "output_type": "display_data"
    }
   ],
   "source": [
    "train_set.boxplot(column=\"value\")\n",
    "#sns.boxplot(x='value', y='Year', data=train_set)"
   ]
  },
  {
   "cell_type": "code",
   "execution_count": 193,
   "metadata": {},
   "outputs": [
    {
     "data": {
      "text/plain": [
       "<matplotlib.axes._subplots.AxesSubplot at 0x1a317cb5d0>"
      ]
     },
     "execution_count": 193,
     "metadata": {},
     "output_type": "execute_result"
    },
    {
     "data": {
      "image/png": "[encoded data removed]",
      "text/plain": [
       "<Figure size 360x360 with 1 Axes>"
      ]
     },
     "metadata": {
      "needs_background": "light"
     },
     "output_type": "display_data"
    }
   ],
   "source": [
    "train_set.plot(kind=\"scatter\",     # Create a scatterplot\n",
    "              x=\"income_per_capita\",          # Put carat on the x axis\n",
    "              y=np.\"value\",          # Put price on the y axis\n",
    "              figsize=(5,5),\n",
    "              ylim=(0,5000))"
   ]
  },
  {
   "cell_type": "code",
   "execution_count": 126,
   "metadata": {},
   "outputs": [],
   "source": [
    "from sklearn.ensemble import GradientBoostingRegressor\n",
    "from sklearn.model_selection import train_test_split\n",
    "from sklearn.model_selection import GridSearchCV"
   ]
  },
  {
   "cell_type": "code",
   "execution_count": 127,
   "metadata": {},
   "outputs": [
    {
     "name": "stdout",
     "output_type": "stream",
     "text": [
      "--------------------------------------------------\n",
      "The train set R^2 is 0.940\n",
      "The test set R^2 is 0.802\n"
     ]
    }
   ],
   "source": [
    "gbm = GradientBoostingRegressor()\n",
    "\n",
    "gbm.set_params(n_estimators = 1000, \n",
    "            learning_rate = .1, #.3,\n",
    "            max_depth = 3, #2,\n",
    "            min_samples_leaf = 3)\n",
    "\n",
    "gbm.fit(X_train,y_train)\n",
    "\n",
    "print('-'*50)\n",
    "print(\"The train set R^2 is %.3f\" %(gbm.score(X_train, y_train)))\n",
    "print(\"The test set R^2 is %.3f\" %(gbm.score(X_test,y_test)))"
   ]
  },
  {
   "cell_type": "code",
   "execution_count": 128,
   "metadata": {},
   "outputs": [
    {
     "name": "stdout",
     "output_type": "stream",
     "text": [
      "RandomForestRegressor(bootstrap=True, ccp_alpha=0.0, criterion='mse',\n",
      "                      max_depth=3, max_features=4, max_leaf_nodes=None,\n",
      "                      max_samples=None, min_impurity_decrease=0.0,\n",
      "                      min_impurity_split=None, min_samples_leaf=1,\n",
      "                      min_samples_split=2, min_weight_fraction_leaf=0.0,\n",
      "                      n_estimators=1000, n_jobs=None, oob_score=False,\n",
      "                      random_state=42, verbose=0, warm_start=False)\n",
      "0.5325404983815691\n"
     ]
    },
    {
     "data": {
      "text/plain": [
       "0.534606952011383"
      ]
     },
     "execution_count": 128,
     "metadata": {},
     "output_type": "execute_result"
    }
   ],
   "source": [
    "#Random Forrest\n",
    "from sklearn import ensemble\n",
    "\n",
    "randomForest = ensemble.RandomForestRegressor()\n",
    "bagging      = ensemble.BaggingRegressor()\n",
    "\n",
    "randomForest.set_params(random_state=42, max_depth = 3, min_samples_split = 2, n_estimators=1000, max_features =4)\n",
    "\n",
    "print(randomForest.fit(X_train,y_train))\n",
    "\n",
    "\n",
    "print(randomForest.score(X_train,y_train))\n",
    "randomForest.score(X_test,y_test)\n"
   ]
  },
  {
   "cell_type": "code",
   "execution_count": 129,
   "metadata": {},
   "outputs": [
    {
     "data": {
      "text/plain": [
       "<matplotlib.axes._subplots.AxesSubplot at 0x1a26564190>"
      ]
     },
     "execution_count": 129,
     "metadata": {},
     "output_type": "execute_result"
    },
    {
     "data": {
      "image/png": "[encoded data removed]",
      "text/plain": [
       "<Figure size 432x288 with 1 Axes>"
      ]
     },
     "metadata": {
      "needs_background": "light"
     },
     "output_type": "display_data"
    }
   ],
   "source": [
    "feature_importance = list(zip(X_train.columns[:-2], randomForest.feature_importances_))\n",
    "dtype = [('feature', 'S10'), ('importance', 'float')]\n",
    "feature_importance = np.array(feature_importance, dtype=dtype)\n",
    "feature_sort = np.sort(feature_importance, order='importance')[::-1]\n",
    "name, score = zip(*list(feature_sort))\n",
    "pd.DataFrame({'name':name,'score':score})[:15].plot.bar(x='name', y='score')"
   ]
  },
  {
   "cell_type": "code",
   "execution_count": null,
   "metadata": {},
   "outputs": [],
   "source": []
  }
 ],
 "metadata": {
  "kernelspec": {
   "display_name": "Python 3",
   "language": "python",
   "name": "python3"
  },
  "language_info": {
   "codemirror_mode": {
    "name": "ipython",
    "version": 3
   },
   "file_extension": ".py",
   "mimetype": "text/x-python",
   "name": "python",
   "nbconvert_exporter": "python",
   "pygments_lexer": "ipython3",
   "version": "3.7.6"
  }
 },
 "nbformat": 4,
 "nbformat_minor": 4
}
