{
 "cells": [
  {
   "cell_type": "code",
   "execution_count": 1,
   "metadata": {},
   "outputs": [],
   "source": [
    "#importing packages\n",
    "import pandas as pd\n",
    "import numpy as np\n",
    "import seaborn as sns\n",
    "from matplotlib import pyplot as plt\n",
    "plt.style.use('ggplot')\n",
    "from scipy.stats import norm\n",
    "from scipy import stats\n",
    "%matplotlib inline"
   ]
  },
  {
   "cell_type": "code",
   "execution_count": 3,
   "metadata": {},
   "outputs": [],
   "source": [
    "#so all DataFrame data is displayed\n",
    "pd.set_option('display.max_columns', None)\n",
    "pd.set_option('display.max_rows', 1000)"
   ]
  },
  {
   "cell_type": "code",
   "execution_count": 4,
   "metadata": {},
   "outputs": [],
   "source": [
    "ZRI = pd.read_csv('./data/Zip_Zri_MultiFamilyResidenceRental.csv', index_col=0,dtype={'RegionName': 'str'})"
   ]
  },
  {
   "cell_type": "code",
   "execution_count": 5,
   "metadata": {},
   "outputs": [
    {
     "data": {
      "text/plain": [
       "(1861, 119)"
      ]
     },
     "execution_count": 5,
     "metadata": {},
     "output_type": "execute_result"
    }
   ],
   "source": [
    "ZRI.shape"
   ]
  },
  {
   "cell_type": "code",
   "execution_count": 6,
   "metadata": {},
   "outputs": [],
   "source": [
    "#melt zri dataframe\n",
    "ZRI_f = pd.melt(ZRI, id_vars =['RegionName', 'City', 'State', 'Metro', 'CountyName', 'SizeRank'], value_vars=ZRI.iloc[:,6:119])\n"
   ]
  },
  {
   "cell_type": "code",
   "execution_count": 89,
   "metadata": {},
   "outputs": [
    {
     "data": {
      "text/html": [
       "<div>\n",
       "<style scoped>\n",
       "    .dataframe tbody tr th:only-of-type {\n",
       "        vertical-align: middle;\n",
       "    }\n",
       "\n",
       "    .dataframe tbody tr th {\n",
       "        vertical-align: top;\n",
       "    }\n",
       "\n",
       "    .dataframe thead th {\n",
       "        text-align: right;\n",
       "    }\n",
       "</style>\n",
       "<table border=\"1\" class=\"dataframe\">\n",
       "  <thead>\n",
       "    <tr style=\"text-align: right;\">\n",
       "      <th></th>\n",
       "      <th>RegionName</th>\n",
       "      <th>City</th>\n",
       "      <th>State</th>\n",
       "      <th>Metro</th>\n",
       "      <th>CountyName</th>\n",
       "      <th>SizeRank</th>\n",
       "      <th>variable</th>\n",
       "      <th>value</th>\n",
       "      <th>LogValue</th>\n",
       "      <th>Month</th>\n",
       "      <th>Year</th>\n",
       "      <th>Season</th>\n",
       "    </tr>\n",
       "  </thead>\n",
       "  <tbody>\n",
       "  </tbody>\n",
       "</table>\n",
       "</div>"
      ],
      "text/plain": [
       "Empty DataFrame\n",
       "Columns: [RegionName, City, State, Metro, CountyName, SizeRank, variable, value, LogValue, Month, Year, Season]\n",
       "Index: []"
      ]
     },
     "execution_count": 89,
     "metadata": {},
     "output_type": "execute_result"
    }
   ],
   "source": [
    "ZRI_f[ZRI_f.value == 0]"
   ]
  },
  {
   "cell_type": "code",
   "execution_count": 78,
   "metadata": {},
   "outputs": [
    {
     "data": {
      "text/plain": [
       "Index(['Metro'], dtype='object')"
      ]
     },
     "execution_count": 78,
     "metadata": {},
     "output_type": "execute_result"
    }
   ],
   "source": [
    "ZRI_f.columns[ZRI_f.isnull().any()]"
   ]
  },
  {
   "cell_type": "code",
   "execution_count": 7,
   "metadata": {},
   "outputs": [
    {
     "data": {
      "text/plain": [
       "Text(0.5, 1.0, 'ZRI Distribution')"
      ]
     },
     "execution_count": 7,
     "metadata": {},
     "output_type": "execute_result"
    },
    {
     "data": {
      "image/png": "[encoded data removed]",
      "text/plain": [
       "<Figure size 432x432 with 1 Axes>"
      ]
     },
     "metadata": {
      "needs_background": "light"
     },
     "output_type": "display_data"
    }
   ],
   "source": [
    "plt.figure(figsize=(6,6))\n",
    "ZRI_f['value'].hist()\n",
    "plt.title('ZRI Distribution')"
   ]
  },
  {
   "cell_type": "code",
   "execution_count": 11,
   "metadata": {},
   "outputs": [
    {
     "name": "stdout",
     "output_type": "stream",
     "text": [
      "Rent Mean:  1518.0649123433427\n",
      "Rent Median:  1395.0\n",
      "Outliers are above 3436.70 and below -400.57\n"
     ]
    }
   ],
   "source": [
    "print('Rent Mean: ', np.mean(ZRI_f.value))\n",
    "print('Rent Median: ', (ZRI_f.value).median())\n",
    "\n",
    "upper_lim = np.mean(ZRI_f.value) + 3 * np.std(ZRI_f.value)\n",
    "lower_lim = np.mean(ZRI_f.value) - 3 * np.std(ZRI_f.value)\n",
    "print('Outliers are above %.2f and below %.2f' % (upper_lim, lower_lim))"
   ]
  },
  {
   "cell_type": "code",
   "execution_count": 12,
   "metadata": {},
   "outputs": [
    {
     "data": {
      "text/plain": [
       "Text(0.5, 1.0, 'Log Rent Distribution')"
      ]
     },
     "execution_count": 12,
     "metadata": {},
     "output_type": "execute_result"
    },
    {
     "data": {
      "image/png": "[encoded data removed]",
      "text/plain": [
       "<Figure size 432x432 with 1 Axes>"
      ]
     },
     "metadata": {
      "needs_background": "light"
     },
     "output_type": "display_data"
    }
   ],
   "source": [
    "ZRI_f['LogValue'] = np.log(ZRI_f.value)\n",
    "plt.figure(figsize=(6,6))\n",
    "ZRI_f['LogValue'].hist()\n",
    "plt.title('Log Rent Distribution')"
   ]
  },
  {
   "cell_type": "code",
   "execution_count": 13,
   "metadata": {},
   "outputs": [
    {
     "name": "stdout",
     "output_type": "stream",
     "text": [
      "Log Rent Mean: 7.2\n",
      "Outliers are above 8.7 and below 5.8\n"
     ]
    }
   ],
   "source": [
    "print('Log Rent Mean: %.1f' % np.mean(ZRI_f['LogValue']))\n",
    "\n",
    "upper_lim = np.mean(ZRI_f['LogValue']) + 3.5 * np.std(ZRI_f['LogValue'])\n",
    "lower_lim = np.mean(ZRI_f['LogValue']) - 3.5 * np.std(ZRI_f['LogValue'])\n",
    "print('Outliers are above %.1f and below %.1f' % (upper_lim, lower_lim))"
   ]
  },
  {
   "cell_type": "code",
   "execution_count": 15,
   "metadata": {},
   "outputs": [
    {
     "data": {
      "text/html": [
       "<div>\n",
       "<style scoped>\n",
       "    .dataframe tbody tr th:only-of-type {\n",
       "        vertical-align: middle;\n",
       "    }\n",
       "\n",
       "    .dataframe tbody tr th {\n",
       "        vertical-align: top;\n",
       "    }\n",
       "\n",
       "    .dataframe thead th {\n",
       "        text-align: right;\n",
       "    }\n",
       "</style>\n",
       "<table border=\"1\" class=\"dataframe\">\n",
       "  <thead>\n",
       "    <tr style=\"text-align: right;\">\n",
       "      <th></th>\n",
       "      <th>RegionName</th>\n",
       "      <th>City</th>\n",
       "      <th>State</th>\n",
       "      <th>Metro</th>\n",
       "      <th>CountyName</th>\n",
       "      <th>SizeRank</th>\n",
       "      <th>variable</th>\n",
       "      <th>value</th>\n",
       "      <th>LogValue</th>\n",
       "    </tr>\n",
       "  </thead>\n",
       "  <tbody>\n",
       "    <tr>\n",
       "      <th>181886</th>\n",
       "      <td>11901</td>\n",
       "      <td>Riverhead</td>\n",
       "      <td>NY</td>\n",
       "      <td>New York-Newark-Jersey City</td>\n",
       "      <td>Suffolk County</td>\n",
       "      <td>1370</td>\n",
       "      <td>2018-10</td>\n",
       "      <td>18349.0</td>\n",
       "      <td>9.817330</td>\n",
       "    </tr>\n",
       "    <tr>\n",
       "      <th>200496</th>\n",
       "      <td>11901</td>\n",
       "      <td>Riverhead</td>\n",
       "      <td>NY</td>\n",
       "      <td>New York-Newark-Jersey City</td>\n",
       "      <td>Suffolk County</td>\n",
       "      <td>1370</td>\n",
       "      <td>2019-08</td>\n",
       "      <td>17943.0</td>\n",
       "      <td>9.794955</td>\n",
       "    </tr>\n",
       "    <tr>\n",
       "      <th>161415</th>\n",
       "      <td>11901</td>\n",
       "      <td>Riverhead</td>\n",
       "      <td>NY</td>\n",
       "      <td>New York-Newark-Jersey City</td>\n",
       "      <td>Suffolk County</td>\n",
       "      <td>1370</td>\n",
       "      <td>2017-11</td>\n",
       "      <td>15445.0</td>\n",
       "      <td>9.645041</td>\n",
       "    </tr>\n",
       "    <tr>\n",
       "      <th>168859</th>\n",
       "      <td>11901</td>\n",
       "      <td>Riverhead</td>\n",
       "      <td>NY</td>\n",
       "      <td>New York-Newark-Jersey City</td>\n",
       "      <td>Suffolk County</td>\n",
       "      <td>1370</td>\n",
       "      <td>2018-03</td>\n",
       "      <td>13434.0</td>\n",
       "      <td>9.505544</td>\n",
       "    </tr>\n",
       "    <tr>\n",
       "      <th>170720</th>\n",
       "      <td>11901</td>\n",
       "      <td>Riverhead</td>\n",
       "      <td>NY</td>\n",
       "      <td>New York-Newark-Jersey City</td>\n",
       "      <td>Suffolk County</td>\n",
       "      <td>1370</td>\n",
       "      <td>2018-04</td>\n",
       "      <td>13427.0</td>\n",
       "      <td>9.505023</td>\n",
       "    </tr>\n",
       "  </tbody>\n",
       "</table>\n",
       "</div>"
      ],
      "text/plain": [
       "       RegionName       City State                        Metro  \\\n",
       "181886      11901  Riverhead    NY  New York-Newark-Jersey City   \n",
       "200496      11901  Riverhead    NY  New York-Newark-Jersey City   \n",
       "161415      11901  Riverhead    NY  New York-Newark-Jersey City   \n",
       "168859      11901  Riverhead    NY  New York-Newark-Jersey City   \n",
       "170720      11901  Riverhead    NY  New York-Newark-Jersey City   \n",
       "\n",
       "            CountyName  SizeRank variable    value  LogValue  \n",
       "181886  Suffolk County      1370  2018-10  18349.0  9.817330  \n",
       "200496  Suffolk County      1370  2019-08  17943.0  9.794955  \n",
       "161415  Suffolk County      1370  2017-11  15445.0  9.645041  \n",
       "168859  Suffolk County      1370  2018-03  13434.0  9.505544  \n",
       "170720  Suffolk County      1370  2018-04  13427.0  9.505023  "
      ]
     },
     "execution_count": 15,
     "metadata": {},
     "output_type": "execute_result"
    }
   ],
   "source": [
    "ZRI_f[ZRI_f.LogValue > 8.7].sort_values('LogValue', ascending=False)"
   ]
  },
  {
   "cell_type": "code",
   "execution_count": 16,
   "metadata": {},
   "outputs": [
    {
     "data": {
      "text/html": [
       "<div>\n",
       "<style scoped>\n",
       "    .dataframe tbody tr th:only-of-type {\n",
       "        vertical-align: middle;\n",
       "    }\n",
       "\n",
       "    .dataframe tbody tr th {\n",
       "        vertical-align: top;\n",
       "    }\n",
       "\n",
       "    .dataframe thead th {\n",
       "        text-align: right;\n",
       "    }\n",
       "</style>\n",
       "<table border=\"1\" class=\"dataframe\">\n",
       "  <thead>\n",
       "    <tr style=\"text-align: right;\">\n",
       "      <th></th>\n",
       "      <th>RegionName</th>\n",
       "      <th>City</th>\n",
       "      <th>State</th>\n",
       "      <th>Metro</th>\n",
       "      <th>CountyName</th>\n",
       "      <th>SizeRank</th>\n",
       "      <th>variable</th>\n",
       "      <th>value</th>\n",
       "      <th>LogValue</th>\n",
       "    </tr>\n",
       "  </thead>\n",
       "  <tbody>\n",
       "  </tbody>\n",
       "</table>\n",
       "</div>"
      ],
      "text/plain": [
       "Empty DataFrame\n",
       "Columns: [RegionName, City, State, Metro, CountyName, SizeRank, variable, value, LogValue]\n",
       "Index: []"
      ]
     },
     "execution_count": 16,
     "metadata": {},
     "output_type": "execute_result"
    }
   ],
   "source": [
    "ZRI_f[ZRI_f.LogValue < 5.8].sort_values('LogValue', ascending=False)"
   ]
  },
  {
   "cell_type": "code",
   "execution_count": 17,
   "metadata": {},
   "outputs": [],
   "source": [
    "#remove outliers\n",
    "ZRI_f = ZRI_f[(ZRI_f.LogValue < 8.7)]"
   ]
  },
  {
   "cell_type": "code",
   "execution_count": 18,
   "metadata": {},
   "outputs": [
    {
     "data": {
      "text/html": [
       "<div>\n",
       "<style scoped>\n",
       "    .dataframe tbody tr th:only-of-type {\n",
       "        vertical-align: middle;\n",
       "    }\n",
       "\n",
       "    .dataframe tbody tr th {\n",
       "        vertical-align: top;\n",
       "    }\n",
       "\n",
       "    .dataframe thead th {\n",
       "        text-align: right;\n",
       "    }\n",
       "</style>\n",
       "<table border=\"1\" class=\"dataframe\">\n",
       "  <thead>\n",
       "    <tr style=\"text-align: right;\">\n",
       "      <th></th>\n",
       "      <th>RegionName</th>\n",
       "      <th>City</th>\n",
       "      <th>State</th>\n",
       "      <th>Metro</th>\n",
       "      <th>CountyName</th>\n",
       "      <th>SizeRank</th>\n",
       "      <th>variable</th>\n",
       "      <th>value</th>\n",
       "      <th>LogValue</th>\n",
       "    </tr>\n",
       "  </thead>\n",
       "  <tbody>\n",
       "  </tbody>\n",
       "</table>\n",
       "</div>"
      ],
      "text/plain": [
       "Empty DataFrame\n",
       "Columns: [RegionName, City, State, Metro, CountyName, SizeRank, variable, value, LogValue]\n",
       "Index: []"
      ]
     },
     "execution_count": 18,
     "metadata": {},
     "output_type": "execute_result"
    }
   ],
   "source": [
    "ZRI_f[ZRI_f.LogValue > 8.7].sort_values('LogValue', ascending=False)"
   ]
  },
  {
   "cell_type": "code",
   "execution_count": 19,
   "metadata": {},
   "outputs": [
    {
     "name": "stderr",
     "output_type": "stream",
     "text": [
      "/Users/isa.adls/opt/anaconda3/lib/python3.7/site-packages/ipykernel_launcher.py:1: SettingWithCopyWarning: \n",
      "A value is trying to be set on a copy of a slice from a DataFrame.\n",
      "Try using .loc[row_indexer,col_indexer] = value instead\n",
      "\n",
      "See the caveats in the documentation: https://pandas.pydata.org/pandas-docs/stable/user_guide/indexing.html#returning-a-view-versus-a-copy\n",
      "  \"\"\"Entry point for launching an IPython kernel.\n"
     ]
    },
    {
     "data": {
      "text/plain": [
       "Text(0.5, 1.0, 'Log Rent Distribution')"
      ]
     },
     "execution_count": 19,
     "metadata": {},
     "output_type": "execute_result"
    },
    {
     "data": {
      "image/png": "[encoded data removed]",
      "text/plain": [
       "<Figure size 432x432 with 1 Axes>"
      ]
     },
     "metadata": {
      "needs_background": "light"
     },
     "output_type": "display_data"
    }
   ],
   "source": [
    "ZRI_f['LogValue'] = np.log(ZRI_f.value)\n",
    "plt.figure(figsize=(6,6))\n",
    "ZRI_f['LogValue'].hist()\n",
    "plt.title('Log Rent Distribution')"
   ]
  },
  {
   "cell_type": "code",
   "execution_count": 20,
   "metadata": {},
   "outputs": [
    {
     "data": {
      "text/plain": [
       "Text(0.5, 1.0, 'Rent Distribution')"
      ]
     },
     "execution_count": 20,
     "metadata": {},
     "output_type": "execute_result"
    },
    {
     "data": {
      "image/png": "[encoded data removed]",
      "text/plain": [
       "<Figure size 432x432 with 1 Axes>"
      ]
     },
     "metadata": {
      "needs_background": "light"
     },
     "output_type": "display_data"
    }
   ],
   "source": [
    "plt.figure(figsize=(6,6))\n",
    "ZRI_f['value'].hist()\n",
    "plt.title('Rent Distribution')"
   ]
  },
  {
   "cell_type": "code",
   "execution_count": 21,
   "metadata": {},
   "outputs": [
    {
     "data": {
      "text/html": [
       "<div>\n",
       "<style scoped>\n",
       "    .dataframe tbody tr th:only-of-type {\n",
       "        vertical-align: middle;\n",
       "    }\n",
       "\n",
       "    .dataframe tbody tr th {\n",
       "        vertical-align: top;\n",
       "    }\n",
       "\n",
       "    .dataframe thead th {\n",
       "        text-align: right;\n",
       "    }\n",
       "</style>\n",
       "<table border=\"1\" class=\"dataframe\">\n",
       "  <thead>\n",
       "    <tr style=\"text-align: right;\">\n",
       "      <th></th>\n",
       "      <th>RegionName</th>\n",
       "      <th>City</th>\n",
       "      <th>State</th>\n",
       "      <th>Metro</th>\n",
       "      <th>CountyName</th>\n",
       "      <th>SizeRank</th>\n",
       "      <th>variable</th>\n",
       "      <th>value</th>\n",
       "      <th>LogValue</th>\n",
       "    </tr>\n",
       "  </thead>\n",
       "  <tbody>\n",
       "    <tr>\n",
       "      <th>0</th>\n",
       "      <td>10025</td>\n",
       "      <td>New York</td>\n",
       "      <td>NY</td>\n",
       "      <td>New York-Newark-Jersey City</td>\n",
       "      <td>New York County</td>\n",
       "      <td>1</td>\n",
       "      <td>2010-09</td>\n",
       "      <td>2930.0</td>\n",
       "      <td>7.982758</td>\n",
       "    </tr>\n",
       "    <tr>\n",
       "      <th>1</th>\n",
       "      <td>60657</td>\n",
       "      <td>Chicago</td>\n",
       "      <td>IL</td>\n",
       "      <td>Chicago-Naperville-Elgin</td>\n",
       "      <td>Cook County</td>\n",
       "      <td>2</td>\n",
       "      <td>2010-09</td>\n",
       "      <td>1447.0</td>\n",
       "      <td>7.277248</td>\n",
       "    </tr>\n",
       "    <tr>\n",
       "      <th>2</th>\n",
       "      <td>10023</td>\n",
       "      <td>New York</td>\n",
       "      <td>NY</td>\n",
       "      <td>New York-Newark-Jersey City</td>\n",
       "      <td>New York County</td>\n",
       "      <td>3</td>\n",
       "      <td>2010-09</td>\n",
       "      <td>2797.0</td>\n",
       "      <td>7.936303</td>\n",
       "    </tr>\n",
       "    <tr>\n",
       "      <th>4</th>\n",
       "      <td>60614</td>\n",
       "      <td>Chicago</td>\n",
       "      <td>IL</td>\n",
       "      <td>Chicago-Naperville-Elgin</td>\n",
       "      <td>Cook County</td>\n",
       "      <td>5</td>\n",
       "      <td>2010-09</td>\n",
       "      <td>1437.0</td>\n",
       "      <td>7.270313</td>\n",
       "    </tr>\n",
       "    <tr>\n",
       "      <th>8</th>\n",
       "      <td>79936</td>\n",
       "      <td>El Paso</td>\n",
       "      <td>TX</td>\n",
       "      <td>El Paso</td>\n",
       "      <td>El Paso County</td>\n",
       "      <td>9</td>\n",
       "      <td>2010-09</td>\n",
       "      <td>982.0</td>\n",
       "      <td>6.889591</td>\n",
       "    </tr>\n",
       "  </tbody>\n",
       "</table>\n",
       "</div>"
      ],
      "text/plain": [
       "  RegionName      City State                        Metro       CountyName  \\\n",
       "0      10025  New York    NY  New York-Newark-Jersey City  New York County   \n",
       "1      60657   Chicago    IL     Chicago-Naperville-Elgin      Cook County   \n",
       "2      10023  New York    NY  New York-Newark-Jersey City  New York County   \n",
       "4      60614   Chicago    IL     Chicago-Naperville-Elgin      Cook County   \n",
       "8      79936   El Paso    TX                      El Paso   El Paso County   \n",
       "\n",
       "   SizeRank variable   value  LogValue  \n",
       "0         1  2010-09  2930.0  7.982758  \n",
       "1         2  2010-09  1447.0  7.277248  \n",
       "2         3  2010-09  2797.0  7.936303  \n",
       "4         5  2010-09  1437.0  7.270313  \n",
       "8         9  2010-09   982.0  6.889591  "
      ]
     },
     "execution_count": 21,
     "metadata": {},
     "output_type": "execute_result"
    }
   ],
   "source": [
    "ZRI_f.head()"
   ]
  },
  {
   "cell_type": "code",
   "execution_count": 22,
   "metadata": {},
   "outputs": [
    {
     "name": "stderr",
     "output_type": "stream",
     "text": [
      "/Users/isa.adls/opt/anaconda3/lib/python3.7/site-packages/ipykernel_launcher.py:1: SettingWithCopyWarning: \n",
      "A value is trying to be set on a copy of a slice from a DataFrame.\n",
      "Try using .loc[row_indexer,col_indexer] = value instead\n",
      "\n",
      "See the caveats in the documentation: https://pandas.pydata.org/pandas-docs/stable/user_guide/indexing.html#returning-a-view-versus-a-copy\n",
      "  \"\"\"Entry point for launching an IPython kernel.\n",
      "/Users/isa.adls/opt/anaconda3/lib/python3.7/site-packages/ipykernel_launcher.py:2: SettingWithCopyWarning: \n",
      "A value is trying to be set on a copy of a slice from a DataFrame.\n",
      "Try using .loc[row_indexer,col_indexer] = value instead\n",
      "\n",
      "See the caveats in the documentation: https://pandas.pydata.org/pandas-docs/stable/user_guide/indexing.html#returning-a-view-versus-a-copy\n",
      "  \n",
      "/Users/isa.adls/opt/anaconda3/lib/python3.7/site-packages/ipykernel_launcher.py:3: SettingWithCopyWarning: \n",
      "A value is trying to be set on a copy of a slice from a DataFrame.\n",
      "Try using .loc[row_indexer,col_indexer] = value instead\n",
      "\n",
      "See the caveats in the documentation: https://pandas.pydata.org/pandas-docs/stable/user_guide/indexing.html#returning-a-view-versus-a-copy\n",
      "  This is separate from the ipykernel package so we can avoid doing imports until\n"
     ]
    }
   ],
   "source": [
    "ZRI_f['variable'] = pd.to_datetime(ZRI_f['variable'])\n",
    "ZRI_f['Month'] = ZRI_f['variable'].dt.month\n",
    "ZRI_f['Year'] = ZRI_f['variable'].dt.year"
   ]
  },
  {
   "cell_type": "code",
   "execution_count": 23,
   "metadata": {},
   "outputs": [
    {
     "data": {
      "text/html": [
       "<div>\n",
       "<style scoped>\n",
       "    .dataframe tbody tr th:only-of-type {\n",
       "        vertical-align: middle;\n",
       "    }\n",
       "\n",
       "    .dataframe tbody tr th {\n",
       "        vertical-align: top;\n",
       "    }\n",
       "\n",
       "    .dataframe thead th {\n",
       "        text-align: right;\n",
       "    }\n",
       "</style>\n",
       "<table border=\"1\" class=\"dataframe\">\n",
       "  <thead>\n",
       "    <tr style=\"text-align: right;\">\n",
       "      <th></th>\n",
       "      <th>RegionName</th>\n",
       "      <th>City</th>\n",
       "      <th>State</th>\n",
       "      <th>Metro</th>\n",
       "      <th>CountyName</th>\n",
       "      <th>SizeRank</th>\n",
       "      <th>variable</th>\n",
       "      <th>value</th>\n",
       "      <th>LogValue</th>\n",
       "      <th>Month</th>\n",
       "      <th>Year</th>\n",
       "    </tr>\n",
       "  </thead>\n",
       "  <tbody>\n",
       "    <tr>\n",
       "      <th>0</th>\n",
       "      <td>10025</td>\n",
       "      <td>New York</td>\n",
       "      <td>NY</td>\n",
       "      <td>New York-Newark-Jersey City</td>\n",
       "      <td>New York County</td>\n",
       "      <td>1</td>\n",
       "      <td>2010-09-01</td>\n",
       "      <td>2930.0</td>\n",
       "      <td>7.982758</td>\n",
       "      <td>9</td>\n",
       "      <td>2010</td>\n",
       "    </tr>\n",
       "    <tr>\n",
       "      <th>1</th>\n",
       "      <td>60657</td>\n",
       "      <td>Chicago</td>\n",
       "      <td>IL</td>\n",
       "      <td>Chicago-Naperville-Elgin</td>\n",
       "      <td>Cook County</td>\n",
       "      <td>2</td>\n",
       "      <td>2010-09-01</td>\n",
       "      <td>1447.0</td>\n",
       "      <td>7.277248</td>\n",
       "      <td>9</td>\n",
       "      <td>2010</td>\n",
       "    </tr>\n",
       "    <tr>\n",
       "      <th>2</th>\n",
       "      <td>10023</td>\n",
       "      <td>New York</td>\n",
       "      <td>NY</td>\n",
       "      <td>New York-Newark-Jersey City</td>\n",
       "      <td>New York County</td>\n",
       "      <td>3</td>\n",
       "      <td>2010-09-01</td>\n",
       "      <td>2797.0</td>\n",
       "      <td>7.936303</td>\n",
       "      <td>9</td>\n",
       "      <td>2010</td>\n",
       "    </tr>\n",
       "    <tr>\n",
       "      <th>4</th>\n",
       "      <td>60614</td>\n",
       "      <td>Chicago</td>\n",
       "      <td>IL</td>\n",
       "      <td>Chicago-Naperville-Elgin</td>\n",
       "      <td>Cook County</td>\n",
       "      <td>5</td>\n",
       "      <td>2010-09-01</td>\n",
       "      <td>1437.0</td>\n",
       "      <td>7.270313</td>\n",
       "      <td>9</td>\n",
       "      <td>2010</td>\n",
       "    </tr>\n",
       "    <tr>\n",
       "      <th>8</th>\n",
       "      <td>79936</td>\n",
       "      <td>El Paso</td>\n",
       "      <td>TX</td>\n",
       "      <td>El Paso</td>\n",
       "      <td>El Paso County</td>\n",
       "      <td>9</td>\n",
       "      <td>2010-09-01</td>\n",
       "      <td>982.0</td>\n",
       "      <td>6.889591</td>\n",
       "      <td>9</td>\n",
       "      <td>2010</td>\n",
       "    </tr>\n",
       "  </tbody>\n",
       "</table>\n",
       "</div>"
      ],
      "text/plain": [
       "  RegionName      City State                        Metro       CountyName  \\\n",
       "0      10025  New York    NY  New York-Newark-Jersey City  New York County   \n",
       "1      60657   Chicago    IL     Chicago-Naperville-Elgin      Cook County   \n",
       "2      10023  New York    NY  New York-Newark-Jersey City  New York County   \n",
       "4      60614   Chicago    IL     Chicago-Naperville-Elgin      Cook County   \n",
       "8      79936   El Paso    TX                      El Paso   El Paso County   \n",
       "\n",
       "   SizeRank   variable   value  LogValue  Month  Year  \n",
       "0         1 2010-09-01  2930.0  7.982758      9  2010  \n",
       "1         2 2010-09-01  1447.0  7.277248      9  2010  \n",
       "2         3 2010-09-01  2797.0  7.936303      9  2010  \n",
       "4         5 2010-09-01  1437.0  7.270313      9  2010  \n",
       "8         9 2010-09-01   982.0  6.889591      9  2010  "
      ]
     },
     "execution_count": 23,
     "metadata": {},
     "output_type": "execute_result"
    }
   ],
   "source": [
    "ZRI_f.head()"
   ]
  },
  {
   "cell_type": "code",
   "execution_count": 24,
   "metadata": {},
   "outputs": [
    {
     "data": {
      "text/plain": [
       "Text(0.5, 1.0, 'Avg Yearly Rent')"
      ]
     },
     "execution_count": 24,
     "metadata": {},
     "output_type": "execute_result"
    },
    {
     "data": {
      "image/png": "[encoded data removed]",
      "text/plain": [
       "<Figure size 360x360 with 1 Axes>"
      ]
     },
     "metadata": {
      "needs_background": "light"
     },
     "output_type": "display_data"
    }
   ],
   "source": [
    "plt.figure(figsize=(5,5))\n",
    "ZRI_f.groupby('Year').agg({'value':'mean'})['value'].plot()\n",
    "plt.title('Avg Yearly Rent')"
   ]
  },
  {
   "cell_type": "code",
   "execution_count": 26,
   "metadata": {},
   "outputs": [
    {
     "data": {
      "text/plain": [
       "Text(0.5, 1.0, 'Avg Monthly Rent')"
      ]
     },
     "execution_count": 26,
     "metadata": {},
     "output_type": "execute_result"
    },
    {
     "data": {
      "image/png": "[encoded data removed]",
      "text/plain": [
       "<Figure size 360x360 with 1 Axes>"
      ]
     },
     "metadata": {
      "needs_background": "light"
     },
     "output_type": "display_data"
    }
   ],
   "source": [
    "plt.figure(figsize=(5,5))\n",
    "ZRI_f.groupby('Month').agg({'value':'mean'})['value'].plot()\n",
    "plt.title('Avg Monthly Rent')"
   ]
  },
  {
   "cell_type": "code",
   "execution_count": 27,
   "metadata": {},
   "outputs": [
    {
     "name": "stderr",
     "output_type": "stream",
     "text": [
      "/Users/isa.adls/opt/anaconda3/lib/python3.7/site-packages/ipykernel_launcher.py:14: SettingWithCopyWarning: \n",
      "A value is trying to be set on a copy of a slice from a DataFrame.\n",
      "Try using .loc[row_indexer,col_indexer] = value instead\n",
      "\n",
      "See the caveats in the documentation: https://pandas.pydata.org/pandas-docs/stable/user_guide/indexing.html#returning-a-view-versus-a-copy\n",
      "  \n"
     ]
    }
   ],
   "source": [
    "#Add season feature \n",
    "\n",
    "def month_to_season(month):\n",
    "    if month in range(3,5):\n",
    "        month = 'spring'\n",
    "    elif month in range(6,8):\n",
    "        month = 'summer'\n",
    "    elif month in range(9,11):\n",
    "        month = 'fall'\n",
    "    else:\n",
    "        month = 'winter'\n",
    "    return(month)\n",
    "\n",
    "ZRI_f['Season'] = ZRI_f.Month.apply(month_to_season)"
   ]
  },
  {
   "cell_type": "code",
   "execution_count": 28,
   "metadata": {},
   "outputs": [
    {
     "data": {
      "text/html": [
       "<div>\n",
       "<style scoped>\n",
       "    .dataframe tbody tr th:only-of-type {\n",
       "        vertical-align: middle;\n",
       "    }\n",
       "\n",
       "    .dataframe tbody tr th {\n",
       "        vertical-align: top;\n",
       "    }\n",
       "\n",
       "    .dataframe thead th {\n",
       "        text-align: right;\n",
       "    }\n",
       "</style>\n",
       "<table border=\"1\" class=\"dataframe\">\n",
       "  <thead>\n",
       "    <tr style=\"text-align: right;\">\n",
       "      <th></th>\n",
       "      <th>RegionName</th>\n",
       "      <th>City</th>\n",
       "      <th>State</th>\n",
       "      <th>Metro</th>\n",
       "      <th>CountyName</th>\n",
       "      <th>SizeRank</th>\n",
       "      <th>variable</th>\n",
       "      <th>value</th>\n",
       "      <th>LogValue</th>\n",
       "      <th>Month</th>\n",
       "      <th>Year</th>\n",
       "      <th>Season</th>\n",
       "    </tr>\n",
       "  </thead>\n",
       "  <tbody>\n",
       "    <tr>\n",
       "      <th>0</th>\n",
       "      <td>10025</td>\n",
       "      <td>New York</td>\n",
       "      <td>NY</td>\n",
       "      <td>New York-Newark-Jersey City</td>\n",
       "      <td>New York County</td>\n",
       "      <td>1</td>\n",
       "      <td>2010-09-01</td>\n",
       "      <td>2930.0</td>\n",
       "      <td>7.982758</td>\n",
       "      <td>9</td>\n",
       "      <td>2010</td>\n",
       "      <td>fall</td>\n",
       "    </tr>\n",
       "    <tr>\n",
       "      <th>1</th>\n",
       "      <td>60657</td>\n",
       "      <td>Chicago</td>\n",
       "      <td>IL</td>\n",
       "      <td>Chicago-Naperville-Elgin</td>\n",
       "      <td>Cook County</td>\n",
       "      <td>2</td>\n",
       "      <td>2010-09-01</td>\n",
       "      <td>1447.0</td>\n",
       "      <td>7.277248</td>\n",
       "      <td>9</td>\n",
       "      <td>2010</td>\n",
       "      <td>fall</td>\n",
       "    </tr>\n",
       "    <tr>\n",
       "      <th>2</th>\n",
       "      <td>10023</td>\n",
       "      <td>New York</td>\n",
       "      <td>NY</td>\n",
       "      <td>New York-Newark-Jersey City</td>\n",
       "      <td>New York County</td>\n",
       "      <td>3</td>\n",
       "      <td>2010-09-01</td>\n",
       "      <td>2797.0</td>\n",
       "      <td>7.936303</td>\n",
       "      <td>9</td>\n",
       "      <td>2010</td>\n",
       "      <td>fall</td>\n",
       "    </tr>\n",
       "    <tr>\n",
       "      <th>4</th>\n",
       "      <td>60614</td>\n",
       "      <td>Chicago</td>\n",
       "      <td>IL</td>\n",
       "      <td>Chicago-Naperville-Elgin</td>\n",
       "      <td>Cook County</td>\n",
       "      <td>5</td>\n",
       "      <td>2010-09-01</td>\n",
       "      <td>1437.0</td>\n",
       "      <td>7.270313</td>\n",
       "      <td>9</td>\n",
       "      <td>2010</td>\n",
       "      <td>fall</td>\n",
       "    </tr>\n",
       "    <tr>\n",
       "      <th>8</th>\n",
       "      <td>79936</td>\n",
       "      <td>El Paso</td>\n",
       "      <td>TX</td>\n",
       "      <td>El Paso</td>\n",
       "      <td>El Paso County</td>\n",
       "      <td>9</td>\n",
       "      <td>2010-09-01</td>\n",
       "      <td>982.0</td>\n",
       "      <td>6.889591</td>\n",
       "      <td>9</td>\n",
       "      <td>2010</td>\n",
       "      <td>fall</td>\n",
       "    </tr>\n",
       "  </tbody>\n",
       "</table>\n",
       "</div>"
      ],
      "text/plain": [
       "  RegionName      City State                        Metro       CountyName  \\\n",
       "0      10025  New York    NY  New York-Newark-Jersey City  New York County   \n",
       "1      60657   Chicago    IL     Chicago-Naperville-Elgin      Cook County   \n",
       "2      10023  New York    NY  New York-Newark-Jersey City  New York County   \n",
       "4      60614   Chicago    IL     Chicago-Naperville-Elgin      Cook County   \n",
       "8      79936   El Paso    TX                      El Paso   El Paso County   \n",
       "\n",
       "   SizeRank   variable   value  LogValue  Month  Year Season  \n",
       "0         1 2010-09-01  2930.0  7.982758      9  2010   fall  \n",
       "1         2 2010-09-01  1447.0  7.277248      9  2010   fall  \n",
       "2         3 2010-09-01  2797.0  7.936303      9  2010   fall  \n",
       "4         5 2010-09-01  1437.0  7.270313      9  2010   fall  \n",
       "8         9 2010-09-01   982.0  6.889591      9  2010   fall  "
      ]
     },
     "execution_count": 28,
     "metadata": {},
     "output_type": "execute_result"
    }
   ],
   "source": [
    "ZRI_f.head()"
   ]
  },
  {
   "cell_type": "code",
   "execution_count": 29,
   "metadata": {},
   "outputs": [
    {
     "data": {
      "image/png": "[encoded data removed]",
      "text/plain": [
       "<Figure size 432x288 with 1 Axes>"
      ]
     },
     "metadata": {
      "needs_background": "light"
     },
     "output_type": "display_data"
    }
   ],
   "source": [
    "season_rent = ZRI_f.groupby(['Season']).agg({\"value\": 'median'})\n",
    "\n",
    "season_rent.plot.bar()\n",
    "plt.title('median rent by season')\n",
    "plt.xlabel('Seasons')\n",
    "plt.ylabel('rent')\n",
    "plt.ylim(1350,1420)\n",
    "plt.show()"
   ]
  },
  {
   "cell_type": "code",
   "execution_count": 56,
   "metadata": {},
   "outputs": [],
   "source": [
    "# calling in other dataframes to get features\n",
    "\n",
    "laborforce = pd.read_pickle('./data/laborforce.pkl')\n",
    "IRS = pd.read_pickle('./data/IRS.pkl')\n",
    "MortDeliq = pd.read_pickle('./data/MortDeliq.pkl')\n",
    "\n"
   ]
  },
  {
   "cell_type": "code",
   "execution_count": 57,
   "metadata": {},
   "outputs": [
    {
     "data": {
      "text/html": [
       "<div>\n",
       "<style scoped>\n",
       "    .dataframe tbody tr th:only-of-type {\n",
       "        vertical-align: middle;\n",
       "    }\n",
       "\n",
       "    .dataframe tbody tr th {\n",
       "        vertical-align: top;\n",
       "    }\n",
       "\n",
       "    .dataframe thead th {\n",
       "        text-align: right;\n",
       "    }\n",
       "</style>\n",
       "<table border=\"1\" class=\"dataframe\">\n",
       "  <thead>\n",
       "    <tr style=\"text-align: right;\">\n",
       "      <th></th>\n",
       "      <th>Year</th>\n",
       "      <th>Labor\\nForce</th>\n",
       "      <th>Employed</th>\n",
       "      <th>Unemployed</th>\n",
       "      <th>Unemploy-\\nment Rate\\n(%)</th>\n",
       "      <th>STCOUNTYFP</th>\n",
       "      <th>ZIP</th>\n",
       "    </tr>\n",
       "  </thead>\n",
       "  <tbody>\n",
       "    <tr>\n",
       "      <th>0</th>\n",
       "      <td>2017.0</td>\n",
       "      <td>26,075</td>\n",
       "      <td>25,062</td>\n",
       "      <td>1,013</td>\n",
       "      <td>3.9</td>\n",
       "      <td>01001</td>\n",
       "      <td>36003</td>\n",
       "    </tr>\n",
       "    <tr>\n",
       "      <th>1</th>\n",
       "      <td>2017.0</td>\n",
       "      <td>26,075</td>\n",
       "      <td>25,062</td>\n",
       "      <td>1,013</td>\n",
       "      <td>3.9</td>\n",
       "      <td>01001</td>\n",
       "      <td>36006</td>\n",
       "    </tr>\n",
       "    <tr>\n",
       "      <th>2</th>\n",
       "      <td>2017.0</td>\n",
       "      <td>26,075</td>\n",
       "      <td>25,062</td>\n",
       "      <td>1,013</td>\n",
       "      <td>3.9</td>\n",
       "      <td>01001</td>\n",
       "      <td>36067</td>\n",
       "    </tr>\n",
       "    <tr>\n",
       "      <th>3</th>\n",
       "      <td>2017.0</td>\n",
       "      <td>26,075</td>\n",
       "      <td>25,062</td>\n",
       "      <td>1,013</td>\n",
       "      <td>3.9</td>\n",
       "      <td>01001</td>\n",
       "      <td>36066</td>\n",
       "    </tr>\n",
       "    <tr>\n",
       "      <th>4</th>\n",
       "      <td>2017.0</td>\n",
       "      <td>26,075</td>\n",
       "      <td>25,062</td>\n",
       "      <td>1,013</td>\n",
       "      <td>3.9</td>\n",
       "      <td>01001</td>\n",
       "      <td>36703</td>\n",
       "    </tr>\n",
       "  </tbody>\n",
       "</table>\n",
       "</div>"
      ],
      "text/plain": [
       "     Year Labor\\nForce     Employed  Unemployed  Unemploy-\\nment Rate\\n(%)  \\\n",
       "0  2017.0  26,075       25,062       1,013                             3.9   \n",
       "1  2017.0  26,075       25,062       1,013                             3.9   \n",
       "2  2017.0  26,075       25,062       1,013                             3.9   \n",
       "3  2017.0  26,075       25,062       1,013                             3.9   \n",
       "4  2017.0  26,075       25,062       1,013                             3.9   \n",
       "\n",
       "  STCOUNTYFP    ZIP  \n",
       "0      01001  36003  \n",
       "1      01001  36006  \n",
       "2      01001  36067  \n",
       "3      01001  36066  \n",
       "4      01001  36703  "
      ]
     },
     "execution_count": 57,
     "metadata": {},
     "output_type": "execute_result"
    }
   ],
   "source": [
    "laborforce.head()"
   ]
  },
  {
   "cell_type": "code",
   "execution_count": 90,
   "metadata": {},
   "outputs": [
    {
     "data": {
      "text/plain": [
       "Index(['RegionName', 'City', 'State', 'Metro', 'CountyName', 'SizeRank',\n",
       "       'variable', 'value', 'LogValue', 'Month', 'Year', 'Season'],\n",
       "      dtype='object')"
      ]
     },
     "execution_count": 90,
     "metadata": {},
     "output_type": "execute_result"
    }
   ],
   "source": [
    "ZRI_f.columns"
   ]
  },
  {
   "cell_type": "code",
   "execution_count": 33,
   "metadata": {},
   "outputs": [],
   "source": [
    "#merge IRS\n",
    "ZRI_IRS = pd.merge(ZRI_f,IRS,left_on=['RegionName', 'Year'], right_on=['zipcode', 'Year'],how='left')\n"
   ]
  },
  {
   "cell_type": "code",
   "execution_count": 46,
   "metadata": {},
   "outputs": [
    {
     "data": {
      "text/plain": [
       "Index(['RegionName', 'City', 'State', 'Metro', 'CountyName', 'SizeRank',\n",
       "       'variable', 'value', 'LogValue', 'Month', 'Year', 'Season', 'zipcode',\n",
       "       'agi_stub', 'NumReturns', 'NUMDEP', 'AGIncome', 'TotIncome',\n",
       "       'SalariesWages', 'NumUnemply', 'TotTaxes'],\n",
       "      dtype='object')"
      ]
     },
     "execution_count": 46,
     "metadata": {},
     "output_type": "execute_result"
    }
   ],
   "source": [
    "ZRI_IRS.columns"
   ]
  },
  {
   "cell_type": "code",
   "execution_count": 35,
   "metadata": {},
   "outputs": [],
   "source": [
    "ZRI_IRS1119 = ZRI_IRS[ZRI_IRS.Year > 2010]"
   ]
  },
  {
   "cell_type": "code",
   "execution_count": 47,
   "metadata": {},
   "outputs": [
    {
     "data": {
      "text/plain": [
       "(140030, 21)"
      ]
     },
     "execution_count": 47,
     "metadata": {},
     "output_type": "execute_result"
    }
   ],
   "source": [
    "ZRI_IRS.shape"
   ]
  },
  {
   "cell_type": "code",
   "execution_count": 48,
   "metadata": {},
   "outputs": [],
   "source": [
    "ZRI_IRS1119 = ZRI_IRS1119.drop_duplicates()"
   ]
  },
  {
   "cell_type": "code",
   "execution_count": 49,
   "metadata": {},
   "outputs": [
    {
     "data": {
      "text/plain": [
       "(140030, 21)"
      ]
     },
     "execution_count": 49,
     "metadata": {},
     "output_type": "execute_result"
    }
   ],
   "source": [
    "ZRI_IRS.shape"
   ]
  },
  {
   "cell_type": "code",
   "execution_count": 59,
   "metadata": {},
   "outputs": [],
   "source": [
    "#merge laborforce\n",
    "#ZRI_IRS_LF = pd.merge(ZRI_IRS1119,laborforce,left_on=['CountyName', 'Year'], right_on=['COUNTYNAME', 'Year'],how='left')\n",
    "ZRI_IRS_LF = pd.merge(ZRI_IRS1119,laborforce,left_on=['RegionName', 'Year'], right_on=['ZIP', 'Year'],how='left')\n"
   ]
  },
  {
   "cell_type": "code",
   "execution_count": 60,
   "metadata": {},
   "outputs": [
    {
     "data": {
      "text/plain": [
       "(153179, 27)"
      ]
     },
     "execution_count": 60,
     "metadata": {},
     "output_type": "execute_result"
    }
   ],
   "source": [
    "ZRI_IRS_LF.shape"
   ]
  },
  {
   "cell_type": "code",
   "execution_count": 61,
   "metadata": {},
   "outputs": [],
   "source": [
    "ZRI_IRS_LF = ZRI_IRS_LF.drop_duplicates()"
   ]
  },
  {
   "cell_type": "code",
   "execution_count": 62,
   "metadata": {},
   "outputs": [
    {
     "data": {
      "text/plain": [
       "(153179, 27)"
      ]
     },
     "execution_count": 62,
     "metadata": {},
     "output_type": "execute_result"
    }
   ],
   "source": [
    "ZRI_IRS_LF.shape"
   ]
  },
  {
   "cell_type": "code",
   "execution_count": 63,
   "metadata": {},
   "outputs": [
    {
     "data": {
      "text/plain": [
       "Index(['RegionName', 'City', 'State', 'Metro', 'CountyName', 'SizeRank',\n",
       "       'variable', 'value', 'LogValue', 'Month', 'Year', 'Season', 'zipcode',\n",
       "       'agi_stub', 'NumReturns', 'NUMDEP', 'AGIncome', 'TotIncome',\n",
       "       'SalariesWages', 'NumUnemply', 'TotTaxes', 'Labor\\nForce', 'Employed',\n",
       "       'Unemployed', 'Unemploy-\\nment Rate\\n(%)', 'STCOUNTYFP', 'ZIP'],\n",
       "      dtype='object')"
      ]
     },
     "execution_count": 63,
     "metadata": {},
     "output_type": "execute_result"
    }
   ],
   "source": [
    "ZRI_IRS_LF.columns"
   ]
  },
  {
   "cell_type": "code",
   "execution_count": 64,
   "metadata": {},
   "outputs": [
    {
     "data": {
      "text/html": [
       "<div>\n",
       "<style scoped>\n",
       "    .dataframe tbody tr th:only-of-type {\n",
       "        vertical-align: middle;\n",
       "    }\n",
       "\n",
       "    .dataframe tbody tr th {\n",
       "        vertical-align: top;\n",
       "    }\n",
       "\n",
       "    .dataframe thead th {\n",
       "        text-align: right;\n",
       "    }\n",
       "</style>\n",
       "<table border=\"1\" class=\"dataframe\">\n",
       "  <thead>\n",
       "    <tr style=\"text-align: right;\">\n",
       "      <th></th>\n",
       "      <th>ZIPCODE</th>\n",
       "      <th>City</th>\n",
       "      <th>State</th>\n",
       "      <th>Metro</th>\n",
       "      <th>CountyName</th>\n",
       "      <th>SizeRank</th>\n",
       "      <th>Year-Month</th>\n",
       "      <th>value</th>\n",
       "      <th>LogValue</th>\n",
       "      <th>Month</th>\n",
       "      <th>Year</th>\n",
       "      <th>Season</th>\n",
       "      <th>zipcode</th>\n",
       "      <th>agi_stub</th>\n",
       "      <th>NumReturns</th>\n",
       "      <th>NUMDEP</th>\n",
       "      <th>AGIncome</th>\n",
       "      <th>TotIncome</th>\n",
       "      <th>SalariesWages</th>\n",
       "      <th>NumUnemply</th>\n",
       "      <th>TotTaxes</th>\n",
       "      <th>Labor\\nForce</th>\n",
       "      <th>Employed</th>\n",
       "      <th>Unemployed</th>\n",
       "      <th>Unemploy-\\nment Rate\\n(%)</th>\n",
       "      <th>FIPSCode</th>\n",
       "      <th>ZIP</th>\n",
       "    </tr>\n",
       "  </thead>\n",
       "  <tbody>\n",
       "    <tr>\n",
       "      <th>0</th>\n",
       "      <td>10025</td>\n",
       "      <td>New York</td>\n",
       "      <td>NY</td>\n",
       "      <td>New York-Newark-Jersey City</td>\n",
       "      <td>New York County</td>\n",
       "      <td>1</td>\n",
       "      <td>2011-01-01</td>\n",
       "      <td>2866.0</td>\n",
       "      <td>7.960673</td>\n",
       "      <td>1</td>\n",
       "      <td>2011</td>\n",
       "      <td>winter</td>\n",
       "      <td>10025</td>\n",
       "      <td>3.5</td>\n",
       "      <td>7937.333333</td>\n",
       "      <td>3118.5</td>\n",
       "      <td>945739.0</td>\n",
       "      <td>713181.5</td>\n",
       "      <td>637704.666667</td>\n",
       "      <td>641.333333</td>\n",
       "      <td>102373.333333</td>\n",
       "      <td>882,224</td>\n",
       "      <td>813,275</td>\n",
       "      <td>68,949</td>\n",
       "      <td>7.8</td>\n",
       "      <td>36061</td>\n",
       "      <td>10025</td>\n",
       "    </tr>\n",
       "  </tbody>\n",
       "</table>\n",
       "</div>"
      ],
      "text/plain": [
       "  ZIPCODE      City State                        Metro       CountyName  \\\n",
       "0   10025  New York    NY  New York-Newark-Jersey City  New York County   \n",
       "\n",
       "   SizeRank Year-Month   value  LogValue  Month  Year  Season zipcode  \\\n",
       "0         1 2011-01-01  2866.0  7.960673      1  2011  winter   10025   \n",
       "\n",
       "   agi_stub   NumReturns  NUMDEP  AGIncome  TotIncome  SalariesWages  \\\n",
       "0       3.5  7937.333333  3118.5  945739.0   713181.5  637704.666667   \n",
       "\n",
       "   NumUnemply       TotTaxes  Labor\\nForce      Employed   Unemployed  \\\n",
       "0  641.333333  102373.333333  882,224       813,275       68,949        \n",
       "\n",
       "   Unemploy-\\nment Rate\\n(%) FIPSCode    ZIP  \n",
       "0                        7.8    36061  10025  "
      ]
     },
     "execution_count": 64,
     "metadata": {},
     "output_type": "execute_result"
    }
   ],
   "source": [
    "ZRI_IRS_LF.rename(columns={\"RegionName\": \"ZIPCODE\", \"STCOUNTYFP\": \"FIPSCode\", \"variable\": \"Year-Month\"}, inplace=True)\n",
    "ZRI_IRS_LF.head(1)"
   ]
  },
  {
   "cell_type": "code",
   "execution_count": 65,
   "metadata": {},
   "outputs": [],
   "source": [
    "#merge mortgage with ZIP et al. \n",
    "ZRI_IRS_LF_MD = pd.merge(ZRI_IRS_LF, MortDeliq, on=['State', 'CountyName', 'FIPSCode', 'Year-Month'], how='left')\n"
   ]
  },
  {
   "cell_type": "code",
   "execution_count": 66,
   "metadata": {},
   "outputs": [],
   "source": [
    "ZRI_IRS_LF_MD = ZRI_IRS_LF_MD.drop_duplicates()"
   ]
  },
  {
   "cell_type": "code",
   "execution_count": 92,
   "metadata": {},
   "outputs": [
    {
     "ename": "KeyError",
     "evalue": "\"['LogValue'] not in index\"",
     "output_type": "error",
     "traceback": [
      "\u001b[0;31m---------------------------------------------------------------------------\u001b[0m",
      "\u001b[0;31mKeyError\u001b[0m                                  Traceback (most recent call last)",
      "\u001b[0;32m<ipython-input-92-576782996993>\u001b[0m in \u001b[0;36m<module>\u001b[0;34m\u001b[0m\n\u001b[1;32m      2\u001b[0m               \u001b[0;34m'Year-Month'\u001b[0m\u001b[0;34m,\u001b[0m \u001b[0;34m'value'\u001b[0m\u001b[0;34m,\u001b[0m \u001b[0;34m'Month'\u001b[0m\u001b[0;34m,\u001b[0m \u001b[0;34m'Year'\u001b[0m\u001b[0;34m,\u001b[0m \u001b[0;34m'Season'\u001b[0m\u001b[0;34m,\u001b[0m \u001b[0;34m'AGIncome'\u001b[0m\u001b[0;34m,\u001b[0m \u001b[0;34m'TotIncome'\u001b[0m\u001b[0;34m,\u001b[0m \u001b[0;34m'LogValue'\u001b[0m\u001b[0;34m,\u001b[0m\u001b[0;31m \u001b[0m\u001b[0;31m\\\u001b[0m\u001b[0;34m\u001b[0m\u001b[0;34m\u001b[0m\u001b[0m\n\u001b[1;32m      3\u001b[0m               \u001b[0;34m'SalariesWages'\u001b[0m\u001b[0;34m,\u001b[0m\u001b[0;34m'NumUnemply'\u001b[0m\u001b[0;34m,\u001b[0m \u001b[0;34m'TotTaxes'\u001b[0m\u001b[0;34m,\u001b[0m \u001b[0;34m'FIPSCode'\u001b[0m\u001b[0;34m,\u001b[0m\u001b[0;34m'Labor\\nForce'\u001b[0m\u001b[0;34m,\u001b[0m\u001b[0;31m \u001b[0m\u001b[0;31m\\\u001b[0m\u001b[0;34m\u001b[0m\u001b[0;34m\u001b[0m\u001b[0m\n\u001b[0;32m----> 4\u001b[0;31m               'Employed', 'Unemployed', 'Unemploy-\\nment Rate\\n(%)', 'MortDeliq30-89', 'MortDeliq90']]\n\u001b[0m",
      "\u001b[0;32m~/opt/anaconda3/lib/python3.7/site-packages/pandas/core/frame.py\u001b[0m in \u001b[0;36m__getitem__\u001b[0;34m(self, key)\u001b[0m\n\u001b[1;32m   2804\u001b[0m             \u001b[0;32mif\u001b[0m \u001b[0mis_iterator\u001b[0m\u001b[0;34m(\u001b[0m\u001b[0mkey\u001b[0m\u001b[0;34m)\u001b[0m\u001b[0;34m:\u001b[0m\u001b[0;34m\u001b[0m\u001b[0;34m\u001b[0m\u001b[0m\n\u001b[1;32m   2805\u001b[0m                 \u001b[0mkey\u001b[0m \u001b[0;34m=\u001b[0m \u001b[0mlist\u001b[0m\u001b[0;34m(\u001b[0m\u001b[0mkey\u001b[0m\u001b[0;34m)\u001b[0m\u001b[0;34m\u001b[0m\u001b[0;34m\u001b[0m\u001b[0m\n\u001b[0;32m-> 2806\u001b[0;31m             \u001b[0mindexer\u001b[0m \u001b[0;34m=\u001b[0m \u001b[0mself\u001b[0m\u001b[0;34m.\u001b[0m\u001b[0mloc\u001b[0m\u001b[0;34m.\u001b[0m\u001b[0m_get_listlike_indexer\u001b[0m\u001b[0;34m(\u001b[0m\u001b[0mkey\u001b[0m\u001b[0;34m,\u001b[0m \u001b[0maxis\u001b[0m\u001b[0;34m=\u001b[0m\u001b[0;36m1\u001b[0m\u001b[0;34m,\u001b[0m \u001b[0mraise_missing\u001b[0m\u001b[0;34m=\u001b[0m\u001b[0;32mTrue\u001b[0m\u001b[0;34m)\u001b[0m\u001b[0;34m[\u001b[0m\u001b[0;36m1\u001b[0m\u001b[0;34m]\u001b[0m\u001b[0;34m\u001b[0m\u001b[0;34m\u001b[0m\u001b[0m\n\u001b[0m\u001b[1;32m   2807\u001b[0m \u001b[0;34m\u001b[0m\u001b[0m\n\u001b[1;32m   2808\u001b[0m         \u001b[0;31m# take() does not accept boolean indexers\u001b[0m\u001b[0;34m\u001b[0m\u001b[0;34m\u001b[0m\u001b[0;34m\u001b[0m\u001b[0m\n",
      "\u001b[0;32m~/opt/anaconda3/lib/python3.7/site-packages/pandas/core/indexing.py\u001b[0m in \u001b[0;36m_get_listlike_indexer\u001b[0;34m(self, key, axis, raise_missing)\u001b[0m\n\u001b[1;32m   1550\u001b[0m \u001b[0;34m\u001b[0m\u001b[0m\n\u001b[1;32m   1551\u001b[0m         self._validate_read_indexer(\n\u001b[0;32m-> 1552\u001b[0;31m             \u001b[0mkeyarr\u001b[0m\u001b[0;34m,\u001b[0m \u001b[0mindexer\u001b[0m\u001b[0;34m,\u001b[0m \u001b[0mo\u001b[0m\u001b[0;34m.\u001b[0m\u001b[0m_get_axis_number\u001b[0m\u001b[0;34m(\u001b[0m\u001b[0maxis\u001b[0m\u001b[0;34m)\u001b[0m\u001b[0;34m,\u001b[0m \u001b[0mraise_missing\u001b[0m\u001b[0;34m=\u001b[0m\u001b[0mraise_missing\u001b[0m\u001b[0;34m\u001b[0m\u001b[0;34m\u001b[0m\u001b[0m\n\u001b[0m\u001b[1;32m   1553\u001b[0m         )\n\u001b[1;32m   1554\u001b[0m         \u001b[0;32mreturn\u001b[0m \u001b[0mkeyarr\u001b[0m\u001b[0;34m,\u001b[0m \u001b[0mindexer\u001b[0m\u001b[0;34m\u001b[0m\u001b[0;34m\u001b[0m\u001b[0m\n",
      "\u001b[0;32m~/opt/anaconda3/lib/python3.7/site-packages/pandas/core/indexing.py\u001b[0m in \u001b[0;36m_validate_read_indexer\u001b[0;34m(self, key, indexer, axis, raise_missing)\u001b[0m\n\u001b[1;32m   1643\u001b[0m             \u001b[0;32mif\u001b[0m \u001b[0;32mnot\u001b[0m \u001b[0;34m(\u001b[0m\u001b[0mself\u001b[0m\u001b[0;34m.\u001b[0m\u001b[0mname\u001b[0m \u001b[0;34m==\u001b[0m \u001b[0;34m\"loc\"\u001b[0m \u001b[0;32mand\u001b[0m \u001b[0;32mnot\u001b[0m \u001b[0mraise_missing\u001b[0m\u001b[0;34m)\u001b[0m\u001b[0;34m:\u001b[0m\u001b[0;34m\u001b[0m\u001b[0;34m\u001b[0m\u001b[0m\n\u001b[1;32m   1644\u001b[0m                 \u001b[0mnot_found\u001b[0m \u001b[0;34m=\u001b[0m \u001b[0mlist\u001b[0m\u001b[0;34m(\u001b[0m\u001b[0mset\u001b[0m\u001b[0;34m(\u001b[0m\u001b[0mkey\u001b[0m\u001b[0;34m)\u001b[0m \u001b[0;34m-\u001b[0m \u001b[0mset\u001b[0m\u001b[0;34m(\u001b[0m\u001b[0max\u001b[0m\u001b[0;34m)\u001b[0m\u001b[0;34m)\u001b[0m\u001b[0;34m\u001b[0m\u001b[0;34m\u001b[0m\u001b[0m\n\u001b[0;32m-> 1645\u001b[0;31m                 \u001b[0;32mraise\u001b[0m \u001b[0mKeyError\u001b[0m\u001b[0;34m(\u001b[0m\u001b[0;34mf\"{not_found} not in index\"\u001b[0m\u001b[0;34m)\u001b[0m\u001b[0;34m\u001b[0m\u001b[0;34m\u001b[0m\u001b[0m\n\u001b[0m\u001b[1;32m   1646\u001b[0m \u001b[0;34m\u001b[0m\u001b[0m\n\u001b[1;32m   1647\u001b[0m             \u001b[0;31m# we skip the warning on Categorical/Interval\u001b[0m\u001b[0;34m\u001b[0m\u001b[0;34m\u001b[0m\u001b[0;34m\u001b[0m\u001b[0m\n",
      "\u001b[0;31mKeyError\u001b[0m: \"['LogValue'] not in index\""
     ]
    }
   ],
   "source": [
    "ZRI_IRS_LF_MD = ZRI_IRS_LF_MD[['ZIPCODE', 'City', 'State', 'Metro', 'CountyName', 'SizeRank',\\\n",
    "              'Year-Month', 'value', 'Month', 'Year', 'Season', 'AGIncome', 'TotIncome', 'LogValue', \\\n",
    "              'SalariesWages','NumUnemply', 'TotTaxes', 'FIPSCode','Labor\\nForce', \\\n",
    "              'Employed', 'Unemployed', 'Unemploy-\\nment Rate\\n(%)', 'MortDeliq30-89', 'MortDeliq90']]\n"
   ]
  },
  {
   "cell_type": "code",
   "execution_count": 70,
   "metadata": {},
   "outputs": [
    {
     "data": {
      "text/plain": [
       "(153179, 23)"
      ]
     },
     "execution_count": 70,
     "metadata": {},
     "output_type": "execute_result"
    }
   ],
   "source": [
    "ZRI_IRS_LF_MD.shape"
   ]
  },
  {
   "cell_type": "code",
   "execution_count": 69,
   "metadata": {},
   "outputs": [],
   "source": [
    "ZRI_IRS_LF_MD.to_pickle('./data/ZRI_IRS_LF_MD.pkl')"
   ]
  },
  {
   "cell_type": "code",
   "execution_count": 88,
   "metadata": {},
   "outputs": [
    {
     "data": {
      "text/plain": [
       "Index(['ZIPCODE', 'City', 'State', 'Metro', 'CountyName', 'SizeRank',\n",
       "       'Year-Month', 'value', 'Month', 'Year', 'Season', 'AGIncome',\n",
       "       'TotIncome', 'SalariesWages', 'NumUnemply', 'TotTaxes', 'FIPSCode',\n",
       "       'Labor\\nForce', 'Employed', 'Unemployed', 'Unemploy-\\nment Rate\\n(%)',\n",
       "       'MortDeliq30-89', 'MortDeliq90'],\n",
       "      dtype='object')"
      ]
     },
     "execution_count": 88,
     "metadata": {},
     "output_type": "execute_result"
    }
   ],
   "source": [
    "ZRI_IRS_LF_MD.columns"
   ]
  },
  {
   "cell_type": "code",
   "execution_count": 87,
   "metadata": {},
   "outputs": [
    {
     "name": "stdout",
     "output_type": "stream",
     "text": [
      "                           SizeRank     value     Month      Year  AGIncome  \\\n",
      "SizeRank                   1.000000 -0.024490 -0.000208  0.013637 -0.428426   \n",
      "value                     -0.024490  1.000000  0.020281  0.167296  0.499477   \n",
      "Month                     -0.000208  0.020281  1.000000 -0.030653  0.000131   \n",
      "Year                       0.013637  0.167296 -0.030653  1.000000  0.112541   \n",
      "AGIncome                  -0.428426  0.499477  0.000131  0.112541  1.000000   \n",
      "TotIncome                 -0.412197  0.502047  0.000257  0.191803  0.990826   \n",
      "SalariesWages             -0.563622  0.490081  0.000576  0.129462  0.921840   \n",
      "NumUnemply                -0.422392  0.042677 -0.000378 -0.501435  0.035549   \n",
      "TotTaxes                  -0.221526  0.500588 -0.002552 -0.066959  0.802903   \n",
      "Unemploy-\\nment Rate\\n(%) -0.047384 -0.099178 -0.003477 -0.782204 -0.148974   \n",
      "MortDeliq30-89            -0.023017 -0.454599 -0.006842 -0.445923 -0.281062   \n",
      "MortDeliq90               -0.037048 -0.145700 -0.073666 -0.697626 -0.172038   \n",
      "\n",
      "                           TotIncome  SalariesWages  NumUnemply  TotTaxes  \\\n",
      "SizeRank                   -0.412197      -0.563622   -0.422392 -0.221526   \n",
      "value                       0.502047       0.490081    0.042677  0.500588   \n",
      "Month                       0.000257       0.000576   -0.000378 -0.002552   \n",
      "Year                        0.191803       0.129462   -0.501435 -0.066959   \n",
      "AGIncome                    0.990826       0.921840    0.035549  0.802903   \n",
      "TotIncome                   1.000000       0.915093   -0.030277  0.782843   \n",
      "SalariesWages               0.915093       1.000000    0.141265  0.693222   \n",
      "NumUnemply                 -0.030277       0.141265    1.000000  0.058733   \n",
      "TotTaxes                    0.782843       0.693222    0.058733  1.000000   \n",
      "Unemploy-\\nment Rate\\n(%)  -0.218781      -0.165765    0.612697  0.010542   \n",
      "MortDeliq30-89             -0.318566      -0.293937    0.235801 -0.232832   \n",
      "MortDeliq90                -0.234182      -0.180297    0.451279 -0.076971   \n",
      "\n",
      "                           Unemploy-\\nment Rate\\n(%)  MortDeliq30-89  \\\n",
      "SizeRank                                   -0.047384       -0.023017   \n",
      "value                                      -0.099178       -0.454599   \n",
      "Month                                      -0.003477       -0.006842   \n",
      "Year                                       -0.782204       -0.445923   \n",
      "AGIncome                                   -0.148974       -0.281062   \n",
      "TotIncome                                  -0.218781       -0.318566   \n",
      "SalariesWages                              -0.165765       -0.293937   \n",
      "NumUnemply                                  0.612697        0.235801   \n",
      "TotTaxes                                    0.010542       -0.232832   \n",
      "Unemploy-\\nment Rate\\n(%)                   1.000000        0.556012   \n",
      "MortDeliq30-89                              0.556012        1.000000   \n",
      "MortDeliq90                                 0.743265        0.626770   \n",
      "\n",
      "                           MortDeliq90  \n",
      "SizeRank                     -0.037048  \n",
      "value                        -0.145700  \n",
      "Month                        -0.073666  \n",
      "Year                         -0.697626  \n",
      "AGIncome                     -0.172038  \n",
      "TotIncome                    -0.234182  \n",
      "SalariesWages                -0.180297  \n",
      "NumUnemply                    0.451279  \n",
      "TotTaxes                     -0.076971  \n",
      "Unemploy-\\nment Rate\\n(%)     0.743265  \n",
      "MortDeliq30-89                0.626770  \n",
      "MortDeliq90                   1.000000  \n"
     ]
    },
    {
     "data": {
      "image/png": "[encoded data removed]",
      "text/plain": [
       "<Figure size 432x288 with 2 Axes>"
      ]
     },
     "metadata": {
      "needs_background": "light"
     },
     "output_type": "display_data"
    },
    {
     "name": "stdout",
     "output_type": "stream",
     "text": [
      "value        1.000000\n",
      "TotIncome    0.502047\n",
      "TotTaxes     0.500588\n",
      "Name: value, dtype: float64\n"
     ]
    }
   ],
   "source": [
    "# Create correlation matrix and print it\n",
    "cor = ZRI_IRS_LF_MD.corr()\n",
    "print(cor)\n",
    "\n",
    "# Correlation matrix heatmap\n",
    "plt.figure()\n",
    "sns.heatmap(cor, annot=True, cmap=plt.cm.Reds)\n",
    "plt.show()\n",
    "\n",
    "# Correlation with output variable\n",
    "cor_target = abs(cor[\"value\"])\n",
    "\n",
    "# Selecting highly correlated features\n",
    "best_features = cor_target[cor_target > .5]\n",
    "print(best_features)"
   ]
  },
  {
   "cell_type": "code",
   "execution_count": 127,
   "metadata": {},
   "outputs": [],
   "source": [
    "Testing1 = ZRI_IRS_LF_MD.copy()"
   ]
  },
  {
   "cell_type": "code",
   "execution_count": 128,
   "metadata": {},
   "outputs": [],
   "source": [
    "Testing1 = Testing1.drop(columns =['ZIPCODE', 'City', 'State', 'Metro', 'CountyName', 'SizeRank'])"
   ]
  },
  {
   "cell_type": "code",
   "execution_count": 129,
   "metadata": {},
   "outputs": [],
   "source": [
    "Testing1 = Testing1.drop(columns =['Year-Month'])"
   ]
  },
  {
   "cell_type": "code",
   "execution_count": 130,
   "metadata": {},
   "outputs": [],
   "source": [
    "Testing1 = Testing1.drop(columns =['FIPSCode'])"
   ]
  },
  {
   "cell_type": "code",
   "execution_count": 131,
   "metadata": {},
   "outputs": [],
   "source": [
    "Testing1.Season = Testing1.Season.replace({'fall':1,'winter':2, 'summer':3, 'spring':4})"
   ]
  },
  {
   "cell_type": "code",
   "execution_count": 132,
   "metadata": {},
   "outputs": [
    {
     "data": {
      "text/plain": [
       "Index(['value', 'Month', 'Year', 'Season', 'AGIncome', 'TotIncome',\n",
       "       'SalariesWages', 'NumUnemply', 'TotTaxes', 'Labor\\nForce', 'Employed',\n",
       "       'Unemployed', 'Unemploy-\\nment Rate\\n(%)', 'MortDeliq30-89',\n",
       "       'MortDeliq90'],\n",
       "      dtype='object')"
      ]
     },
     "execution_count": 132,
     "metadata": {},
     "output_type": "execute_result"
    }
   ],
   "source": [
    "Testing1.columns"
   ]
  },
  {
   "cell_type": "code",
   "execution_count": 133,
   "metadata": {},
   "outputs": [],
   "source": []
  },
  {
   "cell_type": "code",
   "execution_count": 134,
   "metadata": {},
   "outputs": [],
   "source": [
    "Testing1['Labor\\nForce'] = Testing1['Labor\\nForce'].str.replace(',','')\n",
    "Testing1['Employed'] = Testing1['Employed'].str.replace(',','')\n",
    "Testing1['Unemployed'] = Testing1['Unemployed'].str.replace(',','')"
   ]
  },
  {
   "cell_type": "code",
   "execution_count": 135,
   "metadata": {},
   "outputs": [],
   "source": [
    "Testing1 = Testing1.apply(pd.to_numeric)"
   ]
  },
  {
   "cell_type": "code",
   "execution_count": 136,
   "metadata": {},
   "outputs": [
    {
     "data": {
      "text/html": [
       "<div>\n",
       "<style scoped>\n",
       "    .dataframe tbody tr th:only-of-type {\n",
       "        vertical-align: middle;\n",
       "    }\n",
       "\n",
       "    .dataframe tbody tr th {\n",
       "        vertical-align: top;\n",
       "    }\n",
       "\n",
       "    .dataframe thead th {\n",
       "        text-align: right;\n",
       "    }\n",
       "</style>\n",
       "<table border=\"1\" class=\"dataframe\">\n",
       "  <thead>\n",
       "    <tr style=\"text-align: right;\">\n",
       "      <th></th>\n",
       "      <th>value</th>\n",
       "      <th>Month</th>\n",
       "      <th>Year</th>\n",
       "      <th>Season</th>\n",
       "      <th>AGIncome</th>\n",
       "      <th>TotIncome</th>\n",
       "      <th>SalariesWages</th>\n",
       "      <th>NumUnemply</th>\n",
       "      <th>TotTaxes</th>\n",
       "      <th>Labor\\nForce</th>\n",
       "      <th>Employed</th>\n",
       "      <th>Unemployed</th>\n",
       "      <th>Unemploy-\\nment Rate\\n(%)</th>\n",
       "      <th>MortDeliq30-89</th>\n",
       "      <th>MortDeliq90</th>\n",
       "    </tr>\n",
       "  </thead>\n",
       "  <tbody>\n",
       "    <tr>\n",
       "      <th>0</th>\n",
       "      <td>2866.0</td>\n",
       "      <td>1</td>\n",
       "      <td>2011</td>\n",
       "      <td>2</td>\n",
       "      <td>9.457390e+05</td>\n",
       "      <td>7.131815e+05</td>\n",
       "      <td>637704.666667</td>\n",
       "      <td>641.333333</td>\n",
       "      <td>102373.333333</td>\n",
       "      <td>882224.0</td>\n",
       "      <td>813275.0</td>\n",
       "      <td>68949.0</td>\n",
       "      <td>7.8</td>\n",
       "      <td>1.4</td>\n",
       "      <td>2.4</td>\n",
       "    </tr>\n",
       "    <tr>\n",
       "      <th>1</th>\n",
       "      <td>1467.0</td>\n",
       "      <td>1</td>\n",
       "      <td>2011</td>\n",
       "      <td>2</td>\n",
       "      <td>6.397498e+05</td>\n",
       "      <td>5.074753e+05</td>\n",
       "      <td>492360.333333</td>\n",
       "      <td>340.500000</td>\n",
       "      <td>34583.666667</td>\n",
       "      <td>2636432.0</td>\n",
       "      <td>2360932.0</td>\n",
       "      <td>275500.0</td>\n",
       "      <td>10.4</td>\n",
       "      <td>3.8</td>\n",
       "      <td>6.1</td>\n",
       "    </tr>\n",
       "    <tr>\n",
       "      <th>2</th>\n",
       "      <td>2736.0</td>\n",
       "      <td>1</td>\n",
       "      <td>2011</td>\n",
       "      <td>2</td>\n",
       "      <td>1.543689e+06</td>\n",
       "      <td>1.212594e+06</td>\n",
       "      <td>867954.166667</td>\n",
       "      <td>387.833333</td>\n",
       "      <td>202302.666667</td>\n",
       "      <td>882224.0</td>\n",
       "      <td>813275.0</td>\n",
       "      <td>68949.0</td>\n",
       "      <td>7.8</td>\n",
       "      <td>1.4</td>\n",
       "      <td>2.4</td>\n",
       "    </tr>\n",
       "    <tr>\n",
       "      <th>3</th>\n",
       "      <td>1512.0</td>\n",
       "      <td>1</td>\n",
       "      <td>2011</td>\n",
       "      <td>2</td>\n",
       "      <td>9.851315e+05</td>\n",
       "      <td>8.054132e+05</td>\n",
       "      <td>599603.166667</td>\n",
       "      <td>284.333333</td>\n",
       "      <td>59246.166667</td>\n",
       "      <td>2636432.0</td>\n",
       "      <td>2360932.0</td>\n",
       "      <td>275500.0</td>\n",
       "      <td>10.4</td>\n",
       "      <td>3.8</td>\n",
       "      <td>6.1</td>\n",
       "    </tr>\n",
       "    <tr>\n",
       "      <th>4</th>\n",
       "      <td>952.0</td>\n",
       "      <td>1</td>\n",
       "      <td>2011</td>\n",
       "      <td>2</td>\n",
       "      <td>3.257645e+05</td>\n",
       "      <td>1.890520e+05</td>\n",
       "      <td>266140.500000</td>\n",
       "      <td>568.166683</td>\n",
       "      <td>8512.333333</td>\n",
       "      <td>346748.0</td>\n",
       "      <td>313903.0</td>\n",
       "      <td>32845.0</td>\n",
       "      <td>9.5</td>\n",
       "      <td>5.6</td>\n",
       "      <td>3.3</td>\n",
       "    </tr>\n",
       "  </tbody>\n",
       "</table>\n",
       "</div>"
      ],
      "text/plain": [
       "    value  Month  Year  Season      AGIncome     TotIncome  SalariesWages  \\\n",
       "0  2866.0      1  2011       2  9.457390e+05  7.131815e+05  637704.666667   \n",
       "1  1467.0      1  2011       2  6.397498e+05  5.074753e+05  492360.333333   \n",
       "2  2736.0      1  2011       2  1.543689e+06  1.212594e+06  867954.166667   \n",
       "3  1512.0      1  2011       2  9.851315e+05  8.054132e+05  599603.166667   \n",
       "4   952.0      1  2011       2  3.257645e+05  1.890520e+05  266140.500000   \n",
       "\n",
       "   NumUnemply       TotTaxes  Labor\\nForce   Employed  Unemployed  \\\n",
       "0  641.333333  102373.333333      882224.0   813275.0     68949.0   \n",
       "1  340.500000   34583.666667     2636432.0  2360932.0    275500.0   \n",
       "2  387.833333  202302.666667      882224.0   813275.0     68949.0   \n",
       "3  284.333333   59246.166667     2636432.0  2360932.0    275500.0   \n",
       "4  568.166683    8512.333333      346748.0   313903.0     32845.0   \n",
       "\n",
       "   Unemploy-\\nment Rate\\n(%)  MortDeliq30-89  MortDeliq90  \n",
       "0                        7.8             1.4          2.4  \n",
       "1                       10.4             3.8          6.1  \n",
       "2                        7.8             1.4          2.4  \n",
       "3                       10.4             3.8          6.1  \n",
       "4                        9.5             5.6          3.3  "
      ]
     },
     "execution_count": 136,
     "metadata": {},
     "output_type": "execute_result"
    }
   ],
   "source": [
    "Testing1.head()"
   ]
  },
  {
   "cell_type": "code",
   "execution_count": 138,
   "metadata": {},
   "outputs": [],
   "source": [
    "Testing1 = Testing1.dropna(subset=['value'])"
   ]
  },
  {
   "cell_type": "code",
   "execution_count": null,
   "metadata": {},
   "outputs": [],
   "source": []
  },
  {
   "cell_type": "code",
   "execution_count": 137,
   "metadata": {},
   "outputs": [],
   "source": [
    "X = Testing1.drop(columns =[\"value\"]) \n",
    "y = Testing1.value\n"
   ]
  },
  {
   "cell_type": "code",
   "execution_count": 139,
   "metadata": {},
   "outputs": [],
   "source": [
    "X = X.replace(np.nan, 0)\n"
   ]
  },
  {
   "cell_type": "code",
   "execution_count": null,
   "metadata": {},
   "outputs": [],
   "source": [
    "# Import modules\n",
    "from sklearn.svm import SVR\n",
    "from sklearn.feature_selection import RFECV\n",
    "\n",
    "# Instantiate estimator and feature selector\n",
    "svr_mod = SVR(kernel=\"linear\")\n",
    "feat_selector = RFECV(svr_mod, cv=5)\n",
    "\n",
    "# Fit\n",
    "feat_selector = feat_selector.fit(X, y)\n",
    "\n",
    "# Print support and ranking\n",
    "print(feat_selector.support_)\n",
    "print(feat_selector.ranking_)\n",
    "print(X.columns)"
   ]
  },
  {
   "cell_type": "code",
   "execution_count": null,
   "metadata": {},
   "outputs": [],
   "source": [
    "# Import modules\n",
    "from sklearn.linear_model import LarsCV\n",
    "\n",
    "# Drop feature suggested not important in step 2\n",
    "X = X.drop('...', axis=1)\n",
    "\n",
    "# Instantiate\n",
    "lars_mod = LarsCV(cv=5, normalize=False)\n",
    "\n",
    "# Fit\n",
    "feat_selector = lars_mod.fit(X, y)\n",
    "\n",
    "# Print r-squared score and estimated alpha\n",
    "print(lars_mod.score(X, y))\n",
    "print(lars_mod.alpha_)"
   ]
  },
  {
   "cell_type": "code",
   "execution_count": null,
   "metadata": {},
   "outputs": [],
   "source": [
    "# look into features correlations \n"
   ]
  },
  {
   "cell_type": "code",
   "execution_count": null,
   "metadata": {},
   "outputs": [],
   "source": [
    "corr = pd.concat([X_train, y_train], axis=1).corr()\n",
    "corr"
   ]
  },
  {
   "cell_type": "code",
   "execution_count": null,
   "metadata": {},
   "outputs": [],
   "source": [
    "#removing outliers\n",
    "y_train18_2 = y_train18[y_train18.value < 6000]"
   ]
  },
  {
   "cell_type": "code",
   "execution_count": null,
   "metadata": {},
   "outputs": [],
   "source": [
    "pd.concat([X_train['SalariesWages'], y_train18_2['value']], axis=1).plot(kind='scatter', x='SalariesWages', y='value')\n"
   ]
  },
  {
   "cell_type": "code",
   "execution_count": null,
   "metadata": {},
   "outputs": [],
   "source": [
    "pd.concat([np.log10(X_train['SalariesWages']), np.log10(y_train18_2['value'])], axis=1).plot(kind='scatter', x='SalariesWages', y='value')\n"
   ]
  },
  {
   "cell_type": "code",
   "execution_count": null,
   "metadata": {},
   "outputs": [],
   "source": [
    "pd.concat([np.log10(X_train['TotTaxes']), np.log10(y_train18_2['value'])], axis=1).plot(kind='scatter', x='TotTaxes', y='value')\n"
   ]
  },
  {
   "cell_type": "code",
   "execution_count": null,
   "metadata": {},
   "outputs": [],
   "source": [
    "#MortDeliq30-89\n",
    "pd.concat([np.log10(X_train['MortDeliq30-89']), np.log10(y_train18_2['value'])], axis=1).plot(kind='scatter', x='MortDeliq30-89', y='value')\n"
   ]
  }
 ],
 "metadata": {
  "kernelspec": {
   "display_name": "Python 3",
   "language": "python",
   "name": "python3"
  },
  "language_info": {
   "codemirror_mode": {
    "name": "ipython",
    "version": 3
   },
   "file_extension": ".py",
   "mimetype": "text/x-python",
   "name": "python",
   "nbconvert_exporter": "python",
   "pygments_lexer": "ipython3",
   "version": "3.7.6"
  }
 },
 "nbformat": 4,
 "nbformat_minor": 4
}
