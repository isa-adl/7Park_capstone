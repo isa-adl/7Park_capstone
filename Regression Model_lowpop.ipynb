{
 "cells": [
  {
   "cell_type": "code",
   "execution_count": 1,
   "metadata": {},
   "outputs": [],
   "source": [
    "# import necessary packages\n",
    "import numpy as np\n",
    "import pandas as pd\n",
    "import matplotlib.pyplot as plt\n",
    "from math import exp\n",
    "\n",
    "# set display options\n",
    "pd.set_option('display.max_columns', None)"
   ]
  },
  {
   "cell_type": "code",
   "execution_count": 2,
   "metadata": {},
   "outputs": [],
   "source": [
    "zri = pd.read_csv('./data/low_pop.csv', index_col=0)"
   ]
  },
  {
   "cell_type": "code",
   "execution_count": 3,
   "metadata": {},
   "outputs": [
    {
     "data": {
      "text/plain": [
       "(65849, 46)"
      ]
     },
     "execution_count": 3,
     "metadata": {},
     "output_type": "execute_result"
    }
   ],
   "source": [
    "zri.shape"
   ]
  },
  {
   "cell_type": "code",
   "execution_count": 4,
   "metadata": {},
   "outputs": [],
   "source": [
    "zri['MortDeliq30-89'] = zri['MortDeliq30-89'].fillna(zri['MortDeliq30-89'].mean())\n",
    "zri['MortDeliq90'] = zri['MortDeliq90'].fillna(zri['MortDeliq90'].mean())\n",
    "zri['education'] = zri['high_school_diploma'] + zri['associates_degree'] * 2 + zri['bachelors_degree'] * 3 +zri['masters_degree']* 4"
   ]
  },
  {
   "cell_type": "code",
   "execution_count": 5,
   "metadata": {},
   "outputs": [],
   "source": [
    "# zri['withdegree'] = zri['bachelors_degree'] + zri['masters_degree']\n",
    "# zri['withdegree'] = zri.withdegree.fillna(0)\n",
    "# zri['hasdegree'] = np.where(zri['withdegree'] >0, 1, 0)\n",
    "# zri['hasdegree'].value_counts()"
   ]
  },
  {
   "cell_type": "code",
   "execution_count": 6,
   "metadata": {},
   "outputs": [],
   "source": [
    "zri['AGIncome'] = (zri['AGIncome']*1000)/zri['total_pop']\n",
    "zri['TotIncome'] = (zri['TotIncome']*1000)/zri['total_pop']\n",
    "zri['SalariesWages'] = (zri['SalariesWages']*1000)/zri['total_pop']\n",
    "zri['NumUnemply'] =(zri['NumUnemply']*1000)/zri['total_pop']\n",
    "zri['TotTaxes'] = (zri['TotTaxes']*1000)/zri['total_pop']"
   ]
  },
  {
   "cell_type": "code",
   "execution_count": 7,
   "metadata": {},
   "outputs": [],
   "source": [
    "#remove outliers\n",
    "#zri = zri[(zri.value < 3433.18)]\n",
    "# zri.income_per_capita = zri.income_per_capita.fillna(0)\n",
    "# zri.TotTaxes = zri.TotTaxes.fillna(0)\n",
    "# zri = zri[(zri.income_per_capita < 85180.28)]\n",
    "# zri = zri[(zri.TotTaxes < 2531.24)]\n",
    "zri.income_change = zri.income_change.fillna(0)\n"
   ]
  },
  {
   "cell_type": "code",
   "execution_count": 8,
   "metadata": {},
   "outputs": [
    {
     "name": "stderr",
     "output_type": "stream",
     "text": [
      "/Users/isa.adls/opt/anaconda3/lib/python3.7/site-packages/pandas/core/series.py:679: RuntimeWarning: divide by zero encountered in log\n",
      "  result = getattr(ufunc, method)(*inputs, **kwargs)\n"
     ]
    }
   ],
   "source": [
    "# #Log Transformation:\n",
    "zri['LogValue'] = np.log(zri.value)\n",
    "zri['LogTotTaxes'] = np.log(zri.TotTaxes)\n",
    "zri['Logincome_per_capita'] = np.log(zri.income_per_capita)\n",
    "\n",
    "# zri['LogTotIncome'] = np.log(zri.TotIncome)\n",
    "# zri['LogSalariesWages'] = np.log(zri.SalariesWages)\n",
    "# zri['Logmedian_age'] = np.log(zri.median_age)\n",
    "# zri['LogAGIncome'] = np.log(zri.AGIncome)\n",
    "# zri['Loggini_index'] = np.log(zri.gini_index)\n",
    "# zri['Logpopulation_change'] = np.log(zri.population_change)\n"
   ]
  },
  {
   "cell_type": "code",
   "execution_count": 9,
   "metadata": {},
   "outputs": [],
   "source": [
    "train = pd.merge(zri.loc[zri['Year']==2015].rename(columns = {'LogValue' : 'LogValue_2015'}),\n",
    "                 zri.loc[zri['Year']==2018][['ZIPCODE', 'Month','LogValue']],\n",
    "                 how = 'left', on = ['ZIPCODE', 'Month'])\n",
    "test = pd.merge(zri.loc[zri['Year']==2016].rename(columns = {'LogValue' : 'LogValue_2016'}),\n",
    "                zri.loc[zri['Year']==2019][['ZIPCODE', 'Month','LogValue']],\n",
    "                how = 'left', on = ['ZIPCODE', 'Month'])"
   ]
  },
  {
   "cell_type": "code",
   "execution_count": 10,
   "metadata": {},
   "outputs": [],
   "source": [
    "#drop columns to test\n",
    "\n",
    "dropped = ['SizeRank', 'City', 'State', 'Metro', 'CountyName',\\\n",
    "        'Month','Year','Labor\\nForce','Employed', 'Unemployed',\\\n",
    "        'Year-Month', 'FIPSCode', 'geo_id',\\\n",
    "        'value', 'year', 'TotTaxes', 'income_per_capita'] #'ZIPCODE'\n",
    "\n",
    "train.drop(columns = dropped, inplace=True)\n",
    "test.drop(columns = dropped, inplace=True)\n",
    "\n",
    "# print(test.columns)\n",
    "# train.columns"
   ]
  },
  {
   "cell_type": "code",
   "execution_count": 11,
   "metadata": {},
   "outputs": [
    {
     "data": {
      "text/plain": [
       "Index(['LogValue'], dtype='object')"
      ]
     },
     "execution_count": 11,
     "metadata": {},
     "output_type": "execute_result"
    }
   ],
   "source": [
    "train.columns[test.isnull().any()]"
   ]
  },
  {
   "cell_type": "code",
   "execution_count": 12,
   "metadata": {},
   "outputs": [],
   "source": [
    "train = train.dropna(subset=['LogValue'])"
   ]
  },
  {
   "cell_type": "code",
   "execution_count": 13,
   "metadata": {},
   "outputs": [],
   "source": [
    "X_train = train.drop(columns = ['LogValue'])\n",
    "y_train = train['LogValue']"
   ]
  },
  {
   "cell_type": "code",
   "execution_count": 14,
   "metadata": {},
   "outputs": [
    {
     "data": {
      "text/plain": [
       "Index(['LogValue'], dtype='object')"
      ]
     },
     "execution_count": 14,
     "metadata": {},
     "output_type": "execute_result"
    }
   ],
   "source": [
    "test.columns[test.isnull().any()]"
   ]
  },
  {
   "cell_type": "code",
   "execution_count": 15,
   "metadata": {},
   "outputs": [],
   "source": [
    "test = test.dropna(subset=['LogValue'])"
   ]
  },
  {
   "cell_type": "code",
   "execution_count": 16,
   "metadata": {},
   "outputs": [],
   "source": [
    "X_test = test.drop(columns = ['LogValue'])\n",
    "y_test = test['LogValue']"
   ]
  },
  {
   "cell_type": "code",
   "execution_count": 17,
   "metadata": {},
   "outputs": [
    {
     "name": "stdout",
     "output_type": "stream",
     "text": [
      "Index([], dtype='object')\n",
      "Index([], dtype='object')\n"
     ]
    }
   ],
   "source": [
    "#show columns with missing values\n",
    "print(X_train.columns[X_train.isnull().any()])\n",
    "print(X_test.columns[X_test.isnull().any()])"
   ]
  },
  {
   "cell_type": "code",
   "execution_count": 18,
   "metadata": {},
   "outputs": [
    {
     "data": {
      "text/plain": [
       "Index(['Unnamed: 0.1', 'ZIPCODE', 'total_pop', 'Season', 'AGIncome',\n",
       "       'TotIncome', 'SalariesWages', 'NumUnemply', 'Unemploy-\\nment Rate\\n(%)',\n",
       "       'MortDeliq30-89', 'MortDeliq90', 'median_age', 'white_pop', 'black_pop',\n",
       "       'asian_pop', 'hispanic_pop', 'gini_index',\n",
       "       'vacant_housing_units_for_rent', 'housing_units_renter_occupied',\n",
       "       'percent_income_spent_on_rent', 'high_school_diploma',\n",
       "       'associates_degree', 'bachelors_degree', 'masters_degree',\n",
       "       'rental_units_supply', 'population_change', 'income_change',\n",
       "       'supply_change', 'natural_amenity_rank', 'education', 'LogValue_2015',\n",
       "       'LogTotTaxes', 'Logincome_per_capita'],\n",
       "      dtype='object')"
      ]
     },
     "execution_count": 18,
     "metadata": {},
     "output_type": "execute_result"
    }
   ],
   "source": [
    "X_train.columns"
   ]
  },
  {
   "cell_type": "code",
   "execution_count": 19,
   "metadata": {},
   "outputs": [
    {
     "data": {
      "text/plain": [
       "(7715, 33)"
      ]
     },
     "execution_count": 19,
     "metadata": {},
     "output_type": "execute_result"
    }
   ],
   "source": [
    "X_train.shape"
   ]
  },
  {
   "cell_type": "code",
   "execution_count": 20,
   "metadata": {},
   "outputs": [],
   "source": [
    "#feature selection\n",
    "model_cols = ['LogValue_2015', 'Season', 'LogTotTaxes',\n",
    "       'MortDeliq90', 'gini_index',\n",
    "       'black_pop', 'asian_pop', 'white_pop',\n",
    "       'vacant_housing_units_for_rent', \n",
    "       'natural_amenity_rank']\n",
    "\n",
    "\n",
    "model_cols2 = ['LogValue_2016', 'Season', 'LogTotTaxes',\n",
    "       'MortDeliq90', 'gini_index',\n",
    "       'black_pop', 'asian_pop', 'white_pop',\n",
    "       'vacant_housing_units_for_rent', \n",
    "       'natural_amenity_rank']\n",
    "\n",
    "\n",
    "X_train = X_train[model_cols]\n",
    "\n",
    "X_test = X_test[model_cols2]\n"
   ]
  },
  {
   "cell_type": "markdown",
   "metadata": {},
   "source": [
    "## Model Generation"
   ]
  },
  {
   "cell_type": "code",
   "execution_count": 21,
   "metadata": {},
   "outputs": [],
   "source": [
    "from sklearn.linear_model import LinearRegression, Lasso\n",
    "from sklearn import model_selection"
   ]
  },
  {
   "cell_type": "code",
   "execution_count": 22,
   "metadata": {},
   "outputs": [
    {
     "name": "stdout",
     "output_type": "stream",
     "text": [
      "Train Score: 0.9649\n",
      "Test Score:  0.9604\n",
      "0.004460839646143078\n"
     ]
    }
   ],
   "source": [
    "lm = LinearRegression()\n",
    "\n",
    "lm.fit(X_train, y_train)\n",
    "\n",
    "print(\"Train Score: %.4f\" % lm.score(X_train, y_train))\n",
    "print(\"Test Score:  %.4f\" % lm.score(X_test, y_test))\n",
    "\n",
    "print(lm.score(X_train, y_train)- lm.score(X_test, y_test))\n",
    "\n"
   ]
  },
  {
   "cell_type": "code",
   "execution_count": 23,
   "metadata": {},
   "outputs": [
    {
     "data": {
      "text/plain": [
       "(0.6284591563285495,\n",
       " array([ 9.21934151e-01,  5.52788843e-03,  3.39994386e-03, -5.82041689e-04,\n",
       "        -1.10009975e-01, -3.67411530e-02,  4.60937551e-02, -3.71995087e-02,\n",
       "        -7.95633525e-02,  1.79388392e-02]))"
      ]
     },
     "execution_count": 23,
     "metadata": {},
     "output_type": "execute_result"
    }
   ],
   "source": [
    "lm.intercept_, lm.coef_"
   ]
  },
  {
   "cell_type": "code",
   "execution_count": 24,
   "metadata": {},
   "outputs": [
    {
     "data": {
      "text/plain": [
       "Index(['LogValue_2015', 'Season', 'LogTotTaxes', 'MortDeliq90', 'gini_index',\n",
       "       'black_pop', 'asian_pop', 'white_pop', 'vacant_housing_units_for_rent',\n",
       "       'natural_amenity_rank'],\n",
       "      dtype='object')"
      ]
     },
     "execution_count": 24,
     "metadata": {},
     "output_type": "execute_result"
    }
   ],
   "source": [
    "X_train.columns"
   ]
  },
  {
   "cell_type": "code",
   "execution_count": 25,
   "metadata": {},
   "outputs": [],
   "source": [
    "# from sklearn.model_selection import cross_val_score\n",
    "# print(np.sqrt(-1* cross_val_score(lm, X_train, y_train, cv=5, scoring='neg_mean_squared_error', n_jobs =-1)))"
   ]
  },
  {
   "cell_type": "code",
   "execution_count": 26,
   "metadata": {
    "scrolled": false
   },
   "outputs": [
    {
     "data": {
      "text/plain": [
       "Text(0.5, 1.0, 'Coefficients in the Lasso Model')"
      ]
     },
     "execution_count": 26,
     "metadata": {},
     "output_type": "execute_result"
    },
    {
     "data": {
      "image/png": "[encoded data removed]",
      "text/plain": [
       "<Figure size 864x576 with 1 Axes>"
      ]
     },
     "metadata": {
      "needs_background": "light"
     },
     "output_type": "display_data"
    }
   ],
   "source": [
    "# param_grid={'alpha': np.logspace(-5, -3, 100)}\n",
    "# grid_search = model_selection.GridSearchCV(estimator = Lasso(), param_grid = param_grid, cv=5)\n",
    "# grid_search.fit(X_train, y_train)\n",
    "\n",
    "# print(\"Cross Validation\")\n",
    "# print(\"-\" * 20)\n",
    "# print(\"Best parameter: \", grid_search.best_params_)\n",
    "# print(\"Best CV score:  %.4f\" % grid_search.best_score_)\n",
    "\n",
    "# alpha_cv = grid_search.best_estimator_.get_params()['alpha']\n",
    "\n",
    "lasso = Lasso(alpha = 1e-05, normalize=True).fit(X_train, y_train)\n",
    "coef = pd.Series(lasso.coef_, index = X_train.columns)\n",
    "imp_coef = pd.concat([coef.sort_values()])\n",
    "imp_coef.plot(kind = \"barh\", figsize = (12, 8))\n",
    "plt.title(\"Coefficients in the Lasso Model\")"
   ]
  },
  {
   "cell_type": "code",
   "execution_count": 27,
   "metadata": {},
   "outputs": [
    {
     "name": "stdout",
     "output_type": "stream",
     "text": [
      "0.9648223954446894\n"
     ]
    },
    {
     "data": {
      "text/plain": [
       "0.9606429852133201"
      ]
     },
     "execution_count": 27,
     "metadata": {},
     "output_type": "execute_result"
    }
   ],
   "source": [
    "print(lasso.score(X_train, y_train))\n",
    "lasso.score(X_test, y_test)"
   ]
  },
  {
   "cell_type": "code",
   "execution_count": 28,
   "metadata": {},
   "outputs": [
    {
     "data": {
      "text/html": [
       "<div>\n",
       "<style scoped>\n",
       "    .dataframe tbody tr th:only-of-type {\n",
       "        vertical-align: middle;\n",
       "    }\n",
       "\n",
       "    .dataframe tbody tr th {\n",
       "        vertical-align: top;\n",
       "    }\n",
       "\n",
       "    .dataframe thead th {\n",
       "        text-align: right;\n",
       "    }\n",
       "</style>\n",
       "<table border=\"1\" class=\"dataframe\">\n",
       "  <thead>\n",
       "    <tr style=\"text-align: right;\">\n",
       "      <th></th>\n",
       "      <th>VIF Factor</th>\n",
       "      <th>features</th>\n",
       "    </tr>\n",
       "  </thead>\n",
       "  <tbody>\n",
       "    <tr>\n",
       "      <th>0</th>\n",
       "      <td>140.9</td>\n",
       "      <td>LogValue_2015</td>\n",
       "    </tr>\n",
       "    <tr>\n",
       "      <th>1</th>\n",
       "      <td>7.0</td>\n",
       "      <td>Season</td>\n",
       "    </tr>\n",
       "    <tr>\n",
       "      <th>2</th>\n",
       "      <td>50.2</td>\n",
       "      <td>LogTotTaxes</td>\n",
       "    </tr>\n",
       "    <tr>\n",
       "      <th>3</th>\n",
       "      <td>7.1</td>\n",
       "      <td>MortDeliq90</td>\n",
       "    </tr>\n",
       "    <tr>\n",
       "      <th>4</th>\n",
       "      <td>81.1</td>\n",
       "      <td>gini_index</td>\n",
       "    </tr>\n",
       "    <tr>\n",
       "      <th>5</th>\n",
       "      <td>4.1</td>\n",
       "      <td>black_pop</td>\n",
       "    </tr>\n",
       "    <tr>\n",
       "      <th>6</th>\n",
       "      <td>2.8</td>\n",
       "      <td>asian_pop</td>\n",
       "    </tr>\n",
       "    <tr>\n",
       "      <th>7</th>\n",
       "      <td>17.1</td>\n",
       "      <td>white_pop</td>\n",
       "    </tr>\n",
       "    <tr>\n",
       "      <th>8</th>\n",
       "      <td>4.2</td>\n",
       "      <td>vacant_housing_units_for_rent</td>\n",
       "    </tr>\n",
       "    <tr>\n",
       "      <th>9</th>\n",
       "      <td>11.1</td>\n",
       "      <td>natural_amenity_rank</td>\n",
       "    </tr>\n",
       "  </tbody>\n",
       "</table>\n",
       "</div>"
      ],
      "text/plain": [
       "   VIF Factor                       features\n",
       "0       140.9                  LogValue_2015\n",
       "1         7.0                         Season\n",
       "2        50.2                    LogTotTaxes\n",
       "3         7.1                    MortDeliq90\n",
       "4        81.1                     gini_index\n",
       "5         4.1                      black_pop\n",
       "6         2.8                      asian_pop\n",
       "7        17.1                      white_pop\n",
       "8         4.2  vacant_housing_units_for_rent\n",
       "9        11.1           natural_amenity_rank"
      ]
     },
     "execution_count": 28,
     "metadata": {},
     "output_type": "execute_result"
    }
   ],
   "source": [
    "# For each X, calculate VIF and save in dataframe\n",
    "import statsmodels.api as sm\n",
    "from statsmodels.stats.outliers_influence import variance_inflation_factor\n",
    "\n",
    "vif = pd.DataFrame()\n",
    "vif[\"VIF Factor\"] = [variance_inflation_factor(X_train.values, i) for i in range(X_train.shape[1])]\n",
    "vif[\"features\"] = X_train.columns\n",
    "vif.round(1)"
   ]
  },
  {
   "cell_type": "code",
   "execution_count": 29,
   "metadata": {},
   "outputs": [
    {
     "name": "stderr",
     "output_type": "stream",
     "text": [
      "/Users/isa.adls/opt/anaconda3/lib/python3.7/site-packages/sklearn/utils/deprecation.py:144: FutureWarning: The sklearn.metrics.classification module is  deprecated in version 0.22 and will be removed in version 0.24. The corresponding classes / functions should instead be imported from sklearn.metrics. Anything that cannot be imported from sklearn.metrics is now part of the private API.\n",
      "  warnings.warn(message, FutureWarning)\n"
     ]
    },
    {
     "data": {
      "image/png": "[encoded data removed]",
      "text/plain": [
       "<Figure size 576x396 with 2 Axes>"
      ]
     },
     "metadata": {},
     "output_type": "display_data"
    },
    {
     "data": {
      "text/plain": [
       "<matplotlib.axes._subplots.AxesSubplot at 0x1a2cabd4d0>"
      ]
     },
     "execution_count": 29,
     "metadata": {},
     "output_type": "execute_result"
    }
   ],
   "source": [
    "from yellowbrick.datasets import load_concrete\n",
    "from yellowbrick.regressor import ResidualsPlot\n",
    "# Instantiate the linear model and visualizer\n",
    "visualizer = ResidualsPlot(lm, train_alpha = 0.1, test_alpha =0.1)\n",
    "visualizer.fit(X_train, y_train)  # Fit the training data to the visualizer\n",
    "visualizer.score(X_test, y_test)  # Evaluate ttrain_alpha = 0.1, test_alpha =0.01he model on the test data\n",
    "plt.ylim([-0.5, 0.7])\n",
    "visualizer.show()                 # Finalize and render the figure"
   ]
  },
  {
   "cell_type": "code",
   "execution_count": 30,
   "metadata": {},
   "outputs": [
    {
     "name": "stdout",
     "output_type": "stream",
     "text": [
      "Final Model\n",
      "--------------------\n",
      "R^2 Score:  96.49\n",
      "Mean Error: $109\n",
      "\n"
     ]
    }
   ],
   "source": [
    "train_set = pd.concat([X_train, y_train], axis=1)\n",
    "y = train_set['LogValue']\n",
    "x = train_set.drop('LogValue', axis=1)\n",
    "\n",
    "from sklearn.metrics import mean_squared_error\n",
    "\n",
    "def expo(list_):\n",
    "    return list(map(exp, list_))\n",
    "\n",
    "print('Final Model')\n",
    "print('-'*20)\n",
    "lm.fit(x, y)\n",
    "print(\"R^2 Score:  %.2f\" % (100*lm.score(x, y)))\n",
    "print(\"Mean Error: $%.0f\\n\" % mean_squared_error(expo(y), expo(lm.predict(x)), squared=False))\n"
   ]
  }
 ],
 "metadata": {
  "kernelspec": {
   "display_name": "Python 3",
   "language": "python",
   "name": "python3"
  },
  "language_info": {
   "codemirror_mode": {
    "name": "ipython",
    "version": 3
   },
   "file_extension": ".py",
   "mimetype": "text/x-python",
   "name": "python",
   "nbconvert_exporter": "python",
   "pygments_lexer": "ipython3",
   "version": "3.7.6"
  }
 },
 "nbformat": 4,
 "nbformat_minor": 4
}
